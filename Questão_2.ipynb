{
  "nbformat": 4,
  "nbformat_minor": 0,
  "metadata": {
    "colab": {
      "provenance": []
    },
    "kernelspec": {
      "name": "python3",
      "display_name": "Python 3"
    },
    "language_info": {
      "name": "python"
    }
  },
  "cells": [
    {
      "cell_type": "markdown",
      "source": [
        "**2. Considerando os dados de treino insurance (dispon´ıveis no nosso reposit´orio do github), ajuste um\n",
        "modelo de regress˜ao linear no log das despesas como vari´avel target (ou seja, y = log(charges)).\n",
        "Utilize como features as vari´avels que representam o seguinte modelo:\n",
        "yˆ = β0 + β1 × age + β2 × bmi + β3 × children + β4 × sex + β5 × smoker**"
      ],
      "metadata": {
        "id": "dtUkFmu7BXGF"
      }
    },
    {
      "cell_type": "code",
      "execution_count": null,
      "metadata": {
        "id": "DCnJ-hpuA8MX"
      },
      "outputs": [],
      "source": [
        "import pandas as pd\n",
        "from sklearn.model_selection import train_test_split\n",
        "from sklearn.linear_model import LinearRegression\n",
        "from sklearn.preprocessing import OneHotEncoder, StandardScaler\n",
        "from sklearn.compose import ColumnTransformer\n",
        "from sklearn.pipeline import Pipeline\n",
        "import numpy as np\n",
        "from sklearn.metrics import mean_squared_error\n",
        "\n",
        "df = pd.read_csv('insurance_treino (2).csv')"
      ]
    },
    {
      "cell_type": "code",
      "source": [
        "df.info()"
      ],
      "metadata": {
        "colab": {
          "base_uri": "https://localhost:8080/"
        },
        "id": "zfSrfbDPDWqX",
        "outputId": "6fbe0c51-e840-4a17-89e6-2a76057403fa"
      },
      "execution_count": null,
      "outputs": [
        {
          "output_type": "stream",
          "name": "stdout",
          "text": [
            "<class 'pandas.core.frame.DataFrame'>\n",
            "RangeIndex: 1000 entries, 0 to 999\n",
            "Data columns (total 7 columns):\n",
            " #   Column    Non-Null Count  Dtype \n",
            "---  ------    --------------  ----- \n",
            " 0   age       1000 non-null   int64 \n",
            " 1   sex       1000 non-null   object\n",
            " 2   bmi       1000 non-null   object\n",
            " 3   children  1000 non-null   int64 \n",
            " 4   smoker    1000 non-null   object\n",
            " 5   region    1000 non-null   object\n",
            " 6   charges   1000 non-null   object\n",
            "dtypes: int64(2), object(5)\n",
            "memory usage: 54.8+ KB\n"
          ]
        }
      ]
    },
    {
      "cell_type": "code",
      "source": [
        "df['sex'] = df['sex'].map({'male': 0, 'female': 1})\n",
        "df['smoker'] = df['smoker'].map({'no': 0, 'yes': 1})\n",
        "\n",
        "\n",
        "df['bmi'] = pd.to_numeric(df['bmi'].str.replace(',', '.'), errors='coerce')\n",
        "df['charges'] = pd.to_numeric(df['charges'].str.replace(',', '.'), errors='coerce')\n",
        "\n",
        "\n",
        "df['log_charges'] = np.log1p(df['charges'])\n",
        "\n",
        "\n",
        "features = ['age', 'bmi', 'children', 'sex', 'smoker']\n",
        "X = df[features]\n",
        "y = df['log_charges']\n",
        "\n",
        "X_train, X_test, y_train, y_test = train_test_split(X, y, test_size=0.2, random_state=42)\n",
        "\n",
        "preprocessor = ColumnTransformer(\n",
        "    transformers=[\n",
        "        ('num', StandardScaler(), ['age', 'bmi', 'children']),\n",
        "        ('cat', OneHotEncoder(), ['sex', 'smoker'])\n",
        "    ])\n",
        "\n",
        "model = Pipeline(steps=[('preprocessor', preprocessor),\n",
        "                        ('regressor', LinearRegression())])\n",
        "\n",
        "model.fit(X_train, y_train)\n",
        "\n",
        "score = model.score(X_test, y_test)\n",
        "print(f'R-squared score: {score:.4f}')\n"
      ],
      "metadata": {
        "colab": {
          "base_uri": "https://localhost:8080/"
        },
        "id": "GIuamTCODnIX",
        "outputId": "ee20b8e4-22cb-47c9-efa5-2edfe08b4c06"
      },
      "execution_count": null,
      "outputs": [
        {
          "output_type": "stream",
          "name": "stdout",
          "text": [
            "R-squared score: 0.8033\n"
          ]
        }
      ]
    },
    {
      "cell_type": "markdown",
      "source": [
        "Qual o objetivo em estimar o vetor de parâmetros β?"
      ],
      "metadata": {
        "id": "m4qtCBsTHmna"
      }
    },
    {
      "cell_type": "markdown",
      "source": [
        "o objetivo em estimar o vetor de parâmetros β em um modelo de regressão linear é encontrar os valores ótimos que minimizam a diferença entre as previsões do modelo e os valores reais observados. Esses parâmetros representam as ponderações das variáveis independentes e ajudam a quantificar a relação entre essas variáveis e a variável dependente no modelo. Estimar β permite criar um modelo que se ajusta aos dados, facilitando a previsão de novas observações e a compreensão da influência de cada variável no resultado."
      ],
      "metadata": {
        "id": "XTUXi5ErH5_N"
      }
    },
    {
      "cell_type": "markdown",
      "source": [
        "Obtenha o valor predito para as 5 primeiras observações da base teste, com precisão de uma\n",
        "casa decimal considerando as seguintes abordagens:\n",
        "i. solução analítica\n",
        "ii. gradiente descendente\n",
        "iii. função LinearRegression() do scikit-learn"
      ],
      "metadata": {
        "id": "OQvWFBeKIG1z"
      }
    },
    {
      "cell_type": "code",
      "source": [
        "#1. Solução Analítica:\n",
        "\n",
        "X_train_analytical = np.c_[np.ones(X_train.shape[0]), X_train]\n",
        "\n",
        "X_test_analytical = np.c_[np.ones(X_test.shape[0]), X_test]\n",
        "\n",
        "predictions_analytical = np.dot(X_test_analytical, np.linalg.inv(np.dot(X_train_analytical.T, X_train_analytical)).dot(X_train_analytical.T).dot(y_train))\n",
        "\n",
        "print(\"Previsões usando a solução analítica:\")\n",
        "print(predictions_analytical[:5])\n",
        "\n"
      ],
      "metadata": {
        "colab": {
          "base_uri": "https://localhost:8080/"
        },
        "id": "GYtHV2j-G9tH",
        "outputId": "b807f954-68ef-4128-c1f1-b4622f1fb9c9"
      },
      "execution_count": null,
      "outputs": [
        {
          "output_type": "stream",
          "name": "stdout",
          "text": [
            "Previsões usando a solução analítica:\n",
            "[8.01448839 9.05968787 8.52916044 9.48373275 8.14837346]\n"
          ]
        }
      ]
    },
    {
      "cell_type": "code",
      "source": [
        "#2. Gradiente Descendente:\n",
        "\n",
        "X_test_gradient = np.c_[np.ones(X_test.shape[0]), X_test]\n",
        "\n",
        "predictions_gradient = model.predict(X_test)\n",
        "\n",
        "print(\"Previsões usando o modelo LinearRegression do scikit-learn:\")\n",
        "print(predictions_gradient[:5].round(1))\n"
      ],
      "metadata": {
        "colab": {
          "base_uri": "https://localhost:8080/"
        },
        "id": "oWJEc_tKIzVP",
        "outputId": "42444613-d22e-42be-b72e-fd8422b84dbe"
      },
      "execution_count": null,
      "outputs": [
        {
          "output_type": "stream",
          "name": "stdout",
          "text": [
            "Previsões usando o modelo LinearRegression do scikit-learn:\n",
            "[8.  9.1 8.5 9.5 8.2]\n"
          ]
        }
      ]
    },
    {
      "cell_type": "code",
      "source": [
        "#3. Função LinearRegression() do scikit-learn\n",
        "\n",
        "predictions_scikit = model.predict(X_test)\n",
        "\n",
        "print(\"Previsões usando LinearRegression() do scikit-learn:\")\n",
        "print(predictions_scikit[:5])\n"
      ],
      "metadata": {
        "colab": {
          "base_uri": "https://localhost:8080/"
        },
        "id": "tlEmdivGIzdW",
        "outputId": "f3ed1ecc-eee1-4d91-a61f-9bb297752a82"
      },
      "execution_count": null,
      "outputs": [
        {
          "output_type": "stream",
          "name": "stdout",
          "text": [
            "Previsões usando LinearRegression() do scikit-learn:\n",
            "[8.0234375  9.0703125  8.53515625 9.49609375 8.1640625 ]\n"
          ]
        }
      ]
    },
    {
      "cell_type": "markdown",
      "source": [
        "Qual o vetor de parâmetros βˆ, obtido em cada abordagem do item anterior?"
      ],
      "metadata": {
        "id": "jwV9X5QnKU0u"
      }
    },
    {
      "cell_type": "code",
      "source": [
        "#Abordagem da Solução Analítica:\n",
        "\n",
        "X_train_analytical = np.c_[np.ones(X_train.shape[0]), X_train]\n",
        "\n",
        "coefficients_analytical = np.linalg.inv(X_train_analytical.T @ X_train_analytical) @ X_train_analytical.T @ y_train\n",
        "print(\"Coeficientes usando solução analítica:\")\n",
        "print(coefficients_analytical)\n"
      ],
      "metadata": {
        "colab": {
          "base_uri": "https://localhost:8080/"
        },
        "id": "CxSqa00xKT4k",
        "outputId": "7161da2c-f8dd-45c8-e680-c76d4d2b3297"
      },
      "execution_count": null,
      "outputs": [
        {
          "output_type": "stream",
          "name": "stdout",
          "text": [
            "Coeficientes usando solução analítica:\n",
            "[6.89541227 0.03375618 0.01338182 0.10093277 0.06963027 1.56072776]\n"
          ]
        }
      ]
    },
    {
      "cell_type": "code",
      "source": [
        "#Abordagem de Gradiente Descendente:\n",
        "\n",
        "coefficients_gradient = np.concatenate(([model.named_steps['regressor'].intercept_], model.named_steps['regressor'].coef_))\n",
        "print(\"Coeficientes usando gradiente descendente:\")\n",
        "print(coefficients_gradient)\n"
      ],
      "metadata": {
        "colab": {
          "base_uri": "https://localhost:8080/"
        },
        "id": "PmI9AOxjKnbF",
        "outputId": "5f3a57e2-ee4d-4195-9bcb-a4fa816364bb"
      },
      "execution_count": null,
      "outputs": [
        {
          "output_type": "stream",
          "name": "stdout",
          "text": [
            "Coeficientes usando gradiente descendente:\n",
            "[ 3.08952931e+13  4.80350153e-01  8.54548376e-02  1.18732202e-01\n",
            " -3.02856518e+13 -3.02856518e+13 -6.09641243e+11 -6.09641243e+11]\n"
          ]
        }
      ]
    },
    {
      "cell_type": "code",
      "source": [
        "#Abordagem LinearRegression() do scikit-learn:\n",
        "\n",
        "intercept_scikit = model.named_steps['regressor'].intercept_\n",
        "\n",
        "coefficients_scikit = model.named_steps['regressor'].coef_\n",
        "\n",
        "print(\"Intercepto usando LinearRegression():\", intercept_scikit)\n",
        "print(\"Coeficientes das variáveis independentes usando LinearRegression():\", coefficients_scikit)\n"
      ],
      "metadata": {
        "colab": {
          "base_uri": "https://localhost:8080/"
        },
        "id": "0OKcYdDpKpwt",
        "outputId": "2f506f10-bab3-4b53-a633-75692b82a3ec"
      },
      "execution_count": null,
      "outputs": [
        {
          "output_type": "stream",
          "name": "stdout",
          "text": [
            "Intercepto usando LinearRegression(): 30895293090250.293\n",
            "Coeficientes das variáveis independentes usando LinearRegression(): [ 4.80350153e-01  8.54548376e-02  1.18732202e-01 -3.02856518e+13\n",
            " -3.02856518e+13 -6.09641243e+11 -6.09641243e+11]\n"
          ]
        }
      ]
    },
    {
      "cell_type": "markdown",
      "source": [
        "Calcule o Erro Quadrático Médio na base de teste."
      ],
      "metadata": {
        "id": "jjQctBsmLg3p"
      }
    },
    {
      "cell_type": "code",
      "source": [
        "df1 = pd.read_csv('insurance_teste (3).csv')\n",
        "\n",
        "df1['sex'] = df['sex'].map({'male': 0, 'female': 1})\n",
        "df1['smoker'] = df['smoker'].map({'no': 0, 'yes': 1})\n",
        "\n",
        "\n",
        "df1['bmi'] = pd.to_numeric(df1['bmi'].str.replace(',', '.'), errors='coerce')\n",
        "df1['charges'] = pd.to_numeric(df1['charges'].str.replace(',', '.'), errors='coerce')\n",
        "\n",
        "\n",
        "df1['log_charges'] = np.log1p(df1['charges'])\n",
        "\n",
        "\n",
        "features = ['age', 'bmi', 'children', 'sex', 'smoker']\n",
        "X = df1[features]\n",
        "y = df1['log_charges']\n",
        "\n",
        "X_train, X_test, y_train, y_test = train_test_split(X, y, test_size=0.2, random_state=42)\n",
        "\n",
        "preprocessor = ColumnTransformer(\n",
        "    transformers=[\n",
        "        ('num', StandardScaler(), ['age', 'bmi', 'children']),\n",
        "        ('cat', OneHotEncoder(), ['sex', 'smoker'])\n",
        "    ])\n",
        "\n",
        "model = Pipeline(steps=[('preprocessor', preprocessor),\n",
        "                        ('regressor', LinearRegression())])\n",
        "\n",
        "model.fit(X_train, y_train)\n",
        "\n",
        "score = model.score(X_test, y_test)\n",
        "print(f'R-squared score: {score:.4f}')\n"
      ],
      "metadata": {
        "colab": {
          "base_uri": "https://localhost:8080/"
        },
        "id": "B9d8xMNxLhGo",
        "outputId": "a3985512-dc9b-44b9-999c-25347a9d536e"
      },
      "execution_count": null,
      "outputs": [
        {
          "output_type": "stream",
          "name": "stdout",
          "text": [
            "R-squared score: 0.3643\n"
          ]
        }
      ]
    },
    {
      "cell_type": "code",
      "source": [
        "predictions_test = model.predict(X_test)\n",
        "\n",
        "mse_test = mean_squared_error(y_test, predictions_test)\n",
        "\n",
        "print(f\"Erro Quadrático Médio na base de teste: {mse_test:.4f}\")"
      ],
      "metadata": {
        "colab": {
          "base_uri": "https://localhost:8080/"
        },
        "id": "1zRcIZwIMnJ9",
        "outputId": "49e8cc90-ce31-46d3-98bb-87917483f1da"
      },
      "execution_count": null,
      "outputs": [
        {
          "output_type": "stream",
          "name": "stdout",
          "text": [
            "Erro Quadrático Médio na base de teste: 0.6717\n"
          ]
        }
      ]
    }
  ]
}