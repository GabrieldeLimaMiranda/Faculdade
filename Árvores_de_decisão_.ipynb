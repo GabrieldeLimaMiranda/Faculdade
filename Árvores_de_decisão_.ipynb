{
  "cells": [
    {
      "cell_type": "markdown",
      "metadata": {
        "id": "ca0QLD2lBA4A"
      },
      "source": [
        "# Introdução às Árvores de Decisão\n",
        "\n",
        "---\n",
        "\n",
        "## Árvores de Decisão no Machine Learning\n",
        "- **O que são Árvores de Decisão?**\n",
        "  - Estruturas de decisão hierárquicas utilizadas para classificação e regressão.\n",
        "  - Compostas por nós, ramos e folhas representando decisões baseadas em características dos dados.\n",
        "\n",
        "- **Importância no Machine Learning:**\n",
        "  - Flexibilidade para lidar com diferentes tipos de dados.\n",
        "  - Facilidade de interpretação e visualização.\n",
        "  - Aplicabilidade em diversas áreas, como finanças, medicina e e-commerce.\n",
        "\n",
        "---\n",
        "\n",
        "**Objetivos da Aula:**\n",
        "- Compreender a teoria por trás das árvores de decisão e como aplicá-las na prática.\n",
        "- Explorar dois algoritmos principais: ID3 e Random Forest.\n",
        "- Implementar árvores de decisão em Python e analisar seu desempenho em conjuntos de dados reais.\n"
      ]
    },
    {
      "cell_type": "markdown",
      "metadata": {
        "id": "70NG0__8BA4E"
      },
      "source": [
        "# Árvores de Decisão e o Algoritmo ID3\n",
        "\n",
        "---\n",
        "\n",
        "## Conceitos Básicos de Árvores de Decisão\n",
        "- **Definição:** Modelo de aprendizado supervisionado utilizado para classificação e regressão.\n",
        "- **Aplicabilidade:** Amplo uso em diferentes campos, como finanças, medicina e marketing.\n",
        "\n",
        "## Estrutura de uma Árvore de Decisão\n",
        "1. **Nós:**\n",
        "   - **Nó Raiz:** Ponto de partida da árvore.\n",
        "   - **Nós Internos:** Representam os testes em atributos.\n",
        "   - **Nós Folha:** Representam as decisões ou os resultados finais.\n",
        "\n",
        "2. **Ramos:**\n",
        "   - Conexões que representam as respostas aos testes e levam ao próximo nó ou folha.\n",
        "\n",
        "3. **Folhas:**\n",
        "   - Resultado final da decisão tomada após percorrer a árvore.\n",
        "\n",
        "---\n"
      ]
    },
    {
      "cell_type": "code",
      "execution_count": null,
      "metadata": {
        "id": "c9X27tmxBA4E"
      },
      "outputs": [],
      "source": []
    },
    {
      "cell_type": "markdown",
      "metadata": {
        "id": "OBMJh-GEBA4E"
      },
      "source": [
        "## Divisão do Conjunto de Dados em Árvores de Decisão\n",
        "\n",
        "### Processo de Divisão em Nós\n",
        "- **Objetivo:** Subdividir o conjunto de dados em subconjuntos mais homogêneos.\n",
        "- **Método:**\n",
        "  - Cada nó da árvore faz uma pergunta sobre um atributo.\n",
        "  - Os dados são divididos com base nas respostas a essa pergunta.\n",
        "\n",
        "### Seleção do Atributo para Divisão\n",
        "- **Baseada em Ganho de Informação:**\n",
        "  - Escolhe-se o atributo que proporciona a maior redução na entropia.\n",
        "  - O objetivo é tornar os subconjuntos resultantes mais homogêneos em relação às classes de saída.\n",
        "\n",
        "### Exemplo Prático\n",
        "- **Cenário:** Classificação de e-mails em 'spam' e 'não spam'.\n",
        "- **Aplicação:**\n",
        "  - Um nó pode dividir os dados com base no atributo \"contém a palavra 'oferta'\".\n",
        "  - Isso resulta em dois subconjuntos: e-mails com e sem a palavra 'oferta'.\n",
        "  - O processo continua até as folhas da árvore serem \"puras\"."
      ]
    },
    {
      "cell_type": "code",
      "execution_count": null,
      "metadata": {
        "id": "nM7few6mBA4F"
      },
      "outputs": [],
      "source": []
    },
    {
      "cell_type": "markdown",
      "metadata": {
        "id": "tvFR_LLIBA4F"
      },
      "source": [
        "## Critérios de Divisão: Entropia e Ganho de Informação\n",
        "\n",
        "### Entropia\n",
        "- **Definição:** Medida da incerteza ou desordem em um conjunto de dados. Originária da termodinâmica e adaptada para a teoria da informação e aprendizado de máquina.\n",
        "- **Cálculo:**\n",
        "  - Fórmula: `-sum(p(x) * log(p(x)))`\n",
        "  - Onde `p(x)` é a probabilidade de um elemento pertencer a uma classe específica.\n",
        "- **Interpretação:**\n",
        "  - Valores altos indicam maior desordem.\n",
        "  - Nos nós das árvores de decisão, alta entropia indica menos \"pureza\".\n",
        "\n",
        "### Ganho de Informação\n",
        "- **Definição:** Medida da redução na entropia resultante da divisão de um conjunto de dados baseado em um atributo.\n",
        "- **Cálculo:**\n",
        "  - Fórmula: `Ganho(S, A) = Entropia(S) - sum((|Sv| / |S|) * Entropia(Sv))`\n",
        "  - Onde `S` é o conjunto antes da divisão, `A` é o atributo para divisão, e `Sv` são os subconjuntos após a divisão.\n",
        "- **Interpretação:**\n",
        "  - Atributos com maior ganho de informação são mais eficazes na redução da incerteza.\n",
        "  - Preferidos para criar decisões (nós) na árvore.\n",
        "\n",
        "### Divisão do Conjunto de Dados\n",
        "- **Processo:**\n",
        "  - O conjunto de dados é dividido em subconjuntos com base nos valores de um atributo escolhido.\n",
        "  - A escolha do atributo é baseada no ganho de informação, procurando maximizar a redução da entropia.\n",
        "- **Importância no Modelo:**\n",
        "  - Essencial para a construção eficaz das árvores de decisão.\n",
        "  - Ajuda na tomada de decisões e na \"limpeza\" dos dados para melhor interpretação e classificação.\n",
        "---\n"
      ]
    },
    {
      "cell_type": "code",
      "execution_count": null,
      "metadata": {
        "id": "mYUwzkf3BA4F"
      },
      "outputs": [],
      "source": []
    },
    {
      "cell_type": "markdown",
      "metadata": {
        "id": "Msl5VbIUBA4G"
      },
      "source": [
        "## O Algoritmo ID3: Passo a Passo\n",
        "\n",
        "### Introdução ao ID3\n",
        "- **Definição:** O algoritmo ID3 (Iterative Dichotomiser 3) é um método clássico utilizado para construir árvores de decisão. É usado principalmente para problemas de classificação.\n",
        "- **Funcionamento:** Baseia-se em critérios de informação para dividir o conjunto de dados e formar uma árvore que representa as decisões.\n",
        "\n",
        "### Passos do Algoritmo ID3\n",
        "1. **Início na Raiz da Árvore:**\n",
        "   - Começa com todo o conjunto de dados.\n",
        "   - Considera todos os atributos disponíveis.\n",
        "\n",
        "2. **Seleção do Melhor Atributo:**\n",
        "   - Usa o critério de Ganho de Informação para escolher o melhor atributo.\n",
        "   - O atributo selecionado é aquele que melhor divide o conjunto de dados em categorias homogêneas.\n",
        "\n",
        "3. **Divisão do Conjunto de Dados:**\n",
        "   - Divide o conjunto de dados com base no valor do atributo escolhido.\n",
        "   - Cada valor distinto do atributo gera um ramo na árvore.\n",
        "\n",
        "4. **Repetição do Processo:**\n",
        "   - O processo é repetido para cada subconjunto de dados resultante.\n",
        "   - Novos nós são criados em cada passo, utilizando os atributos restantes.\n",
        "\n",
        "5. **Critérios de Parada:**\n",
        "   - O processo continua até que os nós folha sejam puros (contenham apenas dados de uma categoria) ou outros critérios de parada sejam atingidos, como profundidade máxima da árvore ou número mínimo de amostras em um nó.\n",
        "\n",
        "### Resultado\n",
        "- A árvore de decisão final representa uma série de decisões, que ajudam a classificar novos dados com base nos atributos e valores aprendidos.\n"
      ]
    },
    {
      "cell_type": "code",
      "execution_count": null,
      "metadata": {
        "id": "Lp5o7KctBA4G"
      },
      "outputs": [],
      "source": []
    },
    {
      "cell_type": "markdown",
      "metadata": {
        "id": "4pWPWlhjBA4G"
      },
      "source": [
        "---\n",
        "\n",
        "## Exemplo Prático em Python\n",
        "- Construção de uma árvore de decisão simples utilizando o algoritmo ID3.\n",
        "- Uso de um conjunto de dados simples para ilustrar o processo.\n",
        "- Código comentado passo a passo para facilitar a compreensão.\n",
        "\n",
        "---\n",
        "\n",
        "**Objetivo da Seção:**\n",
        "- Compreender a teoria e a prática por trás das árvores de decisão e do algoritmo ID3.\n",
        "- Aplicar o conhecimento adquirido em um exemplo prático em Python."
      ]
    },
    {
      "cell_type": "code",
      "execution_count": null,
      "metadata": {
        "id": "V_ySqNFTBA4H"
      },
      "outputs": [],
      "source": [
        "import pandas as pd"
      ]
    },
    {
      "cell_type": "code",
      "execution_count": null,
      "metadata": {
        "id": "b-RZNY04BA4H"
      },
      "outputs": [],
      "source": [
        "df = pd.read_csv('jogar_tenis.csv')"
      ]
    },
    {
      "cell_type": "code",
      "execution_count": null,
      "metadata": {
        "id": "Rq5pD-cQBA4I"
      },
      "outputs": [],
      "source": [
        "df"
      ]
    },
    {
      "cell_type": "markdown",
      "metadata": {
        "id": "3R_ImrYJBA4I"
      },
      "source": [
        "## Explicação da Base de Dados para Uso com Árvore de Decisão\n",
        "\n",
        "A base de dados consiste em cinco colunas que representam características meteorológicas e uma resposta. Estas são:\n",
        "\n",
        "1. **Clima:**\n",
        "   - Categorias: 'ensolarado', 'nublado', 'chuva'.\n",
        "   - Descreve o estado do tempo.\n",
        "\n",
        "2. **Temperatura:**\n",
        "   - Categorias: 'quente', 'ameno', 'frio'.\n",
        "   - Indica a temperatura do ambiente.\n",
        "\n",
        "3. **Umidade:**\n",
        "   - Categorias: 'alta', 'normal'.\n",
        "   - Reflete o nível de umidade do ar.\n",
        "\n",
        "4. **Vento:**\n",
        "   - Categorias: 'fraco', 'forte'.\n",
        "   - Mostra a intensidade do vento.\n",
        "\n",
        "5. **Jogar Tenis:**\n",
        "   - Categorias: 'não', 'sim'.\n",
        "   - Resposta binária, indicando a adequação para Jogar Tenis.\n",
        "\n",
        "### Utilização em Árvore de Decisão\n",
        "- **Objetivo:** Usar esta base de dados para construir uma árvore de decisão que possa prever a 'Resposta' com base nas condições meteorológicas.\n",
        "- **Processo:**\n",
        "  - A árvore de decisão divide o conjunto de dados em nós baseados nas características, procurando a melhor divisão para maximizar a pureza dos nós em relação à resposta (sim/não).\n",
        "  - Ideal para entender padrões e tomar decisões baseadas em condições climáticas.\n"
      ]
    },
    {
      "cell_type": "code",
      "execution_count": null,
      "metadata": {
        "id": "1v8dKv_3BA4I"
      },
      "outputs": [],
      "source": [
        "from sklearn.tree import DecisionTreeClassifier, plot_tree\n",
        "import matplotlib.pyplot as plt"
      ]
    },
    {
      "cell_type": "code",
      "execution_count": null,
      "metadata": {
        "id": "DusVcV00BA4I"
      },
      "outputs": [],
      "source": [
        "# Convertendo dados categóricos em numéricos (+ uma forma de aplicar)\n",
        "df_encoded = df.apply(lambda x: pd.factorize(x)[0])"
      ]
    },
    {
      "cell_type": "code",
      "execution_count": null,
      "metadata": {
        "id": "xvph5DuhBA4J"
      },
      "outputs": [],
      "source": [
        "df_encoded"
      ]
    },
    {
      "cell_type": "code",
      "execution_count": null,
      "metadata": {
        "id": "PveyiiRfBA4J"
      },
      "outputs": [],
      "source": [
        "# Separando as características e o alvo\n",
        "X = df_encoded.drop('Jogar Tenis', axis=1)\n",
        "y = df_encoded['Jogar Tenis']"
      ]
    },
    {
      "cell_type": "code",
      "execution_count": null,
      "metadata": {
        "id": "ZXluAYyOBA4J"
      },
      "outputs": [],
      "source": [
        "# Criando e treinando o modelo de árvore de decisão\n",
        "clf = DecisionTreeClassifier(criterion='entropy')\n",
        "clf.fit(X, y)"
      ]
    },
    {
      "cell_type": "code",
      "execution_count": null,
      "metadata": {
        "id": "1FX82tdvBA4J"
      },
      "outputs": [],
      "source": [
        "# Visualizando a árvore de decisão com parâmetros ajustados\n",
        "plt.figure(figsize=(15, 10))  # Aumentando o tamanho da figura\n",
        "\n",
        "# Ajustando o tamanho da fonte\n",
        "plot_tree(clf, filled=True, feature_names=X.columns, class_names=['Não', 'Sim'], rounded=True,\n",
        "          fontsize=12)\n",
        "\n",
        "plt.show()"
      ]
    },
    {
      "cell_type": "markdown",
      "metadata": {
        "id": "9B5E3aMdBA4J"
      },
      "source": [
        "# Algoritmo Random Forest\n",
        "\n",
        "---\n",
        "\n",
        "## Introdução ao Conceito de Ensemble Learning\n",
        "- **Definição:** Técnica que combina as previsões de vários modelos de machine learning para produzir uma previsão mais precisa.\n",
        "- **Princípio Básico:** \"A sabedoria das multidões\" - um conjunto de modelos pode ser mais eficaz do que um único modelo.\n",
        "\n",
        "---\n",
        "\n",
        "## Random Forest: Ideia Básica e Diferenças\n",
        "- **O que é Random Forest?**\n",
        "  - Um método de ensemble que combina várias árvores de decisão para melhorar a estabilidade e a precisão.\n",
        "- **Diferenças em Relação às Árvores de Decisão Individuais:**\n",
        "  - Cada árvore na floresta é construída a partir de uma amostra aleatória dos dados.\n",
        "  - As decisões de cada árvore são agregadas para formar a decisão final.\n",
        "\n",
        "---\n",
        "\n",
        "## Vantagens e Desvantagens do Random Forest\n",
        "- **Vantagens:**\n",
        "  - Alta precisão e robustez.\n",
        "  - Menor risco de overfitting em comparação com árvores de decisão individuais.\n",
        "  - Importância das variáveis automaticamente calculada.\n",
        "- **Desvantagens:**\n",
        "  - Maior complexidade computacional.\n",
        "  - Menor interpretabilidade em comparação com uma única árvore de decisão.\n",
        "\n",
        "\n"
      ]
    },
    {
      "cell_type": "markdown",
      "metadata": {
        "id": "FO7mXNs4BA4K"
      },
      "source": [
        "---\n",
        "\n",
        "## Exemplo Prático em Python\n",
        "- Implementação de um modelo Random Forest utilizando a biblioteca `sklearn`.\n",
        "- Uso de um conjunto de dados real para ilustrar o processo.\n",
        "- Explicação detalhada do código para garantir a compreensão.\n",
        "\n",
        "---\n",
        "\n",
        "**Objetivo da Seção:**\n",
        "- Entender o funcionamento e a aplicação prática do Random Forest.\n",
        "- Comparar a eficácia do Random Forest com as árvores de decisão individuais.\n",
        "- Aplicar o conhecimento em um exemplo prático usando Python."
      ]
    },
    {
      "cell_type": "markdown",
      "metadata": {
        "id": "5kAYs-1UBA4K"
      },
      "source": [
        "# Base de Dados de Identificação de Vidros\n",
        "\n",
        "\n",
        "## Fontes\n",
        "- Criador: B. German\n",
        "  - Estabelecimento Central de Pesquisa\n",
        "  - Serviço de Ciência Forense do Ministério do Interior\n",
        "  - Aldermaston, Reading, Berkshire RG7 4PN\n",
        "- Nota técnica desconhecida (número não listado aqui)\n",
        "- Resultados Gerais: o algoritmo do vizinho mais próximo se comparou bem com o sistema baseado em regras\n",
        "\n",
        "## Informações Relevantes\n",
        "A motivação para o estudo da classificação dos tipos de vidro foi a investigação criminológica. Na cena do crime, o vidro encontrado pode ser usado como evidência... se for corretamente identificado!\n",
        "\n",
        "## Número de Registros\n",
        "214\n",
        "\n",
        "## Número de Atributos\n",
        "9 mais a classe\n",
        "- Todos os atributos são de valor contínuo\n",
        "\n",
        "## Informações dos Atributos e da Classe\n",
        "- RI: Índice de refração\n",
        "- Na: Sódio (unidade de medida: percentual de peso no óxido correspondente, assim como os atributos 4-10)\n",
        "- Mg: Magnésio\n",
        "- Al: Alumínio\n",
        "- Si: Silício\n",
        "- K: Potássio\n",
        "- Ca: Cálcio\n",
        "- Ba: Bário\n",
        "- Fe: Ferro\n",
        "- Tipo de vidro (atributo de classe):\n",
        "  - 1 - Janelas de edifícios processadas por flutuação\n",
        "  - 2 - Janelas de edifícios não processadas por flutuação\n",
        "  - 3 - Janelas de veículos processadas por flutuação\n",
        "  - 4 - Janelas de veículos não processadas por flutuação (nenhuma nesta base de dados)\n",
        "  - 5 - Recipientes\n",
        "  - 6 - Utensílios de mesa\n",
        "  - 7 - Faróis\n",
        "- Valores de Atributos Ausentes: Nenhum\n",
        "\n",
        "## Estatísticas Resumidas\n",
        "| Atributo | Mínimo | Máximo | Média   | Desvio Padrão | Correlação com a Classe |\n",
        "|----------|--------|--------|---------|---------------|-------------------------|\n",
        "| RI       | 1.5112 | 1.5339 | 1.5184  | 0.0030        | -0.1642                 |\n",
        "| Na       | 10.73  | 17.38  | 13.4079 | 0.8166        | 0.5030                  |\n",
        "| Mg       | 0      | 4.49   | 2.6845  | 1.4424        | -0.7447                 |\n",
        "| Al       | 0.29   | 3.5    | 1.4449  | 0.4993        | 0.5988                  |\n",
        "| Si       | 69.81  | 75.41  | 72.6509 | 0.7745        | 0.1515                  |\n",
        "| K        | 0      | 6.21   | 0.4971  | 0.6522        | -0.0100                 |\n",
        "| Ca       | 5.43   | 16.19  | 8.9570  | 1.4232        | 0.0007                  |\n",
        "| Ba       | 0      | 3.15   | 0.1750  | 0.4972        | 0.5751                  |\n",
        "| Fe       | 0      | 0.51   | 0.0570  | 0.0974        | -0.1879                 |\n",
        "\n",
        "\n",
        "## Distribuição de Classes (de um total de 214 instâncias)\n",
        "- 163 Vidros de Janela (janelas de edifícios e veículos)\n",
        "- 87 processados por flutuação\n",
        "- 70 janelas de edifícios\n",
        "- 17 janelas de veículos\n",
        "- 76 não processados por flutuação\n",
        "- 76 janelas de edifícios\n",
        "- 0 janelas de veículos\n",
        "- 51 Vidros Não-Janela\n",
        "- 13 recipientes\n",
        "- 9 utensílios de mesa\n",
        "- 29 faróis\n"
      ]
    },
    {
      "cell_type": "code",
      "execution_count": null,
      "metadata": {
        "id": "f3jeHEbtBA4K"
      },
      "outputs": [],
      "source": [
        "df = pd.read_csv('vidro.csv')"
      ]
    },
    {
      "cell_type": "code",
      "execution_count": null,
      "metadata": {
        "id": "LhNk0hMTBA4L"
      },
      "outputs": [],
      "source": [
        "df"
      ]
    },
    {
      "cell_type": "code",
      "execution_count": null,
      "metadata": {
        "id": "7RuHgUxGBA4L"
      },
      "outputs": [],
      "source": [
        "from sklearn.ensemble import RandomForestClassifier\n",
        "from sklearn.model_selection import train_test_split\n",
        "from sklearn.metrics import accuracy_score, precision_score, recall_score, f1_score, confusion_matrix\n",
        "import seaborn as sns\n",
        "\n",
        "def metricas_classificacao(y_real, y_pred):\n",
        "    # Calcular métricas\n",
        "    metrics = {\n",
        "        \"Acurácia\": accuracy_score(y_real, y_pred),\n",
        "        \"Precisão (macro)\": precision_score(y_real, y_pred, average='macro', zero_division=0),\n",
        "        \"Recall (macro)\": recall_score(y_real, y_pred, average='macro', zero_division=0),\n",
        "        \"F1-Score (macro)\": f1_score(y_real, y_pred, average='macro', zero_division=0)\n",
        "    }\n",
        "\n",
        "    # Printar métricas\n",
        "    for key, value in metrics.items():\n",
        "        print(f\"{key}: {value}\")\n",
        "\n",
        "    # Calcular a Matriz de Confusão\n",
        "    confusion_mat = confusion_matrix(y_real, y_pred)\n",
        "\n",
        "    # Printar Matriz de Confusão\n",
        "    print(\"Matriz de Confusão:\")\n",
        "    sns.heatmap(confusion_mat, annot=True, cmap='YlGnBu', fmt='g')\n",
        "    plt.xlabel('Previsto')\n",
        "    plt.ylabel('Real')\n",
        "    plt.show()"
      ]
    },
    {
      "cell_type": "code",
      "execution_count": null,
      "metadata": {
        "id": "w1AUltbHBA4L"
      },
      "outputs": [],
      "source": [
        "# Separando os recursos (X) e o rótulo alvo (y)\n",
        "X = df.drop('Type', axis=1)  # Substitua 'Class' pelo nome da sua coluna de classe\n",
        "y = df['Type']  # Substitua 'Class' pelo nome da sua coluna de classe"
      ]
    },
    {
      "cell_type": "code",
      "execution_count": null,
      "metadata": {
        "id": "ytXP3wF3BA4L"
      },
      "outputs": [],
      "source": [
        "# Dividindo os dados em conjuntos de treino e teste\n",
        "X_train, X_test, y_train, y_test = train_test_split(X, y, test_size=0.10, random_state=42)"
      ]
    },
    {
      "cell_type": "markdown",
      "metadata": {
        "id": "0qWHPfpkBA4L"
      },
      "source": [
        "# Explicação do Parâmetro `n_estimators` no Random Forest\n",
        "\n",
        "O algoritmo Random Forest é um método de ensemble popular em aprendizado de máquina. Ele opera construindo múltiplas árvores de decisão durante o treinamento. A saída do algoritmo é determinada pela moda das classes (em tarefas de classificação) ou pela média das previsões (em tarefas de regressão) das árvores individuais.\n",
        "\n",
        "## Parâmetro `n_estimators`\n",
        "\n",
        "O parâmetro `n_estimators` é crucial no Random Forest. Ele especifica o número de árvores de decisão que devem ser construídas pelo algoritmo.\n",
        "\n",
        "### Como Funciona\n",
        "\n",
        "- **Número de Árvores**: Define quantas árvores de decisão serão criadas e utilizadas para fazer previsões.\n",
        "- **Valores Comuns**: Geralmente varia de 10 a centenas ou milhares. O valor ideal depende das características específicas do conjunto de dados e do problema.\n",
        "- **Impacto no Desempenho**:\n",
        "  - **Precisão**: Aumentar `n_estimators` geralmente melhora a precisão, pois mais árvores reduzem a variância das previsões.\n",
        "  - **Recursos Computacionais**: Maior número de árvores pode aumentar significativamente o tempo de treinamento e o uso de recursos.\n",
        "- **Equilíbrio**: É importante encontrar um equilíbrio entre a quantidade de árvores e os recursos disponíveis, além de considerar o princípio dos rendimentos decrescentes."
      ]
    },
    {
      "cell_type": "code",
      "execution_count": null,
      "metadata": {
        "id": "Absa23ZyBA4M"
      },
      "outputs": [],
      "source": [
        "# Criando o modelo de Random Forest\n",
        "clf = RandomForestClassifier(n_estimators=100, random_state=42)\n",
        "\n",
        "# Treinando o modelo\n",
        "clf.fit(X_train, y_train)"
      ]
    },
    {
      "cell_type": "code",
      "execution_count": null,
      "metadata": {
        "id": "MRR7wWcIBA4M"
      },
      "outputs": [],
      "source": [
        "# Fazendo previsões no conjunto de teste\n",
        "y_pred = clf.predict(X_test)"
      ]
    },
    {
      "cell_type": "code",
      "execution_count": null,
      "metadata": {
        "id": "Wb1ZoP5VBA4M"
      },
      "outputs": [],
      "source": [
        "metricas_classificacao(y_test, y_pred)"
      ]
    },
    {
      "cell_type": "markdown",
      "metadata": {
        "id": "PBrKszwZBA4M"
      },
      "source": [
        "Comparando o resultado com menos árvores"
      ]
    },
    {
      "cell_type": "code",
      "execution_count": null,
      "metadata": {
        "id": "WouOYxWVBA4M"
      },
      "outputs": [],
      "source": [
        "# Criando o modelo de Random Forest\n",
        "clf = RandomForestClassifier(n_estimators=10, random_state=42)\n",
        "\n",
        "# Treinando o modelo\n",
        "clf.fit(X_train, y_train)\n",
        "\n",
        "# Fazendo previsões no conjunto de teste\n",
        "y_pred = clf.predict(X_test)\n",
        "\n",
        "metricas_classificacao(y_test, y_pred)"
      ]
    },
    {
      "cell_type": "markdown",
      "metadata": {
        "id": "NGjl_dDlBA4M"
      },
      "source": [
        "# Comparação entre ID3 e Random Forest\n",
        "\n",
        "---\n",
        "\n",
        "## Diferenças de Performance\n",
        "- **ID3:**\n",
        "  - Ideal para conjuntos de dados menores e mais simples.\n",
        "  - Tende a sofrer de overfitting em dados mais complexos.\n",
        "  - Facilmente interpretável devido à sua estrutura simples.\n",
        "\n",
        "- **Random Forest:**\n",
        "  - Mais eficaz em conjuntos de dados grandes e complexos.\n",
        "  - Reduz significativamente o risco de overfitting.\n",
        "  - Melhor desempenho geral, mas com maior custo computacional.\n",
        "\n",
        "---\n",
        "\n",
        "## Quando Usar Cada Um\n",
        "- **ID3:**\n",
        "  - Quando a interpretabilidade do modelo é crucial.\n",
        "  - Em problemas com menos variáveis e dados menos complexos.\n",
        "\n",
        "- **Random Forest:**\n",
        "  - Em problemas que exigem modelos robustos e de alta precisão.\n",
        "  - Quando a complexidade dos dados é alta e a interpretabilidade não é a principal preocupação.\n",
        "\n",
        "---"
      ]
    },
    {
      "cell_type": "markdown",
      "metadata": {
        "id": "KCJt4eiNBA4N"
      },
      "source": [
        "# Normalização de Dados para ID3 e Random Forest\n",
        "\n",
        "Ao utilizar algoritmos baseados em árvores de decisão, como ID3 e Random Forest, surge frequentemente a pergunta sobre a necessidade de normalização dos dados. Vamos explorar esta questão e entender como lidar com colunas textuais que foram convertidas para numéricas.\n",
        "\n",
        "## Normalização: Não é Necessária para ID3 e Random Forest\n",
        "\n",
        "### Características dos Algoritmos de Árvore\n",
        "\n",
        "1. **Decisões Baseadas em Thresholds**:\n",
        "   - Estes algoritmos tomam decisões com base em limiares das características.\n",
        "   - Exemplo: \"se a temperatura > 20 graus\".\n",
        "\n",
        "2. **Insensibilidade à Escala**:\n",
        "   - Árvores de decisão não são afetadas pela escala dos dados.\n",
        "   - Isso difere de algoritmos como SVM ou redes neurais, onde a normalização pode influenciar as funções de custo ou gradientes.\n",
        "\n",
        "3. **Interpretabilidade**:\n",
        "   - Manter os dados na escala original ajuda a preservar a interpretabilidade do modelo.\n",
        "\n",
        "### Tratamento de Colunas Textuais Convertidas para Numéricas\n",
        "\n",
        "- **Codificação de Categorias**:\n",
        "  - Conversão de colunas textuais para numéricas é feita para permitir o processamento pelo algoritmo.\n",
        "  - Métodos comuns incluem codificação label ou one-hot encoding.\n",
        "\n",
        "- **Manutenção da Forma Convertida**:\n",
        "  - Para algoritmos de árvore, mantenha essas colunas na forma convertida sem normalização.\n",
        "  - A magnitude dos códigos numéricos não afeta o desempenho do modelo.\n",
        "\n",
        "### Exceções\n",
        "\n",
        "- **Algoritmos Sensíveis à Escala**:\n",
        "  - Se utilizar um algoritmo sensível à escala junto com um algoritmo de árvore, pode ser necessário normalizar os dados.\n",
        "  - Exemplo: combinação de modelos (ensemble) que inclui algoritmos sensíveis à escala.\n",
        "\n",
        "## Conclusão\n",
        "\n",
        "Para algoritmos como ID3 e Random Forest, a normalização dos recursos numéricos não é necessária, e as colunas textuais convertidas devem ser mantidas em seu formato numérico codificado. Isso mantém a simplicidade do processo de pré-processamento e a interpretabilidade dos modelos.\n"
      ]
    },
    {
      "cell_type": "markdown",
      "metadata": {
        "id": "np5wQW_mBA4N"
      },
      "source": [
        "# Exercícios\n",
        "`Quem terminar os exercícios até o final da aula irá ganhar ponto extra`\n",
        "OBS: Só irei publicar a base de dados após o término de toda explicação"
      ]
    },
    {
      "cell_type": "markdown",
      "metadata": {
        "id": "E8fEjFaIBA4N"
      },
      "source": [
        "## Explicação da Base de Dados de Saúde\n",
        "\n",
        "A base de dados `ataque_cardiaco.csv` tem informações relacionadas à saúde e estilos de vida dos indivíduos. Abaixo está um breve resumo de cada coluna e o que ela representa:\n",
        "\n",
        "- `AltaPressãoSanguínea`: Mostra se o indivíduo tem histórico de hipertensão.\n",
        "- `AltoColesterol`: Registra se o indivíduo tem níveis elevados de colesterol.\n",
        "- `VerificaçãoColesterol`: Indica se o indivíduo fez um exame de colesterol recentemente.\n",
        "- `IMC`: Índice de Massa Corporal, que é um indicador da saúde corporal em relação à altura e peso.\n",
        "- `Fumante`: Mostra se o indivíduo é fumante.\n",
        "- `AVC`: Indica se o indivíduo já sofreu um Acidente Vascular Cerebral.\n",
        "- `Diabetes`: Registra se o indivíduo tem diabetes.\n",
        "- `AtividadeFísica`: Indica o nível de atividade física do indivíduo.\n",
        "- `Frutas`: Registra a frequência de consumo de frutas.\n",
        "- `Legumes`: Registra a frequência de consumo de legumes.\n",
        "- `ConsumoAltoDeÁlcool`: Indica se o indivíduo consome álcool em quantidade considerada alta.\n",
        "- `QualquerPlanoDeSaúde`: Mostra se o indivíduo possui algum tipo de plano de saúde.\n",
        "- `SemMédicoPorCusto`: Indica se o indivíduo deixou de consultar um médico devido a custos.\n",
        "- `SaúdeGeral`: Avaliação geral da saúde do indivíduo.\n",
        "- `SaúdeMental`: Indica a condição de saúde mental do indivíduo.\n",
        "- `SaúdeFísica`: Indica a condição de saúde física do indivíduo.\n",
        "- `DificuldadeParaCaminhar`: Mostra se o indivíduo tem dificuldade para caminhar.\n",
        "- `Sexo`: Gênero do indivíduo.\n",
        "- `Idade`: Idade do indivíduo.\n",
        "- `Educação`: Nível de educação do indivíduo.\n",
        "- `Renda`: Faixa de renda do indivíduo.\n",
        "- `DoençaCardíacaouAtaque`: Indica se o indivíduo teve alguma doença cardíaca ou ataque cardíaco. `Classe Alvo`\n",
        "\n",
        "Essas colunas fornecem uma visão abrangente dos fatores de saúde e estilo de vida que podem impactar o bem-estar geral dos indivíduos.\n"
      ]
    },
    {
      "cell_type": "markdown",
      "metadata": {
        "id": "fhdcESU6BA4N"
      },
      "source": [
        "A base de dados só possui valores inteiros e não possui valores núlos. Todavia, Faça a análise completa abaixo:"
      ]
    },
    {
      "cell_type": "markdown",
      "metadata": {
        "id": "Ji36CmGXBA4W"
      },
      "source": [
        "\n",
        "## 1. Leitura da Base de Dados\n",
        "\n",
        "- **Tarefa**: Leia a base de dados 'ataque_cardiaco.csv'.\n"
      ]
    },
    {
      "cell_type": "code",
      "source": [
        "import pandas as pd\n",
        "from sklearn.model_selection import train_test_split\n",
        "from sklearn.ensemble import RandomForestClassifier\n",
        "from sklearn.tree import DecisionTreeClassifier\n",
        "from sklearn.metrics import accuracy_score, precision_score, recall_score, f1_score"
      ],
      "metadata": {
        "id": "M9EwZ8b5OR9-"
      },
      "execution_count": null,
      "outputs": []
    },
    {
      "cell_type": "code",
      "execution_count": null,
      "metadata": {
        "id": "sx8mCZvjBA4W"
      },
      "outputs": [],
      "source": [
        "dados_saude = pd.read_csv('ataque_cardiaco.csv')"
      ]
    },
    {
      "cell_type": "markdown",
      "metadata": {
        "id": "FKphhkJsBA4X"
      },
      "source": [
        "\n",
        "## 2. Análise Inicial dos Dados\n",
        "\n",
        "Realize uma análise exploratória inicial para compreender melhor os dados:\n",
        "\n",
        "- **Ver as linhas iniciais**: Observe as primeiras entradas para ter uma ideia da estrutura dos dados.\n",
        "- **Tipo de Dados das Colunas**: Identifique os tipos de dados de cada coluna.\n",
        "- **Valores Nulos**: Verifique a quantidade de valores nulos em cada coluna.\n",
        "- **Informações Descritivas**: Analise as estatísticas descritivas das colunas.\n"
      ]
    },
    {
      "cell_type": "code",
      "execution_count": null,
      "metadata": {
        "colab": {
          "base_uri": "https://localhost:8080/"
        },
        "id": "puR0owO3BA4X",
        "outputId": "0d313823-004f-4418-c95c-768507136962"
      },
      "outputs": [
        {
          "output_type": "stream",
          "name": "stdout",
          "text": [
            "1. Linhas iniciais:\n",
            "   AltaPressãoSanguínea  AltoColesterol  VerificaçãoColesterol  IMC  Fumante  \\\n",
            "0                     1               1                      1   40        1   \n",
            "1                     0               0                      0   25        1   \n",
            "2                     1               1                      1   28        0   \n",
            "3                     1               0                      1   27        0   \n",
            "4                     1               1                      1   24        0   \n",
            "\n",
            "   AVC  Diabetes  AtividadeFísica  Frutas  Legumes  ...  SemMédicoPorCusto  \\\n",
            "0    0         0                0       0        1  ...                  0   \n",
            "1    0         0                1       0        0  ...                  1   \n",
            "2    0         0                0       1        0  ...                  1   \n",
            "3    0         0                1       1        1  ...                  0   \n",
            "4    0         0                1       1        1  ...                  0   \n",
            "\n",
            "   SaúdeGeral  SaúdeMental  SaúdeFísica  DificuldadeParaCaminhar  Sexo  Idade  \\\n",
            "0           5           18           15                        1     0      9   \n",
            "1           3            0            0                        0     0      7   \n",
            "2           5           30           30                        1     0      9   \n",
            "3           2            0            0                        0     0     11   \n",
            "4           2            3            0                        0     0     11   \n",
            "\n",
            "   Educação  Renda  DoençaCardíacaouAtaque  \n",
            "0         4      3                       0  \n",
            "1         6      1                       0  \n",
            "2         4      8                       0  \n",
            "3         3      6                       0  \n",
            "4         5      4                       0  \n",
            "\n",
            "[5 rows x 22 columns]\n",
            "\n",
            "2. Tipos de dados das colunas:\n",
            "AltaPressãoSanguínea       int64\n",
            "AltoColesterol             int64\n",
            "VerificaçãoColesterol      int64\n",
            "IMC                        int64\n",
            "Fumante                    int64\n",
            "AVC                        int64\n",
            "Diabetes                   int64\n",
            "AtividadeFísica            int64\n",
            "Frutas                     int64\n",
            "Legumes                    int64\n",
            "ConsumoAltoDeÁlcool        int64\n",
            "QualquerPlanoDeSaúde       int64\n",
            "SemMédicoPorCusto          int64\n",
            "SaúdeGeral                 int64\n",
            "SaúdeMental                int64\n",
            "SaúdeFísica                int64\n",
            "DificuldadeParaCaminhar    int64\n",
            "Sexo                       int64\n",
            "Idade                      int64\n",
            "Educação                   int64\n",
            "Renda                      int64\n",
            "DoençaCardíacaouAtaque     int64\n",
            "dtype: object\n",
            "\n",
            "3. Quantidade de valores nulos por coluna:\n",
            "AltaPressãoSanguínea       0\n",
            "AltoColesterol             0\n",
            "VerificaçãoColesterol      0\n",
            "IMC                        0\n",
            "Fumante                    0\n",
            "AVC                        0\n",
            "Diabetes                   0\n",
            "AtividadeFísica            0\n",
            "Frutas                     0\n",
            "Legumes                    0\n",
            "ConsumoAltoDeÁlcool        0\n",
            "QualquerPlanoDeSaúde       0\n",
            "SemMédicoPorCusto          0\n",
            "SaúdeGeral                 0\n",
            "SaúdeMental                0\n",
            "SaúdeFísica                0\n",
            "DificuldadeParaCaminhar    0\n",
            "Sexo                       0\n",
            "Idade                      0\n",
            "Educação                   0\n",
            "Renda                      0\n",
            "DoençaCardíacaouAtaque     0\n",
            "dtype: int64\n",
            "\n",
            "4. Estatísticas descritivas:\n",
            "       AltaPressãoSanguínea  AltoColesterol  VerificaçãoColesterol  \\\n",
            "count         253680.000000   253680.000000          253680.000000   \n",
            "mean               0.429001        0.424121               0.962670   \n",
            "std                0.494934        0.494210               0.189571   \n",
            "min                0.000000        0.000000               0.000000   \n",
            "25%                0.000000        0.000000               1.000000   \n",
            "50%                0.000000        0.000000               1.000000   \n",
            "75%                1.000000        1.000000               1.000000   \n",
            "max                1.000000        1.000000               1.000000   \n",
            "\n",
            "                 IMC        Fumante            AVC       Diabetes  \\\n",
            "count  253680.000000  253680.000000  253680.000000  253680.000000   \n",
            "mean       28.382364       0.443169       0.040571       0.296921   \n",
            "std         6.608694       0.496761       0.197294       0.698160   \n",
            "min        12.000000       0.000000       0.000000       0.000000   \n",
            "25%        24.000000       0.000000       0.000000       0.000000   \n",
            "50%        27.000000       0.000000       0.000000       0.000000   \n",
            "75%        31.000000       1.000000       0.000000       0.000000   \n",
            "max        98.000000       1.000000       1.000000       2.000000   \n",
            "\n",
            "       AtividadeFísica         Frutas        Legumes  ...  SemMédicoPorCusto  \\\n",
            "count    253680.000000  253680.000000  253680.000000  ...      253680.000000   \n",
            "mean          0.756544       0.634256       0.811420  ...           0.084177   \n",
            "std           0.429169       0.481639       0.391175  ...           0.277654   \n",
            "min           0.000000       0.000000       0.000000  ...           0.000000   \n",
            "25%           1.000000       0.000000       1.000000  ...           0.000000   \n",
            "50%           1.000000       1.000000       1.000000  ...           0.000000   \n",
            "75%           1.000000       1.000000       1.000000  ...           0.000000   \n",
            "max           1.000000       1.000000       1.000000  ...           1.000000   \n",
            "\n",
            "          SaúdeGeral    SaúdeMental    SaúdeFísica  DificuldadeParaCaminhar  \\\n",
            "count  253680.000000  253680.000000  253680.000000            253680.000000   \n",
            "mean        2.511392       3.184772       4.242081                 0.168224   \n",
            "std         1.068477       7.412847       8.717951                 0.374066   \n",
            "min         1.000000       0.000000       0.000000                 0.000000   \n",
            "25%         2.000000       0.000000       0.000000                 0.000000   \n",
            "50%         2.000000       0.000000       0.000000                 0.000000   \n",
            "75%         3.000000       2.000000       3.000000                 0.000000   \n",
            "max         5.000000      30.000000      30.000000                 1.000000   \n",
            "\n",
            "                Sexo          Idade       Educação          Renda  \\\n",
            "count  253680.000000  253680.000000  253680.000000  253680.000000   \n",
            "mean        0.440342       8.032119       5.050434       6.053875   \n",
            "std         0.496429       3.054220       0.985774       2.071148   \n",
            "min         0.000000       1.000000       1.000000       1.000000   \n",
            "25%         0.000000       6.000000       4.000000       5.000000   \n",
            "50%         0.000000       8.000000       5.000000       7.000000   \n",
            "75%         1.000000      10.000000       6.000000       8.000000   \n",
            "max         1.000000      13.000000       6.000000       8.000000   \n",
            "\n",
            "       DoençaCardíacaouAtaque  \n",
            "count           253680.000000  \n",
            "mean                 0.094186  \n",
            "std                  0.292087  \n",
            "min                  0.000000  \n",
            "25%                  0.000000  \n",
            "50%                  0.000000  \n",
            "75%                  0.000000  \n",
            "max                  1.000000  \n",
            "\n",
            "[8 rows x 22 columns]\n"
          ]
        }
      ],
      "source": [
        "print(\"1. Linhas iniciais:\")\n",
        "print(dados_saude.head())\n",
        "\n",
        "print(\"\\n2. Tipos de dados das colunas:\")\n",
        "print(dados_saude.dtypes)\n",
        "\n",
        "print(\"\\n3. Quantidade de valores nulos por coluna:\")\n",
        "print(dados_saude.isnull().sum())\n",
        "\n",
        "print(\"\\n4. Estatísticas descritivas:\")\n",
        "print(dados_saude.describe())"
      ]
    },
    {
      "cell_type": "markdown",
      "metadata": {
        "id": "htS4Thk0BA4X"
      },
      "source": [
        "\n",
        "## 3. Separação dos Dados em X e y\n",
        "\n",
        "- **Tarefa**: Separe os dados em variáveis independentes (X) e a variável dependente (y), sendo y 'DoençaCardíacaouAtaque'.\n"
      ]
    },
    {
      "cell_type": "code",
      "execution_count": null,
      "metadata": {
        "colab": {
          "base_uri": "https://localhost:8080/"
        },
        "id": "1c2WsW93BA4X",
        "outputId": "ec144e9b-bd19-4976-92f5-88882de57641"
      },
      "outputs": [
        {
          "output_type": "stream",
          "name": "stdout",
          "text": [
            "Variáveis Independentes (X):\n",
            "   AltaPressãoSanguínea  AltoColesterol  VerificaçãoColesterol  IMC  Fumante  \\\n",
            "0                     1               1                      1   40        1   \n",
            "1                     0               0                      0   25        1   \n",
            "2                     1               1                      1   28        0   \n",
            "3                     1               0                      1   27        0   \n",
            "4                     1               1                      1   24        0   \n",
            "\n",
            "   AVC  Diabetes  AtividadeFísica  Frutas  Legumes  ...  QualquerPlanoDeSaúde  \\\n",
            "0    0         0                0       0        1  ...                     1   \n",
            "1    0         0                1       0        0  ...                     0   \n",
            "2    0         0                0       1        0  ...                     1   \n",
            "3    0         0                1       1        1  ...                     1   \n",
            "4    0         0                1       1        1  ...                     1   \n",
            "\n",
            "   SemMédicoPorCusto  SaúdeGeral  SaúdeMental  SaúdeFísica  \\\n",
            "0                  0           5           18           15   \n",
            "1                  1           3            0            0   \n",
            "2                  1           5           30           30   \n",
            "3                  0           2            0            0   \n",
            "4                  0           2            3            0   \n",
            "\n",
            "   DificuldadeParaCaminhar  Sexo  Idade  Educação  Renda  \n",
            "0                        1     0      9         4      3  \n",
            "1                        0     0      7         6      1  \n",
            "2                        1     0      9         4      8  \n",
            "3                        0     0     11         3      6  \n",
            "4                        0     0     11         5      4  \n",
            "\n",
            "[5 rows x 21 columns]\n",
            "\n",
            "Variável Dependente (y):\n",
            "0    0\n",
            "1    0\n",
            "2    0\n",
            "3    0\n",
            "4    0\n",
            "Name: DoençaCardíacaouAtaque, dtype: int64\n"
          ]
        }
      ],
      "source": [
        "X = dados_saude.drop('DoençaCardíacaouAtaque', axis=1)\n",
        "y = dados_saude['DoençaCardíacaouAtaque']\n",
        "\n",
        "print(\"Variáveis Independentes (X):\")\n",
        "print(X.head())\n",
        "\n",
        "print(\"\\nVariável Dependente (y):\")\n",
        "print(y.head())"
      ]
    },
    {
      "cell_type": "markdown",
      "metadata": {
        "id": "dLeRT8PJBA4X"
      },
      "source": [
        "\n",
        "## 4. Divisão em Conjuntos de Treinamento e Teste\n",
        "\n",
        "- **Proporção**: Separe os dados em 70% para treinamento e 30% para teste.\n"
      ]
    },
    {
      "cell_type": "code",
      "execution_count": null,
      "metadata": {
        "colab": {
          "base_uri": "https://localhost:8080/"
        },
        "id": "aoC7FOEWBA4X",
        "outputId": "e23fb090-a74a-4fc4-ffc9-8cfd116a0a86"
      },
      "outputs": [
        {
          "output_type": "stream",
          "name": "stdout",
          "text": [
            "Tamanho do conjunto de treinamento (X): (177576, 21)\n",
            "Tamanho do conjunto de teste (X): (76104, 21)\n",
            "Tamanho do conjunto de treinamento (y): (177576,)\n",
            "Tamanho do conjunto de teste (y): (76104,)\n"
          ]
        }
      ],
      "source": [
        "X_treino, X_teste, y_treino, y_teste = train_test_split(X, y, test_size=0.3, random_state=42)\n",
        "\n",
        "print(\"Tamanho do conjunto de treinamento (X):\", X_treino.shape)\n",
        "print(\"Tamanho do conjunto de teste (X):\", X_teste.shape)\n",
        "print(\"Tamanho do conjunto de treinamento (y):\", y_treino.shape)\n",
        "print(\"Tamanho do conjunto de teste (y):\", y_teste.shape)"
      ]
    },
    {
      "cell_type": "markdown",
      "metadata": {
        "id": "qNDcBtgyBA4X"
      },
      "source": [
        "\n",
        "## 5. Criação de Modelos Random Forest\n",
        "\n",
        "- **Objetivo**: Crie 5 instâncias do modelo Random Forest com os seguintes valores para `n_estimators`: 5, 20, 50, 100, 200.\n"
      ]
    },
    {
      "cell_type": "code",
      "execution_count": null,
      "metadata": {
        "colab": {
          "base_uri": "https://localhost:8080/"
        },
        "id": "KrXkZOm6BA4Y",
        "outputId": "6423658b-61dd-45d0-b4ba-c00b2fb505cf"
      },
      "outputs": [
        {
          "output_type": "stream",
          "name": "stdout",
          "text": [
            "Modelo n_estimators_5: RandomForestClassifier(n_estimators=5, random_state=42)\n",
            "Modelo n_estimators_20: RandomForestClassifier(n_estimators=20, random_state=42)\n",
            "Modelo n_estimators_50: RandomForestClassifier(n_estimators=50, random_state=42)\n",
            "Modelo n_estimators_100: RandomForestClassifier(random_state=42)\n",
            "Modelo n_estimators_200: RandomForestClassifier(n_estimators=200, random_state=42)\n"
          ]
        }
      ],
      "source": [
        "n_estimators_values = [5, 20, 50, 100, 200]\n",
        "\n",
        "modelos_random_forest = {}\n",
        "\n",
        "for n_estimators in n_estimators_values:\n",
        "    modelo = RandomForestClassifier(n_estimators=n_estimators, random_state=42)\n",
        "    modelos_random_forest[f'n_estimators_{n_estimators}'] = modelo\n",
        "\n",
        "for nome_modelo, modelo in modelos_random_forest.items():\n",
        "    print(f\"Modelo {nome_modelo}: {modelo}\")"
      ]
    },
    {
      "cell_type": "markdown",
      "metadata": {
        "id": "2xgPihHPBA4Y"
      },
      "source": [
        "\n",
        "## 6. Treinamento dos Modelos Random Forest\n",
        "\n",
        "- **Tarefa**: Treine cada um dos 5 modelos Random Forest criados.\n"
      ]
    },
    {
      "cell_type": "code",
      "execution_count": null,
      "metadata": {
        "colab": {
          "base_uri": "https://localhost:8080/"
        },
        "id": "JbJHjycfBA4Y",
        "outputId": "58966707-e6bc-4e97-e07e-0df992e70550"
      },
      "outputs": [
        {
          "output_type": "stream",
          "name": "stdout",
          "text": [
            "Modelo n_estimators_5 treinado com sucesso.\n",
            "Modelo n_estimators_20 treinado com sucesso.\n",
            "Modelo n_estimators_50 treinado com sucesso.\n",
            "Modelo n_estimators_100 treinado com sucesso.\n",
            "Modelo n_estimators_200 treinado com sucesso.\n"
          ]
        }
      ],
      "source": [
        "for nome_modelo, modelo in modelos_random_forest.items():\n",
        "    modelo.fit(X_treino, y_treino)\n",
        "    print(f\"Modelo {nome_modelo} treinado com sucesso.\")"
      ]
    },
    {
      "cell_type": "markdown",
      "metadata": {
        "id": "ZX31nE9hBA4Y"
      },
      "source": [
        "\n",
        "## 7. Criação e Treinamento de Modelo de Árvore de Decisão\n",
        "\n",
        "- **Objetivo**: Crie e treine um modelo de árvore de decisão.\n"
      ]
    },
    {
      "cell_type": "code",
      "execution_count": null,
      "metadata": {
        "colab": {
          "base_uri": "https://localhost:8080/"
        },
        "id": "xm7Sc7O1BA4Y",
        "outputId": "f215eda0-2011-4096-8b9f-0332971beb09"
      },
      "outputs": [
        {
          "output_type": "stream",
          "name": "stdout",
          "text": [
            "Modelo de Árvore de Decisão treinado com sucesso.\n"
          ]
        }
      ],
      "source": [
        "modelo_arvore_decisao = DecisionTreeClassifier(random_state=42)\n",
        "\n",
        "modelo_arvore_decisao.fit(X_treino, y_treino)\n",
        "\n",
        "print(\"Modelo de Árvore de Decisão treinado com sucesso.\")"
      ]
    },
    {
      "cell_type": "markdown",
      "metadata": {
        "id": "k8ewkwB4BA4Y"
      },
      "source": [
        "\n",
        "## 8. Avaliação dos Modelos\n",
        "\n",
        "- **Métricas**: Utilize a função de métricas para avaliar o desempenho dos 6 modelos.\n"
      ]
    },
    {
      "cell_type": "code",
      "execution_count": null,
      "metadata": {
        "colab": {
          "base_uri": "https://localhost:8080/"
        },
        "id": "IHUzL9kyBA4Y",
        "outputId": "dfb8fc31-f9fd-4dc1-ea60-a51dc7e7ec6b"
      },
      "outputs": [
        {
          "output_type": "stream",
          "name": "stdout",
          "text": [
            "Resultados dos Modelos Random Forest:\n",
            "\n",
            "Modelo: n_estimators_5\n",
            "Acurácia: 0.890728476821192\n",
            "Precisão: 0.3392244790292799\n",
            "Revocação: 0.1812033253487389\n",
            "F1-Score: 0.23622336517266712\n",
            "\n",
            "Modelo: n_estimators_20\n",
            "Acurácia: 0.9023047408808998\n",
            "Precisão: 0.4175609756097561\n",
            "Revocação: 0.12061434408905171\n",
            "F1-Score: 0.187165190772931\n",
            "\n",
            "Modelo: n_estimators_50\n",
            "Acurácia: 0.9037895511405445\n",
            "Precisão: 0.4411918452692107\n",
            "Revocação: 0.1189234887980837\n",
            "F1-Score: 0.18734739178690343\n",
            "\n",
            "Modelo: n_estimators_100\n",
            "Acurácia: 0.9039340901923684\n",
            "Precisão: 0.44216216216216214\n",
            "Revocação: 0.11525996900098633\n",
            "F1-Score: 0.18285458813009947\n",
            "\n",
            "Modelo: n_estimators_200\n",
            "Acurácia: 0.9035793125197099\n",
            "Precisão: 0.43256855064353666\n",
            "Revocação: 0.10891926165985628\n",
            "F1-Score: 0.1740207113912652\n",
            "\n",
            "Resultados do Modelo Árvore de Decisão:\n",
            "\n",
            "Modelo: Árvore de Decisão\n",
            "Acurácia: 0.8519525911910018\n",
            "Precisão: 0.24622687439143134\n",
            "Revocação: 0.2850500211356911\n",
            "F1-Score: 0.26421994383856856\n"
          ]
        }
      ],
      "source": [
        "def avaliar_modelos(modelos, X_teste, y_teste):\n",
        "    resultados = {}\n",
        "\n",
        "    for nome_modelo, modelo in modelos.items():\n",
        "        previsoes = modelo.predict(X_teste)\n",
        "\n",
        "        acuracia = accuracy_score(y_teste, previsoes)\n",
        "        precisao = precision_score(y_teste, previsoes)\n",
        "        revocacao = recall_score(y_teste, previsoes)\n",
        "        f1 = f1_score(y_teste, previsoes)\n",
        "\n",
        "        resultados[nome_modelo] = {\n",
        "            'Acurácia': acuracia,\n",
        "            'Precisão': precisao,\n",
        "            'Revocação': revocacao,\n",
        "            'F1-Score': f1\n",
        "        }\n",
        "\n",
        "    return resultados\n",
        "\n",
        "resultados_modelos_random_forest = avaliar_modelos(modelos_random_forest, X_teste, y_teste)\n",
        "resultados_modelo_arvore_decisao = avaliar_modelos({'Árvore de Decisão': modelo_arvore_decisao}, X_teste, y_teste)\n",
        "\n",
        "print(\"Resultados dos Modelos Random Forest:\")\n",
        "for nome_modelo, resultados in resultados_modelos_random_forest.items():\n",
        "    print(f\"\\nModelo: {nome_modelo}\")\n",
        "    for metrica, valor in resultados.items():\n",
        "        print(f\"{metrica}: {valor}\")\n",
        "\n",
        "print(\"\\nResultados do Modelo Árvore de Decisão:\")\n",
        "for nome_modelo, resultados in resultados_modelo_arvore_decisao.items():\n",
        "    print(f\"\\nModelo: {nome_modelo}\")\n",
        "    for metrica, valor in resultados.items():\n",
        "        print(f\"{metrica}: {valor}\")"
      ]
    },
    {
      "cell_type": "markdown",
      "metadata": {
        "id": "-cegMHnqBA4Y"
      },
      "source": [
        "\n",
        "## 9. Comparação e Seleção do Melhor Modelo\n",
        "\n",
        "- **Análise**: Com base nas métricas de avaliação, determine qual foi o melhor modelo.\n"
      ]
    },
    {
      "cell_type": "markdown",
      "source": [
        "Acurácia Geral: O modelo n_estimators_50 possui a maior acurácia geral entre os modelos Random Forest, indicando a proporção de previsões corretas. Pode ser considerado o melhor se a acurácia for a métrica mais crucial.\n",
        "\n",
        "Equilíbrio entre Precisão e Revocação: Se equilibrar precisão e revocação for mais importante, o modelo n_estimators_50 também parece oferecer um compromisso razoável entre essas métricas.\n",
        "\n",
        "Portanto, com base nas métricas, o modelo n_estimators_50 é o melhor modelo, considerando a acurácia e um equilíbrio razoável entre precisão e revocação."
      ],
      "metadata": {
        "id": "3Mkf3UNdQS0q"
      }
    }
  ],
  "metadata": {
    "kernelspec": {
      "display_name": "base",
      "language": "python",
      "name": "python3"
    },
    "language_info": {
      "codemirror_mode": {
        "name": "ipython",
        "version": 3
      },
      "file_extension": ".py",
      "mimetype": "text/x-python",
      "name": "python",
      "nbconvert_exporter": "python",
      "pygments_lexer": "ipython3",
      "version": "3.9.13"
    },
    "colab": {
      "provenance": []
    }
  },
  "nbformat": 4,
  "nbformat_minor": 0
}