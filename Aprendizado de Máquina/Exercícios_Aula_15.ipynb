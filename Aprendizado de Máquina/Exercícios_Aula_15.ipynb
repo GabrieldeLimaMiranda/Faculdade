{
  "cells": [
    {
      "cell_type": "markdown",
      "metadata": {
        "id": "TLe-cR1QwxPp"
      },
      "source": [
        "1. Faça o processamento dos dados que vimos durante as últimas aulas para prever o preço da ação da AMAZON (coluna Close) base `acao_amazon.csv`."
      ]
    },
    {
      "cell_type": "code",
      "source": [
        "import pandas as pd\n",
        "from sklearn.model_selection import train_test_split\n",
        "from sklearn.linear_model import LinearRegression\n",
        "from sklearn.metrics import mean_squared_error, r2_score, mean_absolute_error\n",
        "import numpy as np\n",
        "from sklearn.preprocessing import MinMaxScaler\n",
        "import tensorflow as tf\n",
        "from tensorflow.keras.models import Sequential\n",
        "from tensorflow.keras.layers import SimpleRNN, GRU, LSTM, Dense, Dropout\n",
        "import matplotlib.pyplot as plt"
      ],
      "metadata": {
        "id": "Op4M3ya_ympd"
      },
      "execution_count": 1,
      "outputs": []
    },
    {
      "cell_type": "code",
      "source": [
        "data = pd.read_csv('acao_amazon.csv')"
      ],
      "metadata": {
        "id": "JMv55fS6yinf"
      },
      "execution_count": 2,
      "outputs": []
    },
    {
      "cell_type": "code",
      "source": [
        "data.head()"
      ],
      "metadata": {
        "colab": {
          "base_uri": "https://localhost:8080/",
          "height": 206
        },
        "id": "t3Wtk4_dyj2c",
        "outputId": "a5575b0f-dfe1-4dd7-a41a-788e3c780216"
      },
      "execution_count": 3,
      "outputs": [
        {
          "output_type": "execute_result",
          "data": {
            "text/plain": [
              "         Date   Open   High    Low  Close   Volume  Name\n",
              "0  2006-01-03  47.47  47.85  46.25  47.58  7582127  AMZN\n",
              "1  2006-01-04  47.48  47.73  46.69  47.25  7440914  AMZN\n",
              "2  2006-01-05  47.16  48.20  47.11  47.65  5417258  AMZN\n",
              "3  2006-01-06  47.97  48.58  47.32  47.87  6154285  AMZN\n",
              "4  2006-01-09  46.55  47.10  46.40  47.08  8945056  AMZN"
            ],
            "text/html": [
              "\n",
              "  <div id=\"df-405a4f39-1313-4a8d-a3b8-ca02acf4ebc4\" class=\"colab-df-container\">\n",
              "    <div>\n",
              "<style scoped>\n",
              "    .dataframe tbody tr th:only-of-type {\n",
              "        vertical-align: middle;\n",
              "    }\n",
              "\n",
              "    .dataframe tbody tr th {\n",
              "        vertical-align: top;\n",
              "    }\n",
              "\n",
              "    .dataframe thead th {\n",
              "        text-align: right;\n",
              "    }\n",
              "</style>\n",
              "<table border=\"1\" class=\"dataframe\">\n",
              "  <thead>\n",
              "    <tr style=\"text-align: right;\">\n",
              "      <th></th>\n",
              "      <th>Date</th>\n",
              "      <th>Open</th>\n",
              "      <th>High</th>\n",
              "      <th>Low</th>\n",
              "      <th>Close</th>\n",
              "      <th>Volume</th>\n",
              "      <th>Name</th>\n",
              "    </tr>\n",
              "  </thead>\n",
              "  <tbody>\n",
              "    <tr>\n",
              "      <th>0</th>\n",
              "      <td>2006-01-03</td>\n",
              "      <td>47.47</td>\n",
              "      <td>47.85</td>\n",
              "      <td>46.25</td>\n",
              "      <td>47.58</td>\n",
              "      <td>7582127</td>\n",
              "      <td>AMZN</td>\n",
              "    </tr>\n",
              "    <tr>\n",
              "      <th>1</th>\n",
              "      <td>2006-01-04</td>\n",
              "      <td>47.48</td>\n",
              "      <td>47.73</td>\n",
              "      <td>46.69</td>\n",
              "      <td>47.25</td>\n",
              "      <td>7440914</td>\n",
              "      <td>AMZN</td>\n",
              "    </tr>\n",
              "    <tr>\n",
              "      <th>2</th>\n",
              "      <td>2006-01-05</td>\n",
              "      <td>47.16</td>\n",
              "      <td>48.20</td>\n",
              "      <td>47.11</td>\n",
              "      <td>47.65</td>\n",
              "      <td>5417258</td>\n",
              "      <td>AMZN</td>\n",
              "    </tr>\n",
              "    <tr>\n",
              "      <th>3</th>\n",
              "      <td>2006-01-06</td>\n",
              "      <td>47.97</td>\n",
              "      <td>48.58</td>\n",
              "      <td>47.32</td>\n",
              "      <td>47.87</td>\n",
              "      <td>6154285</td>\n",
              "      <td>AMZN</td>\n",
              "    </tr>\n",
              "    <tr>\n",
              "      <th>4</th>\n",
              "      <td>2006-01-09</td>\n",
              "      <td>46.55</td>\n",
              "      <td>47.10</td>\n",
              "      <td>46.40</td>\n",
              "      <td>47.08</td>\n",
              "      <td>8945056</td>\n",
              "      <td>AMZN</td>\n",
              "    </tr>\n",
              "  </tbody>\n",
              "</table>\n",
              "</div>\n",
              "    <div class=\"colab-df-buttons\">\n",
              "\n",
              "  <div class=\"colab-df-container\">\n",
              "    <button class=\"colab-df-convert\" onclick=\"convertToInteractive('df-405a4f39-1313-4a8d-a3b8-ca02acf4ebc4')\"\n",
              "            title=\"Convert this dataframe to an interactive table.\"\n",
              "            style=\"display:none;\">\n",
              "\n",
              "  <svg xmlns=\"http://www.w3.org/2000/svg\" height=\"24px\" viewBox=\"0 -960 960 960\">\n",
              "    <path d=\"M120-120v-720h720v720H120Zm60-500h600v-160H180v160Zm220 220h160v-160H400v160Zm0 220h160v-160H400v160ZM180-400h160v-160H180v160Zm440 0h160v-160H620v160ZM180-180h160v-160H180v160Zm440 0h160v-160H620v160Z\"/>\n",
              "  </svg>\n",
              "    </button>\n",
              "\n",
              "  <style>\n",
              "    .colab-df-container {\n",
              "      display:flex;\n",
              "      gap: 12px;\n",
              "    }\n",
              "\n",
              "    .colab-df-convert {\n",
              "      background-color: #E8F0FE;\n",
              "      border: none;\n",
              "      border-radius: 50%;\n",
              "      cursor: pointer;\n",
              "      display: none;\n",
              "      fill: #1967D2;\n",
              "      height: 32px;\n",
              "      padding: 0 0 0 0;\n",
              "      width: 32px;\n",
              "    }\n",
              "\n",
              "    .colab-df-convert:hover {\n",
              "      background-color: #E2EBFA;\n",
              "      box-shadow: 0px 1px 2px rgba(60, 64, 67, 0.3), 0px 1px 3px 1px rgba(60, 64, 67, 0.15);\n",
              "      fill: #174EA6;\n",
              "    }\n",
              "\n",
              "    .colab-df-buttons div {\n",
              "      margin-bottom: 4px;\n",
              "    }\n",
              "\n",
              "    [theme=dark] .colab-df-convert {\n",
              "      background-color: #3B4455;\n",
              "      fill: #D2E3FC;\n",
              "    }\n",
              "\n",
              "    [theme=dark] .colab-df-convert:hover {\n",
              "      background-color: #434B5C;\n",
              "      box-shadow: 0px 1px 3px 1px rgba(0, 0, 0, 0.15);\n",
              "      filter: drop-shadow(0px 1px 2px rgba(0, 0, 0, 0.3));\n",
              "      fill: #FFFFFF;\n",
              "    }\n",
              "  </style>\n",
              "\n",
              "    <script>\n",
              "      const buttonEl =\n",
              "        document.querySelector('#df-405a4f39-1313-4a8d-a3b8-ca02acf4ebc4 button.colab-df-convert');\n",
              "      buttonEl.style.display =\n",
              "        google.colab.kernel.accessAllowed ? 'block' : 'none';\n",
              "\n",
              "      async function convertToInteractive(key) {\n",
              "        const element = document.querySelector('#df-405a4f39-1313-4a8d-a3b8-ca02acf4ebc4');\n",
              "        const dataTable =\n",
              "          await google.colab.kernel.invokeFunction('convertToInteractive',\n",
              "                                                    [key], {});\n",
              "        if (!dataTable) return;\n",
              "\n",
              "        const docLinkHtml = 'Like what you see? Visit the ' +\n",
              "          '<a target=\"_blank\" href=https://colab.research.google.com/notebooks/data_table.ipynb>data table notebook</a>'\n",
              "          + ' to learn more about interactive tables.';\n",
              "        element.innerHTML = '';\n",
              "        dataTable['output_type'] = 'display_data';\n",
              "        await google.colab.output.renderOutput(dataTable, element);\n",
              "        const docLink = document.createElement('div');\n",
              "        docLink.innerHTML = docLinkHtml;\n",
              "        element.appendChild(docLink);\n",
              "      }\n",
              "    </script>\n",
              "  </div>\n",
              "\n",
              "\n",
              "<div id=\"df-d0429af4-4fb1-4b83-ab31-c03d69b27dcd\">\n",
              "  <button class=\"colab-df-quickchart\" onclick=\"quickchart('df-d0429af4-4fb1-4b83-ab31-c03d69b27dcd')\"\n",
              "            title=\"Suggest charts\"\n",
              "            style=\"display:none;\">\n",
              "\n",
              "<svg xmlns=\"http://www.w3.org/2000/svg\" height=\"24px\"viewBox=\"0 0 24 24\"\n",
              "     width=\"24px\">\n",
              "    <g>\n",
              "        <path d=\"M19 3H5c-1.1 0-2 .9-2 2v14c0 1.1.9 2 2 2h14c1.1 0 2-.9 2-2V5c0-1.1-.9-2-2-2zM9 17H7v-7h2v7zm4 0h-2V7h2v10zm4 0h-2v-4h2v4z\"/>\n",
              "    </g>\n",
              "</svg>\n",
              "  </button>\n",
              "\n",
              "<style>\n",
              "  .colab-df-quickchart {\n",
              "      --bg-color: #E8F0FE;\n",
              "      --fill-color: #1967D2;\n",
              "      --hover-bg-color: #E2EBFA;\n",
              "      --hover-fill-color: #174EA6;\n",
              "      --disabled-fill-color: #AAA;\n",
              "      --disabled-bg-color: #DDD;\n",
              "  }\n",
              "\n",
              "  [theme=dark] .colab-df-quickchart {\n",
              "      --bg-color: #3B4455;\n",
              "      --fill-color: #D2E3FC;\n",
              "      --hover-bg-color: #434B5C;\n",
              "      --hover-fill-color: #FFFFFF;\n",
              "      --disabled-bg-color: #3B4455;\n",
              "      --disabled-fill-color: #666;\n",
              "  }\n",
              "\n",
              "  .colab-df-quickchart {\n",
              "    background-color: var(--bg-color);\n",
              "    border: none;\n",
              "    border-radius: 50%;\n",
              "    cursor: pointer;\n",
              "    display: none;\n",
              "    fill: var(--fill-color);\n",
              "    height: 32px;\n",
              "    padding: 0;\n",
              "    width: 32px;\n",
              "  }\n",
              "\n",
              "  .colab-df-quickchart:hover {\n",
              "    background-color: var(--hover-bg-color);\n",
              "    box-shadow: 0 1px 2px rgba(60, 64, 67, 0.3), 0 1px 3px 1px rgba(60, 64, 67, 0.15);\n",
              "    fill: var(--button-hover-fill-color);\n",
              "  }\n",
              "\n",
              "  .colab-df-quickchart-complete:disabled,\n",
              "  .colab-df-quickchart-complete:disabled:hover {\n",
              "    background-color: var(--disabled-bg-color);\n",
              "    fill: var(--disabled-fill-color);\n",
              "    box-shadow: none;\n",
              "  }\n",
              "\n",
              "  .colab-df-spinner {\n",
              "    border: 2px solid var(--fill-color);\n",
              "    border-color: transparent;\n",
              "    border-bottom-color: var(--fill-color);\n",
              "    animation:\n",
              "      spin 1s steps(1) infinite;\n",
              "  }\n",
              "\n",
              "  @keyframes spin {\n",
              "    0% {\n",
              "      border-color: transparent;\n",
              "      border-bottom-color: var(--fill-color);\n",
              "      border-left-color: var(--fill-color);\n",
              "    }\n",
              "    20% {\n",
              "      border-color: transparent;\n",
              "      border-left-color: var(--fill-color);\n",
              "      border-top-color: var(--fill-color);\n",
              "    }\n",
              "    30% {\n",
              "      border-color: transparent;\n",
              "      border-left-color: var(--fill-color);\n",
              "      border-top-color: var(--fill-color);\n",
              "      border-right-color: var(--fill-color);\n",
              "    }\n",
              "    40% {\n",
              "      border-color: transparent;\n",
              "      border-right-color: var(--fill-color);\n",
              "      border-top-color: var(--fill-color);\n",
              "    }\n",
              "    60% {\n",
              "      border-color: transparent;\n",
              "      border-right-color: var(--fill-color);\n",
              "    }\n",
              "    80% {\n",
              "      border-color: transparent;\n",
              "      border-right-color: var(--fill-color);\n",
              "      border-bottom-color: var(--fill-color);\n",
              "    }\n",
              "    90% {\n",
              "      border-color: transparent;\n",
              "      border-bottom-color: var(--fill-color);\n",
              "    }\n",
              "  }\n",
              "</style>\n",
              "\n",
              "  <script>\n",
              "    async function quickchart(key) {\n",
              "      const quickchartButtonEl =\n",
              "        document.querySelector('#' + key + ' button');\n",
              "      quickchartButtonEl.disabled = true;  // To prevent multiple clicks.\n",
              "      quickchartButtonEl.classList.add('colab-df-spinner');\n",
              "      try {\n",
              "        const charts = await google.colab.kernel.invokeFunction(\n",
              "            'suggestCharts', [key], {});\n",
              "      } catch (error) {\n",
              "        console.error('Error during call to suggestCharts:', error);\n",
              "      }\n",
              "      quickchartButtonEl.classList.remove('colab-df-spinner');\n",
              "      quickchartButtonEl.classList.add('colab-df-quickchart-complete');\n",
              "    }\n",
              "    (() => {\n",
              "      let quickchartButtonEl =\n",
              "        document.querySelector('#df-d0429af4-4fb1-4b83-ab31-c03d69b27dcd button');\n",
              "      quickchartButtonEl.style.display =\n",
              "        google.colab.kernel.accessAllowed ? 'block' : 'none';\n",
              "    })();\n",
              "  </script>\n",
              "</div>\n",
              "    </div>\n",
              "  </div>\n"
            ],
            "application/vnd.google.colaboratory.intrinsic+json": {
              "type": "dataframe",
              "variable_name": "data",
              "summary": "{\n  \"name\": \"data\",\n  \"rows\": 3019,\n  \"fields\": [\n    {\n      \"column\": \"Date\",\n      \"properties\": {\n        \"dtype\": \"object\",\n        \"num_unique_values\": 3019,\n        \"samples\": [\n          \"2011-08-11\",\n          \"2012-03-20\",\n          \"2006-10-23\"\n        ],\n        \"semantic_type\": \"\",\n        \"description\": \"\"\n      }\n    },\n    {\n      \"column\": \"Open\",\n      \"properties\": {\n        \"dtype\": \"number\",\n        \"std\": 280.12054660369193,\n        \"min\": 26.09,\n        \"max\": 1204.88,\n        \"num_unique_values\": 2840,\n        \"samples\": [\n          90.41,\n          492.57,\n          181.37\n        ],\n        \"semantic_type\": \"\",\n        \"description\": \"\"\n      }\n    },\n    {\n      \"column\": \"High\",\n      \"properties\": {\n        \"dtype\": \"number\",\n        \"std\": 281.82644236405423,\n        \"min\": 26.3,\n        \"max\": 1213.41,\n        \"num_unique_values\": 2840,\n        \"samples\": [\n          89.6,\n          491.66,\n          191.0\n        ],\n        \"semantic_type\": \"\",\n        \"description\": \"\"\n      }\n    },\n    {\n      \"column\": \"Low\",\n      \"properties\": {\n        \"dtype\": \"number\",\n        \"std\": 277.92713379526936,\n        \"min\": 25.76,\n        \"max\": 1191.15,\n        \"num_unique_values\": 2854,\n        \"samples\": [\n          242.7,\n          273.5,\n          75.4\n        ],\n        \"semantic_type\": \"\",\n        \"description\": \"\"\n      }\n    },\n    {\n      \"column\": \"Close\",\n      \"properties\": {\n        \"dtype\": \"number\",\n        \"std\": 279.98016111490284,\n        \"min\": 26.07,\n        \"max\": 1195.83,\n        \"num_unique_values\": 2901,\n        \"samples\": [\n          26.78,\n          81.95,\n          77.7\n        ],\n        \"semantic_type\": \"\",\n        \"description\": \"\"\n      }\n    },\n    {\n      \"column\": \"Volume\",\n      \"properties\": {\n        \"dtype\": \"number\",\n        \"std\": 5122033,\n        \"min\": 986435,\n        \"max\": 104404589,\n        \"num_unique_values\": 3019,\n        \"samples\": [\n          7404618,\n          9167308,\n          8059332\n        ],\n        \"semantic_type\": \"\",\n        \"description\": \"\"\n      }\n    },\n    {\n      \"column\": \"Name\",\n      \"properties\": {\n        \"dtype\": \"category\",\n        \"num_unique_values\": 1,\n        \"samples\": [\n          \"AMZN\"\n        ],\n        \"semantic_type\": \"\",\n        \"description\": \"\"\n      }\n    }\n  ]\n}"
            }
          },
          "metadata": {},
          "execution_count": 3
        }
      ]
    },
    {
      "cell_type": "code",
      "execution_count": 4,
      "metadata": {
        "id": "0XfTL9f1wxPq"
      },
      "outputs": [],
      "source": [
        "data['Date'] = pd.to_datetime(data['Date'])\n",
        "data['Year'] = data['Date'].dt.year\n",
        "data['Month'] = data['Date'].dt.month\n",
        "data['Day'] = data['Date'].dt.day"
      ]
    },
    {
      "cell_type": "code",
      "execution_count": 5,
      "metadata": {
        "id": "SKZw572UwxPq"
      },
      "outputs": [],
      "source": [
        "features = data[['Open', 'High', 'Low', 'Volume', 'Year', 'Month', 'Day']]\n",
        "target = data['Close']"
      ]
    },
    {
      "cell_type": "code",
      "execution_count": 6,
      "metadata": {
        "id": "zfuNxw23wxPq"
      },
      "outputs": [],
      "source": [
        "X_train, X_test, y_train, y_test = train_test_split(features, target, test_size=0.2, random_state=42)"
      ]
    },
    {
      "cell_type": "code",
      "source": [
        "model = LinearRegression()\n",
        "model.fit(X_train, y_train)"
      ],
      "metadata": {
        "colab": {
          "base_uri": "https://localhost:8080/",
          "height": 75
        },
        "id": "LCsIREEbyZY3",
        "outputId": "5dca9f05-a814-4aa1-b454-9c6c9f9b47e7"
      },
      "execution_count": 7,
      "outputs": [
        {
          "output_type": "execute_result",
          "data": {
            "text/plain": [
              "LinearRegression()"
            ],
            "text/html": [
              "<style>#sk-container-id-1 {color: black;background-color: white;}#sk-container-id-1 pre{padding: 0;}#sk-container-id-1 div.sk-toggleable {background-color: white;}#sk-container-id-1 label.sk-toggleable__label {cursor: pointer;display: block;width: 100%;margin-bottom: 0;padding: 0.3em;box-sizing: border-box;text-align: center;}#sk-container-id-1 label.sk-toggleable__label-arrow:before {content: \"▸\";float: left;margin-right: 0.25em;color: #696969;}#sk-container-id-1 label.sk-toggleable__label-arrow:hover:before {color: black;}#sk-container-id-1 div.sk-estimator:hover label.sk-toggleable__label-arrow:before {color: black;}#sk-container-id-1 div.sk-toggleable__content {max-height: 0;max-width: 0;overflow: hidden;text-align: left;background-color: #f0f8ff;}#sk-container-id-1 div.sk-toggleable__content pre {margin: 0.2em;color: black;border-radius: 0.25em;background-color: #f0f8ff;}#sk-container-id-1 input.sk-toggleable__control:checked~div.sk-toggleable__content {max-height: 200px;max-width: 100%;overflow: auto;}#sk-container-id-1 input.sk-toggleable__control:checked~label.sk-toggleable__label-arrow:before {content: \"▾\";}#sk-container-id-1 div.sk-estimator input.sk-toggleable__control:checked~label.sk-toggleable__label {background-color: #d4ebff;}#sk-container-id-1 div.sk-label input.sk-toggleable__control:checked~label.sk-toggleable__label {background-color: #d4ebff;}#sk-container-id-1 input.sk-hidden--visually {border: 0;clip: rect(1px 1px 1px 1px);clip: rect(1px, 1px, 1px, 1px);height: 1px;margin: -1px;overflow: hidden;padding: 0;position: absolute;width: 1px;}#sk-container-id-1 div.sk-estimator {font-family: monospace;background-color: #f0f8ff;border: 1px dotted black;border-radius: 0.25em;box-sizing: border-box;margin-bottom: 0.5em;}#sk-container-id-1 div.sk-estimator:hover {background-color: #d4ebff;}#sk-container-id-1 div.sk-parallel-item::after {content: \"\";width: 100%;border-bottom: 1px solid gray;flex-grow: 1;}#sk-container-id-1 div.sk-label:hover label.sk-toggleable__label {background-color: #d4ebff;}#sk-container-id-1 div.sk-serial::before {content: \"\";position: absolute;border-left: 1px solid gray;box-sizing: border-box;top: 0;bottom: 0;left: 50%;z-index: 0;}#sk-container-id-1 div.sk-serial {display: flex;flex-direction: column;align-items: center;background-color: white;padding-right: 0.2em;padding-left: 0.2em;position: relative;}#sk-container-id-1 div.sk-item {position: relative;z-index: 1;}#sk-container-id-1 div.sk-parallel {display: flex;align-items: stretch;justify-content: center;background-color: white;position: relative;}#sk-container-id-1 div.sk-item::before, #sk-container-id-1 div.sk-parallel-item::before {content: \"\";position: absolute;border-left: 1px solid gray;box-sizing: border-box;top: 0;bottom: 0;left: 50%;z-index: -1;}#sk-container-id-1 div.sk-parallel-item {display: flex;flex-direction: column;z-index: 1;position: relative;background-color: white;}#sk-container-id-1 div.sk-parallel-item:first-child::after {align-self: flex-end;width: 50%;}#sk-container-id-1 div.sk-parallel-item:last-child::after {align-self: flex-start;width: 50%;}#sk-container-id-1 div.sk-parallel-item:only-child::after {width: 0;}#sk-container-id-1 div.sk-dashed-wrapped {border: 1px dashed gray;margin: 0 0.4em 0.5em 0.4em;box-sizing: border-box;padding-bottom: 0.4em;background-color: white;}#sk-container-id-1 div.sk-label label {font-family: monospace;font-weight: bold;display: inline-block;line-height: 1.2em;}#sk-container-id-1 div.sk-label-container {text-align: center;}#sk-container-id-1 div.sk-container {/* jupyter's `normalize.less` sets `[hidden] { display: none; }` but bootstrap.min.css set `[hidden] { display: none !important; }` so we also need the `!important` here to be able to override the default hidden behavior on the sphinx rendered scikit-learn.org. See: https://github.com/scikit-learn/scikit-learn/issues/21755 */display: inline-block !important;position: relative;}#sk-container-id-1 div.sk-text-repr-fallback {display: none;}</style><div id=\"sk-container-id-1\" class=\"sk-top-container\"><div class=\"sk-text-repr-fallback\"><pre>LinearRegression()</pre><b>In a Jupyter environment, please rerun this cell to show the HTML representation or trust the notebook. <br />On GitHub, the HTML representation is unable to render, please try loading this page with nbviewer.org.</b></div><div class=\"sk-container\" hidden><div class=\"sk-item\"><div class=\"sk-estimator sk-toggleable\"><input class=\"sk-toggleable__control sk-hidden--visually\" id=\"sk-estimator-id-1\" type=\"checkbox\" checked><label for=\"sk-estimator-id-1\" class=\"sk-toggleable__label sk-toggleable__label-arrow\">LinearRegression</label><div class=\"sk-toggleable__content\"><pre>LinearRegression()</pre></div></div></div></div></div>"
            ]
          },
          "metadata": {},
          "execution_count": 7
        }
      ]
    },
    {
      "cell_type": "code",
      "source": [
        "y_pred = model.predict(X_test)"
      ],
      "metadata": {
        "id": "WbGqwypPyaQ2"
      },
      "execution_count": 8,
      "outputs": []
    },
    {
      "cell_type": "code",
      "source": [
        "mse = mean_squared_error(y_test, y_pred)\n",
        "r2 = r2_score(y_test, y_pred)"
      ],
      "metadata": {
        "id": "2x7vkr0yybAX"
      },
      "execution_count": 9,
      "outputs": []
    },
    {
      "cell_type": "code",
      "source": [
        "mse, r2"
      ],
      "metadata": {
        "colab": {
          "base_uri": "https://localhost:8080/"
        },
        "id": "TlmA3lfrybvH",
        "outputId": "5b2a01a0-95d8-4acc-d62f-de9b3fcc9030"
      },
      "execution_count": 10,
      "outputs": [
        {
          "output_type": "execute_result",
          "data": {
            "text/plain": [
              "(4.8915412315146725, 0.9999344100303552)"
            ]
          },
          "metadata": {},
          "execution_count": 10
        }
      ]
    },
    {
      "cell_type": "markdown",
      "metadata": {
        "id": "nG8GPVYHwxPr"
      },
      "source": [
        "\n",
        "2. Separe 15% dos dados para teste e utilize 10% dos dados de treinamento como dados de validação durante o treinamento.\n"
      ]
    },
    {
      "cell_type": "code",
      "execution_count": 11,
      "metadata": {
        "id": "7r2Cab6TwxPr"
      },
      "outputs": [],
      "source": [
        "X_train_full, X_test, y_train_full, y_test = train_test_split(features, target, test_size=0.15, random_state=42)"
      ]
    },
    {
      "cell_type": "code",
      "source": [
        "X_train, X_val, y_train, y_val = train_test_split(X_train_full, y_train_full, test_size=0.10, random_state=42)"
      ],
      "metadata": {
        "id": "LbxWuCcry6Yw"
      },
      "execution_count": 12,
      "outputs": []
    },
    {
      "cell_type": "code",
      "source": [
        "len(X_train), len(X_val), len(X_test)"
      ],
      "metadata": {
        "colab": {
          "base_uri": "https://localhost:8080/"
        },
        "id": "K9kRq_F2y7E2",
        "outputId": "6b9c7f46-b5d3-480e-dfa5-9a86e090cb46"
      },
      "execution_count": 13,
      "outputs": [
        {
          "output_type": "execute_result",
          "data": {
            "text/plain": [
              "(2309, 257, 453)"
            ]
          },
          "metadata": {},
          "execution_count": 13
        }
      ]
    },
    {
      "cell_type": "markdown",
      "metadata": {
        "id": "djC7ion9wxPr"
      },
      "source": [
        "\n",
        "3. Treine um modelo de RNN, outro de GRU e outro de LSTM, cada um com 5 camadas contendo 50, 40, 30, 20 e 10 neurônios, respectivamente.\n"
      ]
    },
    {
      "cell_type": "code",
      "execution_count": 14,
      "metadata": {
        "id": "SUZhNJqqwxPr"
      },
      "outputs": [],
      "source": [
        "scaler = MinMaxScaler()\n",
        "scaled_data = scaler.fit_transform(features)"
      ]
    },
    {
      "cell_type": "code",
      "execution_count": 15,
      "metadata": {
        "id": "9uceoyrawxPr"
      },
      "outputs": [],
      "source": [
        "def create_sequences(data, target, window_size=5):\n",
        "    X = []\n",
        "    y = []\n",
        "    for i in range(window_size, len(data)):\n",
        "        X.append(data[i-window_size:i])\n",
        "        y.append(target[i])\n",
        "    return np.array(X), np.array(y)"
      ]
    },
    {
      "cell_type": "code",
      "execution_count": 16,
      "metadata": {
        "id": "dWKcFS0NwxPs"
      },
      "outputs": [],
      "source": [
        "window_size = 5\n",
        "X_train_seq, y_train_seq = create_sequences(scaled_data[:len(X_train)], y_train.values, window_size)\n",
        "X_val_seq, y_val_seq = create_sequences(scaled_data[len(X_train):len(X_train)+len(X_val)], y_val.values, window_size)\n",
        "X_test_seq, y_test_seq = create_sequences(scaled_data[len(X_train)+len(X_val):], y_test.values, window_size)"
      ]
    },
    {
      "cell_type": "code",
      "execution_count": 17,
      "metadata": {
        "colab": {
          "base_uri": "https://localhost:8080/"
        },
        "id": "DOmHjHfLwxPs",
        "outputId": "6e437e21-a07c-44b8-ecdb-4050967b85fa"
      },
      "outputs": [
        {
          "output_type": "execute_result",
          "data": {
            "text/plain": [
              "((2304, 5, 7), (2304,), (252, 5, 7), (252,), (448, 5, 7), (448,))"
            ]
          },
          "metadata": {},
          "execution_count": 17
        }
      ],
      "source": [
        "X_train_seq.shape, y_train_seq.shape, X_val_seq.shape, y_val_seq.shape, X_test_seq.shape, y_test_seq.shape"
      ]
    },
    {
      "cell_type": "code",
      "source": [
        "def build_model(model_type='RNN'):\n",
        "    model = Sequential()\n",
        "    if model_type == 'RNN':\n",
        "        model.add(SimpleRNN(50, return_sequences=True, input_shape=(window_size, X_train_seq.shape[2])))\n",
        "        model.add(SimpleRNN(40, return_sequences=True))\n",
        "        model.add(SimpleRNN(30, return_sequences=True))\n",
        "        model.add(SimpleRNN(20, return_sequences=True))\n",
        "        model.add(SimpleRNN(10))\n",
        "    elif model_type == 'GRU':\n",
        "        model.add(GRU(50, return_sequences=True, input_shape=(window_size, X_train_seq.shape[2])))\n",
        "        model.add(GRU(40, return_sequences=True))\n",
        "        model.add(GRU(30, return_sequences=True))\n",
        "        model.add(GRU(20, return_sequences=True))\n",
        "        model.add(GRU(10))\n",
        "    elif model_type == 'LSTM':\n",
        "        model.add(LSTM(50, return_sequences=True, input_shape=(window_size, X_train_seq.shape[2])))\n",
        "        model.add(LSTM(40, return_sequences=True))\n",
        "        model.add(LSTM(30, return_sequences=True))\n",
        "        model.add(LSTM(20, return_sequences=True))\n",
        "        model.add(LSTM(10))\n",
        "    model.add(Dense(1))\n",
        "    model.compile(optimizer='adam', loss='mse')\n",
        "    return model"
      ],
      "metadata": {
        "id": "axNQNVQ0zi8S"
      },
      "execution_count": 18,
      "outputs": []
    },
    {
      "cell_type": "code",
      "source": [
        "rnn_model = build_model('RNN')\n",
        "gru_model = build_model('GRU')\n",
        "lstm_model = build_model('LSTM')"
      ],
      "metadata": {
        "id": "nF04gIBRzjZD"
      },
      "execution_count": 19,
      "outputs": []
    },
    {
      "cell_type": "code",
      "source": [
        "history_rnn = rnn_model.fit(X_train_seq, y_train_seq, validation_data=(X_val_seq, y_val_seq), epochs=10, batch_size=32)\n",
        "history_gru = gru_model.fit(X_train_seq, y_train_seq, validation_data=(X_val_seq, y_val_seq), epochs=10, batch_size=32)\n",
        "history_lstm = lstm_model.fit(X_train_seq, y_train_seq, validation_data=(X_val_seq, y_val_seq), epochs=10, batch_size=32)"
      ],
      "metadata": {
        "colab": {
          "base_uri": "https://localhost:8080/"
        },
        "id": "XxqYSLqTzlGC",
        "outputId": "ec13d3af-192e-4976-f581-a83d56dca4b8"
      },
      "execution_count": 20,
      "outputs": [
        {
          "output_type": "stream",
          "name": "stdout",
          "text": [
            "Epoch 1/10\n",
            "72/72 [==============================] - 23s 21ms/step - loss: 169237.8594 - val_loss: 172162.6406\n",
            "Epoch 2/10\n",
            "72/72 [==============================] - 1s 11ms/step - loss: 168553.5625 - val_loss: 171627.5156\n",
            "Epoch 3/10\n",
            "72/72 [==============================] - 1s 11ms/step - loss: 168050.7031 - val_loss: 171125.3594\n",
            "Epoch 4/10\n",
            "72/72 [==============================] - 1s 16ms/step - loss: 167568.9219 - val_loss: 170635.5312\n",
            "Epoch 5/10\n",
            "72/72 [==============================] - 1s 16ms/step - loss: 167093.7969 - val_loss: 170154.7812\n",
            "Epoch 6/10\n",
            "72/72 [==============================] - 1s 16ms/step - loss: 166624.4844 - val_loss: 169675.0469\n",
            "Epoch 7/10\n",
            "72/72 [==============================] - 1s 15ms/step - loss: 166158.6875 - val_loss: 169199.1406\n",
            "Epoch 8/10\n",
            "72/72 [==============================] - 1s 11ms/step - loss: 165696.4375 - val_loss: 168724.8594\n",
            "Epoch 9/10\n",
            "72/72 [==============================] - 1s 11ms/step - loss: 165236.2812 - val_loss: 168256.4062\n",
            "Epoch 10/10\n",
            "72/72 [==============================] - 1s 11ms/step - loss: 164779.0625 - val_loss: 167790.5625\n",
            "Epoch 1/10\n",
            "72/72 [==============================] - 13s 51ms/step - loss: 169540.3438 - val_loss: 171911.9375\n",
            "Epoch 2/10\n",
            "72/72 [==============================] - 1s 15ms/step - loss: 168234.3594 - val_loss: 171269.1875\n",
            "Epoch 3/10\n",
            "72/72 [==============================] - 1s 18ms/step - loss: 167680.6250 - val_loss: 170735.6250\n",
            "Epoch 4/10\n",
            "72/72 [==============================] - 1s 16ms/step - loss: 167176.6562 - val_loss: 170228.1562\n",
            "Epoch 5/10\n",
            "72/72 [==============================] - 1s 15ms/step - loss: 166689.3594 - val_loss: 169734.6094\n",
            "Epoch 6/10\n",
            "72/72 [==============================] - 1s 15ms/step - loss: 166210.6875 - val_loss: 169248.6719\n",
            "Epoch 7/10\n",
            "72/72 [==============================] - 1s 16ms/step - loss: 165739.7188 - val_loss: 168763.1875\n",
            "Epoch 8/10\n",
            "72/72 [==============================] - 2s 22ms/step - loss: 165272.3594 - val_loss: 168286.9219\n",
            "Epoch 9/10\n",
            "72/72 [==============================] - 2s 26ms/step - loss: 164809.2812 - val_loss: 167815.7031\n",
            "Epoch 10/10\n",
            "72/72 [==============================] - 2s 21ms/step - loss: 164349.5000 - val_loss: 167344.8281\n",
            "Epoch 1/10\n",
            "72/72 [==============================] - 14s 58ms/step - loss: 169908.2031 - val_loss: 171617.3438\n",
            "Epoch 2/10\n",
            "72/72 [==============================] - 1s 17ms/step - loss: 167861.2969 - val_loss: 170820.7188\n",
            "Epoch 3/10\n",
            "72/72 [==============================] - 1s 16ms/step - loss: 167223.9375 - val_loss: 170243.3750\n",
            "Epoch 4/10\n",
            "72/72 [==============================] - 1s 16ms/step - loss: 166686.6250 - val_loss: 169715.0000\n",
            "Epoch 5/10\n",
            "72/72 [==============================] - 1s 16ms/step - loss: 166180.4375 - val_loss: 169200.8125\n",
            "Epoch 6/10\n",
            "72/72 [==============================] - 1s 21ms/step - loss: 165688.6094 - val_loss: 168705.2344\n",
            "Epoch 7/10\n",
            "72/72 [==============================] - 2s 26ms/step - loss: 165207.1875 - val_loss: 168216.4688\n",
            "Epoch 8/10\n",
            "72/72 [==============================] - 2s 23ms/step - loss: 164733.3906 - val_loss: 167732.6719\n",
            "Epoch 9/10\n",
            "72/72 [==============================] - 1s 16ms/step - loss: 164265.4375 - val_loss: 167252.3594\n",
            "Epoch 10/10\n",
            "72/72 [==============================] - 1s 17ms/step - loss: 163800.3281 - val_loss: 166781.3750\n"
          ]
        }
      ]
    },
    {
      "cell_type": "markdown",
      "metadata": {
        "id": "QxNIEmZIwxPs"
      },
      "source": [
        "\n",
        "4. Coloque Dropout de 15% após as camadas com 50 e 20 neurônios.\n"
      ]
    },
    {
      "cell_type": "code",
      "execution_count": 21,
      "metadata": {
        "id": "gNvoP5DdwxPs"
      },
      "outputs": [],
      "source": [
        "def build_model_with_dropout(model_type='RNN'):\n",
        "    model = Sequential()\n",
        "    if model_type == 'RNN':\n",
        "        model.add(SimpleRNN(50, return_sequences=True, input_shape=(window_size, X_train_seq.shape[2])))\n",
        "        model.add(Dropout(0.15))\n",
        "        model.add(SimpleRNN(40, return_sequences=True))\n",
        "        model.add(SimpleRNN(30, return_sequences=True))\n",
        "        model.add(SimpleRNN(20, return_sequences=True))\n",
        "        model.add(Dropout(0.15))\n",
        "        model.add(SimpleRNN(10))\n",
        "    elif model_type == 'GRU':\n",
        "        model.add(GRU(50, return_sequences=True, input_shape=(window_size, X_train_seq.shape[2])))\n",
        "        model.add(Dropout(0.15))\n",
        "        model.add(GRU(40, return_sequences=True))\n",
        "        model.add(GRU(30, return_sequences=True))\n",
        "        model.add(GRU(20, return_sequences=True))\n",
        "        model.add(Dropout(0.15))\n",
        "        model.add(GRU(10))\n",
        "    elif model_type == 'LSTM':\n",
        "        model.add(LSTM(50, return_sequences=True, input_shape=(window_size, X_train_seq.shape[2])))\n",
        "        model.add(Dropout(0.15))\n",
        "        model.add(LSTM(40, return_sequences=True))\n",
        "        model.add(LSTM(30, return_sequences=True))\n",
        "        model.add(LSTM(20, return_sequences=True))\n",
        "        model.add(Dropout(0.15))\n",
        "        model.add(LSTM(10))\n",
        "    model.add(Dense(1))\n",
        "    model.compile(optimizer='adam', loss='mse')\n",
        "    return model"
      ]
    },
    {
      "cell_type": "markdown",
      "metadata": {
        "id": "0HYNRF9hwxPs"
      },
      "source": [
        "\n",
        "5. Treine os modelos por 20 épocas.\n"
      ]
    },
    {
      "cell_type": "code",
      "execution_count": 22,
      "metadata": {
        "id": "xQZsszKUwxPs"
      },
      "outputs": [],
      "source": [
        "rnn_model = build_model_with_dropout('RNN')\n",
        "gru_model = build_model_with_dropout('GRU')\n",
        "lstm_model = build_model_with_dropout('LSTM')"
      ]
    },
    {
      "cell_type": "code",
      "execution_count": 23,
      "metadata": {
        "colab": {
          "base_uri": "https://localhost:8080/"
        },
        "id": "56eA6BhZwxPs",
        "outputId": "79fe7eab-8e42-4983-f3bf-2aefa6bf3ae2"
      },
      "outputs": [
        {
          "output_type": "stream",
          "name": "stdout",
          "text": [
            "Epoch 1/20\n",
            "72/72 [==============================] - 9s 29ms/step - loss: 168994.3125 - val_loss: 171765.5312\n",
            "Epoch 2/20\n",
            "72/72 [==============================] - 1s 12ms/step - loss: 168181.4688 - val_loss: 171229.9688\n",
            "Epoch 3/20\n",
            "72/72 [==============================] - 1s 12ms/step - loss: 167667.8125 - val_loss: 170725.9219\n",
            "Epoch 4/20\n",
            "72/72 [==============================] - 1s 12ms/step - loss: 167179.7500 - val_loss: 170234.3125\n",
            "Epoch 5/20\n",
            "72/72 [==============================] - 1s 11ms/step - loss: 166701.2969 - val_loss: 169749.7812\n",
            "Epoch 6/20\n",
            "72/72 [==============================] - 1s 11ms/step - loss: 166229.3906 - val_loss: 169266.7344\n",
            "Epoch 7/20\n",
            "72/72 [==============================] - 1s 12ms/step - loss: 165761.5312 - val_loss: 168788.2969\n",
            "Epoch 8/20\n",
            "72/72 [==============================] - 1s 12ms/step - loss: 165298.2969 - val_loss: 168315.6875\n",
            "Epoch 9/20\n",
            "72/72 [==============================] - 1s 12ms/step - loss: 164838.3438 - val_loss: 167846.1875\n",
            "Epoch 10/20\n",
            "72/72 [==============================] - 1s 17ms/step - loss: 164381.2812 - val_loss: 167377.9062\n",
            "Epoch 11/20\n",
            "72/72 [==============================] - 1s 17ms/step - loss: 163927.0312 - val_loss: 166910.1562\n",
            "Epoch 12/20\n",
            "72/72 [==============================] - 1s 18ms/step - loss: 163473.3906 - val_loss: 166453.4219\n",
            "Epoch 13/20\n",
            "72/72 [==============================] - 1s 14ms/step - loss: 163023.8750 - val_loss: 165990.3438\n",
            "Epoch 14/20\n",
            "72/72 [==============================] - 1s 12ms/step - loss: 162575.8281 - val_loss: 165531.1719\n",
            "Epoch 15/20\n",
            "72/72 [==============================] - 1s 11ms/step - loss: 162130.1094 - val_loss: 165076.3906\n",
            "Epoch 16/20\n",
            "72/72 [==============================] - 1s 12ms/step - loss: 161686.5625 - val_loss: 164621.8281\n",
            "Epoch 17/20\n",
            "72/72 [==============================] - 1s 12ms/step - loss: 161245.2188 - val_loss: 164165.7031\n",
            "Epoch 18/20\n",
            "72/72 [==============================] - 1s 12ms/step - loss: 160804.9688 - val_loss: 163714.6875\n",
            "Epoch 19/20\n",
            "72/72 [==============================] - 1s 12ms/step - loss: 160366.5312 - val_loss: 163268.4531\n",
            "Epoch 20/20\n",
            "72/72 [==============================] - 1s 12ms/step - loss: 159930.1406 - val_loss: 162825.2656\n",
            "Epoch 1/20\n",
            "72/72 [==============================] - 15s 58ms/step - loss: 170173.5625 - val_loss: 172788.4688\n",
            "Epoch 2/20\n",
            "72/72 [==============================] - 1s 16ms/step - loss: 169113.5000 - val_loss: 172116.6406\n",
            "Epoch 3/20\n",
            "72/72 [==============================] - 1s 18ms/step - loss: 168493.7344 - val_loss: 171548.2969\n",
            "Epoch 4/20\n",
            "72/72 [==============================] - 2s 25ms/step - loss: 167964.1250 - val_loss: 171026.9219\n",
            "Epoch 5/20\n",
            "72/72 [==============================] - 2s 26ms/step - loss: 167463.5625 - val_loss: 170522.2812\n",
            "Epoch 6/20\n",
            "72/72 [==============================] - 1s 14ms/step - loss: 166975.8594 - val_loss: 170026.6250\n",
            "Epoch 7/20\n",
            "72/72 [==============================] - 1s 17ms/step - loss: 166496.8281 - val_loss: 169537.3125\n",
            "Epoch 8/20\n",
            "72/72 [==============================] - 1s 16ms/step - loss: 166023.0312 - val_loss: 169055.9688\n",
            "Epoch 9/20\n",
            "72/72 [==============================] - 1s 16ms/step - loss: 165554.5781 - val_loss: 168574.2500\n",
            "Epoch 10/20\n",
            "72/72 [==============================] - 1s 16ms/step - loss: 165089.0625 - val_loss: 168100.8438\n",
            "Epoch 11/20\n",
            "72/72 [==============================] - 1s 16ms/step - loss: 164627.3906 - val_loss: 167631.2031\n",
            "Epoch 12/20\n",
            "72/72 [==============================] - 1s 16ms/step - loss: 164169.6875 - val_loss: 167160.1094\n",
            "Epoch 13/20\n",
            "72/72 [==============================] - 2s 23ms/step - loss: 163713.4375 - val_loss: 166695.8750\n",
            "Epoch 14/20\n",
            "72/72 [==============================] - 2s 23ms/step - loss: 163260.2500 - val_loss: 166233.0938\n",
            "Epoch 15/20\n",
            "72/72 [==============================] - 2s 24ms/step - loss: 162810.2969 - val_loss: 165769.3594\n",
            "Epoch 16/20\n",
            "72/72 [==============================] - 1s 18ms/step - loss: 162361.7188 - val_loss: 165312.3906\n",
            "Epoch 17/20\n",
            "72/72 [==============================] - 1s 17ms/step - loss: 161915.9062 - val_loss: 164857.3594\n",
            "Epoch 18/20\n",
            "72/72 [==============================] - 1s 16ms/step - loss: 161472.9219 - val_loss: 164399.2969\n",
            "Epoch 19/20\n",
            "72/72 [==============================] - 1s 16ms/step - loss: 161029.6250 - val_loss: 163951.4688\n",
            "Epoch 20/20\n",
            "72/72 [==============================] - 1s 16ms/step - loss: 160590.3125 - val_loss: 163499.2656\n",
            "Epoch 1/20\n",
            "72/72 [==============================] - 13s 47ms/step - loss: 170853.5000 - val_loss: 173507.5625\n",
            "Epoch 2/20\n",
            "72/72 [==============================] - 1s 17ms/step - loss: 169741.8750 - val_loss: 172758.0625\n",
            "Epoch 3/20\n",
            "72/72 [==============================] - 1s 17ms/step - loss: 169111.8281 - val_loss: 172172.9688\n",
            "Epoch 4/20\n",
            "72/72 [==============================] - 1s 17ms/step - loss: 168565.8594 - val_loss: 171634.9531\n",
            "Epoch 5/20\n",
            "72/72 [==============================] - 1s 17ms/step - loss: 168048.1875 - val_loss: 171112.7969\n",
            "Epoch 6/20\n",
            "72/72 [==============================] - 1s 17ms/step - loss: 167546.0625 - val_loss: 170605.1094\n",
            "Epoch 7/20\n",
            "72/72 [==============================] - 2s 26ms/step - loss: 167054.9375 - val_loss: 170106.9375\n",
            "Epoch 8/20\n",
            "72/72 [==============================] - 2s 27ms/step - loss: 166571.6562 - val_loss: 169616.3125\n",
            "Epoch 9/20\n",
            "72/72 [==============================] - 1s 17ms/step - loss: 166095.5781 - val_loss: 169126.7031\n",
            "Epoch 10/20\n",
            "72/72 [==============================] - 1s 17ms/step - loss: 165623.0000 - val_loss: 168647.1406\n",
            "Epoch 11/20\n",
            "72/72 [==============================] - 1s 16ms/step - loss: 165156.6562 - val_loss: 168166.1094\n",
            "Epoch 12/20\n",
            "72/72 [==============================] - 1s 16ms/step - loss: 164692.4375 - val_loss: 167693.7812\n",
            "Epoch 13/20\n",
            "72/72 [==============================] - 1s 16ms/step - loss: 164232.0625 - val_loss: 167222.6562\n",
            "Epoch 14/20\n",
            "72/72 [==============================] - 1s 17ms/step - loss: 163774.4219 - val_loss: 166754.4375\n",
            "Epoch 15/20\n",
            "72/72 [==============================] - 1s 17ms/step - loss: 163318.8594 - val_loss: 166293.5156\n",
            "Epoch 16/20\n",
            "72/72 [==============================] - 1s 17ms/step - loss: 162867.2812 - val_loss: 165828.5781\n",
            "Epoch 17/20\n",
            "72/72 [==============================] - 2s 25ms/step - loss: 162416.8125 - val_loss: 165370.3594\n",
            "Epoch 18/20\n",
            "72/72 [==============================] - 2s 28ms/step - loss: 161969.5469 - val_loss: 164912.8125\n",
            "Epoch 19/20\n",
            "72/72 [==============================] - 1s 19ms/step - loss: 161525.1562 - val_loss: 164452.1250\n",
            "Epoch 20/20\n",
            "72/72 [==============================] - 1s 17ms/step - loss: 161080.7812 - val_loss: 164001.3281\n"
          ]
        }
      ],
      "source": [
        "history_rnn = rnn_model.fit(X_train_seq, y_train_seq, validation_data=(X_val_seq, y_val_seq), epochs=20, batch_size=32)\n",
        "history_gru = gru_model.fit(X_train_seq, y_train_seq, validation_data=(X_val_seq, y_val_seq), epochs=20, batch_size=32)\n",
        "history_lstm = lstm_model.fit(X_train_seq, y_train_seq, validation_data=(X_val_seq, y_val_seq), epochs=20, batch_size=32)"
      ]
    },
    {
      "cell_type": "markdown",
      "metadata": {
        "id": "eCtRMyiIwxPs"
      },
      "source": [
        "\n",
        "6. Salve o history e exiba os valores de loss de treinamento e validação para os três modelos.\n"
      ]
    },
    {
      "cell_type": "code",
      "source": [
        "import pickle\n",
        "with open('history_rnn.pkl', 'wb') as f:\n",
        "    pickle.dump(history_rnn.history, f)\n",
        "with open('history_gru.pkl', 'wb') as f:\n",
        "    pickle.dump(history_gru.history, f)\n",
        "with open('history_lstm.pkl', 'wb') as f:\n",
        "    pickle.dump(history_lstm.history, f)"
      ],
      "metadata": {
        "id": "0Km6goNr2WyW"
      },
      "execution_count": 24,
      "outputs": []
    },
    {
      "cell_type": "code",
      "execution_count": 25,
      "metadata": {
        "id": "Wrw1_dJHwxPt"
      },
      "outputs": [],
      "source": [
        "def plot_history(history, title):\n",
        "    plt.figure(figsize=(10, 6))\n",
        "    plt.plot(history['loss'], label='Train Loss')\n",
        "    plt.plot(history['val_loss'], label='Validation Loss')\n",
        "    plt.title(title)\n",
        "    plt.xlabel('Epochs')\n",
        "    plt.ylabel('Loss')\n",
        "    plt.legend()\n",
        "    plt.show()"
      ]
    },
    {
      "cell_type": "code",
      "execution_count": 26,
      "metadata": {
        "id": "2VjCfirxwxPt"
      },
      "outputs": [],
      "source": [
        "with open('history_rnn.pkl', 'rb') as f:\n",
        "    history_rnn = pickle.load(f)\n",
        "\n",
        "with open('history_gru.pkl', 'rb') as f:\n",
        "    history_gru = pickle.load(f)\n",
        "\n",
        "with open('history_lstm.pkl', 'rb') as f:\n",
        "    history_lstm = pickle.load(f)"
      ]
    },
    {
      "cell_type": "code",
      "execution_count": 27,
      "metadata": {
        "colab": {
          "base_uri": "https://localhost:8080/",
          "height": 1000
        },
        "id": "s3e2oNwxwxPt",
        "outputId": "e1e0b017-82d2-42a4-ca7e-d5f813ec067c"
      },
      "outputs": [
        {
          "output_type": "display_data",
          "data": {
            "text/plain": [
              "<Figure size 1000x600 with 1 Axes>"
            ],
            "image/png": "[encoded data removed]"
          },
          "metadata": {}
        },
        {
          "output_type": "display_data",
          "data": {
            "text/plain": [
              "<Figure size 1000x600 with 1 Axes>"
            ],
            "image/png": "[encoded data removed]"
          },
          "metadata": {}
        },
        {
          "output_type": "display_data",
          "data": {
            "text/plain": [
              "<Figure size 1000x600 with 1 Axes>"
            ],
            "image/png": "[encoded data removed]"
          },
          "metadata": {}
        }
      ],
      "source": [
        "plot_history(history_rnn, 'RNN Model Loss')\n",
        "plot_history(history_gru, 'GRU Model Loss')\n",
        "plot_history(history_lstm, 'LSTM Model Loss')"
      ]
    },
    {
      "cell_type": "markdown",
      "metadata": {
        "id": "B_bDu2vnwxPt"
      },
      "source": [
        "\n",
        "7. Exiba as métricas MSE, MAE, RMSE e R² para os dados de treinamento e teste dos três modelos.\n"
      ]
    },
    {
      "cell_type": "code",
      "execution_count": 28,
      "metadata": {
        "id": "_t8sK8S0wxPt"
      },
      "outputs": [],
      "source": [
        "def evaluate_model(model, X_train, y_train, X_test, y_test):\n",
        "    y_train_pred = model.predict(X_train)\n",
        "    y_test_pred = model.predict(X_test)\n",
        "\n",
        "    mse_train = mean_squared_error(y_train, y_train_pred)\n",
        "    mae_train = mean_absolute_error(y_train, y_train_pred)\n",
        "    rmse_train = np.sqrt(mse_train)\n",
        "    r2_train = r2_score(y_train, y_train_pred)\n",
        "\n",
        "    mse_test = mean_squared_error(y_test, y_test_pred)\n",
        "    mae_test = mean_absolute_error(y_test, y_test_pred)\n",
        "    rmse_test = np.sqrt(mse_test)\n",
        "    r2_test = r2_score(y_test, y_test_pred)\n",
        "\n",
        "    return mse_train, mae_train, rmse_train, r2_train, mse_test, mae_test, rmse_test, r2_test"
      ]
    },
    {
      "cell_type": "code",
      "source": [
        "rnn_metrics = evaluate_model(rnn_model, X_train_seq, y_train_seq, X_test_seq, y_test_seq)\n",
        "gru_metrics = evaluate_model(gru_model, X_train_seq, y_train_seq, X_test_seq, y_test_seq)\n",
        "lstm_metrics = evaluate_model(lstm_model, X_train_seq, y_train_seq, X_test_seq, y_test_seq)"
      ],
      "metadata": {
        "colab": {
          "base_uri": "https://localhost:8080/"
        },
        "id": "Xqrhe_NW1n99",
        "outputId": "314bcae1-7a23-477f-eca7-4e61f93ddbf0"
      },
      "execution_count": 29,
      "outputs": [
        {
          "output_type": "stream",
          "name": "stdout",
          "text": [
            "72/72 [==============================] - 1s 4ms/step\n",
            "14/14 [==============================] - 0s 4ms/step\n",
            "72/72 [==============================] - 2s 6ms/step\n",
            "14/14 [==============================] - 0s 5ms/step\n",
            "72/72 [==============================] - 6s 15ms/step\n",
            "14/14 [==============================] - 0s 21ms/step\n"
          ]
        }
      ]
    },
    {
      "cell_type": "code",
      "source": [
        "print(\"RNN Metrics (Train MSE, Train MAE, Train RMSE, Train R², Test MSE, Test MAE, Test RMSE, Test R²):\", rnn_metrics)\n",
        "print(\"GRU Metrics (Train MSE, Train MAE, Train RMSE, Train R², Test MSE, Test MAE, Test RMSE, Test R²):\", gru_metrics)\n",
        "print(\"LSTM Metrics (Train MSE, Train MAE, Train RMSE, Train R², Test MSE, Test MAE, Test RMSE, Test R²):\", lstm_metrics)"
      ],
      "metadata": {
        "id": "u8SsKjZY1pBa",
        "colab": {
          "base_uri": "https://localhost:8080/"
        },
        "outputId": "634b2b13-8cc6-4886-b455-66418fb7e66c"
      },
      "execution_count": 30,
      "outputs": [
        {
          "output_type": "stream",
          "name": "stdout",
          "text": [
            "RNN Metrics (Train MSE, Train MAE, Train RMSE, Train R², Test MSE, Test MAE, Test RMSE, Test R²): (159712.0402571146, 283.22281427241035, 399.6398882207763, -1.0090353781803096, 138787.33615554133, 257.55707649026596, 372.5417240465037, -0.9155845617790803)\n",
            "GRU Metrics (Train MSE, Train MAE, Train RMSE, Train R², Test MSE, Test MAE, Test RMSE, Test R²): (160368.62078273622, 284.3795753002829, 400.4605108905699, -1.017294577063966, 139384.53282983092, 258.71382683719906, 373.34238016843324, -0.9238272499183848)\n",
            "LSTM Metrics (Train MSE, Train MAE, Train RMSE, Train R², Test MSE, Test MAE, Test RMSE, Test R²): (160857.72357900246, 285.2382266146276, 401.07072141830855, -1.0234470551093526, 139829.53388767256, 259.57242794326373, 373.93787436908895, -0.929969288378014)\n"
          ]
        }
      ]
    }
  ],
  "metadata": {
    "language_info": {
      "name": "python"
    },
    "colab": {
      "provenance": []
    },
    "kernelspec": {
      "name": "python3",
      "display_name": "Python 3"
    }
  },
  "nbformat": 4,
  "nbformat_minor": 0
}