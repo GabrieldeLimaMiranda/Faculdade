{
  "cells": [
    {
      "cell_type": "markdown",
      "metadata": {
        "id": "dZBdKs3mB8zV"
      },
      "source": [
        "# Aula 16 - Autoencoders\n",
        "\n",
        "## Fundamentos e Aplicações de Autoencoders\n",
        "\n",
        "### O que são Autoencoders?\n",
        "- **Definição:**\n",
        "  - Redes neurais usadas para aprender representações de dados, geralmente para redução de dimensionalidade. Elas tentam capturar as características mais importantes dos dados de entrada, de modo a poder reconstruí-los com boa precisão.\n",
        "- **Arquitetura:**\n",
        "  - Composta por duas partes principais: codificador (encoder) e decodificador (decoder). O codificador transforma os dados de entrada em uma representação de menor dimensão (codificação latente), e o decodificador reconstrói os dados de entrada a partir dessa codificação.\n",
        "\n",
        "### Componentes de um Autoencoder\n",
        "- **Codificador (Encoder):**\n",
        "  - Reduz a dimensão dos dados de entrada.\n",
        "  - **Função de ativação comum:** ReLU (Rectified Linear Unit), que introduz não-linearidade ao modelo, permitindo que ele aprenda representações mais complexas.\n",
        "  - **Estrutura típica:** Composta por camadas densas (fully connected layers), onde cada camada subsequente possui menos neurônios do que a anterior, forçando a rede a aprender uma representação comprimida dos dados.\n",
        "\n",
        "- **Codificação Latente:**\n",
        "  - Representação compacta e comprimida dos dados de entrada.\n",
        "  - **Tamanho da camada latente:** Determinado pela necessidade específica da aplicação e pela quantidade de informação que deve ser retida. Deve ser um compromisso entre a capacidade de compressão e a precisão de reconstrução.\n",
        "\n",
        "- **Decodificador (Decoder):**\n",
        "  - Reconstrói os dados originais a partir da codificação latente.\n",
        "  - **Função de ativação comum:** Sigmoid ou Tanh, que são frequentemente utilizadas nas camadas finais para garantir que os valores de saída estejam no mesmo intervalo que os dados de entrada.\n",
        "  - **Estrutura típica:** Semelhante ao codificador, mas em ordem inversa. As camadas possuem um número crescente de neurônios, expandindo a codificação latente de volta ao formato original dos dados de entrada.\n",
        "\n",
        "### Processo de Treinamento\n",
        "- **Função de Custo:**\n",
        "  - O objetivo do treinamento é minimizar o erro de reconstrução, que é a diferença entre os dados de entrada e os dados reconstruídos pelo autoencoder. Uma função de custo comum é o erro quadrático médio (MSE - Mean Squared Error).\n",
        "  - **Erro de reconstrução:** Mede o quanto os dados de saída se desviam dos dados de entrada.\n",
        "\n",
        "- **Algoritmo de Otimização:**\n",
        "  - Uso do algoritmo de descida do gradiente (Gradient Descent) para ajustar os pesos da rede neural de forma a minimizar a função de custo.\n",
        "  - **Learning rate:** Taxa de aprendizado que controla o tamanho dos passos dados na direção do gradiente negativo. Um learning rate adequado é crucial para garantir a convergência eficiente e estável do modelo.\n",
        "\n",
        "### Aplicações de Autoencoders\n",
        "- **Redução de Dimensionalidade:**\n",
        "  - Extração de características principais dos dados de entrada, facilitando a visualização, compressão e análise dos dados.\n",
        "  - Compressão de dados, permitindo armazenar grandes volumes de dados em um formato mais compacto.\n",
        "\n",
        "- **Detecção de Anomalias:**\n",
        "  - Identificação de dados que não se ajustam ao padrão normal, com base no erro de reconstrução. Dados que resultam em alto erro de reconstrução podem ser considerados anômalos.\n",
        "\n",
        "- **Pré-treinamento para Redes Neurais Profundas:**\n",
        "  - Inicialização de pesos para outras redes neurais, melhorando a eficiência e a eficácia do treinamento em tarefas subsequentes.\n"
      ]
    },
    {
      "cell_type": "markdown",
      "metadata": {
        "id": "ObYthv3AB8zX"
      },
      "source": [
        "## Redução de Dimensionalidade de uma Tabela com Autoencoders\n",
        "\n",
        "### Passos para Reduzir a Dimensionalidade de uma Tabela com Autoencoders\n",
        "\n",
        "#### 1. Pré-processamento dos Dados\n",
        "- **Normalização:** Escale seus dados para que todas as características estejam na mesma faixa de valores (por exemplo, entre 0 e 1).\n",
        "  - Isso ajuda o modelo a convergir mais rapidamente e a melhorar a precisão da reconstrução.\n",
        "\n",
        "#### 2. Definição do Modelo Autoencoder\n",
        "- **Codificador (Encoder):**\n",
        "  - Reduz a dimensão dos dados de entrada.\n",
        "  - **Exemplo:** Se sua tabela original tem 100 características, você pode querer reduzir para 10 características principais.\n",
        "- **Camada Latente:**\n",
        "  - A camada de codificação compacta os dados para um espaço de dimensão menor.\n",
        "  - **Exemplo:** Um vetor de 10 valores.\n",
        "- **Decodificador (Decoder):**\n",
        "  - Reconstrói os dados originais a partir da codificação latente.\n",
        "  - A estrutura do decodificador deve ser simétrica ao codificador.\n",
        "\n",
        "#### 3. Treinamento do Autoencoder\n",
        "- **Função de Custo:**\n",
        "  - Utilize uma função de custo como o erro quadrático médio (MSE) para medir a diferença entre os dados de entrada e os dados reconstruídos.\n",
        "- **Algoritmo de Otimização:**\n",
        "  - Utilize o algoritmo de descida do gradiente com uma taxa de aprendizado adequada.\n",
        "- **Treinamento:**\n",
        "  - Treine o autoencoder com seus dados até que a função de custo seja minimizada e a reconstrução seja suficientemente precisa.\n",
        "\n",
        "#### 4. Extração das Características Latentes\n",
        "- **Utilize apenas o Codificador:**\n",
        "  - Após o treinamento, utilize apenas a parte do codificador do autoencoder para transformar seus dados de entrada na representação de baixa dimensionalidade.\n",
        "- **Novo Conjunto de Dados:**\n",
        "  - O resultado será uma nova tabela com o número de características reduzido, mas preservando a maior parte da informação essencial dos dados originais.\n"
      ]
    },
    {
      "cell_type": "code",
      "execution_count": null,
      "metadata": {
        "id": "CuWvGKCKB8zY"
      },
      "outputs": [],
      "source": [
        "import numpy as np\n",
        "import pandas as pd\n",
        "from tensorflow.keras.layers import Input, Dense\n",
        "from tensorflow.keras.models import Model\n",
        "from sklearn.preprocessing import MinMaxScaler\n",
        "from sklearn.metrics import mean_squared_error, mean_absolute_error, r2_score"
      ]
    },
    {
      "cell_type": "code",
      "execution_count": null,
      "metadata": {
        "id": "tXRCsqEaB8zZ"
      },
      "outputs": [],
      "source": [
        "df = pd.read_csv('weather_data.csv')"
      ]
    },
    {
      "cell_type": "code",
      "execution_count": null,
      "metadata": {
        "id": "MBgGT2l7B8zZ"
      },
      "outputs": [],
      "source": [
        "df.head()"
      ]
    },
    {
      "cell_type": "code",
      "execution_count": null,
      "metadata": {
        "id": "jSFYMSd6B8zZ"
      },
      "outputs": [],
      "source": [
        "# Selecionar apenas as colunas numéricas para a normalização e o autoencoder\n",
        "numeric_columns = ['Temperature_C', 'Humidity_pct', 'Precipitation_mm', 'Wind_Speed_kmh']\n",
        "data = df[numeric_columns]"
      ]
    },
    {
      "cell_type": "code",
      "execution_count": null,
      "metadata": {
        "id": "75aXyYzZB8za"
      },
      "outputs": [],
      "source": [
        "# Normalização dos dados\n",
        "scaler = MinMaxScaler()\n",
        "data_normalized = scaler.fit_transform(data)"
      ]
    },
    {
      "cell_type": "code",
      "execution_count": null,
      "metadata": {
        "id": "qPnIbQtPB8za"
      },
      "outputs": [],
      "source": [
        "# Definição do Autoencoder\n",
        "input_dim = data_normalized.shape[1]\n",
        "encoding_dim = 2  # Reduzir para 2 características principais"
      ]
    },
    {
      "cell_type": "code",
      "execution_count": null,
      "metadata": {
        "id": "tb_ULnYBB8za"
      },
      "outputs": [],
      "source": [
        "# Definindo a entrada do autoencoder\n",
        "# input_layer define a camada de entrada com o formato dos dados de entrada (input_dim características)\n",
        "input_layer = Input(shape=(input_dim,))\n",
        "\n",
        "# Definindo a camada de codificação (encoder)\n",
        "# encoder é uma camada densa com encoding_dim neurônios e ativação ReLU\n",
        "# Esta camada reduz a dimensionalidade dos dados de entrada\n",
        "encoder = Dense(encoding_dim, activation='relu')(input_layer)\n",
        "\n",
        "# Definindo a camada de decodificação (decoder)\n",
        "# decoder é uma camada densa com o mesmo número de neurônios que a camada de entrada e ativação sigmoid\n",
        "# Esta camada reconstrói os dados para o formato original\n",
        "decoder = Dense(input_dim, activation='sigmoid')(encoder)\n",
        "\n",
        "# Construindo o modelo autoencoder\n",
        "# autoencoder é o modelo que mapeia os dados de entrada para a saída reconstruída\n",
        "autoencoder = Model(inputs=input_layer, outputs=decoder)\n",
        "\n",
        "# Compilação do Autoencoder\n",
        "# O compilador configura o modelo para o treinamento\n",
        "# optimizer: algoritmo de otimização (Adam é um método de descida de gradiente estocástico)\n",
        "# loss: função de perda (mean_squared_error calcula o erro quadrático médio entre a entrada e a saída reconstruída)\n",
        "autoencoder.compile(optimizer='adam', loss='mean_squared_error')\n"
      ]
    },
    {
      "cell_type": "code",
      "execution_count": null,
      "metadata": {
        "id": "OdO5QBRFB8zb"
      },
      "outputs": [],
      "source": [
        "# Treinamento do Autoencoder\n",
        "autoencoder.fit(data_normalized, data_normalized, epochs=50, batch_size=256, shuffle=True)\n"
      ]
    },
    {
      "cell_type": "code",
      "execution_count": null,
      "metadata": {
        "id": "ypK2D8bWB8zb"
      },
      "outputs": [],
      "source": [
        "# Extração da camada de codificação\n",
        "encoder_model = Model(inputs=input_layer, outputs=encoder)\n",
        "data_reduced = encoder_model.predict(data_normalized)"
      ]
    },
    {
      "cell_type": "code",
      "execution_count": null,
      "metadata": {
        "id": "DFHAH50_B8zb"
      },
      "outputs": [],
      "source": [
        "# Transformar a tabela reduzida em um DataFrame\n",
        "df_reduced = pd.DataFrame(data_reduced, columns=['Feature1', 'Feature2'])"
      ]
    },
    {
      "cell_type": "code",
      "execution_count": null,
      "metadata": {
        "id": "utD-961yB8zb"
      },
      "outputs": [],
      "source": [
        "# Exibir as primeiras linhas da tabela reduzida\n",
        "df_reduced.head()"
      ]
    },
    {
      "cell_type": "code",
      "execution_count": null,
      "metadata": {
        "id": "QLuv02BsB8zc"
      },
      "outputs": [],
      "source": [
        "# Para reconstruir as colunas originais a partir dos dados reduzidos:\n",
        "# Definir o modelo de decodificação\n",
        "encoded_input = Input(shape=(encoding_dim,))\n",
        "decoder_layer = autoencoder.layers[-1]  # Última camada do autoencoder\n",
        "decoder_model = Model(inputs=encoded_input, outputs=decoder_layer(encoded_input))"
      ]
    },
    {
      "cell_type": "code",
      "execution_count": null,
      "metadata": {
        "id": "DXZ_eH6FB8zc"
      },
      "outputs": [],
      "source": [
        "# Reconstruir os dados originais\n",
        "data_reconstructed = decoder_model.predict(data_reduced)\n",
        "\n",
        "# Reverter a normalização\n",
        "data_reconstructed = scaler.inverse_transform(data_reconstructed)\n",
        "\n",
        "# Transformar os dados reconstruídos em um DataFrame\n",
        "df_reconstructed = pd.DataFrame(data_reconstructed, columns=numeric_columns)\n",
        "\n",
        "# Exibir as primeiras linhas da tabela reconstruída\n",
        "df_reconstructed.head()"
      ]
    },
    {
      "cell_type": "code",
      "execution_count": null,
      "metadata": {
        "id": "QA4PlBsBB8zc"
      },
      "outputs": [],
      "source": [
        "# Exibe os dados originais\n",
        "data.head()"
      ]
    },
    {
      "cell_type": "markdown",
      "metadata": {
        "id": "8Ehox-3nB8zc"
      },
      "source": [
        "OBS: Assim como em outras redes neurais, aqui também lidamos apenas com os dados numéricos"
      ]
    },
    {
      "cell_type": "code",
      "execution_count": null,
      "metadata": {
        "id": "UqOa8JpWB8zc"
      },
      "outputs": [],
      "source": [
        "# Função para calcular o tamanho total em memória de um DataFrame\n",
        "def memory_usage_df(df):\n",
        "    return df.memory_usage(deep=True).sum() / (1024 * 1024)"
      ]
    },
    {
      "cell_type": "code",
      "execution_count": null,
      "metadata": {
        "id": "hu5f3gxzB8zc"
      },
      "outputs": [],
      "source": [
        "# Tamanho em memória das variáveis\n",
        "size_data = memory_usage_df(data)\n",
        "size_df_reduced = memory_usage_df(df_reduced)\n",
        "size_df_reconstructed = memory_usage_df(df_reconstructed)\n",
        "\n",
        "\n",
        "print(f'Tamanho de \"data\" em memória: {size_data:.2f} MB')\n",
        "print(f'Tamanho de \"df_reduced\" em memória: {size_df_reduced:.2f} MB')\n",
        "print(f'Tamanho de \"df_reconstructed\" em memória: {size_df_reconstructed:.2f} MB')"
      ]
    },
    {
      "cell_type": "markdown",
      "metadata": {
        "id": "OA9oCH4hB8zd"
      },
      "source": [
        "# Comparação de DataFrames Usando Métricas de Reconstrução\n",
        "\n",
        "## Função `compare_dataframes`\n",
        "\n",
        "Esta função compara dois DataFrames, um original e um reconstruído, e calcula as métricas de qualidade de reconstrução para cada coluna. As métricas calculadas são:\n",
        "- **Erro Quadrático Médio (MSE)**\n",
        "- **Erro Absoluto Médio (MAE)**\n",
        "- **Coeficiente de Determinação (R² Score)**\n",
        "\n",
        "### Parâmetros\n",
        "- `original_df` (DataFrame): O DataFrame original com os dados antes da redução de dimensionalidade.\n",
        "- `reconstructed_df` (DataFrame): O DataFrame reconstruído a partir da representação de baixa dimensionalidade.\n",
        "\n",
        "### Retorno\n",
        "- DataFrame com as colunas:\n",
        "  - `Column`: Nome da coluna.\n",
        "  - `MSE`: Erro Quadrático Médio para a coluna.\n",
        "  - `MAE`: Erro Absoluto Médio para a coluna.\n",
        "  - `R²`: Coeficiente de Determinação para a coluna."
      ]
    },
    {
      "cell_type": "code",
      "execution_count": null,
      "metadata": {
        "id": "CDq76d2xB8zd"
      },
      "outputs": [],
      "source": [
        "def compare_dataframes(original_df, reconstructed_df):\n",
        "    results = []\n",
        "\n",
        "    for column in original_df.columns:\n",
        "        mse = mean_squared_error(original_df[column], reconstructed_df[column])\n",
        "        mae = mean_absolute_error(original_df[column], reconstructed_df[column])\n",
        "        r2 = r2_score(original_df[column], reconstructed_df[column])\n",
        "\n",
        "        results.append({\n",
        "            'Column': column,\n",
        "            'MSE': mse,\n",
        "            'MAE': mae,\n",
        "            'R²': r2\n",
        "        })\n",
        "\n",
        "    return pd.DataFrame(results)"
      ]
    },
    {
      "cell_type": "code",
      "execution_count": null,
      "metadata": {
        "id": "n18Ih1kEB8zd"
      },
      "outputs": [],
      "source": [
        "# Aqui você deve ter os dataframes 'data' e 'df_reconstructed'\n",
        "comparison_results = compare_dataframes(data, df_reconstructed)\n",
        "\n",
        "# Exibir os resultados\n",
        "print(comparison_results)\n"
      ]
    },
    {
      "cell_type": "markdown",
      "metadata": {
        "id": "ZA6qMDMvB8zd"
      },
      "source": [
        "### Utilização de Autoencoders com Diferentes Tipos de Dados\n",
        "\n",
        "#### Dados Numéricos Contínuos\n",
        "- **Aplicação:** Autoencoders são altamente eficazes para dados numéricos contínuos, como medidas de temperatura, umidade, preços, etc.\n",
        "- **Vantagens:** Redução de dimensionalidade, extração de características principais e compressão de dados.\n",
        "\n",
        "#### Dados Numéricos Inteiros\n",
        "- **Aplicação:** Autoencoders podem ser usados para dados inteiros que representam quantidades, como idade, contagem de itens, etc.\n",
        "- **Considerações:** Normalização pode ser necessária para melhorar a performance do autoencoder.\n",
        "\n",
        "#### Dados Numéricos que Representam Classes\n",
        "- **Aplicação:** Dados inteiros que representam categorias (como níveis educacionais, códigos de produtos) podem não ser adequados para autoencoders diretamente.\n",
        "- **Observação:** Nesses casos, técnicas de pré-processamento como one-hot encoding ou embeddings são recomendadas.\n",
        "\n",
        "#### Dados Textuais\n",
        "- **Aplicação:** Autoencoders não são diretamente aplicáveis a dados textuais brutos.\n",
        "- **Observação:** Dados textuais precisam ser convertidos em representações numéricas (como embeddings) antes de serem usados com autoencoders.\n",
        "\n",
        "### Conclusão\n",
        "Autoencoders são ferramentas poderosas para a redução de dimensionalidade e extração de características, especialmente com dados numéricos contínuos. Para dados inteiros e categóricos, transformações adicionais podem ser necessárias. Dados textuais requerem etapas de pré-processamento para serem utilizados de forma eficaz com autoencoders.\n"
      ]
    },
    {
      "cell_type": "markdown",
      "metadata": {
        "id": "HTZ_yGqIB8zd"
      },
      "source": [
        "# Exercícios com base de dados preço de casas na California\n"
      ]
    },
    {
      "cell_type": "code",
      "execution_count": null,
      "metadata": {
        "colab": {
          "base_uri": "https://localhost:8080/",
          "height": 206
        },
        "id": "3b1oNGPVB8zd",
        "outputId": "c77e7e3e-ce23-4c54-f157-0fa739125acf"
      },
      "outputs": [
        {
          "output_type": "execute_result",
          "data": {
            "text/plain": [
              "   Unnamed: 0  MedInc  HouseAge  AveRooms  AveBedrms  Population  AveOccup  \\\n",
              "0           0  8.3252      41.0  6.984127   1.023810       322.0  2.555556   \n",
              "1           1  8.3014      21.0  6.238137   0.971880      2401.0  2.109842   \n",
              "2           2  7.2574      52.0  8.288136   1.073446       496.0  2.802260   \n",
              "3           3  5.6431      52.0  5.817352   1.073059       558.0  2.547945   \n",
              "4           4  3.8462      52.0  6.281853   1.081081       565.0  2.181467   \n",
              "\n",
              "   Latitude  Longitude  MedHouseVal  \n",
              "0     37.88    -122.23        4.526  \n",
              "1     37.86    -122.22        3.585  \n",
              "2     37.85    -122.24        3.521  \n",
              "3     37.85    -122.25        3.413  \n",
              "4     37.85    -122.25        3.422  "
            ],
            "text/html": [
              "\n",
              "  <div id=\"df-dc0cf30e-91c2-4ade-9a5d-9e3054593950\" class=\"colab-df-container\">\n",
              "    <div>\n",
              "<style scoped>\n",
              "    .dataframe tbody tr th:only-of-type {\n",
              "        vertical-align: middle;\n",
              "    }\n",
              "\n",
              "    .dataframe tbody tr th {\n",
              "        vertical-align: top;\n",
              "    }\n",
              "\n",
              "    .dataframe thead th {\n",
              "        text-align: right;\n",
              "    }\n",
              "</style>\n",
              "<table border=\"1\" class=\"dataframe\">\n",
              "  <thead>\n",
              "    <tr style=\"text-align: right;\">\n",
              "      <th></th>\n",
              "      <th>Unnamed: 0</th>\n",
              "      <th>MedInc</th>\n",
              "      <th>HouseAge</th>\n",
              "      <th>AveRooms</th>\n",
              "      <th>AveBedrms</th>\n",
              "      <th>Population</th>\n",
              "      <th>AveOccup</th>\n",
              "      <th>Latitude</th>\n",
              "      <th>Longitude</th>\n",
              "      <th>MedHouseVal</th>\n",
              "    </tr>\n",
              "  </thead>\n",
              "  <tbody>\n",
              "    <tr>\n",
              "      <th>0</th>\n",
              "      <td>0</td>\n",
              "      <td>8.3252</td>\n",
              "      <td>41.0</td>\n",
              "      <td>6.984127</td>\n",
              "      <td>1.023810</td>\n",
              "      <td>322.0</td>\n",
              "      <td>2.555556</td>\n",
              "      <td>37.88</td>\n",
              "      <td>-122.23</td>\n",
              "      <td>4.526</td>\n",
              "    </tr>\n",
              "    <tr>\n",
              "      <th>1</th>\n",
              "      <td>1</td>\n",
              "      <td>8.3014</td>\n",
              "      <td>21.0</td>\n",
              "      <td>6.238137</td>\n",
              "      <td>0.971880</td>\n",
              "      <td>2401.0</td>\n",
              "      <td>2.109842</td>\n",
              "      <td>37.86</td>\n",
              "      <td>-122.22</td>\n",
              "      <td>3.585</td>\n",
              "    </tr>\n",
              "    <tr>\n",
              "      <th>2</th>\n",
              "      <td>2</td>\n",
              "      <td>7.2574</td>\n",
              "      <td>52.0</td>\n",
              "      <td>8.288136</td>\n",
              "      <td>1.073446</td>\n",
              "      <td>496.0</td>\n",
              "      <td>2.802260</td>\n",
              "      <td>37.85</td>\n",
              "      <td>-122.24</td>\n",
              "      <td>3.521</td>\n",
              "    </tr>\n",
              "    <tr>\n",
              "      <th>3</th>\n",
              "      <td>3</td>\n",
              "      <td>5.6431</td>\n",
              "      <td>52.0</td>\n",
              "      <td>5.817352</td>\n",
              "      <td>1.073059</td>\n",
              "      <td>558.0</td>\n",
              "      <td>2.547945</td>\n",
              "      <td>37.85</td>\n",
              "      <td>-122.25</td>\n",
              "      <td>3.413</td>\n",
              "    </tr>\n",
              "    <tr>\n",
              "      <th>4</th>\n",
              "      <td>4</td>\n",
              "      <td>3.8462</td>\n",
              "      <td>52.0</td>\n",
              "      <td>6.281853</td>\n",
              "      <td>1.081081</td>\n",
              "      <td>565.0</td>\n",
              "      <td>2.181467</td>\n",
              "      <td>37.85</td>\n",
              "      <td>-122.25</td>\n",
              "      <td>3.422</td>\n",
              "    </tr>\n",
              "  </tbody>\n",
              "</table>\n",
              "</div>\n",
              "    <div class=\"colab-df-buttons\">\n",
              "\n",
              "  <div class=\"colab-df-container\">\n",
              "    <button class=\"colab-df-convert\" onclick=\"convertToInteractive('df-dc0cf30e-91c2-4ade-9a5d-9e3054593950')\"\n",
              "            title=\"Convert this dataframe to an interactive table.\"\n",
              "            style=\"display:none;\">\n",
              "\n",
              "  <svg xmlns=\"http://www.w3.org/2000/svg\" height=\"24px\" viewBox=\"0 -960 960 960\">\n",
              "    <path d=\"M120-120v-720h720v720H120Zm60-500h600v-160H180v160Zm220 220h160v-160H400v160Zm0 220h160v-160H400v160ZM180-400h160v-160H180v160Zm440 0h160v-160H620v160ZM180-180h160v-160H180v160Zm440 0h160v-160H620v160Z\"/>\n",
              "  </svg>\n",
              "    </button>\n",
              "\n",
              "  <style>\n",
              "    .colab-df-container {\n",
              "      display:flex;\n",
              "      gap: 12px;\n",
              "    }\n",
              "\n",
              "    .colab-df-convert {\n",
              "      background-color: #E8F0FE;\n",
              "      border: none;\n",
              "      border-radius: 50%;\n",
              "      cursor: pointer;\n",
              "      display: none;\n",
              "      fill: #1967D2;\n",
              "      height: 32px;\n",
              "      padding: 0 0 0 0;\n",
              "      width: 32px;\n",
              "    }\n",
              "\n",
              "    .colab-df-convert:hover {\n",
              "      background-color: #E2EBFA;\n",
              "      box-shadow: 0px 1px 2px rgba(60, 64, 67, 0.3), 0px 1px 3px 1px rgba(60, 64, 67, 0.15);\n",
              "      fill: #174EA6;\n",
              "    }\n",
              "\n",
              "    .colab-df-buttons div {\n",
              "      margin-bottom: 4px;\n",
              "    }\n",
              "\n",
              "    [theme=dark] .colab-df-convert {\n",
              "      background-color: #3B4455;\n",
              "      fill: #D2E3FC;\n",
              "    }\n",
              "\n",
              "    [theme=dark] .colab-df-convert:hover {\n",
              "      background-color: #434B5C;\n",
              "      box-shadow: 0px 1px 3px 1px rgba(0, 0, 0, 0.15);\n",
              "      filter: drop-shadow(0px 1px 2px rgba(0, 0, 0, 0.3));\n",
              "      fill: #FFFFFF;\n",
              "    }\n",
              "  </style>\n",
              "\n",
              "    <script>\n",
              "      const buttonEl =\n",
              "        document.querySelector('#df-dc0cf30e-91c2-4ade-9a5d-9e3054593950 button.colab-df-convert');\n",
              "      buttonEl.style.display =\n",
              "        google.colab.kernel.accessAllowed ? 'block' : 'none';\n",
              "\n",
              "      async function convertToInteractive(key) {\n",
              "        const element = document.querySelector('#df-dc0cf30e-91c2-4ade-9a5d-9e3054593950');\n",
              "        const dataTable =\n",
              "          await google.colab.kernel.invokeFunction('convertToInteractive',\n",
              "                                                    [key], {});\n",
              "        if (!dataTable) return;\n",
              "\n",
              "        const docLinkHtml = 'Like what you see? Visit the ' +\n",
              "          '<a target=\"_blank\" href=https://colab.research.google.com/notebooks/data_table.ipynb>data table notebook</a>'\n",
              "          + ' to learn more about interactive tables.';\n",
              "        element.innerHTML = '';\n",
              "        dataTable['output_type'] = 'display_data';\n",
              "        await google.colab.output.renderOutput(dataTable, element);\n",
              "        const docLink = document.createElement('div');\n",
              "        docLink.innerHTML = docLinkHtml;\n",
              "        element.appendChild(docLink);\n",
              "      }\n",
              "    </script>\n",
              "  </div>\n",
              "\n",
              "\n",
              "<div id=\"df-6c83d787-e1cc-4f33-a984-f2c9daa44ddf\">\n",
              "  <button class=\"colab-df-quickchart\" onclick=\"quickchart('df-6c83d787-e1cc-4f33-a984-f2c9daa44ddf')\"\n",
              "            title=\"Suggest charts\"\n",
              "            style=\"display:none;\">\n",
              "\n",
              "<svg xmlns=\"http://www.w3.org/2000/svg\" height=\"24px\"viewBox=\"0 0 24 24\"\n",
              "     width=\"24px\">\n",
              "    <g>\n",
              "        <path d=\"M19 3H5c-1.1 0-2 .9-2 2v14c0 1.1.9 2 2 2h14c1.1 0 2-.9 2-2V5c0-1.1-.9-2-2-2zM9 17H7v-7h2v7zm4 0h-2V7h2v10zm4 0h-2v-4h2v4z\"/>\n",
              "    </g>\n",
              "</svg>\n",
              "  </button>\n",
              "\n",
              "<style>\n",
              "  .colab-df-quickchart {\n",
              "      --bg-color: #E8F0FE;\n",
              "      --fill-color: #1967D2;\n",
              "      --hover-bg-color: #E2EBFA;\n",
              "      --hover-fill-color: #174EA6;\n",
              "      --disabled-fill-color: #AAA;\n",
              "      --disabled-bg-color: #DDD;\n",
              "  }\n",
              "\n",
              "  [theme=dark] .colab-df-quickchart {\n",
              "      --bg-color: #3B4455;\n",
              "      --fill-color: #D2E3FC;\n",
              "      --hover-bg-color: #434B5C;\n",
              "      --hover-fill-color: #FFFFFF;\n",
              "      --disabled-bg-color: #3B4455;\n",
              "      --disabled-fill-color: #666;\n",
              "  }\n",
              "\n",
              "  .colab-df-quickchart {\n",
              "    background-color: var(--bg-color);\n",
              "    border: none;\n",
              "    border-radius: 50%;\n",
              "    cursor: pointer;\n",
              "    display: none;\n",
              "    fill: var(--fill-color);\n",
              "    height: 32px;\n",
              "    padding: 0;\n",
              "    width: 32px;\n",
              "  }\n",
              "\n",
              "  .colab-df-quickchart:hover {\n",
              "    background-color: var(--hover-bg-color);\n",
              "    box-shadow: 0 1px 2px rgba(60, 64, 67, 0.3), 0 1px 3px 1px rgba(60, 64, 67, 0.15);\n",
              "    fill: var(--button-hover-fill-color);\n",
              "  }\n",
              "\n",
              "  .colab-df-quickchart-complete:disabled,\n",
              "  .colab-df-quickchart-complete:disabled:hover {\n",
              "    background-color: var(--disabled-bg-color);\n",
              "    fill: var(--disabled-fill-color);\n",
              "    box-shadow: none;\n",
              "  }\n",
              "\n",
              "  .colab-df-spinner {\n",
              "    border: 2px solid var(--fill-color);\n",
              "    border-color: transparent;\n",
              "    border-bottom-color: var(--fill-color);\n",
              "    animation:\n",
              "      spin 1s steps(1) infinite;\n",
              "  }\n",
              "\n",
              "  @keyframes spin {\n",
              "    0% {\n",
              "      border-color: transparent;\n",
              "      border-bottom-color: var(--fill-color);\n",
              "      border-left-color: var(--fill-color);\n",
              "    }\n",
              "    20% {\n",
              "      border-color: transparent;\n",
              "      border-left-color: var(--fill-color);\n",
              "      border-top-color: var(--fill-color);\n",
              "    }\n",
              "    30% {\n",
              "      border-color: transparent;\n",
              "      border-left-color: var(--fill-color);\n",
              "      border-top-color: var(--fill-color);\n",
              "      border-right-color: var(--fill-color);\n",
              "    }\n",
              "    40% {\n",
              "      border-color: transparent;\n",
              "      border-right-color: var(--fill-color);\n",
              "      border-top-color: var(--fill-color);\n",
              "    }\n",
              "    60% {\n",
              "      border-color: transparent;\n",
              "      border-right-color: var(--fill-color);\n",
              "    }\n",
              "    80% {\n",
              "      border-color: transparent;\n",
              "      border-right-color: var(--fill-color);\n",
              "      border-bottom-color: var(--fill-color);\n",
              "    }\n",
              "    90% {\n",
              "      border-color: transparent;\n",
              "      border-bottom-color: var(--fill-color);\n",
              "    }\n",
              "  }\n",
              "</style>\n",
              "\n",
              "  <script>\n",
              "    async function quickchart(key) {\n",
              "      const quickchartButtonEl =\n",
              "        document.querySelector('#' + key + ' button');\n",
              "      quickchartButtonEl.disabled = true;  // To prevent multiple clicks.\n",
              "      quickchartButtonEl.classList.add('colab-df-spinner');\n",
              "      try {\n",
              "        const charts = await google.colab.kernel.invokeFunction(\n",
              "            'suggestCharts', [key], {});\n",
              "      } catch (error) {\n",
              "        console.error('Error during call to suggestCharts:', error);\n",
              "      }\n",
              "      quickchartButtonEl.classList.remove('colab-df-spinner');\n",
              "      quickchartButtonEl.classList.add('colab-df-quickchart-complete');\n",
              "    }\n",
              "    (() => {\n",
              "      let quickchartButtonEl =\n",
              "        document.querySelector('#df-6c83d787-e1cc-4f33-a984-f2c9daa44ddf button');\n",
              "      quickchartButtonEl.style.display =\n",
              "        google.colab.kernel.accessAllowed ? 'block' : 'none';\n",
              "    })();\n",
              "  </script>\n",
              "</div>\n",
              "    </div>\n",
              "  </div>\n"
            ],
            "application/vnd.google.colaboratory.intrinsic+json": {
              "type": "dataframe",
              "variable_name": "df",
              "summary": "{\n  \"name\": \"df\",\n  \"rows\": 20640,\n  \"fields\": [\n    {\n      \"column\": \"Unnamed: 0\",\n      \"properties\": {\n        \"dtype\": \"number\",\n        \"std\": 5958,\n        \"min\": 0,\n        \"max\": 20639,\n        \"num_unique_values\": 20640,\n        \"samples\": [\n          20046,\n          3024,\n          15663\n        ],\n        \"semantic_type\": \"\",\n        \"description\": \"\"\n      }\n    },\n    {\n      \"column\": \"MedInc\",\n      \"properties\": {\n        \"dtype\": \"number\",\n        \"std\": 1.8998217179452688,\n        \"min\": 0.4999,\n        \"max\": 15.0001,\n        \"num_unique_values\": 12928,\n        \"samples\": [\n          5.0286,\n          2.0433,\n          6.1228\n        ],\n        \"semantic_type\": \"\",\n        \"description\": \"\"\n      }\n    },\n    {\n      \"column\": \"HouseAge\",\n      \"properties\": {\n        \"dtype\": \"number\",\n        \"std\": 12.58555761211165,\n        \"min\": 1.0,\n        \"max\": 52.0,\n        \"num_unique_values\": 52,\n        \"samples\": [\n          35.0,\n          25.0,\n          7.0\n        ],\n        \"semantic_type\": \"\",\n        \"description\": \"\"\n      }\n    },\n    {\n      \"column\": \"AveRooms\",\n      \"properties\": {\n        \"dtype\": \"number\",\n        \"std\": 2.4741731394243187,\n        \"min\": 0.8461538461538461,\n        \"max\": 141.9090909090909,\n        \"num_unique_values\": 19392,\n        \"samples\": [\n          6.111269614835948,\n          5.912820512820513,\n          5.79245283018868\n        ],\n        \"semantic_type\": \"\",\n        \"description\": \"\"\n      }\n    },\n    {\n      \"column\": \"AveBedrms\",\n      \"properties\": {\n        \"dtype\": \"number\",\n        \"std\": 0.4739108567954661,\n        \"min\": 0.3333333333333333,\n        \"max\": 34.06666666666667,\n        \"num_unique_values\": 14233,\n        \"samples\": [\n          0.9906542056074766,\n          1.112099644128114,\n          1.0398230088495577\n        ],\n        \"semantic_type\": \"\",\n        \"description\": \"\"\n      }\n    },\n    {\n      \"column\": \"Population\",\n      \"properties\": {\n        \"dtype\": \"number\",\n        \"std\": 1132.462121765341,\n        \"min\": 3.0,\n        \"max\": 35682.0,\n        \"num_unique_values\": 3888,\n        \"samples\": [\n          4169.0,\n          636.0,\n          3367.0\n        ],\n        \"semantic_type\": \"\",\n        \"description\": \"\"\n      }\n    },\n    {\n      \"column\": \"AveOccup\",\n      \"properties\": {\n        \"dtype\": \"number\",\n        \"std\": 10.386049562213618,\n        \"min\": 0.6923076923076923,\n        \"max\": 1243.3333333333333,\n        \"num_unique_values\": 18841,\n        \"samples\": [\n          2.693979933110368,\n          3.559375,\n          3.297082228116711\n        ],\n        \"semantic_type\": \"\",\n        \"description\": \"\"\n      }\n    },\n    {\n      \"column\": \"Latitude\",\n      \"properties\": {\n        \"dtype\": \"number\",\n        \"std\": 2.1359523974571153,\n        \"min\": 32.54,\n        \"max\": 41.95,\n        \"num_unique_values\": 862,\n        \"samples\": [\n          33.7,\n          34.41,\n          38.24\n        ],\n        \"semantic_type\": \"\",\n        \"description\": \"\"\n      }\n    },\n    {\n      \"column\": \"Longitude\",\n      \"properties\": {\n        \"dtype\": \"number\",\n        \"std\": 2.0035317235025882,\n        \"min\": -124.35,\n        \"max\": -114.31,\n        \"num_unique_values\": 844,\n        \"samples\": [\n          -118.63,\n          -119.86,\n          -121.26\n        ],\n        \"semantic_type\": \"\",\n        \"description\": \"\"\n      }\n    },\n    {\n      \"column\": \"MedHouseVal\",\n      \"properties\": {\n        \"dtype\": \"number\",\n        \"std\": 1.1539561587441387,\n        \"min\": 0.14999,\n        \"max\": 5.00001,\n        \"num_unique_values\": 3842,\n        \"samples\": [\n          1.943,\n          3.79,\n          2.301\n        ],\n        \"semantic_type\": \"\",\n        \"description\": \"\"\n      }\n    }\n  ]\n}"
            }
          },
          "metadata": {},
          "execution_count": 4
        }
      ],
      "source": [
        "df = pd.read_csv('housing.csv')\n",
        "df.head()"
      ]
    },
    {
      "cell_type": "code",
      "execution_count": null,
      "metadata": {
        "colab": {
          "base_uri": "https://localhost:8080/"
        },
        "id": "TJYVDFdvB8zd",
        "outputId": "75fbcd34-7a62-49be-924c-505df4a15105"
      },
      "outputs": [
        {
          "output_type": "stream",
          "name": "stdout",
          "text": [
            "<class 'pandas.core.frame.DataFrame'>\n",
            "RangeIndex: 20640 entries, 0 to 20639\n",
            "Data columns (total 10 columns):\n",
            " #   Column       Non-Null Count  Dtype  \n",
            "---  ------       --------------  -----  \n",
            " 0   Unnamed: 0   20640 non-null  int64  \n",
            " 1   MedInc       20640 non-null  float64\n",
            " 2   HouseAge     20640 non-null  float64\n",
            " 3   AveRooms     20640 non-null  float64\n",
            " 4   AveBedrms    20640 non-null  float64\n",
            " 5   Population   20640 non-null  float64\n",
            " 6   AveOccup     20640 non-null  float64\n",
            " 7   Latitude     20640 non-null  float64\n",
            " 8   Longitude    20640 non-null  float64\n",
            " 9   MedHouseVal  20640 non-null  float64\n",
            "dtypes: float64(9), int64(1)\n",
            "memory usage: 1.6 MB\n"
          ]
        }
      ],
      "source": [
        "df.info()"
      ]
    },
    {
      "cell_type": "code",
      "execution_count": null,
      "metadata": {
        "colab": {
          "base_uri": "https://localhost:8080/",
          "height": 300
        },
        "id": "AABIRK9nB8zd",
        "outputId": "e3619041-8c51-40f2-a56a-ddd6f4556abe"
      },
      "outputs": [
        {
          "output_type": "execute_result",
          "data": {
            "text/plain": [
              "         Unnamed: 0        MedInc      HouseAge      AveRooms     AveBedrms  \\\n",
              "count  20640.000000  20640.000000  20640.000000  20640.000000  20640.000000   \n",
              "mean   10319.500000      3.870671     28.639486      5.429000      1.096675   \n",
              "std     5958.399114      1.899822     12.585558      2.474173      0.473911   \n",
              "min        0.000000      0.499900      1.000000      0.846154      0.333333   \n",
              "25%     5159.750000      2.563400     18.000000      4.440716      1.006079   \n",
              "50%    10319.500000      3.534800     29.000000      5.229129      1.048780   \n",
              "75%    15479.250000      4.743250     37.000000      6.052381      1.099526   \n",
              "max    20639.000000     15.000100     52.000000    141.909091     34.066667   \n",
              "\n",
              "         Population      AveOccup      Latitude     Longitude   MedHouseVal  \n",
              "count  20640.000000  20640.000000  20640.000000  20640.000000  20640.000000  \n",
              "mean    1425.476744      3.070655     35.631861   -119.569704      2.068558  \n",
              "std     1132.462122     10.386050      2.135952      2.003532      1.153956  \n",
              "min        3.000000      0.692308     32.540000   -124.350000      0.149990  \n",
              "25%      787.000000      2.429741     33.930000   -121.800000      1.196000  \n",
              "50%     1166.000000      2.818116     34.260000   -118.490000      1.797000  \n",
              "75%     1725.000000      3.282261     37.710000   -118.010000      2.647250  \n",
              "max    35682.000000   1243.333333     41.950000   -114.310000      5.000010  "
            ],
            "text/html": [
              "\n",
              "  <div id=\"df-5ce3340a-6e3e-4fe1-8554-c7f0055313b7\" class=\"colab-df-container\">\n",
              "    <div>\n",
              "<style scoped>\n",
              "    .dataframe tbody tr th:only-of-type {\n",
              "        vertical-align: middle;\n",
              "    }\n",
              "\n",
              "    .dataframe tbody tr th {\n",
              "        vertical-align: top;\n",
              "    }\n",
              "\n",
              "    .dataframe thead th {\n",
              "        text-align: right;\n",
              "    }\n",
              "</style>\n",
              "<table border=\"1\" class=\"dataframe\">\n",
              "  <thead>\n",
              "    <tr style=\"text-align: right;\">\n",
              "      <th></th>\n",
              "      <th>Unnamed: 0</th>\n",
              "      <th>MedInc</th>\n",
              "      <th>HouseAge</th>\n",
              "      <th>AveRooms</th>\n",
              "      <th>AveBedrms</th>\n",
              "      <th>Population</th>\n",
              "      <th>AveOccup</th>\n",
              "      <th>Latitude</th>\n",
              "      <th>Longitude</th>\n",
              "      <th>MedHouseVal</th>\n",
              "    </tr>\n",
              "  </thead>\n",
              "  <tbody>\n",
              "    <tr>\n",
              "      <th>count</th>\n",
              "      <td>20640.000000</td>\n",
              "      <td>20640.000000</td>\n",
              "      <td>20640.000000</td>\n",
              "      <td>20640.000000</td>\n",
              "      <td>20640.000000</td>\n",
              "      <td>20640.000000</td>\n",
              "      <td>20640.000000</td>\n",
              "      <td>20640.000000</td>\n",
              "      <td>20640.000000</td>\n",
              "      <td>20640.000000</td>\n",
              "    </tr>\n",
              "    <tr>\n",
              "      <th>mean</th>\n",
              "      <td>10319.500000</td>\n",
              "      <td>3.870671</td>\n",
              "      <td>28.639486</td>\n",
              "      <td>5.429000</td>\n",
              "      <td>1.096675</td>\n",
              "      <td>1425.476744</td>\n",
              "      <td>3.070655</td>\n",
              "      <td>35.631861</td>\n",
              "      <td>-119.569704</td>\n",
              "      <td>2.068558</td>\n",
              "    </tr>\n",
              "    <tr>\n",
              "      <th>std</th>\n",
              "      <td>5958.399114</td>\n",
              "      <td>1.899822</td>\n",
              "      <td>12.585558</td>\n",
              "      <td>2.474173</td>\n",
              "      <td>0.473911</td>\n",
              "      <td>1132.462122</td>\n",
              "      <td>10.386050</td>\n",
              "      <td>2.135952</td>\n",
              "      <td>2.003532</td>\n",
              "      <td>1.153956</td>\n",
              "    </tr>\n",
              "    <tr>\n",
              "      <th>min</th>\n",
              "      <td>0.000000</td>\n",
              "      <td>0.499900</td>\n",
              "      <td>1.000000</td>\n",
              "      <td>0.846154</td>\n",
              "      <td>0.333333</td>\n",
              "      <td>3.000000</td>\n",
              "      <td>0.692308</td>\n",
              "      <td>32.540000</td>\n",
              "      <td>-124.350000</td>\n",
              "      <td>0.149990</td>\n",
              "    </tr>\n",
              "    <tr>\n",
              "      <th>25%</th>\n",
              "      <td>5159.750000</td>\n",
              "      <td>2.563400</td>\n",
              "      <td>18.000000</td>\n",
              "      <td>4.440716</td>\n",
              "      <td>1.006079</td>\n",
              "      <td>787.000000</td>\n",
              "      <td>2.429741</td>\n",
              "      <td>33.930000</td>\n",
              "      <td>-121.800000</td>\n",
              "      <td>1.196000</td>\n",
              "    </tr>\n",
              "    <tr>\n",
              "      <th>50%</th>\n",
              "      <td>10319.500000</td>\n",
              "      <td>3.534800</td>\n",
              "      <td>29.000000</td>\n",
              "      <td>5.229129</td>\n",
              "      <td>1.048780</td>\n",
              "      <td>1166.000000</td>\n",
              "      <td>2.818116</td>\n",
              "      <td>34.260000</td>\n",
              "      <td>-118.490000</td>\n",
              "      <td>1.797000</td>\n",
              "    </tr>\n",
              "    <tr>\n",
              "      <th>75%</th>\n",
              "      <td>15479.250000</td>\n",
              "      <td>4.743250</td>\n",
              "      <td>37.000000</td>\n",
              "      <td>6.052381</td>\n",
              "      <td>1.099526</td>\n",
              "      <td>1725.000000</td>\n",
              "      <td>3.282261</td>\n",
              "      <td>37.710000</td>\n",
              "      <td>-118.010000</td>\n",
              "      <td>2.647250</td>\n",
              "    </tr>\n",
              "    <tr>\n",
              "      <th>max</th>\n",
              "      <td>20639.000000</td>\n",
              "      <td>15.000100</td>\n",
              "      <td>52.000000</td>\n",
              "      <td>141.909091</td>\n",
              "      <td>34.066667</td>\n",
              "      <td>35682.000000</td>\n",
              "      <td>1243.333333</td>\n",
              "      <td>41.950000</td>\n",
              "      <td>-114.310000</td>\n",
              "      <td>5.000010</td>\n",
              "    </tr>\n",
              "  </tbody>\n",
              "</table>\n",
              "</div>\n",
              "    <div class=\"colab-df-buttons\">\n",
              "\n",
              "  <div class=\"colab-df-container\">\n",
              "    <button class=\"colab-df-convert\" onclick=\"convertToInteractive('df-5ce3340a-6e3e-4fe1-8554-c7f0055313b7')\"\n",
              "            title=\"Convert this dataframe to an interactive table.\"\n",
              "            style=\"display:none;\">\n",
              "\n",
              "  <svg xmlns=\"http://www.w3.org/2000/svg\" height=\"24px\" viewBox=\"0 -960 960 960\">\n",
              "    <path d=\"M120-120v-720h720v720H120Zm60-500h600v-160H180v160Zm220 220h160v-160H400v160Zm0 220h160v-160H400v160ZM180-400h160v-160H180v160Zm440 0h160v-160H620v160ZM180-180h160v-160H180v160Zm440 0h160v-160H620v160Z\"/>\n",
              "  </svg>\n",
              "    </button>\n",
              "\n",
              "  <style>\n",
              "    .colab-df-container {\n",
              "      display:flex;\n",
              "      gap: 12px;\n",
              "    }\n",
              "\n",
              "    .colab-df-convert {\n",
              "      background-color: #E8F0FE;\n",
              "      border: none;\n",
              "      border-radius: 50%;\n",
              "      cursor: pointer;\n",
              "      display: none;\n",
              "      fill: #1967D2;\n",
              "      height: 32px;\n",
              "      padding: 0 0 0 0;\n",
              "      width: 32px;\n",
              "    }\n",
              "\n",
              "    .colab-df-convert:hover {\n",
              "      background-color: #E2EBFA;\n",
              "      box-shadow: 0px 1px 2px rgba(60, 64, 67, 0.3), 0px 1px 3px 1px rgba(60, 64, 67, 0.15);\n",
              "      fill: #174EA6;\n",
              "    }\n",
              "\n",
              "    .colab-df-buttons div {\n",
              "      margin-bottom: 4px;\n",
              "    }\n",
              "\n",
              "    [theme=dark] .colab-df-convert {\n",
              "      background-color: #3B4455;\n",
              "      fill: #D2E3FC;\n",
              "    }\n",
              "\n",
              "    [theme=dark] .colab-df-convert:hover {\n",
              "      background-color: #434B5C;\n",
              "      box-shadow: 0px 1px 3px 1px rgba(0, 0, 0, 0.15);\n",
              "      filter: drop-shadow(0px 1px 2px rgba(0, 0, 0, 0.3));\n",
              "      fill: #FFFFFF;\n",
              "    }\n",
              "  </style>\n",
              "\n",
              "    <script>\n",
              "      const buttonEl =\n",
              "        document.querySelector('#df-5ce3340a-6e3e-4fe1-8554-c7f0055313b7 button.colab-df-convert');\n",
              "      buttonEl.style.display =\n",
              "        google.colab.kernel.accessAllowed ? 'block' : 'none';\n",
              "\n",
              "      async function convertToInteractive(key) {\n",
              "        const element = document.querySelector('#df-5ce3340a-6e3e-4fe1-8554-c7f0055313b7');\n",
              "        const dataTable =\n",
              "          await google.colab.kernel.invokeFunction('convertToInteractive',\n",
              "                                                    [key], {});\n",
              "        if (!dataTable) return;\n",
              "\n",
              "        const docLinkHtml = 'Like what you see? Visit the ' +\n",
              "          '<a target=\"_blank\" href=https://colab.research.google.com/notebooks/data_table.ipynb>data table notebook</a>'\n",
              "          + ' to learn more about interactive tables.';\n",
              "        element.innerHTML = '';\n",
              "        dataTable['output_type'] = 'display_data';\n",
              "        await google.colab.output.renderOutput(dataTable, element);\n",
              "        const docLink = document.createElement('div');\n",
              "        docLink.innerHTML = docLinkHtml;\n",
              "        element.appendChild(docLink);\n",
              "      }\n",
              "    </script>\n",
              "  </div>\n",
              "\n",
              "\n",
              "<div id=\"df-f1debac7-050a-462e-85f6-fdc4f9627a8a\">\n",
              "  <button class=\"colab-df-quickchart\" onclick=\"quickchart('df-f1debac7-050a-462e-85f6-fdc4f9627a8a')\"\n",
              "            title=\"Suggest charts\"\n",
              "            style=\"display:none;\">\n",
              "\n",
              "<svg xmlns=\"http://www.w3.org/2000/svg\" height=\"24px\"viewBox=\"0 0 24 24\"\n",
              "     width=\"24px\">\n",
              "    <g>\n",
              "        <path d=\"M19 3H5c-1.1 0-2 .9-2 2v14c0 1.1.9 2 2 2h14c1.1 0 2-.9 2-2V5c0-1.1-.9-2-2-2zM9 17H7v-7h2v7zm4 0h-2V7h2v10zm4 0h-2v-4h2v4z\"/>\n",
              "    </g>\n",
              "</svg>\n",
              "  </button>\n",
              "\n",
              "<style>\n",
              "  .colab-df-quickchart {\n",
              "      --bg-color: #E8F0FE;\n",
              "      --fill-color: #1967D2;\n",
              "      --hover-bg-color: #E2EBFA;\n",
              "      --hover-fill-color: #174EA6;\n",
              "      --disabled-fill-color: #AAA;\n",
              "      --disabled-bg-color: #DDD;\n",
              "  }\n",
              "\n",
              "  [theme=dark] .colab-df-quickchart {\n",
              "      --bg-color: #3B4455;\n",
              "      --fill-color: #D2E3FC;\n",
              "      --hover-bg-color: #434B5C;\n",
              "      --hover-fill-color: #FFFFFF;\n",
              "      --disabled-bg-color: #3B4455;\n",
              "      --disabled-fill-color: #666;\n",
              "  }\n",
              "\n",
              "  .colab-df-quickchart {\n",
              "    background-color: var(--bg-color);\n",
              "    border: none;\n",
              "    border-radius: 50%;\n",
              "    cursor: pointer;\n",
              "    display: none;\n",
              "    fill: var(--fill-color);\n",
              "    height: 32px;\n",
              "    padding: 0;\n",
              "    width: 32px;\n",
              "  }\n",
              "\n",
              "  .colab-df-quickchart:hover {\n",
              "    background-color: var(--hover-bg-color);\n",
              "    box-shadow: 0 1px 2px rgba(60, 64, 67, 0.3), 0 1px 3px 1px rgba(60, 64, 67, 0.15);\n",
              "    fill: var(--button-hover-fill-color);\n",
              "  }\n",
              "\n",
              "  .colab-df-quickchart-complete:disabled,\n",
              "  .colab-df-quickchart-complete:disabled:hover {\n",
              "    background-color: var(--disabled-bg-color);\n",
              "    fill: var(--disabled-fill-color);\n",
              "    box-shadow: none;\n",
              "  }\n",
              "\n",
              "  .colab-df-spinner {\n",
              "    border: 2px solid var(--fill-color);\n",
              "    border-color: transparent;\n",
              "    border-bottom-color: var(--fill-color);\n",
              "    animation:\n",
              "      spin 1s steps(1) infinite;\n",
              "  }\n",
              "\n",
              "  @keyframes spin {\n",
              "    0% {\n",
              "      border-color: transparent;\n",
              "      border-bottom-color: var(--fill-color);\n",
              "      border-left-color: var(--fill-color);\n",
              "    }\n",
              "    20% {\n",
              "      border-color: transparent;\n",
              "      border-left-color: var(--fill-color);\n",
              "      border-top-color: var(--fill-color);\n",
              "    }\n",
              "    30% {\n",
              "      border-color: transparent;\n",
              "      border-left-color: var(--fill-color);\n",
              "      border-top-color: var(--fill-color);\n",
              "      border-right-color: var(--fill-color);\n",
              "    }\n",
              "    40% {\n",
              "      border-color: transparent;\n",
              "      border-right-color: var(--fill-color);\n",
              "      border-top-color: var(--fill-color);\n",
              "    }\n",
              "    60% {\n",
              "      border-color: transparent;\n",
              "      border-right-color: var(--fill-color);\n",
              "    }\n",
              "    80% {\n",
              "      border-color: transparent;\n",
              "      border-right-color: var(--fill-color);\n",
              "      border-bottom-color: var(--fill-color);\n",
              "    }\n",
              "    90% {\n",
              "      border-color: transparent;\n",
              "      border-bottom-color: var(--fill-color);\n",
              "    }\n",
              "  }\n",
              "</style>\n",
              "\n",
              "  <script>\n",
              "    async function quickchart(key) {\n",
              "      const quickchartButtonEl =\n",
              "        document.querySelector('#' + key + ' button');\n",
              "      quickchartButtonEl.disabled = true;  // To prevent multiple clicks.\n",
              "      quickchartButtonEl.classList.add('colab-df-spinner');\n",
              "      try {\n",
              "        const charts = await google.colab.kernel.invokeFunction(\n",
              "            'suggestCharts', [key], {});\n",
              "      } catch (error) {\n",
              "        console.error('Error during call to suggestCharts:', error);\n",
              "      }\n",
              "      quickchartButtonEl.classList.remove('colab-df-spinner');\n",
              "      quickchartButtonEl.classList.add('colab-df-quickchart-complete');\n",
              "    }\n",
              "    (() => {\n",
              "      let quickchartButtonEl =\n",
              "        document.querySelector('#df-f1debac7-050a-462e-85f6-fdc4f9627a8a button');\n",
              "      quickchartButtonEl.style.display =\n",
              "        google.colab.kernel.accessAllowed ? 'block' : 'none';\n",
              "    })();\n",
              "  </script>\n",
              "</div>\n",
              "    </div>\n",
              "  </div>\n"
            ],
            "application/vnd.google.colaboratory.intrinsic+json": {
              "type": "dataframe",
              "summary": "{\n  \"name\": \"df\",\n  \"rows\": 8,\n  \"fields\": [\n    {\n      \"column\": \"Unnamed: 0\",\n      \"properties\": {\n        \"dtype\": \"number\",\n        \"std\": 7438.536886563374,\n        \"min\": 0.0,\n        \"max\": 20640.0,\n        \"num_unique_values\": 7,\n        \"samples\": [\n          20640.0,\n          10319.5,\n          15479.25\n        ],\n        \"semantic_type\": \"\",\n        \"description\": \"\"\n      }\n    },\n    {\n      \"column\": \"MedInc\",\n      \"properties\": {\n        \"dtype\": \"number\",\n        \"std\": 7295.7214358536385,\n        \"min\": 0.4999,\n        \"max\": 20640.0,\n        \"num_unique_values\": 8,\n        \"samples\": [\n          3.8706710029069766,\n          3.5347999999999997,\n          20640.0\n        ],\n        \"semantic_type\": \"\",\n        \"description\": \"\"\n      }\n    },\n    {\n      \"column\": \"HouseAge\",\n      \"properties\": {\n        \"dtype\": \"number\",\n        \"std\": 7288.35672120143,\n        \"min\": 1.0,\n        \"max\": 20640.0,\n        \"num_unique_values\": 8,\n        \"samples\": [\n          28.639486434108527,\n          29.0,\n          20640.0\n        ],\n        \"semantic_type\": \"\",\n        \"description\": \"\"\n      }\n    },\n    {\n      \"column\": \"AveRooms\",\n      \"properties\": {\n        \"dtype\": \"number\",\n        \"std\": 7289.098256602403,\n        \"min\": 0.8461538461538461,\n        \"max\": 20640.0,\n        \"num_unique_values\": 8,\n        \"samples\": [\n          5.428999742190376,\n          5.229128787878788,\n          20640.0\n        ],\n        \"semantic_type\": \"\",\n        \"description\": \"\"\n      }\n    },\n    {\n      \"column\": \"AveBedrms\",\n      \"properties\": {\n        \"dtype\": \"number\",\n        \"std\": 7295.375141615938,\n        \"min\": 0.3333333333333333,\n        \"max\": 20640.0,\n        \"num_unique_values\": 8,\n        \"samples\": [\n          1.096675149606208,\n          1.048780487804878,\n          20640.0\n        ],\n        \"semantic_type\": \"\",\n        \"description\": \"\"\n      }\n    },\n    {\n      \"column\": \"Population\",\n      \"properties\": {\n        \"dtype\": \"number\",\n        \"std\": 13192.258841737372,\n        \"min\": 3.0,\n        \"max\": 35682.0,\n        \"num_unique_values\": 8,\n        \"samples\": [\n          1425.4767441860465,\n          1166.0,\n          20640.0\n        ],\n        \"semantic_type\": \"\",\n        \"description\": \"\"\n      }\n    },\n    {\n      \"column\": \"AveOccup\",\n      \"properties\": {\n        \"dtype\": \"number\",\n        \"std\": 7246.392673190071,\n        \"min\": 0.6923076923076923,\n        \"max\": 20640.0,\n        \"num_unique_values\": 8,\n        \"samples\": [\n          3.0706551594363742,\n          2.818115654360196,\n          20640.0\n        ],\n        \"semantic_type\": \"\",\n        \"description\": \"\"\n      }\n    },\n    {\n      \"column\": \"Latitude\",\n      \"properties\": {\n        \"dtype\": \"number\",\n        \"std\": 7286.333552413666,\n        \"min\": 2.1359523974571153,\n        \"max\": 20640.0,\n        \"num_unique_values\": 8,\n        \"samples\": [\n          35.63186143410853,\n          34.26,\n          20640.0\n        ],\n        \"semantic_type\": \"\",\n        \"description\": \"\"\n      }\n    },\n    {\n      \"column\": \"Longitude\",\n      \"properties\": {\n        \"dtype\": \"number\",\n        \"std\": 7333.554670164394,\n        \"min\": -124.35,\n        \"max\": 20640.0,\n        \"num_unique_values\": 8,\n        \"samples\": [\n          -119.56970445736432,\n          -118.49,\n          20640.0\n        ],\n        \"semantic_type\": \"\",\n        \"description\": \"\"\n      }\n    },\n    {\n      \"column\": \"MedHouseVal\",\n      \"properties\": {\n        \"dtype\": \"number\",\n        \"std\": 7296.634369861169,\n        \"min\": 0.14999,\n        \"max\": 20640.0,\n        \"num_unique_values\": 8,\n        \"samples\": [\n          2.068558169089147,\n          1.797,\n          20640.0\n        ],\n        \"semantic_type\": \"\",\n        \"description\": \"\"\n      }\n    }\n  ]\n}"
            }
          },
          "metadata": {},
          "execution_count": 6
        }
      ],
      "source": [
        "df.describe()"
      ]
    },
    {
      "cell_type": "markdown",
      "metadata": {
        "id": "4kHYlm5GB8ze"
      },
      "source": [
        "1 - Exclua as colunas 'Unnamed: 0', 'Latitude' e 'Longitude'.\n",
        "\n"
      ]
    },
    {
      "cell_type": "code",
      "execution_count": null,
      "metadata": {
        "id": "A-Kb6a9GB8ze"
      },
      "outputs": [],
      "source": [
        "import pandas as pd\n",
        "from sklearn.preprocessing import MinMaxScaler\n",
        "from tensorflow.keras.layers import Input, Dense\n",
        "from tensorflow.keras.models import Model\n",
        "from sklearn.metrics import mean_squared_error, mean_absolute_error, r2_score"
      ]
    },
    {
      "cell_type": "code",
      "source": [
        "df_cleaned = df.drop(columns=['Unnamed: 0', 'Latitude', 'Longitude'])"
      ],
      "metadata": {
        "id": "CIYncpAqEBEY"
      },
      "execution_count": null,
      "outputs": []
    },
    {
      "cell_type": "markdown",
      "metadata": {
        "id": "BPNdHbMmB8ze"
      },
      "source": [
        "2 - Normalize a base de dados com MinMaxScaler.\n",
        "\n"
      ]
    },
    {
      "cell_type": "code",
      "execution_count": null,
      "metadata": {
        "id": "_nsBCwgUB8ze"
      },
      "outputs": [],
      "source": [
        "scaler = MinMaxScaler()\n",
        "\n",
        "df_normalized = pd.DataFrame(scaler.fit_transform(df_cleaned), columns=df_cleaned.columns)"
      ]
    },
    {
      "cell_type": "markdown",
      "metadata": {
        "id": "HfRUDeLJB8ze"
      },
      "source": [
        "3 - Defina e compile um modelo de autoencoder para reduzir para 3 colunas (encoding_dim = 3).\n",
        "\n"
      ]
    },
    {
      "cell_type": "code",
      "execution_count": null,
      "metadata": {
        "id": "pEA7IfwWB8ze"
      },
      "outputs": [],
      "source": [
        "encoding_dim = 3\n",
        "\n",
        "input_dim = df_normalized.shape[1]\n",
        "\n",
        "input_layer = Input(shape=(input_dim,))\n",
        "encoder = Dense(encoding_dim, activation='relu')(input_layer)\n",
        "decoder = Dense(input_dim, activation='sigmoid')(encoder)\n",
        "\n",
        "autoencoder = Model(inputs=input_layer, outputs=decoder)\n",
        "autoencoder.compile(optimizer='adam', loss='mse')"
      ]
    },
    {
      "cell_type": "markdown",
      "metadata": {
        "id": "Vuktk4oPB8ze"
      },
      "source": [
        "4 - Treine o modelo por 50 épocas com batch_size de 64.\n",
        "\n"
      ]
    },
    {
      "cell_type": "code",
      "execution_count": null,
      "metadata": {
        "colab": {
          "base_uri": "https://localhost:8080/"
        },
        "id": "xwpSYOynB8ze",
        "outputId": "5274e94b-d4c6-42dc-9cd4-bb906169d8d2"
      },
      "outputs": [
        {
          "output_type": "stream",
          "name": "stdout",
          "text": [
            "Epoch 1/50\n",
            "323/323 [==============================] - 2s 2ms/step - loss: 0.1135\n",
            "Epoch 2/50\n",
            "323/323 [==============================] - 1s 2ms/step - loss: 0.0353\n",
            "Epoch 3/50\n",
            "323/323 [==============================] - 1s 2ms/step - loss: 0.0179\n",
            "Epoch 4/50\n",
            "323/323 [==============================] - 1s 2ms/step - loss: 0.0138\n",
            "Epoch 5/50\n",
            "323/323 [==============================] - 1s 2ms/step - loss: 0.0108\n",
            "Epoch 6/50\n",
            "323/323 [==============================] - 1s 2ms/step - loss: 0.0086\n",
            "Epoch 7/50\n",
            "323/323 [==============================] - 1s 2ms/step - loss: 0.0070\n",
            "Epoch 8/50\n",
            "323/323 [==============================] - 1s 2ms/step - loss: 0.0059\n",
            "Epoch 9/50\n",
            "323/323 [==============================] - 1s 3ms/step - loss: 0.0049\n",
            "Epoch 10/50\n",
            "323/323 [==============================] - 1s 3ms/step - loss: 0.0041\n",
            "Epoch 11/50\n",
            "323/323 [==============================] - 1s 3ms/step - loss: 0.0034\n",
            "Epoch 12/50\n",
            "323/323 [==============================] - 1s 3ms/step - loss: 0.0028\n",
            "Epoch 13/50\n",
            "323/323 [==============================] - 1s 3ms/step - loss: 0.0024\n",
            "Epoch 14/50\n",
            "323/323 [==============================] - 1s 2ms/step - loss: 0.0021\n",
            "Epoch 15/50\n",
            "323/323 [==============================] - 1s 2ms/step - loss: 0.0019\n",
            "Epoch 16/50\n",
            "323/323 [==============================] - 1s 2ms/step - loss: 0.0018\n",
            "Epoch 17/50\n",
            "323/323 [==============================] - 1s 2ms/step - loss: 0.0017\n",
            "Epoch 18/50\n",
            "323/323 [==============================] - 1s 2ms/step - loss: 0.0017\n",
            "Epoch 19/50\n",
            "323/323 [==============================] - 1s 2ms/step - loss: 0.0016\n",
            "Epoch 20/50\n",
            "323/323 [==============================] - 1s 2ms/step - loss: 0.0016\n",
            "Epoch 21/50\n",
            "323/323 [==============================] - 1s 2ms/step - loss: 0.0016\n",
            "Epoch 22/50\n",
            "323/323 [==============================] - 1s 2ms/step - loss: 0.0016\n",
            "Epoch 23/50\n",
            "323/323 [==============================] - 1s 2ms/step - loss: 0.0016\n",
            "Epoch 24/50\n",
            "323/323 [==============================] - 1s 2ms/step - loss: 0.0015\n",
            "Epoch 25/50\n",
            "323/323 [==============================] - 1s 2ms/step - loss: 0.0015\n",
            "Epoch 26/50\n",
            "323/323 [==============================] - 1s 2ms/step - loss: 0.0015\n",
            "Epoch 27/50\n",
            "323/323 [==============================] - 1s 2ms/step - loss: 0.0015\n",
            "Epoch 28/50\n",
            "323/323 [==============================] - 1s 2ms/step - loss: 0.0015\n",
            "Epoch 29/50\n",
            "323/323 [==============================] - 1s 2ms/step - loss: 0.0015\n",
            "Epoch 30/50\n",
            "323/323 [==============================] - 1s 2ms/step - loss: 0.0015\n",
            "Epoch 31/50\n",
            "323/323 [==============================] - 1s 2ms/step - loss: 0.0014\n",
            "Epoch 32/50\n",
            "323/323 [==============================] - 1s 3ms/step - loss: 0.0014\n",
            "Epoch 33/50\n",
            "323/323 [==============================] - 1s 3ms/step - loss: 0.0014\n",
            "Epoch 34/50\n",
            "323/323 [==============================] - 1s 3ms/step - loss: 0.0014\n",
            "Epoch 35/50\n",
            "323/323 [==============================] - 1s 3ms/step - loss: 0.0014\n",
            "Epoch 36/50\n",
            "323/323 [==============================] - 1s 3ms/step - loss: 0.0014\n",
            "Epoch 37/50\n",
            "323/323 [==============================] - 1s 2ms/step - loss: 0.0014\n",
            "Epoch 38/50\n",
            "323/323 [==============================] - 1s 2ms/step - loss: 0.0014\n",
            "Epoch 39/50\n",
            "323/323 [==============================] - 1s 2ms/step - loss: 0.0014\n",
            "Epoch 40/50\n",
            "323/323 [==============================] - 1s 2ms/step - loss: 0.0014\n",
            "Epoch 41/50\n",
            "323/323 [==============================] - 1s 2ms/step - loss: 0.0014\n",
            "Epoch 42/50\n",
            "323/323 [==============================] - 1s 2ms/step - loss: 0.0014\n",
            "Epoch 43/50\n",
            "323/323 [==============================] - 1s 2ms/step - loss: 0.0014\n",
            "Epoch 44/50\n",
            "323/323 [==============================] - 1s 2ms/step - loss: 0.0014\n",
            "Epoch 45/50\n",
            "323/323 [==============================] - 1s 2ms/step - loss: 0.0013\n",
            "Epoch 46/50\n",
            "323/323 [==============================] - 1s 2ms/step - loss: 0.0013\n",
            "Epoch 47/50\n",
            "323/323 [==============================] - 1s 2ms/step - loss: 0.0013\n",
            "Epoch 48/50\n",
            "323/323 [==============================] - 1s 2ms/step - loss: 0.0013\n",
            "Epoch 49/50\n",
            "323/323 [==============================] - 1s 2ms/step - loss: 0.0013\n",
            "Epoch 50/50\n",
            "323/323 [==============================] - 1s 2ms/step - loss: 0.0013\n"
          ]
        },
        {
          "output_type": "execute_result",
          "data": {
            "text/plain": [
              "<keras.src.callbacks.History at 0x7d4d3da99fc0>"
            ]
          },
          "metadata": {},
          "execution_count": 20
        }
      ],
      "source": [
        "autoencoder.fit(df_normalized, df_normalized, epochs=50, batch_size=64, shuffle=True)"
      ]
    },
    {
      "cell_type": "markdown",
      "metadata": {
        "id": "ywTatC6DB8ze"
      },
      "source": [
        "5 - Faça a extração da camada de codificação (previsão com o modelo).\n",
        "\n"
      ]
    },
    {
      "cell_type": "code",
      "execution_count": null,
      "metadata": {
        "colab": {
          "base_uri": "https://localhost:8080/"
        },
        "id": "vTlFVeHJB8ze",
        "outputId": "284fbf78-10ce-4649-a153-2a02631ecb9f"
      },
      "outputs": [
        {
          "output_type": "stream",
          "name": "stdout",
          "text": [
            "645/645 [==============================] - 1s 1ms/step\n"
          ]
        }
      ],
      "source": [
        "encoder_model = Model(inputs=input_layer, outputs=encoder)\n",
        "\n",
        "encoded_data = encoder_model.predict(df_normalized)\n",
        "\n",
        "encoded_df = pd.DataFrame(encoded_data, columns=[f'encoded_{i+1}' for i in range(encoding_dim)])"
      ]
    },
    {
      "cell_type": "markdown",
      "metadata": {
        "id": "-KaSrb8nB8ze"
      },
      "source": [
        "6 - Crie um DataFrame reduzido com as 3 colunas.\n",
        "\n"
      ]
    },
    {
      "cell_type": "code",
      "execution_count": null,
      "metadata": {
        "colab": {
          "base_uri": "https://localhost:8080/"
        },
        "id": "JewJCaQaB8zf",
        "outputId": "803808a9-fd2c-4d17-a04c-272bae5265c3"
      },
      "outputs": [
        {
          "output_type": "stream",
          "name": "stdout",
          "text": [
            "645/645 [==============================] - 1s 2ms/step\n"
          ]
        }
      ],
      "source": [
        "encoder_model = Model(inputs=autoencoder.input, outputs=autoencoder.get_layer(index=1).output)\n",
        "\n",
        "encoded_data = encoder_model.predict(df_normalized)\n",
        "\n",
        "encoded_df = pd.DataFrame(encoded_data, columns=[f'encoded_{i+1}' for i in range(encoding_dim)])"
      ]
    },
    {
      "cell_type": "markdown",
      "metadata": {
        "id": "qH0AiIayB8zo"
      },
      "source": [
        "7 - Defina o decodificador para converter os dados reduzidos para o formato original.\n",
        "\n"
      ]
    },
    {
      "cell_type": "code",
      "execution_count": null,
      "metadata": {
        "id": "6WmKhPFlB8zo"
      },
      "outputs": [],
      "source": [
        "encoded_input = Input(shape=(encoding_dim,))\n",
        "decoder_layer = autoencoder.layers[-1](encoded_input)\n",
        "decoder_model = Model(inputs=encoded_input, outputs=decoder_layer)"
      ]
    },
    {
      "cell_type": "markdown",
      "metadata": {
        "id": "JIPjIqasB8zo"
      },
      "source": [
        "8 - Reconstrua o DataFrame reduzido para a estrutura do original (usando as mesmas colunas).\n",
        "\n"
      ]
    },
    {
      "cell_type": "code",
      "execution_count": null,
      "metadata": {
        "colab": {
          "base_uri": "https://localhost:8080/"
        },
        "id": "DUcE19eHB8zo",
        "outputId": "40bfb2ef-6acc-4b02-b820-be48d293acb8"
      },
      "outputs": [
        {
          "output_type": "stream",
          "name": "stdout",
          "text": [
            "645/645 [==============================] - 2s 2ms/step\n"
          ]
        }
      ],
      "source": [
        "decoded_data = decoder_model.predict(encoded_df)\n",
        "\n",
        "decoded_df = pd.DataFrame(decoded_data, columns=df_cleaned.columns)"
      ]
    },
    {
      "cell_type": "markdown",
      "metadata": {
        "id": "ogBSLQ42B8zo"
      },
      "source": [
        "9 - Exiba o tamanho em memória do DataFrame original, do DataFrame reduzido e do DataFrame reconstruído."
      ]
    },
    {
      "cell_type": "code",
      "execution_count": null,
      "metadata": {
        "colab": {
          "base_uri": "https://localhost:8080/"
        },
        "id": "K43YfPtaB8zo",
        "outputId": "3ee92c5d-17c1-48cc-8c02-7916652bcdac"
      },
      "outputs": [
        {
          "output_type": "execute_result",
          "data": {
            "text/plain": [
              "(1155968, 247808, 578048)"
            ]
          },
          "metadata": {},
          "execution_count": 25
        }
      ],
      "source": [
        "original_size = df_cleaned.memory_usage(deep=True).sum()\n",
        "reduced_size = encoded_df.memory_usage(deep=True).sum()\n",
        "reconstructed_size = decoded_df.memory_usage(deep=True).sum()\n",
        "\n",
        "original_size, reduced_size, reconstructed_size"
      ]
    },
    {
      "cell_type": "markdown",
      "metadata": {
        "id": "TUFcuXAgB8zo"
      },
      "source": [
        "10 - Exiba as métricas comparando o DataFrame original e o reconstruído."
      ]
    },
    {
      "cell_type": "code",
      "execution_count": null,
      "metadata": {
        "colab": {
          "base_uri": "https://localhost:8080/"
        },
        "id": "xZDerYW5B8zp",
        "outputId": "312cc240-51a2-4f99-d41c-fe4760a28c7e"
      },
      "outputs": [
        {
          "output_type": "stream",
          "name": "stdout",
          "text": [
            "Erro Quadrático Médio (MSE): 473626.6697076911\n",
            "Erro Absoluto Médio (MAE): 209.77028548466174\n",
            "Coeficiente de Determinação (R²): -3.1212875525516828\n"
          ]
        }
      ],
      "source": [
        "mse = mean_squared_error(df_cleaned, decoded_df)\n",
        "\n",
        "mae = mean_absolute_error(df_cleaned, decoded_df)\n",
        "\n",
        "r2 = r2_score(df_cleaned, decoded_df)\n",
        "\n",
        "print(f\"Erro Quadrático Médio (MSE): {mse}\")\n",
        "print(f\"Erro Absoluto Médio (MAE): {mae}\")\n",
        "print(f\"Coeficiente de Determinação (R²): {r2}\")"
      ]
    }
  ],
  "metadata": {
    "kernelspec": {
      "display_name": "base",
      "language": "python",
      "name": "python3"
    },
    "language_info": {
      "codemirror_mode": {
        "name": "ipython",
        "version": 3
      },
      "file_extension": ".py",
      "mimetype": "text/x-python",
      "name": "python",
      "nbconvert_exporter": "python",
      "pygments_lexer": "ipython3",
      "version": "3.11.7"
    },
    "colab": {
      "provenance": []
    }
  },
  "nbformat": 4,
  "nbformat_minor": 0
}