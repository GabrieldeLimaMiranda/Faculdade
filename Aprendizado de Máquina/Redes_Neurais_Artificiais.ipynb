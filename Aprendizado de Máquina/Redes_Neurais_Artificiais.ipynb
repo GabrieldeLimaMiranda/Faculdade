{
  "cells": [
    {
      "cell_type": "markdown",
      "metadata": {
        "id": "om_3bM10cHIM"
      },
      "source": [
        "# Aula 3: Redes Neurais Artificiais (RNAs) - Estrutura e Funcionamento\n",
        "\n",
        "### 1. Introdução às Redes Neurais Artificiais (RNAs)\n",
        "\n",
        "#### Definição e Origem das RNAs\n",
        "\n",
        "Redes Neurais Artificiais (RNAs) são modelos computacionais inspirados no funcionamento do cérebro humano, projetados para simular a maneira como os neurônios biológicos interagem e aprendem a partir de dados. A origem das RNAs remonta à década de 1940, com o modelo de neurônio de McCulloch-Pitts, considerado o precursor das redes neurais modernas. Ao longo dos anos, com o avanço da computação e a disponibilidade de grandes volumes de dados, as RNAs evoluíram significativamente, tornando-se uma ferramenta fundamental no campo da Inteligência Artificial.\n",
        "\n",
        "#### Comparação com o Cérebro Humano e Inspiração Biológica\n",
        "\n",
        "As RNAs são frequentemente comparadas ao cérebro humano devido à sua capacidade de aprender a partir de exemplos e melhorar o desempenho em tarefas específicas, como reconhecimento de padrões e processamento de linguagem natural. A inspiração biológica por trás das RNAs vem da observação de que o cérebro é composto por bilhões de neurônios interconectados, que processam informações através de sinapses. Da mesma forma, as RNAs consistem em unidades de processamento (neurônios artificiais) interligadas, que ajustam suas conexões (pesos) para aprender e realizar tarefas complexas.\n",
        "\n",
        "#### Aplicações Gerais das RNAs\n",
        "\n",
        "As Redes Neurais Artificiais têm uma ampla gama de aplicações em diversos campos, incluindo:\n",
        "\n",
        "- **Reconhecimento de Imagens**: RNAs são amplamente utilizadas para identificar objetos, pessoas, cenas e atividades em imagens e vídeos.\n",
        "- **Processamento de Linguagem Natural (PLN)**: Elas desempenham um papel crucial em tradução automática, análise de sentimentos, e sistemas de resposta automática.\n",
        "- **Previsão e Modelagem de Séries Temporais**: RNAs podem prever ações de mercado, padrões climáticos e tendências de consumo.\n",
        "- **Detecção de Fraudes**: No setor financeiro, são usadas para identificar transações suspeitas e prevenir fraudes.\n",
        "- **Desenvolvimento de Jogos e Simulação**: RNAs contribuem para a criação de ambientes virtuais mais realistas e para o desenvolvimento de NPCs (personagens não jogáveis) inteligentes.\n",
        "\n",
        "A capacidade das RNAs de aprender a partir de dados, identificar padrões complexos e fazer previsões torna-as uma ferramenta valiosa para resolver problemas que seriam extremamente difíceis, ou mesmo impossíveis, de resolver com algoritmos tradicionais de programação.\n",
        "\n"
      ]
    },
    {
      "cell_type": "markdown",
      "metadata": {
        "id": "vG6wXdKOcHIP"
      },
      "source": [
        "## 2. Estrutura Básica de uma RNA\n",
        "\n",
        "### Neurônios Artificiais: Estrutura e Funcionamento\n",
        "\n",
        "Um **neurônio artificial** é a unidade fundamental de processamento em uma Rede Neural Artificial. Inspirado pelos neurônios biológicos, um neurônio artificial recebe um ou mais inputs, processa-os e gera um output. Cada input é associado a um peso, que amplifica ou atenua o sinal. A soma ponderada desses inputs, ajustada por um termo chamado viés (bias), é então passada por uma função de ativação, que determina o output do neurônio.\n",
        "\n",
        "A equação do neurônio pode ser representada como:\n",
        "\n",
        "$y = f(\\sum_{i=1}^{n} w_i x_i + b)$\n",
        "\n",
        "onde:\n",
        "- \\(y\\) é o output,\n",
        "- \\(f\\) é a função de ativação,\n",
        "- \\(w_i\\) são os pesos,\n",
        "- \\(x_i\\) são os inputs,\n",
        "- \\(b\\) é o viés.\n",
        "\n",
        "### Camadas em uma RNA\n",
        "\n",
        "Uma RNA é organizada em camadas:\n",
        "- **Camada de Entrada**: Recebe os dados de entrada para a rede.\n",
        "- **Camadas Ocultas**: Realizam a maior parte do processamento através de conexões ponderadas. Uma RNA pode ter várias camadas ocultas.\n",
        "- **Camada de Saída**: Gera o output final da rede, que pode ser um valor contínuo (regressão) ou uma classe (classificação).\n",
        "\n",
        "Cada camada é composta por um ou mais neurônios artificiais que processam os sinais recebidos da camada anterior e transmitem o resultado para a próxima camada.\n",
        "\n",
        "### Como as Camadas se Conectam: Pesos e Viés\n",
        "\n",
        "As conexões entre as camadas de uma RNA são estabelecidas pelos **pesos** e **viés**. Os pesos determinam a importância de cada conexão na propagação do sinal pela rede. O viés permite ajustar a saída do neurônio além da soma ponderada dos inputs, contribuindo para a flexibilidade do modelo na aprendizagem de padrões complexos.\n",
        "\n",
        "Durante o treinamento, o algoritmo de aprendizagem ajusta iterativamente os pesos e os viéses com base na diferença entre a saída prevista pela rede e a saída real, um processo conhecido como **backpropagation**. Este ajuste fino permite que a RNA aprenda a mapear corretamente as entradas para as saídas desejadas.\n",
        "\n",
        "\n",
        "\n",
        "![rede.png](attachment:rede.png)"
      ]
    },
    {
      "cell_type": "markdown",
      "metadata": {
        "id": "T6ia-HNwcHIQ"
      },
      "source": [
        "## 3. O Neurônio Artificial\n",
        "\n",
        "### Detalhamento da Estrutura do Neurônio\n",
        "\n",
        "Um **neurônio artificial** é uma unidade básica de processamento dentro de uma Rede Neural Artificial. A estrutura de um neurônio pode ser entendida em quatro componentes principais:\n",
        "\n",
        "1. **Entradas (Inputs)**: São os dados recebidos pelo neurônio de outras fontes, podendo ser a camada anterior de uma rede neural ou o próprio dataset de entrada. Cada entrada é associada a um peso específico.\n",
        "2. **Pesos (Weights)**: São coeficientes que determinam a importância de cada entrada para a saída do neurônio. Os pesos são ajustados durante o processo de treinamento da rede.\n",
        "3. **Função de Soma (Summation Function)**: Calcula a soma ponderada das entradas, multiplicando cada entrada pelo seu peso correspondente e somando todos esses valores. Um viés (bias) também é adicionado a essa soma, permitindo ajustar a saída do neurônio além das entradas.\n",
        "4. **Função de Ativação (Activation Function)**: Transforma a soma ponderada das entradas em um formato que seja adequado à saída esperada do neurônio. Exemplos comuns de funções de ativação incluem a função sigmoide, ReLU (Rectified Linear Unit) e tanh (tangente hiperbólica).\n",
        "\n",
        "### Exemplo de Cálculo de Saída de um Neurônio\n",
        "\n",
        "Considere um neurônio com duas entradas, pesos associados a essas entradas, e um viés. A saída do neurônio é calculada como segue:\n",
        "\n",
        "1. Multiplica-se cada entrada pelo seu peso correspondente.\n",
        "2. Somam-se todos os valores resultantes.\n",
        "3. Adiciona-se o viés à soma.\n",
        "4. Aplica-se a função de ativação ao resultado final para obter a saída do neurônio.\n",
        "\n",
        "![neuronio.png](attachment:neuronio.png)\n"
      ]
    },
    {
      "cell_type": "markdown",
      "metadata": {
        "id": "J5oaiTdPcHIQ"
      },
      "source": [
        "![Captura%20de%20tela%202024-03-04%20204216.png](attachment:Captura%20de%20tela%202024-03-04%20204216.png)\n",
        "\n",
        "https://www.youtube.com/watch?v=rEDzUT3ymw4\n",
        "\n",
        "https://www.youtube.com/watch?v=sLsCN9ZL9RI"
      ]
    },
    {
      "cell_type": "code",
      "execution_count": null,
      "metadata": {
        "colab": {
          "base_uri": "https://localhost:8080/"
        },
        "id": "WFpAdIPycHIQ",
        "outputId": "0f378ac2-3f4b-447f-be75-bdee94a619f4"
      },
      "outputs": [
        {
          "output_type": "stream",
          "name": "stdout",
          "text": [
            "Saída do neurônio: 1\n"
          ]
        }
      ],
      "source": [
        "import numpy as np\n",
        "\n",
        "# Função de ativação: sigmoide\n",
        "def stp(x):\n",
        "    if x < 0:\n",
        "        return -1\n",
        "    else:\n",
        "        return 1\n",
        "\n",
        "# Entradas, pesos e viés\n",
        "inputs = np.array([0.5, -0.2])\n",
        "weights = np.array([0.7, 0.3])\n",
        "bias = -0.1\n",
        "\n",
        "# Cálculo da saída do neurônio\n",
        "weighted_sum = np.dot(inputs, weights) + bias\n",
        "neuron_output = stp(weighted_sum)\n",
        "\n",
        "print(f\"Saída do neurônio: {neuron_output}\")\n"
      ]
    },
    {
      "cell_type": "code",
      "execution_count": null,
      "metadata": {
        "colab": {
          "base_uri": "https://localhost:8080/",
          "height": 106
        },
        "id": "9EJp4alJcHIS",
        "outputId": "e8b13140-9347-49dc-cefd-cc0d94524cf7"
      },
      "outputs": [
        {
          "output_type": "error",
          "ename": "SyntaxError",
          "evalue": "cannot assign to expression here. Maybe you meant '==' instead of '='? (<ipython-input-2-4bef5f07e058>, line 1)",
          "traceback": [
            "\u001b[0;36m  File \u001b[0;32m\"<ipython-input-2-4bef5f07e058>\"\u001b[0;36m, line \u001b[0;32m1\u001b[0m\n\u001b[0;31m    (0.5*0.7) + (-0.2 * 0.3) = 0.29\u001b[0m\n\u001b[0m    ^\u001b[0m\n\u001b[0;31mSyntaxError\u001b[0m\u001b[0;31m:\u001b[0m cannot assign to expression here. Maybe you meant '==' instead of '='?\n"
          ]
        }
      ],
      "source": [
        "(0.5*0.7) + (-0.2 * 0.3) = 0.29"
      ]
    },
    {
      "cell_type": "code",
      "execution_count": null,
      "metadata": {
        "scrolled": true,
        "id": "JHi0yGLDcHIS"
      },
      "outputs": [],
      "source": [
        "np.dot(inputs, weights)"
      ]
    },
    {
      "cell_type": "markdown",
      "metadata": {
        "id": "MrcC9dmYcHIS"
      },
      "source": [
        "![Ativo%201@1200x.png](attachment:Ativo%201@1200x.png)\n",
        "."
      ]
    },
    {
      "cell_type": "markdown",
      "metadata": {
        "id": "nnVEZY7PcHIS"
      },
      "source": [
        "## 4. Arquiteturas de RNAs\n",
        "\n",
        "### Visão Geral de Diferentes Arquiteturas\n",
        "\n",
        "As Redes Neurais Artificiais (RNAs) podem ser construídas em diversas arquiteturas, cada uma adequada para diferentes tipos de problemas. Algumas das arquiteturas mais comuns incluem:\n",
        "\n",
        "- **Perceptrons**: A forma mais simples de RNA, ideal para problemas de classificação linear. Consiste em uma única camada de neurônios e é capaz de aprender fronteiras de decisão linearmente separáveis.\n",
        "- **Redes Multicamadas (MLP - Multilayer Perceptrons)**: Uma extensão dos perceptrons que inclui uma ou mais camadas ocultas entre a entrada e a saída. Isso permite que a rede aprenda representações não-lineares.\n",
        "- **Redes Convolucionais (CNNs - Convolutional Neural Networks)**: Especializadas em processar dados com uma grade-topologia, como imagens. Utilizam filtros convolucionais para capturar padrões espaciais.\n",
        "- **Redes Recorrentes (RNNs - Recurrent Neural Networks)**: Projetadas para lidar com sequências de dados, como texto ou séries temporais. Possuem loops internos que permitem a persistência de informações.\n",
        "- **Redes de Memória Longa e Curta Prazo (LSTMs - Long Short-Term Memory networks)**: Uma variação das RNNs que pode aprender dependências de longo prazo mais eficientemente.\n",
        "\n",
        "### Discussão sobre Quando Usar Cada Tipo de Arquitetura\n",
        "\n",
        "- **Perceptrons** são adequados para tarefas simples de classificação binária onde os dados são linearmente separáveis.\n",
        "- **MLPs** são versáteis e podem ser usados em uma ampla gama de aplicações, desde classificação até regressão, especialmente quando as relações entre os dados de entrada e saída são complexas e não-lineares.\n",
        "- **CNNs** são a escolha ideal para tarefas de visão computacional, como reconhecimento de imagens e vídeo, devido à sua eficácia em capturar padrões espaciais.\n",
        "- **RNNs** e **LSTMs** são preferidos para problemas que envolvem dados sequenciais, como processamento de linguagem natural e previsão de séries temporais, onde é crucial capturar dependências temporais.\n"
      ]
    },
    {
      "cell_type": "code",
      "execution_count": null,
      "metadata": {
        "colab": {
          "base_uri": "https://localhost:8080/"
        },
        "id": "Uq70I8PecHIT",
        "outputId": "75cbd0a8-edec-4bc2-e0b3-8a8e47218f75"
      },
      "outputs": [
        {
          "output_type": "stream",
          "name": "stdout",
          "text": [
            "Requirement already satisfied: pydot in /usr/local/lib/python3.10/dist-packages (1.4.2)\n",
            "Collecting pydot\n",
            "  Downloading pydot-2.0.0-py3-none-any.whl (22 kB)\n",
            "Requirement already satisfied: pyparsing>=3 in /usr/local/lib/python3.10/dist-packages (from pydot) (3.1.1)\n",
            "Installing collected packages: pydot\n",
            "  Attempting uninstall: pydot\n",
            "    Found existing installation: pydot 1.4.2\n",
            "    Uninstalling pydot-1.4.2:\n",
            "      Successfully uninstalled pydot-1.4.2\n",
            "Successfully installed pydot-2.0.0\n"
          ]
        }
      ],
      "source": [
        "!pip install --upgrade pydot"
      ]
    },
    {
      "cell_type": "code",
      "execution_count": null,
      "metadata": {
        "colab": {
          "base_uri": "https://localhost:8080/"
        },
        "id": "XPdfo-_4cHIT",
        "outputId": "74e53c6e-177d-4f96-a30b-37f4c54849c1"
      },
      "outputs": [
        {
          "output_type": "stream",
          "name": "stdout",
          "text": [
            "Requirement already satisfied: graphviz in /usr/local/lib/python3.10/dist-packages (0.20.1)\n"
          ]
        }
      ],
      "source": [
        "!pip install graphviz"
      ]
    },
    {
      "cell_type": "code",
      "execution_count": null,
      "metadata": {
        "id": "KXHcbT2McHIT"
      },
      "outputs": [],
      "source": [
        "from sklearn.datasets import make_circles\n",
        "from sklearn.model_selection import train_test_split\n",
        "from keras.utils import plot_model\n",
        "import matplotlib.pyplot as plt\n"
      ]
    },
    {
      "cell_type": "code",
      "execution_count": null,
      "metadata": {
        "colab": {
          "base_uri": "https://localhost:8080/",
          "height": 564
        },
        "id": "RG0ubBvDcHIT",
        "outputId": "91bd028f-b540-44b8-8ca9-1a91bb11210a"
      },
      "outputs": [
        {
          "output_type": "display_data",
          "data": {
            "text/plain": [
              "<Figure size 800x600 with 1 Axes>"
            ],
            "image/png": "[encoded data removed]"
          },
          "metadata": {}
        }
      ],
      "source": [
        "# Gerar dados sintéticos\n",
        "# make_circles gera um grande círculo que contém um círculo menor no 2d.\n",
        "# n_samples=1000 define o total de pontos gerados.\n",
        "# noise=0.02 adiciona ruído aos dados, tornando-os levemente mais desafiadores para classificação.\n",
        "# random_state=42 é usado para garantir a reprodutibilidade dos resultados.\n",
        "X, y = make_circles(n_samples=1000, noise=0.02, random_state=42)\n",
        "\n",
        "# Dividir os dados em conjuntos de treinamento e teste\n",
        "# test_size=0.3 indica que 30% dos dados serão usados como conjunto de teste.\n",
        "# random_state=42 garante que a divisão seja reprodutível.\n",
        "X_train, X_test, y_train, y_test = train_test_split(X, y, test_size=0.3, random_state=42)\n",
        "\n",
        "# Plotar os dados\n",
        "# A função plt.figure() é usada para criar uma nova figura.\n",
        "plt.figure(figsize=(8, 6))\n",
        "\n",
        "# plt.scatter plota os pontos no gráfico.\n",
        "# X_train[:, 0] e X_train[:, 1] representam as coordenadas x e y dos pontos, respectivamente.\n",
        "# c=y_train é usado para colorir os pontos com base em seus rótulos.\n",
        "# cmap='viridis' define o mapa de cores usado para colorir os pontos.\n",
        "# label são as etiquetas usadas para a legenda do gráfico.\n",
        "plt.scatter(X_train[:, 0], X_train[:, 1], c=y_train, cmap='viridis', label='Training data')\n",
        "plt.scatter(X_test[:, 0], X_test[:, 1], c=y_test, cmap='plasma', label='Test data', alpha=0.6)\n",
        "\n",
        "# Adicionando detalhes ao gráfico\n",
        "plt.title('Synthetic Circles Data')  # Título do gráfico\n",
        "plt.xlabel('Feature 1')  # Legenda do eixo X\n",
        "plt.ylabel('Feature 2')  # Legenda do eixo Y\n",
        "plt.legend()  # Adiciona a legenda ao gráfico\n",
        "\n",
        "# Mostrar o gráfico\n",
        "plt.show()\n"
      ]
    },
    {
      "cell_type": "markdown",
      "metadata": {
        "id": "sfQjjyPCcHIT"
      },
      "source": [
        "# Hiperparâmetros de Redes Neurais Artificiais\n",
        "\n",
        "As Redes Neurais Artificiais (RNA) são um dos pilares da aprendizagem de máquina moderna, especialmente no campo do aprendizado profundo. Elas são compostas por camadas de neurônios que processam os dados de entrada para realizar tarefas como classificação, regressão, entre outras. A configuração dessas redes envolve uma série de hiperparâmetros, que podem ser divididos em primários e secundários. Vamos explorá-los detalhadamente.\n",
        "\n",
        "## Hiperparâmetros Primários\n",
        "\n",
        "### 1. Quantidade de Neurônios na Camada de Entrada\n",
        "\n",
        "A quantidade de neurônios na camada de entrada é determinada pelo número de características (`features`) do seu conjunto de dados (`X`). Cada neurônio na camada de entrada representa uma característica única do conjunto de dados.\n",
        "\n",
        "### 2. Quantidade de Neurônios nas Camadas Ocultas\n",
        "\n",
        "Não existe uma regra fixa para a quantidade de neurônios nas camadas ocultas. Esta é geralmente determinada por tentativa e erro, e pode variar amplamente dependendo do problema específico que se deseja resolver. Uma prática comum é começar com um número que esteja entre o tamanho da camada de entrada e o tamanho da camada de saída, ajustando conforme necessário para melhorar o desempenho do modelo.\n",
        "\n",
        "### 3. Funções de Ativação nas Camadas Ocultas\n",
        "\n",
        "As funções de ativação nas camadas ocultas determinam como os sinais de entrada serão transformados antes de passar para a próxima camada. Algumas das funções de ativação mais comuns incluem:\n",
        "\n",
        "- **ReLU (Rectified Linear Unit)**: É usada para introduzir não-linearidades no modelo, sendo útil em muitos casos devido à sua simplicidade computacional e capacidade de reduzir o desaparecimento do gradiente.\n",
        "- **Sigmoid**: Transforma os valores de entrada para uma escala entre 0 e 1, sendo útil para problemas de classificação binária.\n",
        "- **Tanh (Tangente Hiperbólica)**: Similar à sigmoid, mas transforma os valores para uma escala entre -1 e 1. É útil quando os dados estão normalizados.\n",
        "\n",
        "### 4. Quantidade de Neurônios e Função de Ativação na Camada de Saída\n",
        "\n",
        "A configuração da camada de saída depende do tipo de tarefa:\n",
        "\n",
        "- **Para Regressão**: Geralmente se usa 1 neurônio na camada de saída, sem função de ativação ou com uma função linear.\n",
        "- **Para Classificação Binária**: Utiliza-se 1 neurônio com função de ativação sigmoid, que produz valores entre 0 e 1, representando a probabilidade de pertencer a uma das classes.\n",
        "- **Para Classificação Multiclasse**: Utiliza-se um neurônio para cada classe com a função de ativação softmax, que transforma os valores de saída em probabilidades que somam 1.\n",
        "\n",
        "## Hiperparâmetros Secundários\n",
        "\n",
        "Além dos hiperparâmetros primários, existem vários ajustes adicionais que podem melhorar o desempenho e a robustez do modelo:\n",
        "\n",
        "### 1. Early Stopping\n",
        "\n",
        "Uma técnica para evitar o sobreajuste. O treinamento é interrompido quando o desempenho do modelo em um conjunto de validação deixa de melhorar, mesmo que o desempenho no conjunto de treinamento continue a melhorar.\n",
        "\n",
        "### 2. Regularização (Kernel Regularizer)\n",
        "\n",
        "Ajuda a prevenir o sobreajuste ao adicionar um termo de penalidade aos pesos da rede. L1 e L2 são as formas mais comuns de regularização.\n",
        "\n",
        "### 3. Dropout\n",
        "\n",
        "Consiste em \"desligar\" aleatoriamente alguns neurônios durante o treinamento, o que ajuda a prevenir o sobreajuste ao forçar o modelo a aprender padrões mais robustos que não dependem de um pequeno número de neurônios.\n",
        "\n",
        "Cada um desses hiperparâmetros pode ter um impacto significativo no desempenho do modelo, e a melhor configuração geralmente é encontrada por meio de experimentação e ajuste fino.\n"
      ]
    },
    {
      "cell_type": "code",
      "execution_count": null,
      "metadata": {
        "id": "ebP054wxcHIU"
      },
      "outputs": [],
      "source": [
        "from tensorflow.keras.models import Sequential\n",
        "from tensorflow.keras.layers import Dense, Dropout"
      ]
    },
    {
      "cell_type": "code",
      "execution_count": null,
      "metadata": {
        "id": "ZW7ANiNlcHIU"
      },
      "outputs": [],
      "source": [
        "# Definindo o modelo\n",
        "model = Sequential()\n",
        "model.add(Dense(10, input_shape=(2,), activation='relu'))  # Camada de entrada e primeira camada oculta\n",
        "model.add(Dense(10, activation='relu'))  # Segunda camada oculta\n",
        "model.add(Dropout(0.5))  # Dropout adicionado para prevenir sobreajuste\n",
        "model.add(Dense(1, activation='sigmoid'))  # Camada de saída para classificação binária"
      ]
    },
    {
      "cell_type": "markdown",
      "metadata": {
        "id": "g4ofLtn4cHIU"
      },
      "source": [
        "# Configuração da Compilação do Modelo em Keras\n",
        "\n",
        "A compilação do modelo em Keras define três componentes principais: o otimizador, a função de perda e as métricas de avaliação. Cada um desempenha um papel crucial no treinamento e avaliação de modelos de redes neurais. Vamos explorá-los detalhadamente.\n",
        "\n",
        "## Otimizador\n",
        "\n",
        "O otimizador é o algoritmo usado para ajustar os pesos da rede durante o treinamento, com o objetivo de minimizar a função de perda. Os otimizadores mais comuns incluem:\n",
        "\n",
        "- **SGD (Stochastic Gradient Descent)**: Um dos mais antigos e simples, com variações que incluem momentum e Nesterov momentum, que ajudam a acelerar o treinamento e evitar mínimos locais.\n",
        "- **Adam**: Combina os benefícios do AdaGrad e RMSProp, ajustando as taxas de aprendizado com base em estimativas de momentos de primeira e segunda ordem. É muito popular devido à sua eficácia em uma ampla gama de problemas.\n",
        "- **RMSprop**: Foca na adaptação da taxa de aprendizado durante o treinamento, sendo eficaz em problemas com ótimos ruidosos ou com gradientes esparsos.\n",
        "- **Adagrad**: Ajusta a taxa de aprendizado para cada parâmetro, sendo útil para problemas com dados esparços.\n",
        "\n",
        "A escolha do otimizador pode depender do tipo de problema, da arquitetura da rede e das características dos dados. O Adam é frequentemente a primeira escolha devido à sua robustez e eficiência em muitos cenários.\n",
        "\n",
        "## Função de Perda\n",
        "\n",
        "A função de perda avalia quão bem o modelo está performando. A escolha depende do tipo de problema:\n",
        "\n",
        "- **binary_crossentropy**: Usada para classificação binária, mede a diferença entre as distribuições de probabilidade das previsões e dos rótulos verdadeiros.\n",
        "- **categorical_crossentropy**: Para classificação multiclasse, onde os rótulos são one-hot encoded.\n",
        "- **sparse_categorical_crossentropy**: Também para classificação multiclasse, mas quando os rótulos são inteiros.\n",
        "- **mean_squared_error (MSE)**: Comum em problemas de regressão, mede a média dos quadrados das diferenças entre os valores previstos e verdadeiros.\n",
        "- **mean_absolute_error (MAE)**: Outra opção para regressão, mede a média das diferenças absolutas entre previsões e valores reais.\n",
        "\n",
        "A escolha da função de perda é diretamente relacionada ao tipo de tarefa de aprendizado que você está tentando resolver (e.g., classificação, regressão).\n",
        "\n",
        "## Métricas de Avaliação\n",
        "\n",
        "As métricas são usadas para monitorar o treinamento e o teste do modelo. Elas não afetam o treinamento, mas fornecem insights sobre o desempenho do modelo. Algumas métricas comuns incluem:\n",
        "\n",
        "- **accuracy**: Usada para problemas de classificação, representa a proporção de previsões corretas.\n",
        "- **precision, recall, f1-score**: Importantes em classificação, especialmente em conjuntos de dados desbalanceados ou quando custos diferentes são atribuídos a diferentes tipos de erros.\n",
        "- **mse (mean squared error)**, **mae (mean absolute error)**: Usadas em problemas de regressão para medir a precisão das previsões.\n",
        "\n",
        "A escolha das métricas depende dos objetivos específicos do projeto e do tipo de problema que está sendo resolvido."
      ]
    },
    {
      "cell_type": "code",
      "execution_count": null,
      "metadata": {
        "id": "Ng6517n7cHIU"
      },
      "outputs": [],
      "source": [
        "from tensorflow.keras.optimizers import Adam"
      ]
    },
    {
      "cell_type": "code",
      "execution_count": null,
      "metadata": {
        "id": "pWdu50KzcHIV"
      },
      "outputs": [],
      "source": [
        "# Compilando o modelo\n",
        "model.compile(optimizer=Adam(learning_rate=0.001),\n",
        "              loss='binary_crossentropy',\n",
        "              metrics=['accuracy'])"
      ]
    },
    {
      "cell_type": "markdown",
      "metadata": {
        "id": "h-KF8TPzcHIV"
      },
      "source": [
        "# Treinamento do Modelo com `model.fit` em Keras\n",
        "\n",
        "O método `model.fit` é usado para treinar o modelo em Keras, ajustando os pesos das camadas da rede neural com base nos dados de entrada. Este processo é influenciado por vários hiperparâmetros, que determinam como o treinamento é realizado, incluindo o número de épocas, o tamanho do lote (`batch size`), e como os dados de validação são tratados.\n",
        "\n",
        "## Hiperparâmetros de Treinamento\n",
        "\n",
        "### `X_train, y_train`\n",
        "\n",
        "- **X_train**: Os dados de entrada usados para treinar o modelo. Cada entrada deve ter o formato esperado pela primeira camada do modelo.\n",
        "- **y_train**: Os rótulos ou valores alvo correspondentes aos dados de entrada, usados pelo modelo para aprender a mapear entradas para saídas desejadas.\n",
        "\n",
        "### `epochs`\n",
        "\n",
        "- Define o número de vezes que o algoritmo de aprendizado passará por todo o conjunto de dados de treinamento. Uma época representa uma iteração completa sobre todos os dados. Um número maior de épocas pode levar a um modelo mais ajustado, mas também corre o risco de sobreajuste.\n",
        "\n",
        "### `batch_size`\n",
        "\n",
        "- O número de amostras que serão propagadas pela rede de uma vez. O tamanho do lote afeta a velocidade de treinamento e a estabilidade do processo de aprendizado. Tamanhos de lote menores geralmente proporcionam uma estimativa de gradiente mais \"ruidosa\", potencialmente levando a uma convergência mais rápida mas instável. Tamanhos maiores proporcionam uma estimativa de gradiente mais estável, mas podem ser mais lentos e exigir mais memória.\n",
        "\n",
        "### `verbose`\n",
        "\n",
        "- Controla a quantidade de informação a ser impressa durante o treinamento. Valores comuns incluem 0 (silencioso), 1 (progresso do treinamento é mostrado com uma barra de progresso) e 2 (uma linha por época).\n",
        "\n",
        "## Validação do Modelo\n",
        "\n",
        "### `validation_data`\n",
        "\n",
        "- Permite fornecer um conjunto de dados de validação explícito na forma de uma tupla `(X_val, y_val)`. Após cada época, o modelo será avaliado nesse conjunto de dados, fornecendo uma medida de quão bem o modelo está generalizando para dados não vistos durante o treinamento.\n",
        "\n",
        "### `validation_split`\n",
        "\n",
        "- Uma fração dos dados de treinamento (por exemplo, `0.2`) que será separada e usada como dados de validação. Isso permite validar o modelo em uma parte dos dados de treinamento sem precisar fornecer um conjunto de dados de validação explícito.\n",
        "\n",
        "## Hiperparâmetros Adicionais Relevantes\n",
        "\n",
        "### `callbacks`\n",
        "\n",
        "- Uma lista de instâncias de callback para aplicar durante o treinamento e/ou validação. Exemplos comuns incluem `EarlyStopping` para interromper o treinamento quando uma métrica monitorada parou de melhorar, `ModelCheckpoint` para salvar o modelo após cada época, e `ReduceLROnPlateau` para reduzir a taxa de aprendizado quando uma métrica parou de melhorar.\n",
        "\n",
        "### `shuffle`\n",
        "\n",
        "- Define se os dados de treinamento devem ser embaralhados antes de cada época. O padrão é `True`, o que ajuda a evitar ciclos repetitivos nos dados que podem levar a uma má generalização.\n",
        "\n",
        "### `initial_epoch`\n",
        "\n",
        "- Permite definir a primeira época a ser iniciada, útil para continuar o treinamento de onde parou."
      ]
    },
    {
      "cell_type": "code",
      "execution_count": null,
      "metadata": {
        "id": "b_d-aDy_cHIV"
      },
      "outputs": [],
      "source": [
        "from tensorflow.keras.callbacks import EarlyStopping\n",
        "\n",
        "# Definição de callbacks\n",
        "early_stopping = EarlyStopping(monitor='val_accuracy', patience=10)\n",
        "\n",
        "# Treinamento do modelo\n",
        "history = model.fit(X_train, y_train,\n",
        "                    epochs=100,\n",
        "                    batch_size=10,\n",
        "                    verbose=0,\n",
        "                    validation_split=0.2,\n",
        "                    callbacks=[early_stopping])"
      ]
    },
    {
      "cell_type": "code",
      "execution_count": null,
      "metadata": {
        "colab": {
          "base_uri": "https://localhost:8080/"
        },
        "id": "96Ie5-upcHIV",
        "outputId": "df1259fb-b268-47a8-f5b6-77c4cca25a0b"
      },
      "outputs": [
        {
          "output_type": "stream",
          "name": "stdout",
          "text": [
            "Model: \"sequential\"\n",
            "_________________________________________________________________\n",
            " Layer (type)                Output Shape              Param #   \n",
            "=================================================================\n",
            " dense (Dense)               (None, 10)                30        \n",
            "                                                                 \n",
            " dense_1 (Dense)             (None, 10)                110       \n",
            "                                                                 \n",
            " dropout (Dropout)           (None, 10)                0         \n",
            "                                                                 \n",
            " dense_2 (Dense)             (None, 1)                 11        \n",
            "                                                                 \n",
            "=================================================================\n",
            "Total params: 151 (604.00 Byte)\n",
            "Trainable params: 151 (604.00 Byte)\n",
            "Non-trainable params: 0 (0.00 Byte)\n",
            "_________________________________________________________________\n"
          ]
        }
      ],
      "source": [
        "# Exibindo a estrutura do modelo\n",
        "model.summary()"
      ]
    },
    {
      "cell_type": "code",
      "execution_count": null,
      "metadata": {
        "id": "UxoKy-_4cHIV"
      },
      "outputs": [],
      "source": [
        "def avaliar_modelo_binario(model, X_test, y_test, history):\n",
        "    # Avaliar o modelo\n",
        "    loss, accuracy = model.evaluate(X_test, y_test, verbose=0)\n",
        "    print(f'Test Loss: {loss:.3f}, Test Accuracy: {accuracy:.3f}')\n",
        "\n",
        "    # Acessando os dados de histórico\n",
        "    acc = history.history['accuracy']\n",
        "    val_acc = history.history['val_accuracy']\n",
        "    loss = history.history['loss']\n",
        "    val_loss = history.history['val_loss']\n",
        "\n",
        "    epochs = range(1, len(acc) + 1)\n",
        "\n",
        "    # Plotando a acurácia de treinamento e validação\n",
        "    plt.plot(epochs, acc, 'bo', label='Training accuracy')\n",
        "    plt.plot(epochs, val_acc, 'b', label='Validation accuracy')\n",
        "\n",
        "    # Plotando o loss de treinamento e validação\n",
        "    plt.plot(epochs, loss, 'ro', label='Training loss')\n",
        "    plt.plot(epochs, val_loss, 'r', label='Validation loss')\n",
        "\n",
        "    plt.title('Training and validation accuracy and loss')\n",
        "    plt.xlabel('Epochs')\n",
        "    plt.ylabel('Accuracy/Loss')\n",
        "    plt.legend()\n",
        "\n",
        "    plt.show()"
      ]
    },
    {
      "cell_type": "code",
      "execution_count": null,
      "metadata": {
        "colab": {
          "base_uri": "https://localhost:8080/",
          "height": 489
        },
        "id": "MgyAldKycHIW",
        "outputId": "0ec04074-4037-40c1-fa4f-e23a7aa0e260"
      },
      "outputs": [
        {
          "output_type": "stream",
          "name": "stdout",
          "text": [
            "Test Loss: 0.691, Test Accuracy: 0.510\n"
          ]
        },
        {
          "output_type": "display_data",
          "data": {
            "text/plain": [
              "<Figure size 640x480 with 1 Axes>"
            ],
            "image/png": "[encoded data removed]"
          },
          "metadata": {}
        }
      ],
      "source": [
        "avaliar_modelo_binario(model, X_test, y_test, history)"
      ]
    },
    {
      "cell_type": "markdown",
      "metadata": {
        "id": "cyYPuMVqcHIW"
      },
      "source": [
        "## Parte Prática: Construção de uma Rede Simples com Keras\n",
        "\n",
        "### Usando Keras para Construir uma Rede Neural Simples\n",
        "\n",
        "Keras é uma biblioteca de alto nível para redes neurais, rodando sobre TensorFlow, Theano ou CNTK. Ela permite uma construção rápida e intuitiva de modelos de redes neurais. Nesta seção, vamos construir uma rede neural simples do tipo Perceptron usando Keras e treiná-la com um dataset sintético.\n",
        "\n",
        "### Passos para Construir uma Rede com Keras\n",
        "\n",
        "1. **Importar as Bibliotecas Necessárias**: Inclui o Keras e outras bibliotecas úteis.\n",
        "2. **Definir o Modelo**: Escolher o tipo de modelo (sequencial, neste caso) e adicionar as camadas necessárias.\n",
        "3. **Compilar o Modelo**: Definir o otimizador, a função de perda e as métricas de avaliação.\n",
        "4. **Preparar os Dados**: Gerar ou carregar um dataset sintético e dividi-lo em conjuntos de treino e teste.\n",
        "5. **Treinar o Modelo**: Ajustar o modelo aos dados de treino.\n",
        "6. **Avaliar o Modelo**: Verificar a performance do modelo com o conjunto de teste.\n",
        "\n",
        "Esta abordagem passo a passo facilita a compreensão e implementação de modelos de redes neurais para problemas variados.\n"
      ]
    },
    {
      "cell_type": "markdown",
      "metadata": {
        "id": "EbBgmkkqcHIW"
      },
      "source": [
        "- A_id: Unique identifier for each fruit\n",
        "- Size: Size of the fruit\n",
        "- Weight: Weight of the fruit\n",
        "- Sweetness: Degree of sweetness of the fruit\n",
        "- Crunchiness: Texture indicating the crunchiness of the fruit\n",
        "- Juiciness: Level of juiciness of the fruit\n",
        "- Ripeness: Stage of ripeness of the fruit\n",
        "- Acidity: Acidity level of the fruit\n",
        "- Quality: Overall quality of the fruit"
      ]
    },
    {
      "cell_type": "code",
      "execution_count": null,
      "metadata": {
        "id": "nZXbYNL7cHIW"
      },
      "outputs": [],
      "source": [
        "import pandas as pd\n",
        "df = pd.read_csv('apple_quality.csv')"
      ]
    },
    {
      "cell_type": "code",
      "execution_count": null,
      "metadata": {
        "colab": {
          "base_uri": "https://localhost:8080/",
          "height": 424
        },
        "id": "HaRtG_TLcHIW",
        "outputId": "5a145bfb-cc92-468c-8c8b-c9600cc3c433"
      },
      "outputs": [
        {
          "output_type": "execute_result",
          "data": {
            "text/plain": [
              "      A_id      Size    Weight  Sweetness  Crunchiness  Juiciness  Ripeness  \\\n",
              "0        0 -3.970049 -2.512336   5.346330    -1.012009   1.844900  0.329840   \n",
              "1        1 -1.195217 -2.839257   3.664059     1.588232   0.853286  0.867530   \n",
              "2        2 -0.292024 -1.351282  -1.738429    -0.342616   2.838636 -0.038033   \n",
              "3        3 -0.657196 -2.271627   1.324874    -0.097875   3.637970 -3.413761   \n",
              "4        4  1.364217 -1.296612  -0.384658    -0.553006   3.030874 -1.303849   \n",
              "...    ...       ...       ...        ...          ...        ...       ...   \n",
              "3995  3995  0.059386 -1.067408  -3.714549     0.473052   1.697986  2.244055   \n",
              "3996  3996 -0.293118  1.949253  -0.204020    -0.640196   0.024523 -1.087900   \n",
              "3997  3997 -2.634515 -2.138247  -2.440461     0.657223   2.199709  4.763859   \n",
              "3998  3998 -4.008004 -1.779337   2.366397    -0.200329   2.161435  0.214488   \n",
              "3999  3999  0.278540 -1.715505   0.121217    -1.154075   1.266677 -0.776571   \n",
              "\n",
              "       Acidity Quality  \n",
              "0    -0.491590    good  \n",
              "1    -0.722809    good  \n",
              "2     2.621636     bad  \n",
              "3     0.790723    good  \n",
              "4     0.501984    good  \n",
              "...        ...     ...  \n",
              "3995  0.137784     bad  \n",
              "3996  1.854235    good  \n",
              "3997 -1.334611     bad  \n",
              "3998 -2.229720    good  \n",
              "3999  1.599796    good  \n",
              "\n",
              "[4000 rows x 9 columns]"
            ],
            "text/html": [
              "\n",
              "  <div id=\"df-6dee1abf-832a-4b57-beed-992fa3c4cbde\" class=\"colab-df-container\">\n",
              "    <div>\n",
              "<style scoped>\n",
              "    .dataframe tbody tr th:only-of-type {\n",
              "        vertical-align: middle;\n",
              "    }\n",
              "\n",
              "    .dataframe tbody tr th {\n",
              "        vertical-align: top;\n",
              "    }\n",
              "\n",
              "    .dataframe thead th {\n",
              "        text-align: right;\n",
              "    }\n",
              "</style>\n",
              "<table border=\"1\" class=\"dataframe\">\n",
              "  <thead>\n",
              "    <tr style=\"text-align: right;\">\n",
              "      <th></th>\n",
              "      <th>A_id</th>\n",
              "      <th>Size</th>\n",
              "      <th>Weight</th>\n",
              "      <th>Sweetness</th>\n",
              "      <th>Crunchiness</th>\n",
              "      <th>Juiciness</th>\n",
              "      <th>Ripeness</th>\n",
              "      <th>Acidity</th>\n",
              "      <th>Quality</th>\n",
              "    </tr>\n",
              "  </thead>\n",
              "  <tbody>\n",
              "    <tr>\n",
              "      <th>0</th>\n",
              "      <td>0</td>\n",
              "      <td>-3.970049</td>\n",
              "      <td>-2.512336</td>\n",
              "      <td>5.346330</td>\n",
              "      <td>-1.012009</td>\n",
              "      <td>1.844900</td>\n",
              "      <td>0.329840</td>\n",
              "      <td>-0.491590</td>\n",
              "      <td>good</td>\n",
              "    </tr>\n",
              "    <tr>\n",
              "      <th>1</th>\n",
              "      <td>1</td>\n",
              "      <td>-1.195217</td>\n",
              "      <td>-2.839257</td>\n",
              "      <td>3.664059</td>\n",
              "      <td>1.588232</td>\n",
              "      <td>0.853286</td>\n",
              "      <td>0.867530</td>\n",
              "      <td>-0.722809</td>\n",
              "      <td>good</td>\n",
              "    </tr>\n",
              "    <tr>\n",
              "      <th>2</th>\n",
              "      <td>2</td>\n",
              "      <td>-0.292024</td>\n",
              "      <td>-1.351282</td>\n",
              "      <td>-1.738429</td>\n",
              "      <td>-0.342616</td>\n",
              "      <td>2.838636</td>\n",
              "      <td>-0.038033</td>\n",
              "      <td>2.621636</td>\n",
              "      <td>bad</td>\n",
              "    </tr>\n",
              "    <tr>\n",
              "      <th>3</th>\n",
              "      <td>3</td>\n",
              "      <td>-0.657196</td>\n",
              "      <td>-2.271627</td>\n",
              "      <td>1.324874</td>\n",
              "      <td>-0.097875</td>\n",
              "      <td>3.637970</td>\n",
              "      <td>-3.413761</td>\n",
              "      <td>0.790723</td>\n",
              "      <td>good</td>\n",
              "    </tr>\n",
              "    <tr>\n",
              "      <th>4</th>\n",
              "      <td>4</td>\n",
              "      <td>1.364217</td>\n",
              "      <td>-1.296612</td>\n",
              "      <td>-0.384658</td>\n",
              "      <td>-0.553006</td>\n",
              "      <td>3.030874</td>\n",
              "      <td>-1.303849</td>\n",
              "      <td>0.501984</td>\n",
              "      <td>good</td>\n",
              "    </tr>\n",
              "    <tr>\n",
              "      <th>...</th>\n",
              "      <td>...</td>\n",
              "      <td>...</td>\n",
              "      <td>...</td>\n",
              "      <td>...</td>\n",
              "      <td>...</td>\n",
              "      <td>...</td>\n",
              "      <td>...</td>\n",
              "      <td>...</td>\n",
              "      <td>...</td>\n",
              "    </tr>\n",
              "    <tr>\n",
              "      <th>3995</th>\n",
              "      <td>3995</td>\n",
              "      <td>0.059386</td>\n",
              "      <td>-1.067408</td>\n",
              "      <td>-3.714549</td>\n",
              "      <td>0.473052</td>\n",
              "      <td>1.697986</td>\n",
              "      <td>2.244055</td>\n",
              "      <td>0.137784</td>\n",
              "      <td>bad</td>\n",
              "    </tr>\n",
              "    <tr>\n",
              "      <th>3996</th>\n",
              "      <td>3996</td>\n",
              "      <td>-0.293118</td>\n",
              "      <td>1.949253</td>\n",
              "      <td>-0.204020</td>\n",
              "      <td>-0.640196</td>\n",
              "      <td>0.024523</td>\n",
              "      <td>-1.087900</td>\n",
              "      <td>1.854235</td>\n",
              "      <td>good</td>\n",
              "    </tr>\n",
              "    <tr>\n",
              "      <th>3997</th>\n",
              "      <td>3997</td>\n",
              "      <td>-2.634515</td>\n",
              "      <td>-2.138247</td>\n",
              "      <td>-2.440461</td>\n",
              "      <td>0.657223</td>\n",
              "      <td>2.199709</td>\n",
              "      <td>4.763859</td>\n",
              "      <td>-1.334611</td>\n",
              "      <td>bad</td>\n",
              "    </tr>\n",
              "    <tr>\n",
              "      <th>3998</th>\n",
              "      <td>3998</td>\n",
              "      <td>-4.008004</td>\n",
              "      <td>-1.779337</td>\n",
              "      <td>2.366397</td>\n",
              "      <td>-0.200329</td>\n",
              "      <td>2.161435</td>\n",
              "      <td>0.214488</td>\n",
              "      <td>-2.229720</td>\n",
              "      <td>good</td>\n",
              "    </tr>\n",
              "    <tr>\n",
              "      <th>3999</th>\n",
              "      <td>3999</td>\n",
              "      <td>0.278540</td>\n",
              "      <td>-1.715505</td>\n",
              "      <td>0.121217</td>\n",
              "      <td>-1.154075</td>\n",
              "      <td>1.266677</td>\n",
              "      <td>-0.776571</td>\n",
              "      <td>1.599796</td>\n",
              "      <td>good</td>\n",
              "    </tr>\n",
              "  </tbody>\n",
              "</table>\n",
              "<p>4000 rows × 9 columns</p>\n",
              "</div>\n",
              "    <div class=\"colab-df-buttons\">\n",
              "\n",
              "  <div class=\"colab-df-container\">\n",
              "    <button class=\"colab-df-convert\" onclick=\"convertToInteractive('df-6dee1abf-832a-4b57-beed-992fa3c4cbde')\"\n",
              "            title=\"Convert this dataframe to an interactive table.\"\n",
              "            style=\"display:none;\">\n",
              "\n",
              "  <svg xmlns=\"http://www.w3.org/2000/svg\" height=\"24px\" viewBox=\"0 -960 960 960\">\n",
              "    <path d=\"M120-120v-720h720v720H120Zm60-500h600v-160H180v160Zm220 220h160v-160H400v160Zm0 220h160v-160H400v160ZM180-400h160v-160H180v160Zm440 0h160v-160H620v160ZM180-180h160v-160H180v160Zm440 0h160v-160H620v160Z\"/>\n",
              "  </svg>\n",
              "    </button>\n",
              "\n",
              "  <style>\n",
              "    .colab-df-container {\n",
              "      display:flex;\n",
              "      gap: 12px;\n",
              "    }\n",
              "\n",
              "    .colab-df-convert {\n",
              "      background-color: #E8F0FE;\n",
              "      border: none;\n",
              "      border-radius: 50%;\n",
              "      cursor: pointer;\n",
              "      display: none;\n",
              "      fill: #1967D2;\n",
              "      height: 32px;\n",
              "      padding: 0 0 0 0;\n",
              "      width: 32px;\n",
              "    }\n",
              "\n",
              "    .colab-df-convert:hover {\n",
              "      background-color: #E2EBFA;\n",
              "      box-shadow: 0px 1px 2px rgba(60, 64, 67, 0.3), 0px 1px 3px 1px rgba(60, 64, 67, 0.15);\n",
              "      fill: #174EA6;\n",
              "    }\n",
              "\n",
              "    .colab-df-buttons div {\n",
              "      margin-bottom: 4px;\n",
              "    }\n",
              "\n",
              "    [theme=dark] .colab-df-convert {\n",
              "      background-color: #3B4455;\n",
              "      fill: #D2E3FC;\n",
              "    }\n",
              "\n",
              "    [theme=dark] .colab-df-convert:hover {\n",
              "      background-color: #434B5C;\n",
              "      box-shadow: 0px 1px 3px 1px rgba(0, 0, 0, 0.15);\n",
              "      filter: drop-shadow(0px 1px 2px rgba(0, 0, 0, 0.3));\n",
              "      fill: #FFFFFF;\n",
              "    }\n",
              "  </style>\n",
              "\n",
              "    <script>\n",
              "      const buttonEl =\n",
              "        document.querySelector('#df-6dee1abf-832a-4b57-beed-992fa3c4cbde button.colab-df-convert');\n",
              "      buttonEl.style.display =\n",
              "        google.colab.kernel.accessAllowed ? 'block' : 'none';\n",
              "\n",
              "      async function convertToInteractive(key) {\n",
              "        const element = document.querySelector('#df-6dee1abf-832a-4b57-beed-992fa3c4cbde');\n",
              "        const dataTable =\n",
              "          await google.colab.kernel.invokeFunction('convertToInteractive',\n",
              "                                                    [key], {});\n",
              "        if (!dataTable) return;\n",
              "\n",
              "        const docLinkHtml = 'Like what you see? Visit the ' +\n",
              "          '<a target=\"_blank\" href=https://colab.research.google.com/notebooks/data_table.ipynb>data table notebook</a>'\n",
              "          + ' to learn more about interactive tables.';\n",
              "        element.innerHTML = '';\n",
              "        dataTable['output_type'] = 'display_data';\n",
              "        await google.colab.output.renderOutput(dataTable, element);\n",
              "        const docLink = document.createElement('div');\n",
              "        docLink.innerHTML = docLinkHtml;\n",
              "        element.appendChild(docLink);\n",
              "      }\n",
              "    </script>\n",
              "  </div>\n",
              "\n",
              "\n",
              "<div id=\"df-59d6afad-3e9e-49ed-a21a-10158517a4d6\">\n",
              "  <button class=\"colab-df-quickchart\" onclick=\"quickchart('df-59d6afad-3e9e-49ed-a21a-10158517a4d6')\"\n",
              "            title=\"Suggest charts\"\n",
              "            style=\"display:none;\">\n",
              "\n",
              "<svg xmlns=\"http://www.w3.org/2000/svg\" height=\"24px\"viewBox=\"0 0 24 24\"\n",
              "     width=\"24px\">\n",
              "    <g>\n",
              "        <path d=\"M19 3H5c-1.1 0-2 .9-2 2v14c0 1.1.9 2 2 2h14c1.1 0 2-.9 2-2V5c0-1.1-.9-2-2-2zM9 17H7v-7h2v7zm4 0h-2V7h2v10zm4 0h-2v-4h2v4z\"/>\n",
              "    </g>\n",
              "</svg>\n",
              "  </button>\n",
              "\n",
              "<style>\n",
              "  .colab-df-quickchart {\n",
              "      --bg-color: #E8F0FE;\n",
              "      --fill-color: #1967D2;\n",
              "      --hover-bg-color: #E2EBFA;\n",
              "      --hover-fill-color: #174EA6;\n",
              "      --disabled-fill-color: #AAA;\n",
              "      --disabled-bg-color: #DDD;\n",
              "  }\n",
              "\n",
              "  [theme=dark] .colab-df-quickchart {\n",
              "      --bg-color: #3B4455;\n",
              "      --fill-color: #D2E3FC;\n",
              "      --hover-bg-color: #434B5C;\n",
              "      --hover-fill-color: #FFFFFF;\n",
              "      --disabled-bg-color: #3B4455;\n",
              "      --disabled-fill-color: #666;\n",
              "  }\n",
              "\n",
              "  .colab-df-quickchart {\n",
              "    background-color: var(--bg-color);\n",
              "    border: none;\n",
              "    border-radius: 50%;\n",
              "    cursor: pointer;\n",
              "    display: none;\n",
              "    fill: var(--fill-color);\n",
              "    height: 32px;\n",
              "    padding: 0;\n",
              "    width: 32px;\n",
              "  }\n",
              "\n",
              "  .colab-df-quickchart:hover {\n",
              "    background-color: var(--hover-bg-color);\n",
              "    box-shadow: 0 1px 2px rgba(60, 64, 67, 0.3), 0 1px 3px 1px rgba(60, 64, 67, 0.15);\n",
              "    fill: var(--button-hover-fill-color);\n",
              "  }\n",
              "\n",
              "  .colab-df-quickchart-complete:disabled,\n",
              "  .colab-df-quickchart-complete:disabled:hover {\n",
              "    background-color: var(--disabled-bg-color);\n",
              "    fill: var(--disabled-fill-color);\n",
              "    box-shadow: none;\n",
              "  }\n",
              "\n",
              "  .colab-df-spinner {\n",
              "    border: 2px solid var(--fill-color);\n",
              "    border-color: transparent;\n",
              "    border-bottom-color: var(--fill-color);\n",
              "    animation:\n",
              "      spin 1s steps(1) infinite;\n",
              "  }\n",
              "\n",
              "  @keyframes spin {\n",
              "    0% {\n",
              "      border-color: transparent;\n",
              "      border-bottom-color: var(--fill-color);\n",
              "      border-left-color: var(--fill-color);\n",
              "    }\n",
              "    20% {\n",
              "      border-color: transparent;\n",
              "      border-left-color: var(--fill-color);\n",
              "      border-top-color: var(--fill-color);\n",
              "    }\n",
              "    30% {\n",
              "      border-color: transparent;\n",
              "      border-left-color: var(--fill-color);\n",
              "      border-top-color: var(--fill-color);\n",
              "      border-right-color: var(--fill-color);\n",
              "    }\n",
              "    40% {\n",
              "      border-color: transparent;\n",
              "      border-right-color: var(--fill-color);\n",
              "      border-top-color: var(--fill-color);\n",
              "    }\n",
              "    60% {\n",
              "      border-color: transparent;\n",
              "      border-right-color: var(--fill-color);\n",
              "    }\n",
              "    80% {\n",
              "      border-color: transparent;\n",
              "      border-right-color: var(--fill-color);\n",
              "      border-bottom-color: var(--fill-color);\n",
              "    }\n",
              "    90% {\n",
              "      border-color: transparent;\n",
              "      border-bottom-color: var(--fill-color);\n",
              "    }\n",
              "  }\n",
              "</style>\n",
              "\n",
              "  <script>\n",
              "    async function quickchart(key) {\n",
              "      const quickchartButtonEl =\n",
              "        document.querySelector('#' + key + ' button');\n",
              "      quickchartButtonEl.disabled = true;  // To prevent multiple clicks.\n",
              "      quickchartButtonEl.classList.add('colab-df-spinner');\n",
              "      try {\n",
              "        const charts = await google.colab.kernel.invokeFunction(\n",
              "            'suggestCharts', [key], {});\n",
              "      } catch (error) {\n",
              "        console.error('Error during call to suggestCharts:', error);\n",
              "      }\n",
              "      quickchartButtonEl.classList.remove('colab-df-spinner');\n",
              "      quickchartButtonEl.classList.add('colab-df-quickchart-complete');\n",
              "    }\n",
              "    (() => {\n",
              "      let quickchartButtonEl =\n",
              "        document.querySelector('#df-59d6afad-3e9e-49ed-a21a-10158517a4d6 button');\n",
              "      quickchartButtonEl.style.display =\n",
              "        google.colab.kernel.accessAllowed ? 'block' : 'none';\n",
              "    })();\n",
              "  </script>\n",
              "</div>\n",
              "    </div>\n",
              "  </div>\n"
            ],
            "application/vnd.google.colaboratory.intrinsic+json": {
              "type": "dataframe",
              "variable_name": "df",
              "summary": "{\n  \"name\": \"df\",\n  \"rows\": 4000,\n  \"fields\": [\n    {\n      \"column\": \"A_id\",\n      \"properties\": {\n        \"dtype\": \"number\",\n        \"std\": 1154,\n        \"min\": 0,\n        \"max\": 3999,\n        \"num_unique_values\": 4000,\n        \"samples\": [\n          555,\n          3491,\n          527\n        ],\n        \"semantic_type\": \"\",\n        \"description\": \"\"\n      }\n    },\n    {\n      \"column\": \"Size\",\n      \"properties\": {\n        \"dtype\": \"number\",\n        \"std\": 1.928058688854979,\n        \"min\": -7.151703059,\n        \"max\": 6.406366899,\n        \"num_unique_values\": 4000,\n        \"samples\": [\n          3.099410637,\n          1.439787602,\n          1.20678634\n        ],\n        \"semantic_type\": \"\",\n        \"description\": \"\"\n      }\n    },\n    {\n      \"column\": \"Weight\",\n      \"properties\": {\n        \"dtype\": \"number\",\n        \"std\": 1.6025072141517547,\n        \"min\": -7.149847675,\n        \"max\": 5.79071359,\n        \"num_unique_values\": 4000,\n        \"samples\": [\n          -1.691560679,\n          -0.223976263,\n          -0.508979201\n        ],\n        \"semantic_type\": \"\",\n        \"description\": \"\"\n      }\n    },\n    {\n      \"column\": \"Sweetness\",\n      \"properties\": {\n        \"dtype\": \"number\",\n        \"std\": 1.943440658920452,\n        \"min\": -6.894485494,\n        \"max\": 6.374915513,\n        \"num_unique_values\": 4000,\n        \"samples\": [\n          -3.679364,\n          -0.061448613,\n          1.736206944\n        ],\n        \"semantic_type\": \"\",\n        \"description\": \"\"\n      }\n    },\n    {\n      \"column\": \"Crunchiness\",\n      \"properties\": {\n        \"dtype\": \"number\",\n        \"std\": 1.402757204211963,\n        \"min\": -6.055057805,\n        \"max\": 7.619851801,\n        \"num_unique_values\": 4000,\n        \"samples\": [\n          0.963605627,\n          1.412704629,\n          1.301010753\n        ],\n        \"semantic_type\": \"\",\n        \"description\": \"\"\n      }\n    },\n    {\n      \"column\": \"Juiciness\",\n      \"properties\": {\n        \"dtype\": \"number\",\n        \"std\": 1.9302856730942946,\n        \"min\": -5.961897048,\n        \"max\": 7.364402864,\n        \"num_unique_values\": 4000,\n        \"samples\": [\n          0.538102393,\n          0.885640988,\n          -0.556148589\n        ],\n        \"semantic_type\": \"\",\n        \"description\": \"\"\n      }\n    },\n    {\n      \"column\": \"Ripeness\",\n      \"properties\": {\n        \"dtype\": \"number\",\n        \"std\": 1.8744267757033417,\n        \"min\": -5.864598918,\n        \"max\": 7.237836684,\n        \"num_unique_values\": 4000,\n        \"samples\": [\n          1.660099378,\n          -2.191810607,\n          -1.332051678\n        ],\n        \"semantic_type\": \"\",\n        \"description\": \"\"\n      }\n    },\n    {\n      \"column\": \"Acidity\",\n      \"properties\": {\n        \"dtype\": \"number\",\n        \"std\": 2.110269636420919,\n        \"min\": -7.010538475,\n        \"max\": 7.404736238,\n        \"num_unique_values\": 4000,\n        \"samples\": [\n          -0.544761148,\n          1.952776768,\n          1.009155619\n        ],\n        \"semantic_type\": \"\",\n        \"description\": \"\"\n      }\n    },\n    {\n      \"column\": \"Quality\",\n      \"properties\": {\n        \"dtype\": \"category\",\n        \"num_unique_values\": 2,\n        \"samples\": [\n          \"bad\",\n          \"good\"\n        ],\n        \"semantic_type\": \"\",\n        \"description\": \"\"\n      }\n    }\n  ]\n}"
            }
          },
          "metadata": {},
          "execution_count": 16
        }
      ],
      "source": [
        "df"
      ]
    },
    {
      "cell_type": "code",
      "execution_count": null,
      "metadata": {
        "colab": {
          "base_uri": "https://localhost:8080/"
        },
        "id": "qboZEEd6cHIW",
        "outputId": "05910df0-6d2c-41cf-b1b0-776ae428cf6c"
      },
      "outputs": [
        {
          "output_type": "stream",
          "name": "stdout",
          "text": [
            "<class 'pandas.core.frame.DataFrame'>\n",
            "RangeIndex: 4000 entries, 0 to 3999\n",
            "Data columns (total 9 columns):\n",
            " #   Column       Non-Null Count  Dtype  \n",
            "---  ------       --------------  -----  \n",
            " 0   A_id         4000 non-null   int64  \n",
            " 1   Size         4000 non-null   float64\n",
            " 2   Weight       4000 non-null   float64\n",
            " 3   Sweetness    4000 non-null   float64\n",
            " 4   Crunchiness  4000 non-null   float64\n",
            " 5   Juiciness    4000 non-null   float64\n",
            " 6   Ripeness     4000 non-null   float64\n",
            " 7   Acidity      4000 non-null   float64\n",
            " 8   Quality      4000 non-null   object \n",
            "dtypes: float64(7), int64(1), object(1)\n",
            "memory usage: 281.4+ KB\n"
          ]
        }
      ],
      "source": [
        "df.info()"
      ]
    },
    {
      "cell_type": "code",
      "execution_count": null,
      "metadata": {
        "colab": {
          "base_uri": "https://localhost:8080/"
        },
        "id": "eP3CThGfcHIW",
        "outputId": "39aa09d7-947d-4e52-de4d-e85b0459e2f3"
      },
      "outputs": [
        {
          "output_type": "execute_result",
          "data": {
            "text/plain": [
              "good    2004\n",
              "bad     1996\n",
              "Name: Quality, dtype: int64"
            ]
          },
          "metadata": {},
          "execution_count": 18
        }
      ],
      "source": [
        "df.Quality.value_counts()"
      ]
    },
    {
      "cell_type": "code",
      "execution_count": null,
      "metadata": {
        "id": "WHC30L9ucHIW"
      },
      "outputs": [],
      "source": [
        "from sklearn.preprocessing import MinMaxScaler"
      ]
    },
    {
      "cell_type": "code",
      "execution_count": null,
      "metadata": {
        "id": "n91wmAXPcHIX"
      },
      "outputs": [],
      "source": [
        "# Separa X e y\n",
        "X = df.drop(['A_id', 'Quality'], axis=1)\n",
        "y = df['Quality'].apply(lambda x: 1 if x == 'good' else 0)\n",
        "\n",
        "# Separa X e y de treinamento (70%) validação (10%) e teste (20%)\n",
        "X_train, X_temp, y_train, y_temp = train_test_split(X, y, test_size=0.3, random_state=42)\n",
        "X_val, X_test, y_val, y_test = train_test_split(X_temp, y_temp, test_size=2/3, random_state=42)\n",
        "\n",
        "# Normaliza os dados de X\n",
        "scaler = MinMaxScaler()\n",
        "X_train = scaler.fit_transform(X_train)\n",
        "X_val = scaler.transform(X_val)\n",
        "X_test = scaler.transform(X_test)"
      ]
    },
    {
      "cell_type": "code",
      "execution_count": null,
      "metadata": {
        "id": "BiYPfEm0cHIX"
      },
      "outputs": [],
      "source": [
        "import tensorflow as tf\n",
        "from tensorflow.keras.models import Sequential\n",
        "from tensorflow.keras.layers import Dense, BatchNormalization, Dropout\n",
        "from tensorflow.keras.callbacks import EarlyStopping, ReduceLROnPlateau"
      ]
    },
    {
      "cell_type": "code",
      "execution_count": null,
      "metadata": {
        "id": "B10N3-3kcHIX"
      },
      "outputs": [],
      "source": [
        "# Definindo a estrutura da rede neural\n",
        "model = Sequential([\n",
        "    # Primeira camada densa com normalização em lote e ativação ReLU\n",
        "    Dense(64, input_shape=(X_train.shape[1],), activation='relu'),\n",
        "    BatchNormalization(),\n",
        "    Dropout(0.5), # Dropout para reduzir o overfitting\n",
        "\n",
        "    # Segunda camada densa com normalização em lote e ativação ReLU\n",
        "    Dense(64, activation='relu'),\n",
        "    BatchNormalization(),\n",
        "    Dropout(0.5), # Novamente, dropout para reduzir o overfitting\n",
        "\n",
        "    # Camada de saída com ativação sigmoid para classificação binária\n",
        "    Dense(1, activation='sigmoid')\n",
        "])"
      ]
    },
    {
      "cell_type": "code",
      "execution_count": null,
      "metadata": {
        "id": "ZFPWDGyqcHIX"
      },
      "outputs": [],
      "source": [
        "# Compilando o modelo\n",
        "# A função de perda 'binary_crossentropy' é adequada para classificação binária\n",
        "# O otimizador Adam é eficiente e popular para treinamento de redes neurais\n",
        "# A métrica 'accuracy' é usada para avaliar o desempenho do modelo\n",
        "model.compile(optimizer='adam', loss='binary_crossentropy', metrics=['accuracy'])"
      ]
    },
    {
      "cell_type": "code",
      "execution_count": null,
      "metadata": {
        "id": "1G8xUh0qcHIX"
      },
      "outputs": [],
      "source": [
        "# Callbacks\n",
        "\n",
        "# EarlyStopping para parar o treinamento quando a 'val_loss' não diminuir mais\n",
        "early_stopping = EarlyStopping(monitor='val_loss', patience=10, verbose=1, mode='min', restore_best_weights=True)\n",
        "\n",
        "# ReduceLROnPlateau para reduzir a taxa de aprendizagem quando a 'val_loss' parar de diminuir\n",
        "reduce_lr = ReduceLROnPlateau(monitor='val_loss', factor=0.2, patience=5, verbose=1, mode='min')"
      ]
    },
    {
      "cell_type": "code",
      "execution_count": null,
      "metadata": {
        "colab": {
          "base_uri": "https://localhost:8080/"
        },
        "id": "OVhKWfb6cHIX",
        "outputId": "9e54c7a5-52db-485f-eccd-29512219d022"
      },
      "outputs": [
        {
          "output_type": "stream",
          "name": "stdout",
          "text": [
            "Epoch 1/100\n",
            "88/88 [==============================] - 5s 16ms/step - loss: 0.7856 - accuracy: 0.6046 - val_loss: 0.6566 - val_accuracy: 0.7125 - lr: 0.0010\n",
            "Epoch 2/100\n",
            "88/88 [==============================] - 1s 7ms/step - loss: 0.5789 - accuracy: 0.7154 - val_loss: 0.6268 - val_accuracy: 0.6400 - lr: 0.0010\n",
            "Epoch 3/100\n",
            "88/88 [==============================] - 1s 7ms/step - loss: 0.5660 - accuracy: 0.7211 - val_loss: 0.5834 - val_accuracy: 0.6975 - lr: 0.0010\n",
            "Epoch 4/100\n",
            "88/88 [==============================] - 1s 8ms/step - loss: 0.5181 - accuracy: 0.7514 - val_loss: 0.5276 - val_accuracy: 0.7575 - lr: 0.0010\n",
            "Epoch 5/100\n",
            "88/88 [==============================] - 1s 7ms/step - loss: 0.4885 - accuracy: 0.7682 - val_loss: 0.4624 - val_accuracy: 0.8100 - lr: 0.0010\n",
            "Epoch 6/100\n",
            "88/88 [==============================] - 1s 11ms/step - loss: 0.4751 - accuracy: 0.7632 - val_loss: 0.3965 - val_accuracy: 0.8700 - lr: 0.0010\n",
            "Epoch 7/100\n",
            "88/88 [==============================] - 1s 9ms/step - loss: 0.4554 - accuracy: 0.7839 - val_loss: 0.3562 - val_accuracy: 0.8750 - lr: 0.0010\n",
            "Epoch 8/100\n",
            "88/88 [==============================] - 1s 8ms/step - loss: 0.4649 - accuracy: 0.7743 - val_loss: 0.3448 - val_accuracy: 0.8750 - lr: 0.0010\n",
            "Epoch 9/100\n",
            "88/88 [==============================] - 1s 9ms/step - loss: 0.4557 - accuracy: 0.7821 - val_loss: 0.3310 - val_accuracy: 0.8750 - lr: 0.0010\n",
            "Epoch 10/100\n",
            "88/88 [==============================] - 1s 6ms/step - loss: 0.4409 - accuracy: 0.7932 - val_loss: 0.3303 - val_accuracy: 0.8700 - lr: 0.0010\n",
            "Epoch 11/100\n",
            "88/88 [==============================] - 1s 6ms/step - loss: 0.4323 - accuracy: 0.7957 - val_loss: 0.3269 - val_accuracy: 0.8725 - lr: 0.0010\n",
            "Epoch 12/100\n",
            "88/88 [==============================] - 1s 8ms/step - loss: 0.4278 - accuracy: 0.7879 - val_loss: 0.3172 - val_accuracy: 0.8625 - lr: 0.0010\n",
            "Epoch 13/100\n",
            "88/88 [==============================] - 1s 10ms/step - loss: 0.4299 - accuracy: 0.8000 - val_loss: 0.3171 - val_accuracy: 0.8800 - lr: 0.0010\n",
            "Epoch 14/100\n",
            "88/88 [==============================] - 1s 9ms/step - loss: 0.4295 - accuracy: 0.8021 - val_loss: 0.3205 - val_accuracy: 0.8575 - lr: 0.0010\n",
            "Epoch 15/100\n",
            "88/88 [==============================] - 1s 9ms/step - loss: 0.4171 - accuracy: 0.7982 - val_loss: 0.3153 - val_accuracy: 0.8625 - lr: 0.0010\n",
            "Epoch 16/100\n",
            "88/88 [==============================] - 1s 13ms/step - loss: 0.3925 - accuracy: 0.8182 - val_loss: 0.3095 - val_accuracy: 0.8800 - lr: 0.0010\n",
            "Epoch 17/100\n",
            "88/88 [==============================] - 1s 16ms/step - loss: 0.4004 - accuracy: 0.8139 - val_loss: 0.3154 - val_accuracy: 0.8650 - lr: 0.0010\n",
            "Epoch 18/100\n",
            "88/88 [==============================] - 1s 11ms/step - loss: 0.4130 - accuracy: 0.8054 - val_loss: 0.3129 - val_accuracy: 0.8800 - lr: 0.0010\n",
            "Epoch 19/100\n",
            "88/88 [==============================] - 1s 7ms/step - loss: 0.4224 - accuracy: 0.8029 - val_loss: 0.3083 - val_accuracy: 0.8775 - lr: 0.0010\n",
            "Epoch 20/100\n",
            "88/88 [==============================] - 1s 7ms/step - loss: 0.3879 - accuracy: 0.8232 - val_loss: 0.3149 - val_accuracy: 0.8775 - lr: 0.0010\n",
            "Epoch 21/100\n",
            "88/88 [==============================] - 1s 13ms/step - loss: 0.3970 - accuracy: 0.8182 - val_loss: 0.3021 - val_accuracy: 0.8850 - lr: 0.0010\n",
            "Epoch 22/100\n",
            "88/88 [==============================] - 1s 7ms/step - loss: 0.4039 - accuracy: 0.8129 - val_loss: 0.3000 - val_accuracy: 0.8825 - lr: 0.0010\n",
            "Epoch 23/100\n",
            "88/88 [==============================] - 1s 7ms/step - loss: 0.3952 - accuracy: 0.8164 - val_loss: 0.3117 - val_accuracy: 0.8750 - lr: 0.0010\n",
            "Epoch 24/100\n",
            "88/88 [==============================] - 1s 7ms/step - loss: 0.4014 - accuracy: 0.8161 - val_loss: 0.3024 - val_accuracy: 0.8925 - lr: 0.0010\n",
            "Epoch 25/100\n",
            "88/88 [==============================] - 1s 7ms/step - loss: 0.3971 - accuracy: 0.8193 - val_loss: 0.3067 - val_accuracy: 0.8850 - lr: 0.0010\n",
            "Epoch 26/100\n",
            "88/88 [==============================] - 0s 4ms/step - loss: 0.3901 - accuracy: 0.8271 - val_loss: 0.2986 - val_accuracy: 0.8875 - lr: 0.0010\n",
            "Epoch 27/100\n",
            "88/88 [==============================] - 0s 4ms/step - loss: 0.3872 - accuracy: 0.8189 - val_loss: 0.3041 - val_accuracy: 0.8825 - lr: 0.0010\n",
            "Epoch 28/100\n",
            "88/88 [==============================] - 0s 4ms/step - loss: 0.3842 - accuracy: 0.8196 - val_loss: 0.3004 - val_accuracy: 0.8800 - lr: 0.0010\n",
            "Epoch 29/100\n",
            "88/88 [==============================] - 0s 3ms/step - loss: 0.3858 - accuracy: 0.8246 - val_loss: 0.3082 - val_accuracy: 0.8775 - lr: 0.0010\n",
            "Epoch 30/100\n",
            "88/88 [==============================] - 0s 3ms/step - loss: 0.3983 - accuracy: 0.8164 - val_loss: 0.2973 - val_accuracy: 0.8850 - lr: 0.0010\n",
            "Epoch 31/100\n",
            "88/88 [==============================] - 0s 3ms/step - loss: 0.3857 - accuracy: 0.8229 - val_loss: 0.2981 - val_accuracy: 0.8825 - lr: 0.0010\n",
            "Epoch 32/100\n",
            "88/88 [==============================] - 0s 4ms/step - loss: 0.3847 - accuracy: 0.8186 - val_loss: 0.3004 - val_accuracy: 0.8925 - lr: 0.0010\n",
            "Epoch 33/100\n",
            "88/88 [==============================] - 0s 4ms/step - loss: 0.3752 - accuracy: 0.8289 - val_loss: 0.3035 - val_accuracy: 0.8900 - lr: 0.0010\n",
            "Epoch 34/100\n",
            "88/88 [==============================] - 0s 4ms/step - loss: 0.3921 - accuracy: 0.8175 - val_loss: 0.3035 - val_accuracy: 0.8800 - lr: 0.0010\n",
            "Epoch 35/100\n",
            "88/88 [==============================] - 0s 3ms/step - loss: 0.3750 - accuracy: 0.8211 - val_loss: 0.2969 - val_accuracy: 0.8975 - lr: 0.0010\n",
            "Epoch 36/100\n",
            "88/88 [==============================] - 0s 3ms/step - loss: 0.3940 - accuracy: 0.8229 - val_loss: 0.2945 - val_accuracy: 0.8900 - lr: 0.0010\n",
            "Epoch 37/100\n",
            "88/88 [==============================] - 0s 3ms/step - loss: 0.3667 - accuracy: 0.8275 - val_loss: 0.3000 - val_accuracy: 0.8750 - lr: 0.0010\n",
            "Epoch 38/100\n",
            "88/88 [==============================] - 0s 3ms/step - loss: 0.3933 - accuracy: 0.8143 - val_loss: 0.3177 - val_accuracy: 0.8850 - lr: 0.0010\n",
            "Epoch 39/100\n",
            "88/88 [==============================] - 0s 3ms/step - loss: 0.3901 - accuracy: 0.8211 - val_loss: 0.2948 - val_accuracy: 0.9000 - lr: 0.0010\n",
            "Epoch 40/100\n",
            "88/88 [==============================] - 0s 3ms/step - loss: 0.3754 - accuracy: 0.8211 - val_loss: 0.2936 - val_accuracy: 0.8875 - lr: 0.0010\n",
            "Epoch 41/100\n",
            "88/88 [==============================] - 1s 6ms/step - loss: 0.3680 - accuracy: 0.8286 - val_loss: 0.2936 - val_accuracy: 0.8900 - lr: 0.0010\n",
            "Epoch 42/100\n",
            "88/88 [==============================] - 0s 6ms/step - loss: 0.3855 - accuracy: 0.8175 - val_loss: 0.3031 - val_accuracy: 0.8825 - lr: 0.0010\n",
            "Epoch 43/100\n",
            "88/88 [==============================] - 1s 6ms/step - loss: 0.3699 - accuracy: 0.8300 - val_loss: 0.2985 - val_accuracy: 0.8925 - lr: 0.0010\n",
            "Epoch 44/100\n",
            "88/88 [==============================] - 1s 6ms/step - loss: 0.3856 - accuracy: 0.8293 - val_loss: 0.2919 - val_accuracy: 0.8925 - lr: 0.0010\n",
            "Epoch 45/100\n",
            "88/88 [==============================] - 0s 5ms/step - loss: 0.3782 - accuracy: 0.8282 - val_loss: 0.2955 - val_accuracy: 0.8875 - lr: 0.0010\n",
            "Epoch 46/100\n",
            "88/88 [==============================] - 0s 5ms/step - loss: 0.3889 - accuracy: 0.8182 - val_loss: 0.2957 - val_accuracy: 0.8950 - lr: 0.0010\n",
            "Epoch 47/100\n",
            "88/88 [==============================] - 0s 3ms/step - loss: 0.3652 - accuracy: 0.8336 - val_loss: 0.2934 - val_accuracy: 0.8875 - lr: 0.0010\n",
            "Epoch 48/100\n",
            "88/88 [==============================] - 0s 3ms/step - loss: 0.3722 - accuracy: 0.8318 - val_loss: 0.2932 - val_accuracy: 0.8900 - lr: 0.0010\n",
            "Epoch 49/100\n",
            "75/88 [========================>.....] - ETA: 0s - loss: 0.3691 - accuracy: 0.8363\n",
            "Epoch 49: ReduceLROnPlateau reducing learning rate to 0.00020000000949949026.\n",
            "88/88 [==============================] - 0s 3ms/step - loss: 0.3648 - accuracy: 0.8364 - val_loss: 0.3005 - val_accuracy: 0.8900 - lr: 0.0010\n",
            "Epoch 50/100\n",
            "88/88 [==============================] - 0s 4ms/step - loss: 0.3655 - accuracy: 0.8325 - val_loss: 0.2892 - val_accuracy: 0.8975 - lr: 2.0000e-04\n",
            "Epoch 51/100\n",
            "88/88 [==============================] - 0s 3ms/step - loss: 0.3583 - accuracy: 0.8471 - val_loss: 0.2865 - val_accuracy: 0.8900 - lr: 2.0000e-04\n",
            "Epoch 52/100\n",
            "88/88 [==============================] - 0s 4ms/step - loss: 0.3489 - accuracy: 0.8411 - val_loss: 0.2865 - val_accuracy: 0.8925 - lr: 2.0000e-04\n",
            "Epoch 53/100\n",
            "88/88 [==============================] - 0s 3ms/step - loss: 0.3644 - accuracy: 0.8393 - val_loss: 0.2890 - val_accuracy: 0.8850 - lr: 2.0000e-04\n",
            "Epoch 54/100\n",
            "88/88 [==============================] - 0s 3ms/step - loss: 0.3674 - accuracy: 0.8339 - val_loss: 0.2855 - val_accuracy: 0.8875 - lr: 2.0000e-04\n",
            "Epoch 55/100\n",
            "88/88 [==============================] - 0s 3ms/step - loss: 0.3569 - accuracy: 0.8425 - val_loss: 0.2852 - val_accuracy: 0.8875 - lr: 2.0000e-04\n",
            "Epoch 56/100\n",
            "88/88 [==============================] - 0s 4ms/step - loss: 0.3636 - accuracy: 0.8382 - val_loss: 0.2860 - val_accuracy: 0.8875 - lr: 2.0000e-04\n",
            "Epoch 57/100\n",
            "88/88 [==============================] - 0s 3ms/step - loss: 0.3665 - accuracy: 0.8339 - val_loss: 0.2831 - val_accuracy: 0.8925 - lr: 2.0000e-04\n",
            "Epoch 58/100\n",
            "88/88 [==============================] - 0s 3ms/step - loss: 0.3669 - accuracy: 0.8396 - val_loss: 0.2858 - val_accuracy: 0.8850 - lr: 2.0000e-04\n",
            "Epoch 59/100\n",
            "88/88 [==============================] - 0s 4ms/step - loss: 0.3669 - accuracy: 0.8339 - val_loss: 0.2849 - val_accuracy: 0.8875 - lr: 2.0000e-04\n",
            "Epoch 60/100\n",
            "88/88 [==============================] - 0s 3ms/step - loss: 0.3483 - accuracy: 0.8418 - val_loss: 0.2826 - val_accuracy: 0.8875 - lr: 2.0000e-04\n",
            "Epoch 61/100\n",
            "88/88 [==============================] - 0s 4ms/step - loss: 0.3564 - accuracy: 0.8350 - val_loss: 0.2835 - val_accuracy: 0.8850 - lr: 2.0000e-04\n",
            "Epoch 62/100\n",
            "88/88 [==============================] - 0s 4ms/step - loss: 0.3711 - accuracy: 0.8279 - val_loss: 0.2878 - val_accuracy: 0.8875 - lr: 2.0000e-04\n",
            "Epoch 63/100\n",
            "88/88 [==============================] - 0s 3ms/step - loss: 0.3634 - accuracy: 0.8389 - val_loss: 0.2851 - val_accuracy: 0.8950 - lr: 2.0000e-04\n",
            "Epoch 64/100\n",
            "88/88 [==============================] - 0s 4ms/step - loss: 0.3602 - accuracy: 0.8389 - val_loss: 0.2864 - val_accuracy: 0.8925 - lr: 2.0000e-04\n",
            "Epoch 65/100\n",
            "78/88 [=========================>....] - ETA: 0s - loss: 0.3564 - accuracy: 0.8309\n",
            "Epoch 65: ReduceLROnPlateau reducing learning rate to 4.0000001899898055e-05.\n",
            "88/88 [==============================] - 0s 3ms/step - loss: 0.3580 - accuracy: 0.8293 - val_loss: 0.2841 - val_accuracy: 0.8950 - lr: 2.0000e-04\n",
            "Epoch 66/100\n",
            "88/88 [==============================] - 0s 3ms/step - loss: 0.3541 - accuracy: 0.8371 - val_loss: 0.2849 - val_accuracy: 0.8975 - lr: 4.0000e-05\n",
            "Epoch 67/100\n",
            "88/88 [==============================] - 0s 3ms/step - loss: 0.3649 - accuracy: 0.8396 - val_loss: 0.2847 - val_accuracy: 0.8975 - lr: 4.0000e-05\n",
            "Epoch 68/100\n",
            "88/88 [==============================] - 0s 3ms/step - loss: 0.3439 - accuracy: 0.8450 - val_loss: 0.2849 - val_accuracy: 0.8925 - lr: 4.0000e-05\n",
            "Epoch 69/100\n",
            "88/88 [==============================] - 0s 3ms/step - loss: 0.3668 - accuracy: 0.8329 - val_loss: 0.2849 - val_accuracy: 0.8925 - lr: 4.0000e-05\n",
            "Epoch 70/100\n",
            "81/88 [==========================>...] - ETA: 0s - loss: 0.3569 - accuracy: 0.8372Restoring model weights from the end of the best epoch: 60.\n",
            "\n",
            "Epoch 70: ReduceLROnPlateau reducing learning rate to 8.000000525498762e-06.\n",
            "88/88 [==============================] - 0s 4ms/step - loss: 0.3588 - accuracy: 0.8368 - val_loss: 0.2846 - val_accuracy: 0.8975 - lr: 4.0000e-05\n",
            "Epoch 70: early stopping\n"
          ]
        }
      ],
      "source": [
        "# Treinando o modelo\n",
        "# Incluímos um validation_split para monitorar a 'val_loss' para os callbacks de EarlyStopping e ReduceLROnPlateau\n",
        "history = model.fit(X_train, y_train,\n",
        "                    epochs=100,\n",
        "                    batch_size=32,\n",
        "                    verbose=1,\n",
        "                    validation_data=(X_val, y_val),\n",
        "                    callbacks=[early_stopping, reduce_lr])"
      ]
    },
    {
      "cell_type": "code",
      "execution_count": null,
      "metadata": {
        "colab": {
          "base_uri": "https://localhost:8080/",
          "height": 489
        },
        "id": "tt192WSTcHIY",
        "outputId": "4e85fbaa-49b9-4314-f765-a28f39b287dc"
      },
      "outputs": [
        {
          "output_type": "stream",
          "name": "stdout",
          "text": [
            "Test Loss: 0.282, Test Accuracy: 0.894\n"
          ]
        },
        {
          "output_type": "display_data",
          "data": {
            "text/plain": [
              "<Figure size 640x480 with 1 Axes>"
            ],
            "image/png": "[encoded data removed]"
          },
          "metadata": {}
        }
      ],
      "source": [
        "avaliar_modelo_binario(model, X_test, y_test, history)"
      ]
    },
    {
      "cell_type": "markdown",
      "metadata": {
        "id": "41hMtFiScHIY"
      },
      "source": [
        "# Execício\n",
        "\n",
        "# Base: ``ObesityDataSet.csv``\n",
        "\n",
        "https://www.kaggle.com/datasets/aravindpcoder/obesity-or-cvd-risk-classifyregressorcluster\n",
        "\n",
        "## 1 - Faça o tratamento dos dados textuais convertendo com get dummies, to categorical ou para numéricos com label encoder."
      ]
    },
    {
      "cell_type": "code",
      "source": [
        "import pandas as pd\n",
        "from sklearn.preprocessing import LabelEncoder, StandardScaler\n",
        "import numpy as np\n",
        "from sklearn.model_selection import train_test_split\n",
        "from tensorflow.keras.models import Sequential\n",
        "from tensorflow.keras.layers import Dense\n",
        "from tensorflow.keras.callbacks import EarlyStopping"
      ],
      "metadata": {
        "id": "Lne3MAeDdk8m"
      },
      "execution_count": null,
      "outputs": []
    },
    {
      "cell_type": "code",
      "execution_count": null,
      "metadata": {
        "id": "Iqj3diINcHIj"
      },
      "outputs": [],
      "source": [
        "df = pd.read_csv('ObesityDataSet.csv')\n",
        "\n",
        "label_encoder = LabelEncoder()\n",
        "\n",
        "df['Gender_encoded'] = label_encoder.fit_transform(df['Gender'])"
      ]
    },
    {
      "cell_type": "markdown",
      "metadata": {
        "id": "TgTWaeGgcHIj"
      },
      "source": [
        "## 2 - Considere a coluna Weight (peso) como a classse alvo para realizar uma regressão.\n",
        "- Prepare os dados, separe os dados em 80% treinamento, 5% validação e 15% teste\n",
        "- Normalize os dados X e y\n",
        "- Defina uma estrutura de Rede Neural Artificial com no mínimo 5 camadas ocultas para fazer a regressão\n",
        "- Compile o modelo\n",
        "- Defina o Eraly stopping de 15 épocas\n",
        "- Treine o modelo por 30 épocas"
      ]
    },
    {
      "cell_type": "code",
      "execution_count": null,
      "metadata": {
        "colab": {
          "base_uri": "https://localhost:8080/"
        },
        "id": "ju5ZqH_6cHIj",
        "outputId": "a0393394-d9fa-4cb3-d179-dd9bcf95be54"
      },
      "outputs": [
        {
          "output_type": "stream",
          "name": "stdout",
          "text": [
            "Epoch 1/30\n",
            "53/53 [==============================] - 2s 7ms/step - loss: 0.7107 - val_loss: 0.4570\n",
            "Epoch 2/30\n",
            "53/53 [==============================] - 0s 3ms/step - loss: 0.3571 - val_loss: 0.1804\n",
            "Epoch 3/30\n",
            "53/53 [==============================] - 0s 3ms/step - loss: 0.1221 - val_loss: 0.0938\n",
            "Epoch 4/30\n",
            "53/53 [==============================] - 0s 3ms/step - loss: 0.0757 - val_loss: 0.0758\n",
            "Epoch 5/30\n",
            "53/53 [==============================] - 0s 3ms/step - loss: 0.0544 - val_loss: 0.0639\n",
            "Epoch 6/30\n",
            "53/53 [==============================] - 0s 3ms/step - loss: 0.0445 - val_loss: 0.0615\n",
            "Epoch 7/30\n",
            "53/53 [==============================] - 0s 3ms/step - loss: 0.0365 - val_loss: 0.0522\n",
            "Epoch 8/30\n",
            "53/53 [==============================] - 0s 4ms/step - loss: 0.0307 - val_loss: 0.0524\n",
            "Epoch 9/30\n",
            "53/53 [==============================] - 0s 3ms/step - loss: 0.0268 - val_loss: 0.0489\n",
            "Epoch 10/30\n",
            "53/53 [==============================] - 0s 4ms/step - loss: 0.0230 - val_loss: 0.0490\n",
            "Epoch 11/30\n",
            "53/53 [==============================] - 0s 3ms/step - loss: 0.0191 - val_loss: 0.0474\n",
            "Epoch 12/30\n",
            "53/53 [==============================] - 0s 3ms/step - loss: 0.0184 - val_loss: 0.0500\n",
            "Epoch 13/30\n",
            "53/53 [==============================] - 0s 4ms/step - loss: 0.0169 - val_loss: 0.0454\n",
            "Epoch 14/30\n",
            "53/53 [==============================] - 0s 3ms/step - loss: 0.0173 - val_loss: 0.0411\n",
            "Epoch 15/30\n",
            "53/53 [==============================] - 0s 3ms/step - loss: 0.0141 - val_loss: 0.0448\n",
            "Epoch 16/30\n",
            "53/53 [==============================] - 0s 4ms/step - loss: 0.0131 - val_loss: 0.0471\n",
            "Epoch 17/30\n",
            "53/53 [==============================] - 0s 5ms/step - loss: 0.0121 - val_loss: 0.0484\n",
            "Epoch 18/30\n",
            "53/53 [==============================] - 0s 5ms/step - loss: 0.0118 - val_loss: 0.0485\n",
            "Epoch 19/30\n",
            "53/53 [==============================] - 0s 4ms/step - loss: 0.0119 - val_loss: 0.0408\n",
            "Epoch 20/30\n",
            "53/53 [==============================] - 0s 5ms/step - loss: 0.0111 - val_loss: 0.0390\n",
            "Epoch 21/30\n",
            "53/53 [==============================] - 0s 4ms/step - loss: 0.0097 - val_loss: 0.0406\n",
            "Epoch 22/30\n",
            "53/53 [==============================] - 0s 5ms/step - loss: 0.0098 - val_loss: 0.0406\n",
            "Epoch 23/30\n",
            "53/53 [==============================] - 0s 5ms/step - loss: 0.0088 - val_loss: 0.0398\n",
            "Epoch 24/30\n",
            "53/53 [==============================] - 0s 5ms/step - loss: 0.0080 - val_loss: 0.0420\n",
            "Epoch 25/30\n",
            "53/53 [==============================] - 0s 5ms/step - loss: 0.0073 - val_loss: 0.0405\n",
            "Epoch 26/30\n",
            "53/53 [==============================] - 0s 6ms/step - loss: 0.0080 - val_loss: 0.0388\n",
            "Epoch 27/30\n",
            "53/53 [==============================] - 0s 4ms/step - loss: 0.0070 - val_loss: 0.0418\n",
            "Epoch 28/30\n",
            "53/53 [==============================] - 0s 4ms/step - loss: 0.0075 - val_loss: 0.0411\n",
            "Epoch 29/30\n",
            "53/53 [==============================] - 0s 3ms/step - loss: 0.0074 - val_loss: 0.0421\n",
            "Epoch 30/30\n",
            "53/53 [==============================] - 0s 3ms/step - loss: 0.0072 - val_loss: 0.0444\n"
          ]
        }
      ],
      "source": [
        "label_encoder = LabelEncoder()\n",
        "for column in df.select_dtypes(include='object').columns:\n",
        "    df[column] = label_encoder.fit_transform(df[column])\n",
        "\n",
        "X = df.drop(columns=['Weight'])\n",
        "y = df['Weight']\n",
        "\n",
        "X_train, X_temp, y_train, y_temp = train_test_split(X, y, test_size=0.2, random_state=42)\n",
        "X_val, X_test, y_val, y_test = train_test_split(X_temp, y_temp, test_size=0.75, random_state=42)\n",
        "\n",
        "scaler = StandardScaler()\n",
        "X_train_scaled = scaler.fit_transform(X_train)\n",
        "X_val_scaled = scaler.transform(X_val)\n",
        "X_test_scaled = scaler.transform(X_test)\n",
        "\n",
        "y_scaler = StandardScaler()\n",
        "y_train_scaled = y_scaler.fit_transform(np.array(y_train).reshape(-1, 1))\n",
        "y_val_scaled = y_scaler.transform(np.array(y_val).reshape(-1, 1))\n",
        "y_test_scaled = y_scaler.transform(np.array(y_test).reshape(-1, 1))\n",
        "\n",
        "model = Sequential([\n",
        "    Dense(128, activation='relu', input_shape=(X_train.shape[1],)),\n",
        "    Dense(64, activation='relu'),\n",
        "    Dense(32, activation='relu'),\n",
        "    Dense(16, activation='relu'),\n",
        "    Dense(8, activation='relu'),\n",
        "    Dense(1, activation='linear')\n",
        "])\n",
        "\n",
        "model.compile(optimizer='adam', loss='mean_squared_error')\n",
        "\n",
        "early_stopping = EarlyStopping(monitor='val_loss', patience=15)\n",
        "\n",
        "history = model.fit(X_train_scaled, y_train_scaled, epochs=30, batch_size=32,\n",
        "                    validation_data=(X_val_scaled, y_val_scaled), callbacks=[early_stopping])"
      ]
    },
    {
      "cell_type": "markdown",
      "metadata": {
        "id": "hQxJfxz3cHIj"
      },
      "source": [
        "## 3 - Considere a coluna NObeyesdad (peso) como a classse alvo para realizar uma classificação multiclasse.\n",
        "- Prepare os dados, separe os dados em 80% treinamento, 5% validação e 15% teste\n",
        "- Normalize os dados\n",
        "- Defina uma estrutura de Rede Neural Artificial com no mínimo 5 camadas ocultas para fazer a classificação\n",
        "- Compile o modelo\n",
        "- Defina o Eraly stopping de 15 épocas\n",
        "- Treine o modelo por 30 épocas"
      ]
    },
    {
      "cell_type": "code",
      "execution_count": null,
      "metadata": {
        "colab": {
          "base_uri": "https://localhost:8080/"
        },
        "id": "4jVPLPsvcHIk",
        "outputId": "9c1635df-c66d-47b0-c972-95834a9312e9"
      },
      "outputs": [
        {
          "output_type": "stream",
          "name": "stdout",
          "text": [
            "Epoch 1/30\n",
            "53/53 [==============================] - 4s 18ms/step - loss: 1.7377 - accuracy: 0.3015 - val_loss: 1.3769 - val_accuracy: 0.5048\n",
            "Epoch 2/30\n",
            "53/53 [==============================] - 0s 6ms/step - loss: 1.1569 - accuracy: 0.5806 - val_loss: 0.8187 - val_accuracy: 0.6857\n",
            "Epoch 3/30\n",
            "53/53 [==============================] - 0s 5ms/step - loss: 0.7120 - accuracy: 0.7233 - val_loss: 0.5410 - val_accuracy: 0.8000\n",
            "Epoch 4/30\n",
            "53/53 [==============================] - 0s 7ms/step - loss: 0.4693 - accuracy: 0.8318 - val_loss: 0.4236 - val_accuracy: 0.8095\n",
            "Epoch 5/30\n",
            "53/53 [==============================] - 0s 6ms/step - loss: 0.3375 - accuracy: 0.8845 - val_loss: 0.3292 - val_accuracy: 0.8952\n",
            "Epoch 6/30\n",
            "53/53 [==============================] - 0s 6ms/step - loss: 0.2451 - accuracy: 0.9265 - val_loss: 0.2610 - val_accuracy: 0.9048\n",
            "Epoch 7/30\n",
            "53/53 [==============================] - 0s 6ms/step - loss: 0.1824 - accuracy: 0.9431 - val_loss: 0.2456 - val_accuracy: 0.9048\n",
            "Epoch 8/30\n",
            "53/53 [==============================] - 0s 6ms/step - loss: 0.1447 - accuracy: 0.9609 - val_loss: 0.2297 - val_accuracy: 0.9143\n",
            "Epoch 9/30\n",
            "53/53 [==============================] - 1s 11ms/step - loss: 0.1178 - accuracy: 0.9680 - val_loss: 0.2053 - val_accuracy: 0.9333\n",
            "Epoch 10/30\n",
            "53/53 [==============================] - 0s 5ms/step - loss: 0.0878 - accuracy: 0.9816 - val_loss: 0.2461 - val_accuracy: 0.9143\n",
            "Epoch 11/30\n",
            "53/53 [==============================] - 0s 3ms/step - loss: 0.0687 - accuracy: 0.9846 - val_loss: 0.1678 - val_accuracy: 0.9524\n",
            "Epoch 12/30\n",
            "53/53 [==============================] - 0s 3ms/step - loss: 0.0575 - accuracy: 0.9887 - val_loss: 0.2262 - val_accuracy: 0.9333\n",
            "Epoch 13/30\n",
            "53/53 [==============================] - 0s 3ms/step - loss: 0.0485 - accuracy: 0.9899 - val_loss: 0.2184 - val_accuracy: 0.9238\n",
            "Epoch 14/30\n",
            "53/53 [==============================] - 0s 4ms/step - loss: 0.0424 - accuracy: 0.9929 - val_loss: 0.1881 - val_accuracy: 0.9333\n",
            "Epoch 15/30\n",
            "53/53 [==============================] - 0s 3ms/step - loss: 0.0323 - accuracy: 0.9959 - val_loss: 0.1984 - val_accuracy: 0.9429\n",
            "Epoch 16/30\n",
            "53/53 [==============================] - 0s 3ms/step - loss: 0.0215 - accuracy: 0.9982 - val_loss: 0.2523 - val_accuracy: 0.9333\n",
            "Epoch 17/30\n",
            "53/53 [==============================] - 0s 3ms/step - loss: 0.0187 - accuracy: 0.9994 - val_loss: 0.2599 - val_accuracy: 0.9333\n",
            "Epoch 18/30\n",
            "53/53 [==============================] - 0s 3ms/step - loss: 0.0221 - accuracy: 0.9970 - val_loss: 0.2712 - val_accuracy: 0.9238\n",
            "Epoch 19/30\n",
            "53/53 [==============================] - 0s 3ms/step - loss: 0.0159 - accuracy: 0.9988 - val_loss: 0.2538 - val_accuracy: 0.9333\n",
            "Epoch 20/30\n",
            "53/53 [==============================] - 0s 3ms/step - loss: 0.0147 - accuracy: 0.9988 - val_loss: 0.2484 - val_accuracy: 0.9333\n",
            "Epoch 21/30\n",
            "53/53 [==============================] - 0s 3ms/step - loss: 0.0122 - accuracy: 1.0000 - val_loss: 0.2378 - val_accuracy: 0.9333\n",
            "Epoch 22/30\n",
            "53/53 [==============================] - 0s 3ms/step - loss: 0.0104 - accuracy: 0.9994 - val_loss: 0.2309 - val_accuracy: 0.9429\n",
            "Epoch 23/30\n",
            "53/53 [==============================] - 0s 3ms/step - loss: 0.0065 - accuracy: 1.0000 - val_loss: 0.2849 - val_accuracy: 0.9429\n",
            "Epoch 24/30\n",
            "53/53 [==============================] - 0s 3ms/step - loss: 0.0051 - accuracy: 1.0000 - val_loss: 0.2780 - val_accuracy: 0.9429\n",
            "Epoch 25/30\n",
            "53/53 [==============================] - 0s 4ms/step - loss: 0.0045 - accuracy: 1.0000 - val_loss: 0.2515 - val_accuracy: 0.9524\n",
            "Epoch 26/30\n",
            "53/53 [==============================] - 0s 3ms/step - loss: 0.0147 - accuracy: 0.9964 - val_loss: 0.3039 - val_accuracy: 0.9238\n"
          ]
        }
      ],
      "source": [
        "X = df.drop(columns=['NObeyesdad'])\n",
        "y = df['NObeyesdad']\n",
        "\n",
        "X_train, X_temp, y_train, y_temp = train_test_split(X, y, test_size=0.2, random_state=42)\n",
        "X_val, X_test, y_val, y_test = train_test_split(X_temp, y_temp, test_size=0.75, random_state=42)\n",
        "\n",
        "scaler = StandardScaler()\n",
        "X_train_scaled = scaler.fit_transform(X_train)\n",
        "X_val_scaled = scaler.transform(X_val)\n",
        "X_test_scaled = scaler.transform(X_test)\n",
        "\n",
        "label_encoder_y = LabelEncoder()\n",
        "y_train_encoded = label_encoder_y.fit_transform(y_train)\n",
        "y_val_encoded = label_encoder_y.transform(y_val)\n",
        "y_test_encoded = label_encoder_y.transform(y_test)\n",
        "\n",
        "model = Sequential([\n",
        "    Dense(128, activation='relu', input_shape=(X_train.shape[1],)),\n",
        "    Dense(64, activation='relu'),\n",
        "    Dense(32, activation='relu'),\n",
        "    Dense(16, activation='relu'),\n",
        "    Dense(8, activation='relu'),\n",
        "    Dense(len(label_encoder_y.classes_), activation='softmax')\n",
        "])\n",
        "\n",
        "model.compile(optimizer='adam', loss='sparse_categorical_crossentropy', metrics=['accuracy'])\n",
        "\n",
        "early_stopping = EarlyStopping(monitor='val_loss', patience=15)\n",
        "\n",
        "history = model.fit(X_train_scaled, y_train_encoded, epochs=30, batch_size=32,\n",
        "                    validation_data=(X_val_scaled, y_val_encoded), callbacks=[early_stopping])"
      ]
    },
    {
      "cell_type": "markdown",
      "metadata": {
        "id": "QhGLljtYcHIk"
      },
      "source": [
        "# Execício\n",
        "\n",
        "Base: ``honey_purity_dataset.csv``\n",
        "\n",
        "https://www.kaggle.com/datasets/stealthtechnologies/predict-purity-and-price-of-honey\n",
        "\n",
        "\n",
        "- Density:\n",
        "Represents the density of the honey sample in grams per cubic centimeter at 25°C, ranging from 1.21 to 1.86.\n",
        "\n",
        "- WC (Water Content):\n",
        "Represents the water content in the honey sample, ranging from 12.0% to 25.0%.\n",
        "\n",
        "- pH:\n",
        "Represents the pH level of the honey sample, ranging from 2.50 to 7.50.\n",
        "\n",
        "- EC (Electrical Conductivity):\n",
        "Represents the electrical conductivity of the honey sample in milliSiemens per centimeter.\n",
        "\n",
        "- F (Fructose Level):\n",
        "Represents the fructose level of the honey sample, ranging from 20 to 50.\n",
        "\n",
        "- G (Glucose Level):\n",
        "Represents the glucose level of the honey sample, ranging from 20 to 45.\n",
        "\n",
        "- Pollen_analysis:\n",
        "Represents the floral source of the honey sample. Possible values include Clover, Wildflower, Orange Blossom, Alfalfa, Acacia, Lavender, Eucalyptus, Buckwheat, Manuka, Sage, Sunflower, Borage, Rosemary, Thyme, Heather, Tupelo, Blueberry, Chestnut, and Avocado.\n",
        "\n",
        "- Viscosity:\n",
        "Represents the viscosity of the honey sample in centipoise, ranging from 1500 to 10000. Viscosity values between 2500 and 9500 are considered optimal for purity.\n",
        "\n",
        "- Purity:\n",
        "The target variable represents the purity of the honey sample, ranging from 0.01 to 1.00.\n",
        "\n",
        "- Price:\n",
        "The calculated price of the honey.\n",
        "\n",
        "## 4 - Faça o tratamento do dado textual convertendo com get dummies ou to categorical."
      ]
    },
    {
      "cell_type": "code",
      "source": [
        "df1 = pd.read_csv('honey_purity_dataset.csv')\n",
        "\n",
        "categorical_columns = ['Pollen_analysis']\n",
        "\n",
        "df1 = pd.get_dummies(df1, columns=categorical_columns)"
      ],
      "metadata": {
        "id": "kxOdm48MgVyI"
      },
      "execution_count": null,
      "outputs": []
    },
    {
      "cell_type": "markdown",
      "metadata": {
        "id": "ZUDGHl1-cHIk"
      },
      "source": [
        "## 5 - Considere a coluna Purity (pureza) como a classse alvo para realizar uma regressão.\n",
        "- Prepare os dados, separe os dados em 60% treinamento, 15% validação e 25% teste\n",
        "- Normalize os dados  X e y\n",
        "- Defina uma estrutura de Rede Neural Artificial com no mínimo 5 camadas ocultas para fazer a regressão\n",
        "- Compile o modelo\n",
        "- Defina o Eraly stopping de 15 épocas\n",
        "- Treine o modelo por 30 épocas"
      ]
    },
    {
      "cell_type": "code",
      "execution_count": null,
      "metadata": {
        "colab": {
          "base_uri": "https://localhost:8080/"
        },
        "id": "clP9GS1BcHIk",
        "outputId": "20998f25-aa6f-40b9-8aa1-8a58a71dc60c"
      },
      "outputs": [
        {
          "output_type": "stream",
          "name": "stdout",
          "text": [
            "Epoch 1/30\n",
            "4649/4649 [==============================] - 18s 3ms/step - loss: 0.0439 - val_loss: 0.0029\n",
            "Epoch 2/30\n",
            "4649/4649 [==============================] - 15s 3ms/step - loss: 0.0036 - val_loss: 7.7681e-04\n",
            "Epoch 3/30\n",
            "4649/4649 [==============================] - 14s 3ms/step - loss: 0.0017 - val_loss: 9.0364e-04\n",
            "Epoch 4/30\n",
            "4649/4649 [==============================] - 13s 3ms/step - loss: 0.0012 - val_loss: 0.0019\n",
            "Epoch 5/30\n",
            "4649/4649 [==============================] - 14s 3ms/step - loss: 0.0011 - val_loss: 7.1597e-04\n",
            "Epoch 6/30\n",
            "4649/4649 [==============================] - 14s 3ms/step - loss: 8.8355e-04 - val_loss: 4.0447e-04\n",
            "Epoch 7/30\n",
            "4649/4649 [==============================] - 14s 3ms/step - loss: 7.2987e-04 - val_loss: 0.0014\n",
            "Epoch 8/30\n",
            "4649/4649 [==============================] - 14s 3ms/step - loss: 6.4182e-04 - val_loss: 4.0516e-04\n",
            "Epoch 9/30\n",
            "4649/4649 [==============================] - 15s 3ms/step - loss: 6.1477e-04 - val_loss: 6.7275e-04\n",
            "Epoch 10/30\n",
            "4649/4649 [==============================] - 14s 3ms/step - loss: 5.9033e-04 - val_loss: 0.0012\n",
            "Epoch 11/30\n",
            "4649/4649 [==============================] - 14s 3ms/step - loss: 5.3908e-04 - val_loss: 8.5075e-04\n",
            "Epoch 12/30\n",
            "4649/4649 [==============================] - 14s 3ms/step - loss: 5.5602e-04 - val_loss: 4.9942e-04\n",
            "Epoch 13/30\n",
            "4649/4649 [==============================] - 14s 3ms/step - loss: 4.0457e-04 - val_loss: 2.7829e-04\n",
            "Epoch 14/30\n",
            "4649/4649 [==============================] - 13s 3ms/step - loss: 4.0910e-04 - val_loss: 2.4786e-04\n",
            "Epoch 15/30\n",
            "4649/4649 [==============================] - 14s 3ms/step - loss: 3.8537e-04 - val_loss: 3.1668e-04\n",
            "Epoch 16/30\n",
            "4649/4649 [==============================] - 14s 3ms/step - loss: 3.9539e-04 - val_loss: 1.9138e-04\n",
            "Epoch 17/30\n",
            "4649/4649 [==============================] - 13s 3ms/step - loss: 3.6474e-04 - val_loss: 3.0777e-04\n",
            "Epoch 18/30\n",
            "4649/4649 [==============================] - 14s 3ms/step - loss: 3.9808e-04 - val_loss: 1.6493e-04\n",
            "Epoch 19/30\n",
            "4649/4649 [==============================] - 14s 3ms/step - loss: 3.1185e-04 - val_loss: 2.5764e-04\n",
            "Epoch 20/30\n",
            "4649/4649 [==============================] - 13s 3ms/step - loss: 3.3254e-04 - val_loss: 5.9915e-04\n",
            "Epoch 21/30\n",
            "4649/4649 [==============================] - 14s 3ms/step - loss: 4.3358e-04 - val_loss: 4.2158e-04\n",
            "Epoch 22/30\n",
            "4649/4649 [==============================] - 14s 3ms/step - loss: 2.2989e-04 - val_loss: 2.6676e-04\n",
            "Epoch 23/30\n",
            "4649/4649 [==============================] - 15s 3ms/step - loss: 3.0420e-04 - val_loss: 2.1967e-04\n",
            "Epoch 24/30\n",
            "4649/4649 [==============================] - 14s 3ms/step - loss: 2.8297e-04 - val_loss: 2.7566e-04\n",
            "Epoch 25/30\n",
            "4649/4649 [==============================] - 15s 3ms/step - loss: 3.1278e-04 - val_loss: 1.6235e-04\n",
            "Epoch 26/30\n",
            "4649/4649 [==============================] - 15s 3ms/step - loss: 2.4565e-04 - val_loss: 4.7059e-04\n",
            "Epoch 27/30\n",
            "4649/4649 [==============================] - 15s 3ms/step - loss: 2.7519e-04 - val_loss: 1.0524e-04\n",
            "Epoch 28/30\n",
            "4649/4649 [==============================] - 15s 3ms/step - loss: 2.4979e-04 - val_loss: 3.1022e-04\n",
            "Epoch 29/30\n",
            "4649/4649 [==============================] - 15s 3ms/step - loss: 3.2695e-04 - val_loss: 2.9125e-04\n",
            "Epoch 30/30\n",
            "4649/4649 [==============================] - 15s 3ms/step - loss: 1.7419e-04 - val_loss: 1.3842e-04\n"
          ]
        }
      ],
      "source": [
        "X = df1.drop(columns=['Purity'])\n",
        "y = df1['Purity']\n",
        "\n",
        "X_train, X_temp, y_train, y_temp = train_test_split(X, y, test_size=0.4, random_state=42)\n",
        "X_val, X_test, y_val, y_test = train_test_split(X_temp, y_temp, test_size=0.625, random_state=42)\n",
        "\n",
        "scaler = StandardScaler()\n",
        "X_train_scaled = scaler.fit_transform(X_train)\n",
        "X_val_scaled = scaler.transform(X_val)\n",
        "X_test_scaled = scaler.transform(X_test)\n",
        "\n",
        "y_scaler = StandardScaler()\n",
        "y_train_scaled = y_scaler.fit_transform(np.array(y_train).reshape(-1, 1))\n",
        "y_val_scaled = y_scaler.transform(np.array(y_val).reshape(-1, 1))\n",
        "y_test_scaled = y_scaler.transform(np.array(y_test).reshape(-1, 1))\n",
        "\n",
        "model = Sequential([\n",
        "    Dense(128, activation='relu', input_shape=(X_train.shape[1],)),\n",
        "    Dense(64, activation='relu'),\n",
        "    Dense(32, activation='relu'),\n",
        "    Dense(16, activation='relu'),\n",
        "    Dense(8, activation='relu'),\n",
        "    Dense(1, activation='linear')\n",
        "])\n",
        "\n",
        "model.compile(optimizer='adam', loss='mean_squared_error')\n",
        "\n",
        "early_stopping = EarlyStopping(monitor='val_loss', patience=15)\n",
        "\n",
        "history = model.fit(X_train_scaled, y_train_scaled, epochs=30, batch_size=32,\n",
        "                    validation_data=(X_val_scaled, y_val_scaled), callbacks=[early_stopping])"
      ]
    },
    {
      "cell_type": "markdown",
      "metadata": {
        "id": "Pa-4U-zkcHIk"
      },
      "source": [
        "## 6 - Considere a coluna Price (preço) como a classse alvo para realizar uma regressão.\n",
        "- Prepare os dados, separe os dados em 60% treinamento, 15% validação e 25% teste\n",
        "- Normalize os dados  X e y\n",
        "- Defina uma estrutura de Rede Neural Artificial com no mínimo 5 camadas ocultas para fazer a regressão\n",
        "- Compile o modelo\n",
        "- Defina o Eraly stopping de 15 épocas\n",
        "- Treine o modelo por 30 épocas"
      ]
    },
    {
      "cell_type": "code",
      "execution_count": null,
      "metadata": {
        "colab": {
          "base_uri": "https://localhost:8080/"
        },
        "id": "5HRu1Ao5cHIl",
        "outputId": "0537b606-13bc-4a1a-cf3a-8895e5d0195a"
      },
      "outputs": [
        {
          "output_type": "stream",
          "name": "stdout",
          "text": [
            "Epoch 1/30\n",
            "4649/4649 [==============================] - 23s 4ms/step - loss: 0.0077 - val_loss: 6.0096e-04\n",
            "Epoch 2/30\n",
            "4649/4649 [==============================] - 14s 3ms/step - loss: 3.3416e-04 - val_loss: 1.7213e-04\n",
            "Epoch 3/30\n",
            "4649/4649 [==============================] - 14s 3ms/step - loss: 2.0926e-04 - val_loss: 2.2249e-04\n",
            "Epoch 4/30\n",
            "4649/4649 [==============================] - 13s 3ms/step - loss: 1.5373e-04 - val_loss: 1.3885e-04\n",
            "Epoch 5/30\n",
            "4649/4649 [==============================] - 14s 3ms/step - loss: 1.2920e-04 - val_loss: 2.1629e-04\n",
            "Epoch 6/30\n",
            "4649/4649 [==============================] - 15s 3ms/step - loss: 1.1200e-04 - val_loss: 2.1666e-04\n",
            "Epoch 7/30\n",
            "4649/4649 [==============================] - 15s 3ms/step - loss: 9.7503e-05 - val_loss: 8.8831e-05\n",
            "Epoch 8/30\n",
            "4649/4649 [==============================] - 13s 3ms/step - loss: 8.8501e-05 - val_loss: 6.6805e-05\n",
            "Epoch 9/30\n",
            "4649/4649 [==============================] - 16s 3ms/step - loss: 8.2488e-05 - val_loss: 1.3126e-04\n",
            "Epoch 10/30\n",
            "4649/4649 [==============================] - 13s 3ms/step - loss: 8.5467e-05 - val_loss: 4.7946e-05\n",
            "Epoch 11/30\n",
            "4649/4649 [==============================] - 14s 3ms/step - loss: 7.4938e-05 - val_loss: 6.1542e-05\n",
            "Epoch 12/30\n",
            "4649/4649 [==============================] - 14s 3ms/step - loss: 7.0497e-05 - val_loss: 5.2174e-05\n",
            "Epoch 13/30\n",
            "4649/4649 [==============================] - 14s 3ms/step - loss: 6.9642e-05 - val_loss: 7.4777e-05\n",
            "Epoch 14/30\n",
            "4649/4649 [==============================] - 13s 3ms/step - loss: 6.4766e-05 - val_loss: 6.6207e-05\n",
            "Epoch 15/30\n",
            "4649/4649 [==============================] - 13s 3ms/step - loss: 6.1131e-05 - val_loss: 1.5920e-04\n",
            "Epoch 16/30\n",
            "4649/4649 [==============================] - 14s 3ms/step - loss: 6.5721e-05 - val_loss: 3.5843e-05\n",
            "Epoch 17/30\n",
            "4649/4649 [==============================] - 14s 3ms/step - loss: 6.1480e-05 - val_loss: 4.0934e-05\n",
            "Epoch 18/30\n",
            "4649/4649 [==============================] - 15s 3ms/step - loss: 5.8655e-05 - val_loss: 4.5053e-05\n",
            "Epoch 19/30\n",
            "4649/4649 [==============================] - 13s 3ms/step - loss: 5.6994e-05 - val_loss: 4.5610e-05\n",
            "Epoch 20/30\n",
            "4649/4649 [==============================] - 13s 3ms/step - loss: 5.3961e-05 - val_loss: 1.1367e-04\n",
            "Epoch 21/30\n",
            "4649/4649 [==============================] - 14s 3ms/step - loss: 5.3933e-05 - val_loss: 3.4319e-05\n",
            "Epoch 22/30\n",
            "4649/4649 [==============================] - 13s 3ms/step - loss: 4.9716e-05 - val_loss: 5.9487e-05\n",
            "Epoch 23/30\n",
            "4649/4649 [==============================] - 14s 3ms/step - loss: 5.0907e-05 - val_loss: 4.4822e-05\n",
            "Epoch 24/30\n",
            "4649/4649 [==============================] - 13s 3ms/step - loss: 4.8101e-05 - val_loss: 8.3721e-05\n",
            "Epoch 25/30\n",
            "4649/4649 [==============================] - 17s 4ms/step - loss: 4.8849e-05 - val_loss: 1.8732e-04\n",
            "Epoch 26/30\n",
            "4649/4649 [==============================] - 17s 4ms/step - loss: 4.9161e-05 - val_loss: 1.0794e-04\n",
            "Epoch 27/30\n",
            "4649/4649 [==============================] - 14s 3ms/step - loss: 4.6203e-05 - val_loss: 1.1700e-04\n",
            "Epoch 28/30\n",
            "4649/4649 [==============================] - 13s 3ms/step - loss: 4.5414e-05 - val_loss: 2.7087e-05\n",
            "Epoch 29/30\n",
            "4649/4649 [==============================] - 13s 3ms/step - loss: 4.2954e-05 - val_loss: 4.7034e-05\n",
            "Epoch 30/30\n",
            "4649/4649 [==============================] - 14s 3ms/step - loss: 4.2327e-05 - val_loss: 4.6890e-05\n"
          ]
        }
      ],
      "source": [
        "X = df1.drop(columns=['Price'])\n",
        "y = df1['Price']\n",
        "\n",
        "X_train, X_temp, y_train, y_temp = train_test_split(X, y, test_size=0.4, random_state=42)\n",
        "X_val, X_test, y_val, y_test = train_test_split(X_temp, y_temp, test_size=0.625, random_state=42)\n",
        "\n",
        "scaler = StandardScaler()\n",
        "X_train_scaled = scaler.fit_transform(X_train)\n",
        "X_val_scaled = scaler.transform(X_val)\n",
        "X_test_scaled = scaler.transform(X_test)\n",
        "\n",
        "y_scaler = StandardScaler()\n",
        "y_train_scaled = y_scaler.fit_transform(np.array(y_train).reshape(-1, 1))\n",
        "y_val_scaled = y_scaler.transform(np.array(y_val).reshape(-1, 1))\n",
        "y_test_scaled = y_scaler.transform(np.array(y_test).reshape(-1, 1))\n",
        "\n",
        "model = Sequential([\n",
        "    Dense(128, activation='relu', input_shape=(X_train.shape[1],)),\n",
        "    Dense(64, activation='relu'),\n",
        "    Dense(32, activation='relu'),\n",
        "    Dense(16, activation='relu'),\n",
        "    Dense(8, activation='relu'),\n",
        "    Dense(1, activation='linear')\n",
        "])\n",
        "\n",
        "model.compile(optimizer='adam', loss='mean_squared_error')\n",
        "\n",
        "early_stopping = EarlyStopping(monitor='val_loss', patience=15)\n",
        "\n",
        "history = model.fit(X_train_scaled, y_train_scaled, epochs=30, batch_size=32,\n",
        "                    validation_data=(X_val_scaled, y_val_scaled), callbacks=[early_stopping])"
      ]
    }
  ],
  "metadata": {
    "kernelspec": {
      "display_name": "Python 3 (ipykernel)",
      "language": "python",
      "name": "python3"
    },
    "language_info": {
      "codemirror_mode": {
        "name": "ipython",
        "version": 3
      },
      "file_extension": ".py",
      "mimetype": "text/x-python",
      "name": "python",
      "nbconvert_exporter": "python",
      "pygments_lexer": "ipython3",
      "version": "3.9.13"
    },
    "colab": {
      "provenance": []
    }
  },
  "nbformat": 4,
  "nbformat_minor": 0
}