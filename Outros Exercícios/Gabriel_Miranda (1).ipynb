{
  "cells": [
    {
      "cell_type": "code",
      "execution_count": null,
      "metadata": {
        "id": "WhjDw9z7FLZr"
      },
      "outputs": [],
      "source": [
        "# Nome: Gabriel de Lima Miranda\n",
        "# RA: 22304286"
      ]
    },
    {
      "cell_type": "markdown",
      "metadata": {
        "id": "53ELeNlRFLZt"
      },
      "source": [
        "# Orientações para a Prova\n",
        "\n",
        "Por favor, leia **atentamente** todas as instruções abaixo para realizar e enviar sua prova corretamente.\n",
        "\n",
        "# `Deve ser entregue até as 9:40, horário que o formulário irá parar de receber respostas`\n",
        "## Identificação\n",
        "\n",
        "- **Preencha** seu nome e RA no bloco de código acima.\n",
        "\n",
        "## Formato e Envio do Arquivo\n",
        "\n",
        "- Envie o arquivo da prova com o formato `nome_sobrenome.ipynb` (sendo o primeiro sobrenome).\n",
        "  \n",
        "  **Exemplos:**\n",
        "  \n",
        "  - Nome: Ana Maria da Silva Sauro  \n",
        "    Arquivo: `ana_maria_silva.ipynb`\n",
        "    \n",
        "  - Nome: Arthur Porfírio de Castro Siqueira  \n",
        "    Arquivo: `arthur_porfirio.ipynb`\n",
        "    \n",
        "  - Nome: Marco Antônio Rodriges Fernandes  \n",
        "    Arquivo: `marco_antonio_rodrigues.ipynb`\n",
        "    \n",
        "  - Nome: Flávia Melo Alcântara  \n",
        "    Arquivo: `flavia_melo.ipynb`\n",
        "\n",
        "- A prova deve ser enviada **exclusivamente** pelo formulário disponível [neste link](https://forms.gle/xdXZMP89KgKDS4hFA).\n",
        "\n",
        "  <span style=\"color:red\">**ATENÇÃO:**</span> A prova **NÃO** deve ser enviada para o e-mail do professor, apenas pelo formulário.\n",
        "\n",
        "## Regras da Prova\n",
        "\n",
        "- A prova pode ser realizada com consulta apenas em materiais das aulas anteriores ou anotações próprias.\n",
        "\n",
        "- <span style=\"color:red\">**Quem for pego colando terá a nota II.**</span>\n",
        "\n",
        "- **Sem conversas paralelas** durante a prova, isto pode ser considerado cola.\n",
        "\n",
        "- **Não** devem ser criados mais blocos de códigos que os disponíveis na prova (no desenvolvimento do código podem ser criados mais blocos de código, mas antes de enviar devem conter apenas os blocos de códigos que estavam disponíveis na prova).\n",
        "\n",
        "- O notebook deve conter as saídas dos blocos de código referentes às questões que possuem gráficos e/ou valores que exibam as respostas (não é para limpar a saída dos blocos de código para me enviar).\n",
        "\n",
        "- Cada questão vale 1 ponto\n",
        "## Boa Prova!"
      ]
    },
    {
      "cell_type": "markdown",
      "metadata": {
        "id": "ukOx1cp_FLZu"
      },
      "source": [
        "# 1 - Importe todas as bibliotecas no bloco de código abaixo\n",
        "\n",
        "menos 0.10 pontos da questão para cada:\n",
        "- Biblioteca que for importada e não for utilizada;\n",
        "- Biblioteca importada fora deste bloco de código;\n",
        "- Biblioteca importada repetida."
      ]
    },
    {
      "cell_type": "code",
      "execution_count": null,
      "metadata": {
        "id": "5Lpvio9JFLZu"
      },
      "outputs": [],
      "source": [
        "import pandas as pd\n",
        "from sklearn.model_selection import train_test_split\n",
        "from sklearn.decomposition import PCA\n",
        "from sklearn.preprocessing import MinMaxScaler, StandardScaler\n",
        "from sklearn.discriminant_analysis import LinearDiscriminantAnalysis\n",
        "from sklearn.neighbors import KNeighborsClassifier\n",
        "from sklearn.naive_bayes import GaussianNB\n",
        "from sklearn.tree import DecisionTreeClassifier\n",
        "from sklearn.ensemble import RandomForestClassifier\n",
        "from sklearn.metrics import accuracy_score"
      ]
    },
    {
      "cell_type": "markdown",
      "metadata": {
        "id": "Fz1kofQEFLZu"
      },
      "source": [
        "# 2 - Separação dos dados em X e y\n",
        "A base de dados score_credito.csv tem informações de pessoas com epréstimos e no fim qual (coluna score_credito) qual o score de crédito da pessoa.\n",
        "\n",
        "Separe os dados em X para os atributos e y para o score de crédito."
      ]
    },
    {
      "cell_type": "code",
      "execution_count": null,
      "metadata": {
        "id": "1lIAaS15FLZu"
      },
      "outputs": [],
      "source": [
        "dados_credito = pd.read_csv('score_credito.csv')"
      ]
    },
    {
      "cell_type": "code",
      "source": [
        "X = dados_credito.drop('score_credito', axis=1)\n",
        "y = dados_credito['score_credito']"
      ],
      "metadata": {
        "id": "ouwOBzEGGEgd"
      },
      "execution_count": null,
      "outputs": []
    },
    {
      "cell_type": "markdown",
      "metadata": {
        "id": "5RaxtWqoFLZu"
      },
      "source": [
        "# 3 - Dividir os dados em Treinamento (70%) e Teste (30%)"
      ]
    },
    {
      "cell_type": "code",
      "execution_count": null,
      "metadata": {
        "id": "tbUnvUGRFLZu"
      },
      "outputs": [],
      "source": [
        "X_treino, X_teste, y_treino, y_teste = train_test_split(X, y, test_size=0.3, random_state=42)"
      ]
    },
    {
      "cell_type": "markdown",
      "metadata": {
        "id": "U8ALq9TCFLZv"
      },
      "source": [
        "# 4 - Aplique o PCA para reduzir a dimensionalidade para 10 colunas\n",
        "- Crie o X_train_pca e o X_test_pca\n",
        "- Crie um scaler MinMax chamado scaler_pca\n",
        "- Normalize X_train_pca (fit_transform) e X_test_pca (transform)"
      ]
    },
    {
      "cell_type": "code",
      "execution_count": null,
      "metadata": {
        "id": "9uUFdnMSFLZv"
      },
      "outputs": [],
      "source": [
        "num_componentes = 10\n",
        "pca = PCA(n_components=num_componentes)\n",
        "\n",
        "X_train_pca = pca.fit_transform(X_treino)\n",
        "\n",
        "X_test_pca = pca.transform(X_teste)\n",
        "\n",
        "scaler_pca = MinMaxScaler()\n",
        "\n",
        "X_train_pca_normalized = scaler_pca.fit_transform(X_train_pca)\n",
        "\n",
        "X_test_pca_normalized = scaler_pca.transform(X_test_pca)"
      ]
    },
    {
      "cell_type": "markdown",
      "metadata": {
        "id": "EUz7gCPWFLZv"
      },
      "source": [
        "# 5 - Aplique o LDA para reduzir a dimensionalidade para 3 colunas\n",
        "- Crie o X_train_lda e o X_test_lda\n",
        "- Crie um scaler MinMax chamado scaler_lda\n",
        "- Normalize X_train_lda (fit_transform) e X_test_lda (transform)\n",
        "---\n",
        "- Crie um scaler chamado scaler_normal\n",
        "- Normalize X_train (fit_transform) e X_test (transform)"
      ]
    },
    {
      "cell_type": "code",
      "execution_count": null,
      "metadata": {
        "id": "STH-VjvXFLZv"
      },
      "outputs": [],
      "source": [
        "num_componentes_lda = 3\n",
        "lda = LinearDiscriminantAnalysis(n_components=num_componentes_lda)\n",
        "\n",
        "X_train_lda = lda.fit_transform(X_treino, y_treino)\n",
        "\n",
        "X_test_lda = lda.transform(X_teste)\n",
        "\n",
        "scaler_lda = MinMaxScaler()\n",
        "\n",
        "X_train_lda_normalized = scaler_lda.fit_transform(X_train_lda)\n",
        "\n",
        "X_test_lda_normalized = scaler_lda.transform(X_test_lda)\n",
        "\n",
        "scaler_normal = MinMaxScaler()\n",
        "\n",
        "X_train_normalized = scaler_normal.fit_transform(X_treino)\n",
        "\n",
        "X_test_normalized = scaler_normal.transform(X_teste)"
      ]
    },
    {
      "cell_type": "markdown",
      "metadata": {
        "id": "uCaMybZqFLZv"
      },
      "source": [
        "# 6 - Treine 3 modelo de kNN com os dados de Treinamento\n",
        "modelos devem chamar:\n",
        "- modelo_knn_normal (treinado com X_train)\n",
        "- modelo_knn_pca (treinado com X_train_pca )\n",
        "- modelo_knn_lda (treinado com X_train_lda)"
      ]
    },
    {
      "cell_type": "code",
      "execution_count": null,
      "metadata": {
        "colab": {
          "base_uri": "https://localhost:8080/",
          "height": 75
        },
        "id": "iNpck5HPFLZv",
        "outputId": "941a29c2-5183-4830-ddae-f74930bba002"
      },
      "outputs": [
        {
          "output_type": "execute_result",
          "data": {
            "text/plain": [
              "KNeighborsClassifier()"
            ],
            "text/html": [
              "<style>#sk-container-id-2 {color: black;background-color: white;}#sk-container-id-2 pre{padding: 0;}#sk-container-id-2 div.sk-toggleable {background-color: white;}#sk-container-id-2 label.sk-toggleable__label {cursor: pointer;display: block;width: 100%;margin-bottom: 0;padding: 0.3em;box-sizing: border-box;text-align: center;}#sk-container-id-2 label.sk-toggleable__label-arrow:before {content: \"▸\";float: left;margin-right: 0.25em;color: #696969;}#sk-container-id-2 label.sk-toggleable__label-arrow:hover:before {color: black;}#sk-container-id-2 div.sk-estimator:hover label.sk-toggleable__label-arrow:before {color: black;}#sk-container-id-2 div.sk-toggleable__content {max-height: 0;max-width: 0;overflow: hidden;text-align: left;background-color: #f0f8ff;}#sk-container-id-2 div.sk-toggleable__content pre {margin: 0.2em;color: black;border-radius: 0.25em;background-color: #f0f8ff;}#sk-container-id-2 input.sk-toggleable__control:checked~div.sk-toggleable__content {max-height: 200px;max-width: 100%;overflow: auto;}#sk-container-id-2 input.sk-toggleable__control:checked~label.sk-toggleable__label-arrow:before {content: \"▾\";}#sk-container-id-2 div.sk-estimator input.sk-toggleable__control:checked~label.sk-toggleable__label {background-color: #d4ebff;}#sk-container-id-2 div.sk-label input.sk-toggleable__control:checked~label.sk-toggleable__label {background-color: #d4ebff;}#sk-container-id-2 input.sk-hidden--visually {border: 0;clip: rect(1px 1px 1px 1px);clip: rect(1px, 1px, 1px, 1px);height: 1px;margin: -1px;overflow: hidden;padding: 0;position: absolute;width: 1px;}#sk-container-id-2 div.sk-estimator {font-family: monospace;background-color: #f0f8ff;border: 1px dotted black;border-radius: 0.25em;box-sizing: border-box;margin-bottom: 0.5em;}#sk-container-id-2 div.sk-estimator:hover {background-color: #d4ebff;}#sk-container-id-2 div.sk-parallel-item::after {content: \"\";width: 100%;border-bottom: 1px solid gray;flex-grow: 1;}#sk-container-id-2 div.sk-label:hover label.sk-toggleable__label {background-color: #d4ebff;}#sk-container-id-2 div.sk-serial::before {content: \"\";position: absolute;border-left: 1px solid gray;box-sizing: border-box;top: 0;bottom: 0;left: 50%;z-index: 0;}#sk-container-id-2 div.sk-serial {display: flex;flex-direction: column;align-items: center;background-color: white;padding-right: 0.2em;padding-left: 0.2em;position: relative;}#sk-container-id-2 div.sk-item {position: relative;z-index: 1;}#sk-container-id-2 div.sk-parallel {display: flex;align-items: stretch;justify-content: center;background-color: white;position: relative;}#sk-container-id-2 div.sk-item::before, #sk-container-id-2 div.sk-parallel-item::before {content: \"\";position: absolute;border-left: 1px solid gray;box-sizing: border-box;top: 0;bottom: 0;left: 50%;z-index: -1;}#sk-container-id-2 div.sk-parallel-item {display: flex;flex-direction: column;z-index: 1;position: relative;background-color: white;}#sk-container-id-2 div.sk-parallel-item:first-child::after {align-self: flex-end;width: 50%;}#sk-container-id-2 div.sk-parallel-item:last-child::after {align-self: flex-start;width: 50%;}#sk-container-id-2 div.sk-parallel-item:only-child::after {width: 0;}#sk-container-id-2 div.sk-dashed-wrapped {border: 1px dashed gray;margin: 0 0.4em 0.5em 0.4em;box-sizing: border-box;padding-bottom: 0.4em;background-color: white;}#sk-container-id-2 div.sk-label label {font-family: monospace;font-weight: bold;display: inline-block;line-height: 1.2em;}#sk-container-id-2 div.sk-label-container {text-align: center;}#sk-container-id-2 div.sk-container {/* jupyter's `normalize.less` sets `[hidden] { display: none; }` but bootstrap.min.css set `[hidden] { display: none !important; }` so we also need the `!important` here to be able to override the default hidden behavior on the sphinx rendered scikit-learn.org. See: https://github.com/scikit-learn/scikit-learn/issues/21755 */display: inline-block !important;position: relative;}#sk-container-id-2 div.sk-text-repr-fallback {display: none;}</style><div id=\"sk-container-id-2\" class=\"sk-top-container\"><div class=\"sk-text-repr-fallback\"><pre>KNeighborsClassifier()</pre><b>In a Jupyter environment, please rerun this cell to show the HTML representation or trust the notebook. <br />On GitHub, the HTML representation is unable to render, please try loading this page with nbviewer.org.</b></div><div class=\"sk-container\" hidden><div class=\"sk-item\"><div class=\"sk-estimator sk-toggleable\"><input class=\"sk-toggleable__control sk-hidden--visually\" id=\"sk-estimator-id-2\" type=\"checkbox\" checked><label for=\"sk-estimator-id-2\" class=\"sk-toggleable__label sk-toggleable__label-arrow\">KNeighborsClassifier</label><div class=\"sk-toggleable__content\"><pre>KNeighborsClassifier()</pre></div></div></div></div></div>"
            ]
          },
          "metadata": {},
          "execution_count": 18
        }
      ],
      "source": [
        "modelo_knn_normal = KNeighborsClassifier()\n",
        "modelo_knn_normal.fit(X_train_normalized, y_treino)\n",
        "\n",
        "modelo_knn_pca = KNeighborsClassifier()\n",
        "modelo_knn_pca.fit(X_train_pca_normalized, y_treino)\n",
        "\n",
        "modelo_knn_lda = KNeighborsClassifier()\n",
        "modelo_knn_lda.fit(X_train_lda_normalized, y_treino)"
      ]
    },
    {
      "cell_type": "markdown",
      "metadata": {
        "id": "Y8-G1BJCFLZw"
      },
      "source": [
        "# 7 - Treine 3 modelo de Naive Bayes com os dados de Treinamento\n",
        "modelos devem chamar:\n",
        "- modelo_nb_normal (treinado com X_train)\n",
        "- modelo_nb_pca (treinado com X_train_pca )\n",
        "- modelo_nb_lda (treinado com X_train_lda)"
      ]
    },
    {
      "cell_type": "code",
      "execution_count": null,
      "metadata": {
        "colab": {
          "base_uri": "https://localhost:8080/",
          "height": 75
        },
        "id": "M9AYtA_zFLZw",
        "outputId": "756c825b-697e-4cdc-9272-51f116d74488"
      },
      "outputs": [
        {
          "output_type": "execute_result",
          "data": {
            "text/plain": [
              "GaussianNB()"
            ],
            "text/html": [
              "<style>#sk-container-id-4 {color: black;background-color: white;}#sk-container-id-4 pre{padding: 0;}#sk-container-id-4 div.sk-toggleable {background-color: white;}#sk-container-id-4 label.sk-toggleable__label {cursor: pointer;display: block;width: 100%;margin-bottom: 0;padding: 0.3em;box-sizing: border-box;text-align: center;}#sk-container-id-4 label.sk-toggleable__label-arrow:before {content: \"▸\";float: left;margin-right: 0.25em;color: #696969;}#sk-container-id-4 label.sk-toggleable__label-arrow:hover:before {color: black;}#sk-container-id-4 div.sk-estimator:hover label.sk-toggleable__label-arrow:before {color: black;}#sk-container-id-4 div.sk-toggleable__content {max-height: 0;max-width: 0;overflow: hidden;text-align: left;background-color: #f0f8ff;}#sk-container-id-4 div.sk-toggleable__content pre {margin: 0.2em;color: black;border-radius: 0.25em;background-color: #f0f8ff;}#sk-container-id-4 input.sk-toggleable__control:checked~div.sk-toggleable__content {max-height: 200px;max-width: 100%;overflow: auto;}#sk-container-id-4 input.sk-toggleable__control:checked~label.sk-toggleable__label-arrow:before {content: \"▾\";}#sk-container-id-4 div.sk-estimator input.sk-toggleable__control:checked~label.sk-toggleable__label {background-color: #d4ebff;}#sk-container-id-4 div.sk-label input.sk-toggleable__control:checked~label.sk-toggleable__label {background-color: #d4ebff;}#sk-container-id-4 input.sk-hidden--visually {border: 0;clip: rect(1px 1px 1px 1px);clip: rect(1px, 1px, 1px, 1px);height: 1px;margin: -1px;overflow: hidden;padding: 0;position: absolute;width: 1px;}#sk-container-id-4 div.sk-estimator {font-family: monospace;background-color: #f0f8ff;border: 1px dotted black;border-radius: 0.25em;box-sizing: border-box;margin-bottom: 0.5em;}#sk-container-id-4 div.sk-estimator:hover {background-color: #d4ebff;}#sk-container-id-4 div.sk-parallel-item::after {content: \"\";width: 100%;border-bottom: 1px solid gray;flex-grow: 1;}#sk-container-id-4 div.sk-label:hover label.sk-toggleable__label {background-color: #d4ebff;}#sk-container-id-4 div.sk-serial::before {content: \"\";position: absolute;border-left: 1px solid gray;box-sizing: border-box;top: 0;bottom: 0;left: 50%;z-index: 0;}#sk-container-id-4 div.sk-serial {display: flex;flex-direction: column;align-items: center;background-color: white;padding-right: 0.2em;padding-left: 0.2em;position: relative;}#sk-container-id-4 div.sk-item {position: relative;z-index: 1;}#sk-container-id-4 div.sk-parallel {display: flex;align-items: stretch;justify-content: center;background-color: white;position: relative;}#sk-container-id-4 div.sk-item::before, #sk-container-id-4 div.sk-parallel-item::before {content: \"\";position: absolute;border-left: 1px solid gray;box-sizing: border-box;top: 0;bottom: 0;left: 50%;z-index: -1;}#sk-container-id-4 div.sk-parallel-item {display: flex;flex-direction: column;z-index: 1;position: relative;background-color: white;}#sk-container-id-4 div.sk-parallel-item:first-child::after {align-self: flex-end;width: 50%;}#sk-container-id-4 div.sk-parallel-item:last-child::after {align-self: flex-start;width: 50%;}#sk-container-id-4 div.sk-parallel-item:only-child::after {width: 0;}#sk-container-id-4 div.sk-dashed-wrapped {border: 1px dashed gray;margin: 0 0.4em 0.5em 0.4em;box-sizing: border-box;padding-bottom: 0.4em;background-color: white;}#sk-container-id-4 div.sk-label label {font-family: monospace;font-weight: bold;display: inline-block;line-height: 1.2em;}#sk-container-id-4 div.sk-label-container {text-align: center;}#sk-container-id-4 div.sk-container {/* jupyter's `normalize.less` sets `[hidden] { display: none; }` but bootstrap.min.css set `[hidden] { display: none !important; }` so we also need the `!important` here to be able to override the default hidden behavior on the sphinx rendered scikit-learn.org. See: https://github.com/scikit-learn/scikit-learn/issues/21755 */display: inline-block !important;position: relative;}#sk-container-id-4 div.sk-text-repr-fallback {display: none;}</style><div id=\"sk-container-id-4\" class=\"sk-top-container\"><div class=\"sk-text-repr-fallback\"><pre>GaussianNB()</pre><b>In a Jupyter environment, please rerun this cell to show the HTML representation or trust the notebook. <br />On GitHub, the HTML representation is unable to render, please try loading this page with nbviewer.org.</b></div><div class=\"sk-container\" hidden><div class=\"sk-item\"><div class=\"sk-estimator sk-toggleable\"><input class=\"sk-toggleable__control sk-hidden--visually\" id=\"sk-estimator-id-4\" type=\"checkbox\" checked><label for=\"sk-estimator-id-4\" class=\"sk-toggleable__label sk-toggleable__label-arrow\">GaussianNB</label><div class=\"sk-toggleable__content\"><pre>GaussianNB()</pre></div></div></div></div></div>"
            ]
          },
          "metadata": {},
          "execution_count": 21
        }
      ],
      "source": [
        "modelo_nb_normal = GaussianNB()\n",
        "modelo_nb_normal.fit(X_train_normalized, y_treino)\n",
        "\n",
        "modelo_nb_pca = GaussianNB()\n",
        "modelo_nb_pca.fit(X_train_pca_normalized, y_treino)\n",
        "\n",
        "modelo_nb_lda = GaussianNB()\n",
        "modelo_nb_lda.fit(X_train_lda_normalized, y_treino)"
      ]
    },
    {
      "cell_type": "markdown",
      "metadata": {
        "id": "3HbsBjYVFLZw"
      },
      "source": [
        "# 8 - Treine 3 modelo de Árvore de Decisão com os dados de Treinamento\n",
        "modelos devem chamar:\n",
        "- modelo_ad_normal (treinado com X_train)\n",
        "- modelo_ad_pca (treinado com X_train_pca )\n",
        "- modelo_ad_lda (treinado com X_train_lda)"
      ]
    },
    {
      "cell_type": "code",
      "execution_count": null,
      "metadata": {
        "colab": {
          "base_uri": "https://localhost:8080/",
          "height": 75
        },
        "id": "23Dq0fJeFLZw",
        "outputId": "bff980b4-43f1-487b-8156-46a68c284db5"
      },
      "outputs": [
        {
          "output_type": "execute_result",
          "data": {
            "text/plain": [
              "DecisionTreeClassifier()"
            ],
            "text/html": [
              "<style>#sk-container-id-6 {color: black;background-color: white;}#sk-container-id-6 pre{padding: 0;}#sk-container-id-6 div.sk-toggleable {background-color: white;}#sk-container-id-6 label.sk-toggleable__label {cursor: pointer;display: block;width: 100%;margin-bottom: 0;padding: 0.3em;box-sizing: border-box;text-align: center;}#sk-container-id-6 label.sk-toggleable__label-arrow:before {content: \"▸\";float: left;margin-right: 0.25em;color: #696969;}#sk-container-id-6 label.sk-toggleable__label-arrow:hover:before {color: black;}#sk-container-id-6 div.sk-estimator:hover label.sk-toggleable__label-arrow:before {color: black;}#sk-container-id-6 div.sk-toggleable__content {max-height: 0;max-width: 0;overflow: hidden;text-align: left;background-color: #f0f8ff;}#sk-container-id-6 div.sk-toggleable__content pre {margin: 0.2em;color: black;border-radius: 0.25em;background-color: #f0f8ff;}#sk-container-id-6 input.sk-toggleable__control:checked~div.sk-toggleable__content {max-height: 200px;max-width: 100%;overflow: auto;}#sk-container-id-6 input.sk-toggleable__control:checked~label.sk-toggleable__label-arrow:before {content: \"▾\";}#sk-container-id-6 div.sk-estimator input.sk-toggleable__control:checked~label.sk-toggleable__label {background-color: #d4ebff;}#sk-container-id-6 div.sk-label input.sk-toggleable__control:checked~label.sk-toggleable__label {background-color: #d4ebff;}#sk-container-id-6 input.sk-hidden--visually {border: 0;clip: rect(1px 1px 1px 1px);clip: rect(1px, 1px, 1px, 1px);height: 1px;margin: -1px;overflow: hidden;padding: 0;position: absolute;width: 1px;}#sk-container-id-6 div.sk-estimator {font-family: monospace;background-color: #f0f8ff;border: 1px dotted black;border-radius: 0.25em;box-sizing: border-box;margin-bottom: 0.5em;}#sk-container-id-6 div.sk-estimator:hover {background-color: #d4ebff;}#sk-container-id-6 div.sk-parallel-item::after {content: \"\";width: 100%;border-bottom: 1px solid gray;flex-grow: 1;}#sk-container-id-6 div.sk-label:hover label.sk-toggleable__label {background-color: #d4ebff;}#sk-container-id-6 div.sk-serial::before {content: \"\";position: absolute;border-left: 1px solid gray;box-sizing: border-box;top: 0;bottom: 0;left: 50%;z-index: 0;}#sk-container-id-6 div.sk-serial {display: flex;flex-direction: column;align-items: center;background-color: white;padding-right: 0.2em;padding-left: 0.2em;position: relative;}#sk-container-id-6 div.sk-item {position: relative;z-index: 1;}#sk-container-id-6 div.sk-parallel {display: flex;align-items: stretch;justify-content: center;background-color: white;position: relative;}#sk-container-id-6 div.sk-item::before, #sk-container-id-6 div.sk-parallel-item::before {content: \"\";position: absolute;border-left: 1px solid gray;box-sizing: border-box;top: 0;bottom: 0;left: 50%;z-index: -1;}#sk-container-id-6 div.sk-parallel-item {display: flex;flex-direction: column;z-index: 1;position: relative;background-color: white;}#sk-container-id-6 div.sk-parallel-item:first-child::after {align-self: flex-end;width: 50%;}#sk-container-id-6 div.sk-parallel-item:last-child::after {align-self: flex-start;width: 50%;}#sk-container-id-6 div.sk-parallel-item:only-child::after {width: 0;}#sk-container-id-6 div.sk-dashed-wrapped {border: 1px dashed gray;margin: 0 0.4em 0.5em 0.4em;box-sizing: border-box;padding-bottom: 0.4em;background-color: white;}#sk-container-id-6 div.sk-label label {font-family: monospace;font-weight: bold;display: inline-block;line-height: 1.2em;}#sk-container-id-6 div.sk-label-container {text-align: center;}#sk-container-id-6 div.sk-container {/* jupyter's `normalize.less` sets `[hidden] { display: none; }` but bootstrap.min.css set `[hidden] { display: none !important; }` so we also need the `!important` here to be able to override the default hidden behavior on the sphinx rendered scikit-learn.org. See: https://github.com/scikit-learn/scikit-learn/issues/21755 */display: inline-block !important;position: relative;}#sk-container-id-6 div.sk-text-repr-fallback {display: none;}</style><div id=\"sk-container-id-6\" class=\"sk-top-container\"><div class=\"sk-text-repr-fallback\"><pre>DecisionTreeClassifier()</pre><b>In a Jupyter environment, please rerun this cell to show the HTML representation or trust the notebook. <br />On GitHub, the HTML representation is unable to render, please try loading this page with nbviewer.org.</b></div><div class=\"sk-container\" hidden><div class=\"sk-item\"><div class=\"sk-estimator sk-toggleable\"><input class=\"sk-toggleable__control sk-hidden--visually\" id=\"sk-estimator-id-6\" type=\"checkbox\" checked><label for=\"sk-estimator-id-6\" class=\"sk-toggleable__label sk-toggleable__label-arrow\">DecisionTreeClassifier</label><div class=\"sk-toggleable__content\"><pre>DecisionTreeClassifier()</pre></div></div></div></div></div>"
            ]
          },
          "metadata": {},
          "execution_count": 24
        }
      ],
      "source": [
        "modelo_ad_normal = DecisionTreeClassifier()\n",
        "modelo_ad_normal.fit(X_train_normalized, y_treino)\n",
        "\n",
        "modelo_ad_pca = DecisionTreeClassifier()\n",
        "modelo_ad_pca.fit(X_train_pca_normalized, y_treino)\n",
        "\n",
        "modelo_ad_lda = DecisionTreeClassifier()\n",
        "modelo_ad_lda.fit(X_train_lda_normalized, y_treino)"
      ]
    },
    {
      "cell_type": "markdown",
      "metadata": {
        "id": "-my2zCekFLZw"
      },
      "source": [
        "# 9 - Treine 3 modelo de Random Forest com 10 árvores e com os dados de Treinamento\n",
        "modelos devem chamar:\n",
        "- modelo_rf_normal (treinado com X_train)\n",
        "- modelo_rf_pca (treinado com X_train_pca )\n",
        "- modelo_rf_lda (treinado com X_train_lda)\n"
      ]
    },
    {
      "cell_type": "code",
      "execution_count": null,
      "metadata": {
        "colab": {
          "base_uri": "https://localhost:8080/",
          "height": 75
        },
        "id": "a1_QksmKFLZw",
        "outputId": "74f9a03a-d4e2-420d-bde7-074e3521d9ee"
      },
      "outputs": [
        {
          "output_type": "execute_result",
          "data": {
            "text/plain": [
              "RandomForestClassifier(n_estimators=10, random_state=42)"
            ],
            "text/html": [
              "<style>#sk-container-id-8 {color: black;background-color: white;}#sk-container-id-8 pre{padding: 0;}#sk-container-id-8 div.sk-toggleable {background-color: white;}#sk-container-id-8 label.sk-toggleable__label {cursor: pointer;display: block;width: 100%;margin-bottom: 0;padding: 0.3em;box-sizing: border-box;text-align: center;}#sk-container-id-8 label.sk-toggleable__label-arrow:before {content: \"▸\";float: left;margin-right: 0.25em;color: #696969;}#sk-container-id-8 label.sk-toggleable__label-arrow:hover:before {color: black;}#sk-container-id-8 div.sk-estimator:hover label.sk-toggleable__label-arrow:before {color: black;}#sk-container-id-8 div.sk-toggleable__content {max-height: 0;max-width: 0;overflow: hidden;text-align: left;background-color: #f0f8ff;}#sk-container-id-8 div.sk-toggleable__content pre {margin: 0.2em;color: black;border-radius: 0.25em;background-color: #f0f8ff;}#sk-container-id-8 input.sk-toggleable__control:checked~div.sk-toggleable__content {max-height: 200px;max-width: 100%;overflow: auto;}#sk-container-id-8 input.sk-toggleable__control:checked~label.sk-toggleable__label-arrow:before {content: \"▾\";}#sk-container-id-8 div.sk-estimator input.sk-toggleable__control:checked~label.sk-toggleable__label {background-color: #d4ebff;}#sk-container-id-8 div.sk-label input.sk-toggleable__control:checked~label.sk-toggleable__label {background-color: #d4ebff;}#sk-container-id-8 input.sk-hidden--visually {border: 0;clip: rect(1px 1px 1px 1px);clip: rect(1px, 1px, 1px, 1px);height: 1px;margin: -1px;overflow: hidden;padding: 0;position: absolute;width: 1px;}#sk-container-id-8 div.sk-estimator {font-family: monospace;background-color: #f0f8ff;border: 1px dotted black;border-radius: 0.25em;box-sizing: border-box;margin-bottom: 0.5em;}#sk-container-id-8 div.sk-estimator:hover {background-color: #d4ebff;}#sk-container-id-8 div.sk-parallel-item::after {content: \"\";width: 100%;border-bottom: 1px solid gray;flex-grow: 1;}#sk-container-id-8 div.sk-label:hover label.sk-toggleable__label {background-color: #d4ebff;}#sk-container-id-8 div.sk-serial::before {content: \"\";position: absolute;border-left: 1px solid gray;box-sizing: border-box;top: 0;bottom: 0;left: 50%;z-index: 0;}#sk-container-id-8 div.sk-serial {display: flex;flex-direction: column;align-items: center;background-color: white;padding-right: 0.2em;padding-left: 0.2em;position: relative;}#sk-container-id-8 div.sk-item {position: relative;z-index: 1;}#sk-container-id-8 div.sk-parallel {display: flex;align-items: stretch;justify-content: center;background-color: white;position: relative;}#sk-container-id-8 div.sk-item::before, #sk-container-id-8 div.sk-parallel-item::before {content: \"\";position: absolute;border-left: 1px solid gray;box-sizing: border-box;top: 0;bottom: 0;left: 50%;z-index: -1;}#sk-container-id-8 div.sk-parallel-item {display: flex;flex-direction: column;z-index: 1;position: relative;background-color: white;}#sk-container-id-8 div.sk-parallel-item:first-child::after {align-self: flex-end;width: 50%;}#sk-container-id-8 div.sk-parallel-item:last-child::after {align-self: flex-start;width: 50%;}#sk-container-id-8 div.sk-parallel-item:only-child::after {width: 0;}#sk-container-id-8 div.sk-dashed-wrapped {border: 1px dashed gray;margin: 0 0.4em 0.5em 0.4em;box-sizing: border-box;padding-bottom: 0.4em;background-color: white;}#sk-container-id-8 div.sk-label label {font-family: monospace;font-weight: bold;display: inline-block;line-height: 1.2em;}#sk-container-id-8 div.sk-label-container {text-align: center;}#sk-container-id-8 div.sk-container {/* jupyter's `normalize.less` sets `[hidden] { display: none; }` but bootstrap.min.css set `[hidden] { display: none !important; }` so we also need the `!important` here to be able to override the default hidden behavior on the sphinx rendered scikit-learn.org. See: https://github.com/scikit-learn/scikit-learn/issues/21755 */display: inline-block !important;position: relative;}#sk-container-id-8 div.sk-text-repr-fallback {display: none;}</style><div id=\"sk-container-id-8\" class=\"sk-top-container\"><div class=\"sk-text-repr-fallback\"><pre>RandomForestClassifier(n_estimators=10, random_state=42)</pre><b>In a Jupyter environment, please rerun this cell to show the HTML representation or trust the notebook. <br />On GitHub, the HTML representation is unable to render, please try loading this page with nbviewer.org.</b></div><div class=\"sk-container\" hidden><div class=\"sk-item\"><div class=\"sk-estimator sk-toggleable\"><input class=\"sk-toggleable__control sk-hidden--visually\" id=\"sk-estimator-id-8\" type=\"checkbox\" checked><label for=\"sk-estimator-id-8\" class=\"sk-toggleable__label sk-toggleable__label-arrow\">RandomForestClassifier</label><div class=\"sk-toggleable__content\"><pre>RandomForestClassifier(n_estimators=10, random_state=42)</pre></div></div></div></div></div>"
            ]
          },
          "metadata": {},
          "execution_count": 27
        }
      ],
      "source": [
        "modelo_rf_normal = RandomForestClassifier(n_estimators=10, random_state=42)\n",
        "modelo_rf_normal.fit(X_train_normalized, y_treino)\n",
        "\n",
        "modelo_rf_pca = RandomForestClassifier(n_estimators=10, random_state=42)\n",
        "modelo_rf_pca.fit(X_train_pca_normalized, y_treino)\n",
        "\n",
        "modelo_rf_lda = RandomForestClassifier(n_estimators=10, random_state=42)\n",
        "modelo_rf_lda.fit(X_train_lda_normalized, y_treino)"
      ]
    },
    {
      "cell_type": "markdown",
      "metadata": {
        "id": "XtQWOCsgFLZw"
      },
      "source": [
        "# 10 - Exiba a acurácia de todos os modelos nos dados de teste e informe qual(quais) foi(foram) o(s) melhor(es) modelo(s)."
      ]
    },
    {
      "cell_type": "code",
      "execution_count": null,
      "metadata": {
        "colab": {
          "base_uri": "https://localhost:8080/"
        },
        "id": "Id0Ho7ozFLZw",
        "outputId": "349abfb8-97f6-411f-92f5-9bf452fa8c79"
      },
      "outputs": [
        {
          "output_type": "stream",
          "name": "stdout",
          "text": [
            "Acurácia do modelo_knn_normal: 0.5587\n",
            "Acurácia do modelo_knn_pca: 0.7178\n",
            "Acurácia do modelo_knn_lda: 0.9780\n",
            "Acurácia do modelo_nb_normal: 0.8247\n",
            "Acurácia do modelo_nb_pca: 0.3740\n",
            "Acurácia do modelo_nb_lda: 0.9563\n",
            "Acurácia do modelo_ad_normal: 0.9997\n",
            "Acurácia do modelo_ad_pca: 0.7023\n",
            "Acurácia do modelo_ad_lda: 0.9825\n",
            "Acurácia do modelo_rf_normal: 0.9775\n",
            "Acurácia do modelo_rf_pca: 0.7615\n",
            "Acurácia do modelo_rf_lda: 0.9857\n"
          ]
        }
      ],
      "source": [
        "def calcular_acuracia(modelo, X_test, y_test, nome_modelo):\n",
        "    y_pred = modelo.predict(X_test)\n",
        "    acuracia = accuracy_score(y_test, y_pred)\n",
        "    print(f'Acurácia do {nome_modelo}: {acuracia:.4f}')\n",
        "\n",
        "calcular_acuracia(modelo_knn_normal, X_test_normalized, y_teste, 'modelo_knn_normal')\n",
        "calcular_acuracia(modelo_knn_pca, X_test_pca_normalized, y_teste, 'modelo_knn_pca')\n",
        "calcular_acuracia(modelo_knn_lda, X_test_lda_normalized, y_teste, 'modelo_knn_lda')\n",
        "\n",
        "calcular_acuracia(modelo_nb_normal, X_test_normalized, y_teste, 'modelo_nb_normal')\n",
        "calcular_acuracia(modelo_nb_pca, X_test_pca_normalized, y_teste, 'modelo_nb_pca')\n",
        "calcular_acuracia(modelo_nb_lda, X_test_lda_normalized, y_teste, 'modelo_nb_lda')\n",
        "\n",
        "calcular_acuracia(modelo_ad_normal, X_test_normalized, y_teste, 'modelo_ad_normal')\n",
        "calcular_acuracia(modelo_ad_pca, X_test_pca_normalized, y_teste, 'modelo_ad_pca')\n",
        "calcular_acuracia(modelo_ad_lda, X_test_lda_normalized, y_teste, 'modelo_ad_lda')\n",
        "\n",
        "calcular_acuracia(modelo_rf_normal, X_test_normalized, y_teste, 'modelo_rf_normal')\n",
        "calcular_acuracia(modelo_rf_pca, X_test_pca_normalized, y_teste, 'modelo_rf_pca')\n",
        "calcular_acuracia(modelo_rf_lda, X_test_lda_normalized, y_teste, 'modelo_rf_lda')"
      ]
    },
    {
      "cell_type": "markdown",
      "source": [
        "> Modelo de Árvore de Decisão treinado com dados originais (modelo_ad_normal) com acurácia de 99.97%.\n",
        "\n",
        "> Modelo Random Forest treinado com dados originais (modelo_rf_normal) com acurácia de 97.75%.\n",
        "\n",
        "> Modelo de Árvore de Decisão treinado com dados após LDA (modelo_ad_lda) com acurácia de 98.25%."
      ],
      "metadata": {
        "id": "z-di2joSJbD0"
      }
    }
  ],
  "metadata": {
    "kernelspec": {
      "display_name": "tf",
      "language": "python",
      "name": "python3"
    },
    "language_info": {
      "codemirror_mode": {
        "name": "ipython",
        "version": 3
      },
      "file_extension": ".py",
      "mimetype": "text/x-python",
      "name": "python",
      "nbconvert_exporter": "python",
      "pygments_lexer": "ipython3",
      "version": "3.9.16"
    },
    "colab": {
      "provenance": []
    }
  },
  "nbformat": 4,
  "nbformat_minor": 0
}