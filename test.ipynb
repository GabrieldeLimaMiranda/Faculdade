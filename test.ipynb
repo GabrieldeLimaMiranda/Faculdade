{
  "nbformat": 4,
  "nbformat_minor": 0,
  "metadata": {
    "colab": {
      "provenance": []
    },
    "kernelspec": {
      "name": "python3",
      "display_name": "Python 3"
    },
    "language_info": {
      "name": "python"
    }
  },
  "cells": [
    {
      "cell_type": "markdown",
      "source": [
        "###PROVA OTIMIZAÇÃO 18/10/23"
      ],
      "metadata": {
        "id": "dv7bBz1XgVfL"
      }
    },
    {
      "cell_type": "code",
      "execution_count": null,
      "metadata": {
        "id": "RRRb2as0Yzud"
      },
      "outputs": [],
      "source": [
        "import numpy as np\n",
        "import pandas as pd\n",
        "from numpy.linalg import inv\n",
        "from sklearn.preprocessing import StandardScaler"
      ]
    },
    {
      "cell_type": "code",
      "source": [
        "df_treino = pd.read_csv('https://raw.githubusercontent.com/Cayan-Portela/ceub/main/dados/insurance_treino.csv', sep = ';', decimal = ',')"
      ],
      "metadata": {
        "id": "OVGEqMZZkBQa"
      },
      "execution_count": null,
      "outputs": []
    },
    {
      "cell_type": "code",
      "source": [
        "df_treino.head(3)"
      ],
      "metadata": {
        "colab": {
          "base_uri": "https://localhost:8080/",
          "height": 143
        },
        "id": "J1Z-sj4ckEEz",
        "outputId": "57c2997a-e82e-4008-ba58-ef08a429b842"
      },
      "execution_count": null,
      "outputs": [
        {
          "output_type": "execute_result",
          "data": {
            "text/plain": [
              "   age     sex    bmi  children smoker     region    charges\n",
              "0   34  female  23.56         0     no  northeast  4992.3764\n",
              "1   45  female  33.10         0     no  southwest  7345.0840\n",
              "2   23    male  32.70         3     no  southwest  3591.4800"
            ],
            "text/html": [
              "\n",
              "  <div id=\"df-f0929ea1-601c-47f9-a129-17ae804f6314\" class=\"colab-df-container\">\n",
              "    <div>\n",
              "<style scoped>\n",
              "    .dataframe tbody tr th:only-of-type {\n",
              "        vertical-align: middle;\n",
              "    }\n",
              "\n",
              "    .dataframe tbody tr th {\n",
              "        vertical-align: top;\n",
              "    }\n",
              "\n",
              "    .dataframe thead th {\n",
              "        text-align: right;\n",
              "    }\n",
              "</style>\n",
              "<table border=\"1\" class=\"dataframe\">\n",
              "  <thead>\n",
              "    <tr style=\"text-align: right;\">\n",
              "      <th></th>\n",
              "      <th>age</th>\n",
              "      <th>sex</th>\n",
              "      <th>bmi</th>\n",
              "      <th>children</th>\n",
              "      <th>smoker</th>\n",
              "      <th>region</th>\n",
              "      <th>charges</th>\n",
              "    </tr>\n",
              "  </thead>\n",
              "  <tbody>\n",
              "    <tr>\n",
              "      <th>0</th>\n",
              "      <td>34</td>\n",
              "      <td>female</td>\n",
              "      <td>23.56</td>\n",
              "      <td>0</td>\n",
              "      <td>no</td>\n",
              "      <td>northeast</td>\n",
              "      <td>4992.3764</td>\n",
              "    </tr>\n",
              "    <tr>\n",
              "      <th>1</th>\n",
              "      <td>45</td>\n",
              "      <td>female</td>\n",
              "      <td>33.10</td>\n",
              "      <td>0</td>\n",
              "      <td>no</td>\n",
              "      <td>southwest</td>\n",
              "      <td>7345.0840</td>\n",
              "    </tr>\n",
              "    <tr>\n",
              "      <th>2</th>\n",
              "      <td>23</td>\n",
              "      <td>male</td>\n",
              "      <td>32.70</td>\n",
              "      <td>3</td>\n",
              "      <td>no</td>\n",
              "      <td>southwest</td>\n",
              "      <td>3591.4800</td>\n",
              "    </tr>\n",
              "  </tbody>\n",
              "</table>\n",
              "</div>\n",
              "    <div class=\"colab-df-buttons\">\n",
              "\n",
              "  <div class=\"colab-df-container\">\n",
              "    <button class=\"colab-df-convert\" onclick=\"convertToInteractive('df-f0929ea1-601c-47f9-a129-17ae804f6314')\"\n",
              "            title=\"Convert this dataframe to an interactive table.\"\n",
              "            style=\"display:none;\">\n",
              "\n",
              "  <svg xmlns=\"http://www.w3.org/2000/svg\" height=\"24px\" viewBox=\"0 -960 960 960\">\n",
              "    <path d=\"M120-120v-720h720v720H120Zm60-500h600v-160H180v160Zm220 220h160v-160H400v160Zm0 220h160v-160H400v160ZM180-400h160v-160H180v160Zm440 0h160v-160H620v160ZM180-180h160v-160H180v160Zm440 0h160v-160H620v160Z\"/>\n",
              "  </svg>\n",
              "    </button>\n",
              "\n",
              "  <style>\n",
              "    .colab-df-container {\n",
              "      display:flex;\n",
              "      gap: 12px;\n",
              "    }\n",
              "\n",
              "    .colab-df-convert {\n",
              "      background-color: #E8F0FE;\n",
              "      border: none;\n",
              "      border-radius: 50%;\n",
              "      cursor: pointer;\n",
              "      display: none;\n",
              "      fill: #1967D2;\n",
              "      height: 32px;\n",
              "      padding: 0 0 0 0;\n",
              "      width: 32px;\n",
              "    }\n",
              "\n",
              "    .colab-df-convert:hover {\n",
              "      background-color: #E2EBFA;\n",
              "      box-shadow: 0px 1px 2px rgba(60, 64, 67, 0.3), 0px 1px 3px 1px rgba(60, 64, 67, 0.15);\n",
              "      fill: #174EA6;\n",
              "    }\n",
              "\n",
              "    .colab-df-buttons div {\n",
              "      margin-bottom: 4px;\n",
              "    }\n",
              "\n",
              "    [theme=dark] .colab-df-convert {\n",
              "      background-color: #3B4455;\n",
              "      fill: #D2E3FC;\n",
              "    }\n",
              "\n",
              "    [theme=dark] .colab-df-convert:hover {\n",
              "      background-color: #434B5C;\n",
              "      box-shadow: 0px 1px 3px 1px rgba(0, 0, 0, 0.15);\n",
              "      filter: drop-shadow(0px 1px 2px rgba(0, 0, 0, 0.3));\n",
              "      fill: #FFFFFF;\n",
              "    }\n",
              "  </style>\n",
              "\n",
              "    <script>\n",
              "      const buttonEl =\n",
              "        document.querySelector('#df-f0929ea1-601c-47f9-a129-17ae804f6314 button.colab-df-convert');\n",
              "      buttonEl.style.display =\n",
              "        google.colab.kernel.accessAllowed ? 'block' : 'none';\n",
              "\n",
              "      async function convertToInteractive(key) {\n",
              "        const element = document.querySelector('#df-f0929ea1-601c-47f9-a129-17ae804f6314');\n",
              "        const dataTable =\n",
              "          await google.colab.kernel.invokeFunction('convertToInteractive',\n",
              "                                                    [key], {});\n",
              "        if (!dataTable) return;\n",
              "\n",
              "        const docLinkHtml = 'Like what you see? Visit the ' +\n",
              "          '<a target=\"_blank\" href=https://colab.research.google.com/notebooks/data_table.ipynb>data table notebook</a>'\n",
              "          + ' to learn more about interactive tables.';\n",
              "        element.innerHTML = '';\n",
              "        dataTable['output_type'] = 'display_data';\n",
              "        await google.colab.output.renderOutput(dataTable, element);\n",
              "        const docLink = document.createElement('div');\n",
              "        docLink.innerHTML = docLinkHtml;\n",
              "        element.appendChild(docLink);\n",
              "      }\n",
              "    </script>\n",
              "  </div>\n",
              "\n",
              "\n",
              "<div id=\"df-f3372b7e-dba5-4ffe-ad0c-6e4dcb5a7e86\">\n",
              "  <button class=\"colab-df-quickchart\" onclick=\"quickchart('df-f3372b7e-dba5-4ffe-ad0c-6e4dcb5a7e86')\"\n",
              "            title=\"Suggest charts.\"\n",
              "            style=\"display:none;\">\n",
              "\n",
              "<svg xmlns=\"http://www.w3.org/2000/svg\" height=\"24px\"viewBox=\"0 0 24 24\"\n",
              "     width=\"24px\">\n",
              "    <g>\n",
              "        <path d=\"M19 3H5c-1.1 0-2 .9-2 2v14c0 1.1.9 2 2 2h14c1.1 0 2-.9 2-2V5c0-1.1-.9-2-2-2zM9 17H7v-7h2v7zm4 0h-2V7h2v10zm4 0h-2v-4h2v4z\"/>\n",
              "    </g>\n",
              "</svg>\n",
              "  </button>\n",
              "\n",
              "<style>\n",
              "  .colab-df-quickchart {\n",
              "      --bg-color: #E8F0FE;\n",
              "      --fill-color: #1967D2;\n",
              "      --hover-bg-color: #E2EBFA;\n",
              "      --hover-fill-color: #174EA6;\n",
              "      --disabled-fill-color: #AAA;\n",
              "      --disabled-bg-color: #DDD;\n",
              "  }\n",
              "\n",
              "  [theme=dark] .colab-df-quickchart {\n",
              "      --bg-color: #3B4455;\n",
              "      --fill-color: #D2E3FC;\n",
              "      --hover-bg-color: #434B5C;\n",
              "      --hover-fill-color: #FFFFFF;\n",
              "      --disabled-bg-color: #3B4455;\n",
              "      --disabled-fill-color: #666;\n",
              "  }\n",
              "\n",
              "  .colab-df-quickchart {\n",
              "    background-color: var(--bg-color);\n",
              "    border: none;\n",
              "    border-radius: 50%;\n",
              "    cursor: pointer;\n",
              "    display: none;\n",
              "    fill: var(--fill-color);\n",
              "    height: 32px;\n",
              "    padding: 0;\n",
              "    width: 32px;\n",
              "  }\n",
              "\n",
              "  .colab-df-quickchart:hover {\n",
              "    background-color: var(--hover-bg-color);\n",
              "    box-shadow: 0 1px 2px rgba(60, 64, 67, 0.3), 0 1px 3px 1px rgba(60, 64, 67, 0.15);\n",
              "    fill: var(--button-hover-fill-color);\n",
              "  }\n",
              "\n",
              "  .colab-df-quickchart-complete:disabled,\n",
              "  .colab-df-quickchart-complete:disabled:hover {\n",
              "    background-color: var(--disabled-bg-color);\n",
              "    fill: var(--disabled-fill-color);\n",
              "    box-shadow: none;\n",
              "  }\n",
              "\n",
              "  .colab-df-spinner {\n",
              "    border: 2px solid var(--fill-color);\n",
              "    border-color: transparent;\n",
              "    border-bottom-color: var(--fill-color);\n",
              "    animation:\n",
              "      spin 1s steps(1) infinite;\n",
              "  }\n",
              "\n",
              "  @keyframes spin {\n",
              "    0% {\n",
              "      border-color: transparent;\n",
              "      border-bottom-color: var(--fill-color);\n",
              "      border-left-color: var(--fill-color);\n",
              "    }\n",
              "    20% {\n",
              "      border-color: transparent;\n",
              "      border-left-color: var(--fill-color);\n",
              "      border-top-color: var(--fill-color);\n",
              "    }\n",
              "    30% {\n",
              "      border-color: transparent;\n",
              "      border-left-color: var(--fill-color);\n",
              "      border-top-color: var(--fill-color);\n",
              "      border-right-color: var(--fill-color);\n",
              "    }\n",
              "    40% {\n",
              "      border-color: transparent;\n",
              "      border-right-color: var(--fill-color);\n",
              "      border-top-color: var(--fill-color);\n",
              "    }\n",
              "    60% {\n",
              "      border-color: transparent;\n",
              "      border-right-color: var(--fill-color);\n",
              "    }\n",
              "    80% {\n",
              "      border-color: transparent;\n",
              "      border-right-color: var(--fill-color);\n",
              "      border-bottom-color: var(--fill-color);\n",
              "    }\n",
              "    90% {\n",
              "      border-color: transparent;\n",
              "      border-bottom-color: var(--fill-color);\n",
              "    }\n",
              "  }\n",
              "</style>\n",
              "\n",
              "  <script>\n",
              "    async function quickchart(key) {\n",
              "      const quickchartButtonEl =\n",
              "        document.querySelector('#' + key + ' button');\n",
              "      quickchartButtonEl.disabled = true;  // To prevent multiple clicks.\n",
              "      quickchartButtonEl.classList.add('colab-df-spinner');\n",
              "      try {\n",
              "        const charts = await google.colab.kernel.invokeFunction(\n",
              "            'suggestCharts', [key], {});\n",
              "      } catch (error) {\n",
              "        console.error('Error during call to suggestCharts:', error);\n",
              "      }\n",
              "      quickchartButtonEl.classList.remove('colab-df-spinner');\n",
              "      quickchartButtonEl.classList.add('colab-df-quickchart-complete');\n",
              "    }\n",
              "    (() => {\n",
              "      let quickchartButtonEl =\n",
              "        document.querySelector('#df-f3372b7e-dba5-4ffe-ad0c-6e4dcb5a7e86 button');\n",
              "      quickchartButtonEl.style.display =\n",
              "        google.colab.kernel.accessAllowed ? 'block' : 'none';\n",
              "    })();\n",
              "  </script>\n",
              "</div>\n",
              "    </div>\n",
              "  </div>\n"
            ]
          },
          "metadata": {},
          "execution_count": 3
        }
      ]
    },
    {
      "cell_type": "code",
      "execution_count": null,
      "metadata": {
        "id": "nJ8odjoGYzug"
      },
      "outputs": [],
      "source": [
        "df_treino.drop(['region', 'bmi'], axis = 1, inplace = True)"
      ]
    },
    {
      "cell_type": "code",
      "execution_count": null,
      "metadata": {
        "id": "NqJe3OVJYzuh",
        "outputId": "e8d43758-1728-481b-9a66-d9584097a963",
        "colab": {
          "base_uri": "https://localhost:8080/"
        }
      },
      "outputs": [
        {
          "output_type": "stream",
          "name": "stdout",
          "text": [
            "<class 'pandas.core.frame.DataFrame'>\n",
            "RangeIndex: 1000 entries, 0 to 999\n",
            "Data columns (total 5 columns):\n",
            " #   Column    Non-Null Count  Dtype  \n",
            "---  ------    --------------  -----  \n",
            " 0   age       1000 non-null   int64  \n",
            " 1   sex       1000 non-null   object \n",
            " 2   children  1000 non-null   int64  \n",
            " 3   smoker    1000 non-null   object \n",
            " 4   charges   1000 non-null   float64\n",
            "dtypes: float64(1), int64(2), object(2)\n",
            "memory usage: 39.2+ KB\n"
          ]
        }
      ],
      "source": [
        "df_treino.info()"
      ]
    },
    {
      "cell_type": "code",
      "execution_count": null,
      "metadata": {
        "id": "HeRBxC4OYzuh"
      },
      "outputs": [],
      "source": [
        "df_treino.loc[df_treino['smoker'] == 'no', 'smoker'] = 0\n",
        "df_treino.loc[df_treino['smoker'] == 'yes', 'smoker'] = 1\n",
        "df_treino.loc[df_treino['sex'] == 'male', 'sex'] = 0\n",
        "df_treino.loc[df_treino['sex'] == 'female', 'sex'] = 1"
      ]
    },
    {
      "cell_type": "code",
      "execution_count": null,
      "metadata": {
        "id": "WqNHpm4QYzuh"
      },
      "outputs": [],
      "source": [
        "df_treino['smoker'] = df_treino['smoker'].astype(int)\n",
        "df_treino['sex'] = df_treino['sex'].astype(int)"
      ]
    },
    {
      "cell_type": "markdown",
      "source": [
        "##QUESTÃO 1"
      ],
      "metadata": {
        "id": "f-xBT3fFgdk6"
      }
    },
    {
      "cell_type": "markdown",
      "source": [
        "a) Matriz de entrada (X) para relacionar as variáveis de entrada com a variável de interesse (Y) por meio de uma matriz de parâmetros (β). O vetor de erros (ϵ) representa a diferença entre os valores reais e os valores previstos."
      ],
      "metadata": {
        "id": "QelqYafzgh9D"
      }
    },
    {
      "cell_type": "markdown",
      "source": [
        "##QUESTÃO 2"
      ],
      "metadata": {
        "id": "t3-j2I2GisqT"
      }
    },
    {
      "cell_type": "markdown",
      "source": [
        "a) Determinar os melhores valores dos coeficientes que descrevem o relacionamento entre as variáveis independentes (caracteristicas, o nosso x) e a variável dependente (target, o nosso y) no modelo"
      ],
      "metadata": {
        "id": "Q8NsdXHii_Yr"
      }
    },
    {
      "cell_type": "markdown",
      "source": [
        "b) $i$. Solução analítica"
      ],
      "metadata": {
        "id": "ZWE8rmcnjDWi"
      }
    },
    {
      "cell_type": "code",
      "execution_count": null,
      "metadata": {
        "id": "LIIZ79cOYzuj"
      },
      "outputs": [],
      "source": [
        "def matriz_x(coluna, dados):\n",
        "\n",
        "    n_ = dados.shape[0]\n",
        "    col_1 = np.ones(n_)\n",
        "    col_var = dados[coluna]\n",
        "    X_mat = np.c_[col_1, np.array(col_var)]\n",
        "\n",
        "    return X_mat"
      ]
    },
    {
      "cell_type": "code",
      "execution_count": null,
      "metadata": {
        "id": "pSZgriy6Yzuj",
        "outputId": "dce9cd6a-d8f3-4461-a4bb-dbb4634b7097",
        "colab": {
          "base_uri": "https://localhost:8080/"
        }
      },
      "outputs": [
        {
          "output_type": "execute_result",
          "data": {
            "text/plain": [
              "array([[ 1., 34.,  1.,  0.,  0.],\n",
              "       [ 1., 45.,  1.,  0.,  0.],\n",
              "       [ 1., 23.,  0.,  3.,  0.],\n",
              "       [ 1., 38.,  1.,  2.,  0.],\n",
              "       [ 1., 32.,  1.,  2.,  0.]])"
            ]
          },
          "metadata": {},
          "execution_count": 24
        }
      ],
      "source": [
        "X_mat = matriz_x(coluna = ['age', 'sex', 'children', 'smoker'], dados = df_treino)\n",
        "X_mat[:5]"
      ]
    },
    {
      "cell_type": "code",
      "execution_count": null,
      "metadata": {
        "id": "AHf-vVUrYzuj",
        "outputId": "83b014dc-5c8b-4444-88e4-bb75bac4d980",
        "colab": {
          "base_uri": "https://localhost:8080/"
        }
      },
      "outputs": [
        {
          "output_type": "execute_result",
          "data": {
            "text/plain": [
              "0    4992.3764\n",
              "1    7345.0840\n",
              "2    3591.4800\n",
              "3    7133.9025\n",
              "4    5152.1340\n",
              "Name: charges, dtype: float64"
            ]
          },
          "metadata": {},
          "execution_count": 25
        }
      ],
      "source": [
        "y = df_treino['charges']\n",
        "y[:5]"
      ]
    },
    {
      "cell_type": "code",
      "execution_count": null,
      "metadata": {
        "id": "m_COfmaoYzuj",
        "outputId": "69437ad1-7cc8-4667-e3b7-b92a3fc2b02b",
        "colab": {
          "base_uri": "https://localhost:8080/"
        }
      },
      "outputs": [
        {
          "output_type": "execute_result",
          "data": {
            "text/plain": [
              "array([[1.000000e+03, 3.920900e+04, 4.820000e+02, 1.096000e+03,\n",
              "        2.020000e+02],\n",
              "       [3.920900e+04, 1.735719e+06, 1.904800e+04, 4.364900e+04,\n",
              "        7.721000e+03],\n",
              "       [4.820000e+02, 1.904800e+04, 4.820000e+02, 5.250000e+02,\n",
              "        8.200000e+01],\n",
              "       [1.096000e+03, 4.364900e+04, 5.250000e+02, 2.622000e+03,\n",
              "        2.280000e+02],\n",
              "       [2.020000e+02, 7.721000e+03, 8.200000e+01, 2.280000e+02,\n",
              "        2.020000e+02]])"
            ]
          },
          "metadata": {},
          "execution_count": 26
        }
      ],
      "source": [
        "Xlx = X_mat.T @ X_mat\n",
        "Xlx"
      ]
    },
    {
      "cell_type": "markdown",
      "source": [
        "$ii$. Gradiente descendente"
      ],
      "metadata": {
        "id": "G03PH1dokgci"
      }
    },
    {
      "cell_type": "code",
      "source": [
        "import numpy as np\n",
        "\n",
        "dados = df_treino\n",
        "n_ = dados.shape[0]\n",
        "\n",
        "x1 = np.linspace(-5,5,n_)\n",
        "\n",
        "y1 = 3 + x1 + np.random.normal(size=1000)\n",
        "\n",
        "col_1 = np.ones(n_)\n",
        "X_mat = np.column_stack((col_1, x1))\n",
        "\n",
        "n_iter = 1000"
      ],
      "metadata": {
        "id": "N0DgWT8UbBOm"
      },
      "execution_count": null,
      "outputs": []
    },
    {
      "cell_type": "code",
      "source": [
        "beta_ = list()\n",
        "beta_.append(\n",
        "    np.array([0,0])\n",
        ")\n",
        "lr = 0.01"
      ],
      "metadata": {
        "id": "mWH9r9dQTCX9"
      },
      "execution_count": null,
      "outputs": []
    },
    {
      "cell_type": "code",
      "source": [
        "def grad_(X,B,Y):\n",
        "  n = len(Y)\n",
        "  grad = X.T @ (X @ B - Y) / n\n",
        "  return grad"
      ],
      "metadata": {
        "id": "3lZnOXDpTIaf"
      },
      "execution_count": null,
      "outputs": []
    },
    {
      "cell_type": "code",
      "source": [
        "for i in range(1,n_):\n",
        "  gradiente = grad_(X=X_mat, B=beta_[i-1], Y=y1)\n",
        "  beta_.append(\n",
        "      beta_[i-1] - lr * gradiente\n",
        "  )"
      ],
      "metadata": {
        "id": "zruXx8dvlm5H"
      },
      "execution_count": null,
      "outputs": []
    },
    {
      "cell_type": "code",
      "source": [
        "beta_[-1]"
      ],
      "metadata": {
        "colab": {
          "base_uri": "https://localhost:8080/"
        },
        "id": "Po9AaazDlyRL",
        "outputId": "e237b7f1-2e28-4b07-9ab5-7804e776b804"
      },
      "execution_count": null,
      "outputs": [
        {
          "output_type": "execute_result",
          "data": {
            "text/plain": [
              "array([3.07654   , 0.99899013])"
            ]
          },
          "metadata": {},
          "execution_count": 18
        }
      ]
    },
    {
      "cell_type": "code",
      "source": [
        "import matplotlib.pyplot as plt\n",
        "\n",
        "plt.plot(x1,y1,'bo',alpha=0.2)"
      ],
      "metadata": {
        "colab": {
          "base_uri": "https://localhost:8080/",
          "height": 447
        },
        "id": "Ldm8wyghl1RC",
        "outputId": "6c106981-b454-4c8c-baf2-768cbda53a84"
      },
      "execution_count": null,
      "outputs": [
        {
          "output_type": "execute_result",
          "data": {
            "text/plain": [
              "[<matplotlib.lines.Line2D at 0x7c15462e3d30>]"
            ]
          },
          "metadata": {},
          "execution_count": 19
        },
        {
          "output_type": "display_data",
          "data": {
            "text/plain": [
              "<Figure size 640x480 with 1 Axes>"
            ],
            "image/png": "[encoded data removed]"
          },
          "metadata": {}
        }
      ]
    },
    {
      "cell_type": "markdown",
      "source": [
        "$iii$. Gradiente descendente"
      ],
      "metadata": {
        "id": "Awc-NLTul_aZ"
      }
    },
    {
      "cell_type": "code",
      "source": [
        "from sklearn.linear_model import LinearRegression"
      ],
      "metadata": {
        "id": "j_i03hZWmj2H"
      },
      "execution_count": null,
      "outputs": []
    },
    {
      "cell_type": "code",
      "source": [
        "regr = LinearRegression()\n",
        "regr.fit(df_treino[['age', 'sex','children','smoker']], df_treino['charges'])"
      ],
      "metadata": {
        "colab": {
          "base_uri": "https://localhost:8080/",
          "height": 75
        },
        "id": "3s3WbDHUl2_C",
        "outputId": "b358f8dd-2481-4454-8480-43da57bc45e2"
      },
      "execution_count": null,
      "outputs": [
        {
          "output_type": "execute_result",
          "data": {
            "text/plain": [
              "LinearRegression()"
            ],
            "text/html": [
              "<style>#sk-container-id-1 {color: black;background-color: white;}#sk-container-id-1 pre{padding: 0;}#sk-container-id-1 div.sk-toggleable {background-color: white;}#sk-container-id-1 label.sk-toggleable__label {cursor: pointer;display: block;width: 100%;margin-bottom: 0;padding: 0.3em;box-sizing: border-box;text-align: center;}#sk-container-id-1 label.sk-toggleable__label-arrow:before {content: \"▸\";float: left;margin-right: 0.25em;color: #696969;}#sk-container-id-1 label.sk-toggleable__label-arrow:hover:before {color: black;}#sk-container-id-1 div.sk-estimator:hover label.sk-toggleable__label-arrow:before {color: black;}#sk-container-id-1 div.sk-toggleable__content {max-height: 0;max-width: 0;overflow: hidden;text-align: left;background-color: #f0f8ff;}#sk-container-id-1 div.sk-toggleable__content pre {margin: 0.2em;color: black;border-radius: 0.25em;background-color: #f0f8ff;}#sk-container-id-1 input.sk-toggleable__control:checked~div.sk-toggleable__content {max-height: 200px;max-width: 100%;overflow: auto;}#sk-container-id-1 input.sk-toggleable__control:checked~label.sk-toggleable__label-arrow:before {content: \"▾\";}#sk-container-id-1 div.sk-estimator input.sk-toggleable__control:checked~label.sk-toggleable__label {background-color: #d4ebff;}#sk-container-id-1 div.sk-label input.sk-toggleable__control:checked~label.sk-toggleable__label {background-color: #d4ebff;}#sk-container-id-1 input.sk-hidden--visually {border: 0;clip: rect(1px 1px 1px 1px);clip: rect(1px, 1px, 1px, 1px);height: 1px;margin: -1px;overflow: hidden;padding: 0;position: absolute;width: 1px;}#sk-container-id-1 div.sk-estimator {font-family: monospace;background-color: #f0f8ff;border: 1px dotted black;border-radius: 0.25em;box-sizing: border-box;margin-bottom: 0.5em;}#sk-container-id-1 div.sk-estimator:hover {background-color: #d4ebff;}#sk-container-id-1 div.sk-parallel-item::after {content: \"\";width: 100%;border-bottom: 1px solid gray;flex-grow: 1;}#sk-container-id-1 div.sk-label:hover label.sk-toggleable__label {background-color: #d4ebff;}#sk-container-id-1 div.sk-serial::before {content: \"\";position: absolute;border-left: 1px solid gray;box-sizing: border-box;top: 0;bottom: 0;left: 50%;z-index: 0;}#sk-container-id-1 div.sk-serial {display: flex;flex-direction: column;align-items: center;background-color: white;padding-right: 0.2em;padding-left: 0.2em;position: relative;}#sk-container-id-1 div.sk-item {position: relative;z-index: 1;}#sk-container-id-1 div.sk-parallel {display: flex;align-items: stretch;justify-content: center;background-color: white;position: relative;}#sk-container-id-1 div.sk-item::before, #sk-container-id-1 div.sk-parallel-item::before {content: \"\";position: absolute;border-left: 1px solid gray;box-sizing: border-box;top: 0;bottom: 0;left: 50%;z-index: -1;}#sk-container-id-1 div.sk-parallel-item {display: flex;flex-direction: column;z-index: 1;position: relative;background-color: white;}#sk-container-id-1 div.sk-parallel-item:first-child::after {align-self: flex-end;width: 50%;}#sk-container-id-1 div.sk-parallel-item:last-child::after {align-self: flex-start;width: 50%;}#sk-container-id-1 div.sk-parallel-item:only-child::after {width: 0;}#sk-container-id-1 div.sk-dashed-wrapped {border: 1px dashed gray;margin: 0 0.4em 0.5em 0.4em;box-sizing: border-box;padding-bottom: 0.4em;background-color: white;}#sk-container-id-1 div.sk-label label {font-family: monospace;font-weight: bold;display: inline-block;line-height: 1.2em;}#sk-container-id-1 div.sk-label-container {text-align: center;}#sk-container-id-1 div.sk-container {/* jupyter's `normalize.less` sets `[hidden] { display: none; }` but bootstrap.min.css set `[hidden] { display: none !important; }` so we also need the `!important` here to be able to override the default hidden behavior on the sphinx rendered scikit-learn.org. See: https://github.com/scikit-learn/scikit-learn/issues/21755 */display: inline-block !important;position: relative;}#sk-container-id-1 div.sk-text-repr-fallback {display: none;}</style><div id=\"sk-container-id-1\" class=\"sk-top-container\"><div class=\"sk-text-repr-fallback\"><pre>LinearRegression()</pre><b>In a Jupyter environment, please rerun this cell to show the HTML representation or trust the notebook. <br />On GitHub, the HTML representation is unable to render, please try loading this page with nbviewer.org.</b></div><div class=\"sk-container\" hidden><div class=\"sk-item\"><div class=\"sk-estimator sk-toggleable\"><input class=\"sk-toggleable__control sk-hidden--visually\" id=\"sk-estimator-id-1\" type=\"checkbox\" checked><label for=\"sk-estimator-id-1\" class=\"sk-toggleable__label sk-toggleable__label-arrow\">LinearRegression</label><div class=\"sk-toggleable__content\"><pre>LinearRegression()</pre></div></div></div></div></div>"
            ]
          },
          "metadata": {},
          "execution_count": 21
        }
      ]
    },
    {
      "cell_type": "code",
      "source": [
        "regr.intercept_, regr.coef_"
      ],
      "metadata": {
        "colab": {
          "base_uri": "https://localhost:8080/"
        },
        "id": "_lha6MmBmgav",
        "outputId": "ff9825b4-c0f3-468c-ff42-fcfafe9f04c2"
      },
      "execution_count": null,
      "outputs": [
        {
          "output_type": "execute_result",
          "data": {
            "text/plain": [
              "(-3075.268382737546,\n",
              " array([  272.20653435,    57.34384981,   556.55795561, 23799.89105225]))"
            ]
          },
          "metadata": {},
          "execution_count": 22
        }
      ]
    },
    {
      "cell_type": "markdown",
      "source": [
        "c)"
      ],
      "metadata": {
        "id": "9YpBEV9Wn3nB"
      }
    },
    {
      "cell_type": "code",
      "source": [
        "beta_[-1]"
      ],
      "metadata": {
        "colab": {
          "base_uri": "https://localhost:8080/"
        },
        "id": "m8-0zb6An43y",
        "outputId": "9afe6650-e4e6-4020-e17d-d48422497697"
      },
      "execution_count": null,
      "outputs": [
        {
          "output_type": "execute_result",
          "data": {
            "text/plain": [
              "array([3.07654   , 0.99899013])"
            ]
          },
          "metadata": {},
          "execution_count": 27
        }
      ]
    },
    {
      "cell_type": "markdown",
      "source": [
        "d)"
      ],
      "metadata": {
        "id": "OZMrdf9JoFdC"
      }
    },
    {
      "cell_type": "code",
      "source": [
        "X_teste = matriz_x(coluna = ['age', 'sex', 'children', 'smoker'], dados = df_treino)\n",
        "\n",
        "betas = [-3075.26838274, 272.20653435, 57.34384981, 556.55795561, 23799.89105225]\n",
        "\n",
        "preditos = X_teste @ betas\n",
        "\n",
        "erro = df_treino['charges'] - preditos\n",
        "\n",
        "np.mean(erro ** 2)"
      ],
      "metadata": {
        "colab": {
          "base_uri": "https://localhost:8080/"
        },
        "id": "KpDT-LEBoEe5",
        "outputId": "4ae23b18-4d10-470a-b02c-2cc56fee2932"
      },
      "execution_count": null,
      "outputs": [
        {
          "output_type": "execute_result",
          "data": {
            "text/plain": [
              "37875141.04415237"
            ]
          },
          "metadata": {},
          "execution_count": 32
        }
      ]
    },
    {
      "cell_type": "markdown",
      "source": [
        "##QUESTÂO 3"
      ],
      "metadata": {
        "id": "NURo2Fzioeql"
      }
    },
    {
      "cell_type": "code",
      "source": [
        "\"\"\"\n",
        "2x^2+5 = e^x\n",
        "derivada da função = 4x-e^x\n",
        "\n",
        "3.5 - ((2))\n",
        "\"\"\""
      ],
      "metadata": {
        "id": "h23E3uPyoLrJ"
      },
      "execution_count": null,
      "outputs": []
    },
    {
      "cell_type": "code",
      "source": [
        "import math\n",
        "\n",
        "def f(x):\n",
        "    return 2*x**2 + 5 - math.exp(x)\n",
        "\n",
        "def df(x):\n",
        "    return 4*x - math.exp(x)\n",
        "\n",
        "def newton_raphson(initial_guess, tolerance, max_iterations):\n",
        "    x = initial_guess\n",
        "    for i in range(max_iterations):\n",
        "        x_next = x - f(x) / df(x)\n",
        "        if abs(x_next - x) < tolerance:\n",
        "            return x_next\n",
        "        x = x_next\n",
        "    return None\n",
        "\n",
        "initial_guess = 3.5\n",
        "tolerance = 1e-16  # Precisão de 16 casas decimais\n",
        "max_iterations = 1000\n",
        "\n",
        "result = newton_raphson(initial_guess, tolerance, max_iterations)\n",
        "\n",
        "if result is not None:\n",
        "    print(f\"A raiz é aproximadamente {result:.16f}\")\n",
        "else:\n",
        "    print(\"O método de Newton-Raphson não convergiu.\")\n"
      ],
      "metadata": {
        "colab": {
          "base_uri": "https://localhost:8080/"
        },
        "id": "-Tth6rYLql5b",
        "outputId": "41e5ebbd-cacf-4def-d5fb-70b0a5e22f18"
      },
      "execution_count": null,
      "outputs": [
        {
          "output_type": "stream",
          "name": "stdout",
          "text": [
            "A raiz é aproximadamente 3.2756010888473224\n"
          ]
        }
      ]
    },
    {
      "cell_type": "markdown",
      "source": [
        "##QUESTÂO 4"
      ],
      "metadata": {
        "id": "XZMHjEzAqsZT"
      }
    },
    {
      "cell_type": "code",
      "source": [
        "def updatex(x):\n",
        "    return (2 - x**2)"
      ],
      "metadata": {
        "id": "mJB8qtK_rPsp"
      },
      "execution_count": null,
      "outputs": []
    },
    {
      "cell_type": "code",
      "source": [
        "x_ = 16\n",
        "count = 1\n",
        "\n",
        "while x_ < -3 or x_ > 3:\n",
        "    x_ -= updatex(x_)\n",
        "    count += 1\n",
        "\n",
        "print(round(x_, 8))\n",
        "print(count)"
      ],
      "metadata": {
        "id": "_zQjimQKrmda"
      },
      "execution_count": null,
      "outputs": []
    },
    {
      "cell_type": "code",
      "source": [],
      "metadata": {
        "id": "RT9qJhCCrn_B"
      },
      "execution_count": null,
      "outputs": []
    }
  ]
}