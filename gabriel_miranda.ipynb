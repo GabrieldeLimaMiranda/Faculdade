{
  "cells": [
    {
      "cell_type": "markdown",
      "metadata": {
        "id": "jC694yJo3N-W"
      },
      "source": [
        "# Instruções para a Entrega do Trabalho Final de Machine Learning\n",
        "\n",
        "Por favor, siga atentamente as instruções abaixo para a entrega do seu trabalho final:\n",
        "\n",
        "## Entrega do Trabalho\n",
        "- **Link de Entrega:** O trabalho deve ser enviado exclusivamente através do seguinte link: [Formulário de Entrega](https://forms.gle/banMcKJEthjCuiFn9).\n",
        "\n",
        "## Importante\n",
        "- **Método de Envio:** Trabalhos enviados por e-mail **não** serão considerados. Utilize apenas o link fornecido acima.\n",
        "\n",
        "## Formato do Arquivo\n",
        "- **Nomeação do Arquivo:** Renomeie seu arquivo Jupyter Notebook seguindo o formato `nome_sobrenome.ipynb`, usando seu primeiro nome e primeiro sobrenome. Exemplos:\n",
        "  - `jorge_batista.ipynb`\n",
        "  - `camila_jesus.ipynb`\n",
        "  - `joao_paulo_cardoso.ipynb`\n",
        "- **Identificação:** O arquivo não deve conter outra identificação além do nome do arquivo.\n",
        "\n",
        "## Prazo Final\n",
        "- **Data Limite:** A data limite para a entrega do trabalho é **23:59 do dia 10 de dezembro**. Não serão aceitas entregas após este horário.\n",
        "\n",
        "---\n",
        "\n",
        "Por favor, assegure-se de seguir estas diretrizes para garantir que seu trabalho seja avaliado corretamente."
      ]
    },
    {
      "cell_type": "markdown",
      "metadata": {
        "id": "viKEYKJ23N-Y"
      },
      "source": [
        "# Base de Dados de Detecção de Trojan\n",
        "\n",
        "## O que é um Cavalo de Troia (Trojan)?\n",
        "- **Definição:** Um Cavalo de Troia, ou simplesmente Trojan, é um tipo de malware disfarçado de software legítimo. Ele engana os usuários para que instalem e executem o software em seus sistemas, permitindo que o invasor acesse dados confidenciais, cause danos ou crie backdoors para controle futuro.\n",
        "- **Impacto:** Trojans podem levar a sérios problemas de segurança, como roubo de dados, perda de informações importantes e até mesmo controle remoto não autorizado do sistema infectado.\n",
        "\n",
        "## Sobre a Base de Dados\n",
        "- **Objetivo:** A base de dados é utilizada para identificar tráfego de rede associado a atividades maliciosas de Trojans, bem como tráfego benigno (não malicioso). Ela é essencial para tarefas de classificação binária na área de segurança cibernética.\n",
        "- **Origem dos Dados:** Os dados foram obtidos do site do CIC (Canadian Institute for Cybersecurity).\n",
        "\n",
        "## Estrutura dos Dados\n",
        "- **Dados de Trojan:** Contém 90.683 observações que representam atividades de rede associadas a Trojans.\n",
        "- **Dados Benignos:** Inclui 86.799 observações de tráfego de rede considerado benigno, ou seja, normal e sem intenções maliciosas.\n",
        "\n",
        "## Utilização dos Dados\n",
        "- **Classificação Binária:** A base de dados pode ser usada para treinar modelos de Machine Learning capazes de distinguir entre tráfego de rede Trojan e benigno. Este é um exemplo clássico de classificação binária, onde as duas classes são 'Trojan' e 'Benigno'.\n",
        "- **Importância na Segurança Cibernética:** Dada a crescente sofisticação dos ataques cibernéticos, a capacidade de detectar Trojans com precisão é crucial para proteger informações e infraestruturas críticas.\n",
        "\n",
        "## Conclusão\n",
        "A detecção eficaz de Trojans é um componente vital na estratégia de defesa contra ameaças cibernéticas. Esta base de dados fornece um recurso valioso para pesquisadores e profissionais de segurança desenvolverem e testarem sistemas de detecção de malware baseados em aprendizado de máquina.\n",
        "\n",
        "---\n",
        "\n",
        "# Explicação das Colunas do DataFrame de Detecção de Trojan\n",
        "\n",
        "Este texto descreve cada coluna do DataFrame utilizado na detecção de tráfego de rede relacionado a Trojans.\n",
        "\n",
        "## Colunas Gerais\n",
        "- **ID do Fluxo:** Identificador único do fluxo de rede.\n",
        "- **IP de Origem:** Endereço IP do remetente do pacote.\n",
        "- **Porta de Origem:** Número da porta do remetente do pacote.\n",
        "- **IP de Destino:** Endereço IP do destinatário do pacote.\n",
        "- **Porta de Destino:** Número da porta do destinatário do pacote.\n",
        "- **Protocolo:** Protocolo de rede utilizado (TCP, UDP, etc.).\n",
        "- **Data e Hora:** Data e hora em que o pacote foi capturado.\n",
        "- **Duração do Fluxo:** Tempo total do fluxo de rede.\n",
        "\n",
        "## Total de Pacotes e Comprimento\n",
        "- **Total de Pacotes Enviados:** Número total de pacotes enviados.\n",
        "- **Total de Pacotes Recebidos:** Número total de pacotes recebidos.\n",
        "- **Comprimento Total dos Pacotes Enviados:** Comprimento total dos pacotes enviados.\n",
        "- **Comprimento Total dos Pacotes Recebidos:** Comprimento total dos pacotes recebidos.\n",
        "- **Comprimento Máximo/Mínimo/Médio do Pacote Enviado:** Estatísticas sobre o comprimento dos pacotes enviados.\n",
        "- **Comprimento Máximo/Mínimo/Médio do Pacote Recebido:** Estatísticas sobre o comprimento dos pacotes recebidos.\n",
        "\n",
        "## Intervalo Entre Chegadas (IAT)\n",
        "- **Média/Desvio Padrão/Máximo/Mínimo do Intervalo Entre Chegadas dos Fluxos:** Estatísticas do intervalo de tempo entre chegadas de pacotes consecutivos.\n",
        "- **Total/Média/Desvio Padrão/Máximo/Mínimo do Intervalo Entre Chegadas de Pacotes Enviados/Recebidos:** Estatísticas do intervalo de tempo entre chegadas de pacotes enviados e recebidos.\n",
        "\n",
        "## Flags e Cabeçalho\n",
        "- **Flags PSH/URG dos Pacotes Enviados/Recebidos:** Contagem de flags PSH e URG nos pacotes enviados e recebidos.\n",
        "- **Comprimento do Cabeçalho dos Pacotes Enviados/Recebidos:** Comprimento do cabeçalho dos pacotes enviados e recebidos.\n",
        "\n",
        "## Estatísticas de Pacotes\n",
        "- **Pacotes Enviados/Recebidos por Segundo:** Número de pacotes enviados e recebidos por segundo.\n",
        "- **Comprimento Mínimo/Máximo/Médio do Pacote:** Estatísticas sobre o comprimento dos pacotes.\n",
        "- **Desvio Padrão/Variância do Comprimento do Pacote:** Estatísticas sobre a variação no comprimento dos pacotes.\n",
        "\n",
        "## Contagem de Flags\n",
        "- **Contagem de Flags FIN/SYN/RST/PSH/ACK/URG/CWE/ECE:** Contagem de diferentes tipos de flags nos pacotes.\n",
        "\n",
        "## Outras Estatísticas\n",
        "- **Relação de Download/Upload:** Proporção entre download e upload.\n",
        "- **Tamanho Médio do Pacote/Segmento Enviado/Recebido:** Tamanho médio dos pacotes ou segmentos enviados e recebidos.\n",
        "- **Comprimento do Cabeçalho Enviado/Recebido:** Comprimento do cabeçalho dos pacotes enviados e recebidos.\n",
        "- **Média/Desvio Padrão/Máximo/Mínimo de Atividade/Ociosidade:** Estatísticas sobre os períodos de atividade e ociosidade.\n",
        "- **Bytes Iniciais da Janela Enviados/Recebidos:** Tamanho inicial da janela de congestionamento TCP.\n",
        "\n",
        "## Subfluxos e Blocos\n",
        "- **Pacotes/Bytes de Subfluxo Enviados/Recebidos:** Informações sobre subfluxos de pacotes.\n",
        "- **Média de Bytes/Pacotes por Bloco Enviado/Recebido:** Média de bytes e pacotes por bloco de transmissão.\n",
        "- **Taxa Média de Bloco Enviado/Recebido:** Taxa média de transmissão de blocos.\n",
        "\n",
        "## Classe\n",
        "- **Classe:** Categoria do fluxo (Trojan ou Benígno);\n",
        "\n",
        "---\n",
        "\n",
        "# Análise da Relevância das Colunas no DataFrame de Detecção de Trojan\n",
        "\n",
        "Algumas colunas no DataFrame de detecção de Trojan podem ser menos relevantes para a modelagem preditiva, dependendo do contexto específico e do modelo utilizado. Vamos explorar quais colunas podem ser consideradas menos relevantes e por quê.\n",
        "\n",
        "## Possíveis Colunas Irrelevantes\n",
        "- **ID do Fluxo:**\n",
        "  - Geralmente, é um identificador único para cada fluxo de rede e não tem valor preditivo, pois é específico para cada instância de dados.\n",
        "\n",
        "- **IP de Origem e IP de Destino:**\n",
        "  - Endereços IP específicos podem não ser úteis por si só para prever Trojans, a menos que estejam associados a endereços conhecidos por atividades maliciosas. No entanto, a análise baseada em IP pode ser útil em contextos específicos.\n",
        "\n",
        "- **Data e Hora:**\n",
        "  - A menos que a análise se concentre em tendências temporais ou atividades em horários específicos, esses campos podem não contribuir diretamente para a detecção de Trojans.\n",
        "\n",
        "- **Flags PSH/URG dos Pacotes Enviados/Recebidos:**\n",
        "  - Estas flags podem ou não ser relevantes. A relevância depende se os Trojans ou atividades maliciosas específicas se manifestam de maneira diferente nas flags dos pacotes.\n",
        "\n",
        "## Contexto e Análise Detalhada\n",
        "- A relevância de uma coluna pode mudar com base em novas informações ou técnicas de análise. Por exemplo, endereços IP podem se tornar relevantes se correlacionados com endereços conhecidos por atividades maliciosas.\n",
        "- A análise exploratória dos dados, juntamente com técnicas como seleção de características e engenharia de características, pode fornecer insights mais precisos sobre quais colunas são verdadeiramente irrelevantes ou relevantes."
      ]
    },
    {
      "cell_type": "markdown",
      "metadata": {
        "id": "BYUurzad3N-Z"
      },
      "source": [
        "# Instruções para o Trabalho Final de Machine Learning\n",
        "\n",
        "Este documento detalha as instruções passo a passo para o trabalho final da disciplina de Machine Learning.\n",
        "\n",
        "## 1. Preparação dos Dados\n",
        "- **Extraindo Informações de Data e Hora:**\n",
        "  - Crie colunas separadas com base na coluna \"Data e Hora\" contendo:\n",
        "    - `ano`: Ano extraído da data.\n",
        "    - `mes`: Número do mês.\n",
        "    - `dia_mes`: Dia do mês.\n",
        "    - `dia_ano`: Dia do ano.\n",
        "    - `dia_semana`: Dia da semana (0 para segunda-feira, 1 para terça-feira, ..., 6 para domingo).\n",
        "    - `hora`: Hora do dia.\n",
        "    - `minuto`: Minuto da hora.\n",
        "    - `segundo`: Segundo do minuto.\n",
        "\n",
        "## 2. Limpeza dos Dados\n",
        "- **Remoção de Colunas Irrelevantes:**\n",
        "  - Analise o conjunto de dados e remova todas as colunas que considerar irrelevantes para o problema em questão.\n",
        "\n",
        "## 3. Conversão de Dados Textuais\n",
        "- **Transformação de Dados Categóricos:**\n",
        "  - Converta quaisquer colunas textuais para numéricas utilizando técnicas como Label Encoder ou One Hot Encoder.\n",
        "\n",
        "## 4. Divisão dos Dados\n",
        "- **Separando em Conjuntos de Treino, Validação e Teste:**\n",
        "  - Divida os dados em 65% para treinamento, 20% para validação e 15% para teste.\n",
        "\n",
        "## 5. Normalização dos Dados\n",
        "- **Aplicação da Normalização MinMax:**\n",
        "  - Normalize os dados, aplicando `fit_transform` nos dados de treinamento e `transform` nos dados de validação e teste.\n",
        "\n",
        "## 6. Redução de Dimensionalidade com PCA\n",
        "- **Criação de Dados com PCA:**\n",
        "  - Aplique a redução de dimensionalidade com PCA para criar `X_train_pca`, `X_val_pca` e `X_test_pca`.\n",
        "\n",
        "## 7. Redução de Dimensionalidade com LDA\n",
        "- **Criação de Dados com LDA:**\n",
        "  - Aplique a redução de dimensionalidade com LDA para criar `X_train_lda`, `X_val_lda` e `X_test_lda`.\n",
        "\n",
        "## 8. Definição dos Modelos\n",
        "- **Estruturação dos Modelos de Rede Neural:**\n",
        "  - Defina um modelo de rede neural para cada um dos conjuntos de dados (X normal, X PCA, X LDA). A estrutura das camadas ocultas deve ser 256, 128, 64, 32 neurônios, sem dropout e sem regularização de kernel.\n",
        "\n",
        "## 9. Treinamento dos Modelos\n",
        "- **Configuração do Treinamento:**\n",
        "  - Treine os modelos por 50 épocas com:\n",
        "    - Early stopping com paciência de 15 épocas.\n",
        "    - Reduce learning rate com paciência de 4 épocas e fator de redução de 0.3.\n",
        "\n",
        "## 10. Avaliação dos Modelos\n",
        "- **Métricas e Análise de Desempenho:**\n",
        "  - Para cada um dos três modelos, exiba as métricas de Acurácia, Precisão, Recall, F1 e a matriz de confusão com gráfico de calor.\n",
        "\n",
        "Estas instruções devem ser seguidas rigorosamente para garantir uma avaliação justa e uma comparação adequada do desempenho dos modelos. A organização, documentação e legibilidade do código serão levados em consideração na hora da revisão."
      ]
    },
    {
      "cell_type": "code",
      "source": [
        "import pandas as pd\n",
        "from sklearn.preprocessing import LabelEncoder\n",
        "from sklearn.model_selection import train_test_split\n",
        "from sklearn.preprocessing import MinMaxScaler\n",
        "from sklearn.decomposition import PCA\n",
        "from sklearn.discriminant_analysis import LinearDiscriminantAnalysis\n",
        "from keras.models import Sequential\n",
        "from keras.layers import Dense\n",
        "from keras.callbacks import EarlyStopping, ReduceLROnPlateau\n",
        "from sklearn.metrics import accuracy_score, precision_score, recall_score, f1_score, confusion_matrix\n",
        "import seaborn as sns\n",
        "import matplotlib.pyplot as plt"
      ],
      "metadata": {
        "id": "iuBfHHRG5hLI"
      },
      "execution_count": null,
      "outputs": []
    },
    {
      "cell_type": "code",
      "source": [
        "dados = pd.read_csv('Trojan_Detection.csv')"
      ],
      "metadata": {
        "id": "HPPMzUIZ5i6B"
      },
      "execution_count": null,
      "outputs": []
    },
    {
      "cell_type": "markdown",
      "metadata": {
        "id": "FC7_HwX33N-Z"
      },
      "source": [
        "### 1 - Resolva o enunciado 1 no(s) blocos de código abaixo (Pode criar mais blocos de código, mas me envie apenas com os necessários)\n"
      ]
    },
    {
      "cell_type": "code",
      "execution_count": null,
      "metadata": {
        "id": "Fi5rdkmT3N-Z"
      },
      "outputs": [],
      "source": [
        "# Convertendo a coluna \"Data e Hora\" para o formato de data e hora\n",
        "dados['Data e Hora'] = pd.to_datetime(dados['Data e Hora'])\n",
        "\n",
        "# Criando colunas separadas\n",
        "dados['ano'] = dados['Data e Hora'].dt.year\n",
        "dados['mes'] = dados['Data e Hora'].dt.month\n",
        "dados['dia_mes'] = dados['Data e Hora'].dt.day\n",
        "dados['dia_ano'] = dados['Data e Hora'].dt.dayofyear\n",
        "dados['dia_semana'] = dados['Data e Hora'].dt.dayofweek\n",
        "dados['hora'] = dados['Data e Hora'].dt.hour\n",
        "dados['minuto'] = dados['Data e Hora'].dt.minute\n",
        "dados['segundo'] = dados['Data e Hora'].dt.second"
      ]
    },
    {
      "cell_type": "markdown",
      "metadata": {
        "id": "ImypOqtL3N-a"
      },
      "source": [
        "### 2 - Resolva o enunciado 2 no(s) blocos de código abaixo (Pode criar mais blocos de código, mas me envie apenas com os necessários)\n"
      ]
    },
    {
      "cell_type": "code",
      "execution_count": null,
      "metadata": {
        "id": "iEtMG7Wm3N-a"
      },
      "outputs": [],
      "source": [
        "# Colunas consideradas irrelevantes\n",
        "colunas_irrelevantes = ['ID do Fluxo', 'IP de Origem', 'IP de Destino', 'Data e Hora', 'Flags PSH dos Pacotes Enviados', 'Flags PSH dos Pacotes Recebidos', 'Flags URG dos Pacotes Enviados', 'Flags URG dos Pacotes Recebidos']\n",
        "\n",
        "# Remover colunas irrelevantes do DataFrame\n",
        "dados = dados.drop(columns=colunas_irrelevantes)"
      ]
    },
    {
      "cell_type": "markdown",
      "metadata": {
        "id": "_OklLaUp3N-a"
      },
      "source": [
        "### 3 - Resolva o enunciado 3 no(s) blocos de código abaixo (Pode criar mais blocos de código, mas me envie apenas com os necessários)\n"
      ]
    },
    {
      "cell_type": "code",
      "execution_count": null,
      "metadata": {
        "id": "sEo1CCsb3N-a"
      },
      "outputs": [],
      "source": [
        "# Lista de colunas categóricas para converter\n",
        "colunas_categoricas = ['Protocolo', 'Classe']\n",
        "\n",
        "# Criando uma cópia do DataFrame para evitar modificações indesejadas\n",
        "dados_encoded = dados.copy()\n",
        "\n",
        "# Usando o LabelEncoder para cada coluna categórica\n",
        "label_encoder = LabelEncoder()\n",
        "for coluna in colunas_categoricas:\n",
        "    dados_encoded[coluna] = label_encoder.fit_transform(dados[coluna])"
      ]
    },
    {
      "cell_type": "markdown",
      "metadata": {
        "id": "c5woAHul3N-b"
      },
      "source": [
        "### 4 - Resolva o enunciado 4 no(s) blocos de código abaixo (Pode criar mais blocos de código, mas me envie apenas com os necessários)\n"
      ]
    },
    {
      "cell_type": "code",
      "execution_count": null,
      "metadata": {
        "id": "ecSJZtHO3N-b"
      },
      "outputs": [],
      "source": [
        "# Definir as features (X) e o alvo (y)\n",
        "X = dados_encoded.drop(columns=['Classe'])\n",
        "y = dados_encoded['Classe']\n",
        "\n",
        "# Dividir os dados em treino, validação e teste\n",
        "X_treino, X_temp, y_treino, y_temp = train_test_split(X, y, test_size=0.35, random_state=42)\n",
        "X_validacao, X_teste, y_validacao, y_teste = train_test_split(X_temp, y_temp, test_size=0.43, random_state=42)"
      ]
    },
    {
      "cell_type": "markdown",
      "metadata": {
        "id": "hBlSM3gV3N-b"
      },
      "source": [
        "### 5 - Resolva o enunciado 5 no(s) blocos de código abaixo (Pode criar mais blocos de código, mas me envie apenas com os necessários)\n"
      ]
    },
    {
      "cell_type": "code",
      "execution_count": null,
      "metadata": {
        "id": "Q71dVFnq3N-b"
      },
      "outputs": [],
      "source": [
        "# Inicializar o MinMaxScaler\n",
        "scaler = MinMaxScaler()\n",
        "\n",
        "# Aplicar fit_transform nos dados de treinamento\n",
        "X_treino_normalizado = scaler.fit_transform(X_treino)\n",
        "\n",
        "# Aplicar transform nos dados de validação e teste\n",
        "X_validacao_normalizado = scaler.transform(X_validacao)\n",
        "X_teste_normalizado = scaler.transform(X_teste)"
      ]
    },
    {
      "cell_type": "markdown",
      "metadata": {
        "id": "aO33h3373N-b"
      },
      "source": [
        "### 6 - Resolva o enunciado 6 no(s) blocos de código abaixo (Pode criar mais blocos de código, mas me envie apenas com os necessários)\n"
      ]
    },
    {
      "cell_type": "code",
      "execution_count": null,
      "metadata": {
        "id": "Q-QYaTVr3N-b"
      },
      "outputs": [],
      "source": [
        "# Inicializar o PCA com o número desejado de componentes\n",
        "num_componentes = 5\n",
        "pca = PCA(n_components=num_componentes)\n",
        "\n",
        "# Aplicar o fit_transform nos dados de treinamento\n",
        "X_treino_pca = pca.fit_transform(X_treino)\n",
        "\n",
        "# Aplicar transform nos dados de validação e teste\n",
        "X_validacao_pca = pca.transform(X_validacao)\n",
        "X_teste_pca = pca.transform(X_teste)"
      ]
    },
    {
      "cell_type": "markdown",
      "metadata": {
        "id": "4knoqxfF3N-b"
      },
      "source": [
        "### 7 - Resolva o enunciado 7 no(s) blocos de código abaixo (Pode criar mais blocos de código, mas me envie apenas com os necessários)\n"
      ]
    },
    {
      "cell_type": "code",
      "execution_count": null,
      "metadata": {
        "id": "dXHavwuK3N-c"
      },
      "outputs": [],
      "source": [
        "# Inicializando o LDA com o número desejado de componentes\n",
        "num_componentes_lda = min(X_treino.shape[1], len(set(y_treino)) - 1)\n",
        "lda = LinearDiscriminantAnalysis(n_components=num_componentes_lda)\n",
        "\n",
        "# Aplicando o fit_transform nos dados de treinamento\n",
        "X_treino_lda = lda.fit_transform(X_treino, y_treino)\n",
        "\n",
        "# Aplicando transform nos dados de validação e teste\n",
        "X_validacao_lda = lda.transform(X_validacao)\n",
        "X_teste_lda = lda.transform(X_teste)"
      ]
    },
    {
      "cell_type": "markdown",
      "metadata": {
        "id": "qOxe-7ob3N-c"
      },
      "source": [
        "### 8 - Resolva o enunciado 8 no(s) blocos de código abaixo (Pode criar mais blocos de código, mas me envie apenas com os necessários)\n"
      ]
    },
    {
      "cell_type": "code",
      "execution_count": null,
      "metadata": {
        "id": "mLDDLs003N-c"
      },
      "outputs": [],
      "source": [
        "# Função para definir um modelo\n",
        "def criar_modelo(input_dim):\n",
        "    model = Sequential()\n",
        "    model.add(Dense(256, input_dim=input_dim, activation='relu'))\n",
        "    model.add(Dense(128, activation='relu'))\n",
        "    model.add(Dense(64, activation='relu'))\n",
        "    model.add(Dense(32, activation='relu'))\n",
        "    model.add(Dense(1, activation='sigmoid'))  # Saída binária\n",
        "\n",
        "    model.compile(optimizer='adam', loss='binary_crossentropy', metrics=['accuracy'])\n",
        "    return model\n",
        "\n",
        "# Dimensão de entrada para cada conjunto de dados\n",
        "dim_input_normal = X_treino.shape[1]\n",
        "dim_input_pca = X_treino_pca.shape[1]\n",
        "dim_input_lda = X_treino_lda.shape[1]\n",
        "\n",
        "# Criando modelos para cada conjunto de dados\n",
        "modelo_normal = criar_modelo(dim_input_normal)\n",
        "modelo_pca = criar_modelo(dim_input_pca)\n",
        "modelo_lda = criar_modelo(dim_input_lda)"
      ]
    },
    {
      "cell_type": "markdown",
      "metadata": {
        "id": "C_LEJTyg3N-c"
      },
      "source": [
        "### 9 - Resolva o enunciado 9 no(s) blocos de código abaixo (Pode criar mais blocos de código, mas me envie apenas com os necessários)\n"
      ]
    },
    {
      "cell_type": "code",
      "execution_count": null,
      "metadata": {
        "colab": {
          "base_uri": "https://localhost:8080/"
        },
        "id": "8OJaKGtZ3N-c",
        "outputId": "fd9b7d51-02e6-49f5-d28c-38b00f86bd65"
      },
      "outputs": [
        {
          "output_type": "stream",
          "name": "stdout",
          "text": [
            "Epoch 1/50\n",
            "3606/3606 [==============================] - 15s 4ms/step - loss: 6275.9697 - accuracy: 0.5238 - val_loss: 166.8948 - val_accuracy: 0.5172 - lr: 0.0010\n",
            "Epoch 2/50\n",
            "3606/3606 [==============================] - 13s 4ms/step - loss: 41.2904 - accuracy: 0.5216 - val_loss: 1.2146 - val_accuracy: 0.5164 - lr: 0.0010\n",
            "Epoch 3/50\n",
            "3606/3606 [==============================] - 14s 4ms/step - loss: 1.9525 - accuracy: 0.5138 - val_loss: 0.8435 - val_accuracy: 0.5118 - lr: 0.0010\n",
            "Epoch 4/50\n",
            "3606/3606 [==============================] - 18s 5ms/step - loss: 9.8400 - accuracy: 0.5109 - val_loss: 0.6929 - val_accuracy: 0.5117 - lr: 0.0010\n",
            "Epoch 5/50\n",
            "3606/3606 [==============================] - 14s 4ms/step - loss: 0.6929 - accuracy: 0.5105 - val_loss: 0.6929 - val_accuracy: 0.5117 - lr: 0.0010\n",
            "Epoch 6/50\n",
            "3606/3606 [==============================] - 13s 4ms/step - loss: 0.6930 - accuracy: 0.5108 - val_loss: 0.6929 - val_accuracy: 0.5117 - lr: 0.0010\n",
            "Epoch 7/50\n",
            "3606/3606 [==============================] - 15s 4ms/step - loss: 0.6930 - accuracy: 0.5108 - val_loss: 0.6929 - val_accuracy: 0.5117 - lr: 0.0010\n",
            "Epoch 8/50\n",
            "3606/3606 [==============================] - 14s 4ms/step - loss: 0.6929 - accuracy: 0.5106 - val_loss: 0.6929 - val_accuracy: 0.5117 - lr: 0.0010\n",
            "Epoch 9/50\n",
            "3606/3606 [==============================] - 14s 4ms/step - loss: 0.6929 - accuracy: 0.5109 - val_loss: 0.6929 - val_accuracy: 0.5117 - lr: 3.0000e-04\n",
            "Epoch 10/50\n",
            "3606/3606 [==============================] - 14s 4ms/step - loss: 0.6929 - accuracy: 0.5111 - val_loss: 0.6929 - val_accuracy: 0.5117 - lr: 3.0000e-04\n",
            "Epoch 11/50\n",
            "3606/3606 [==============================] - 14s 4ms/step - loss: 0.6929 - accuracy: 0.5111 - val_loss: 0.6929 - val_accuracy: 0.5117 - lr: 3.0000e-04\n",
            "Epoch 12/50\n",
            "3606/3606 [==============================] - 14s 4ms/step - loss: 0.6929 - accuracy: 0.5111 - val_loss: 0.6929 - val_accuracy: 0.5117 - lr: 3.0000e-04\n",
            "Epoch 13/50\n",
            "3606/3606 [==============================] - 14s 4ms/step - loss: 0.6929 - accuracy: 0.5111 - val_loss: 0.6929 - val_accuracy: 0.5117 - lr: 9.0000e-05\n",
            "Epoch 14/50\n",
            "3606/3606 [==============================] - 14s 4ms/step - loss: 0.6929 - accuracy: 0.5111 - val_loss: 0.6929 - val_accuracy: 0.5117 - lr: 9.0000e-05\n",
            "Epoch 15/50\n",
            "3606/3606 [==============================] - 14s 4ms/step - loss: 0.6929 - accuracy: 0.5111 - val_loss: 0.6929 - val_accuracy: 0.5117 - lr: 9.0000e-05\n",
            "Epoch 16/50\n",
            "3606/3606 [==============================] - 13s 4ms/step - loss: 0.6929 - accuracy: 0.5111 - val_loss: 0.6929 - val_accuracy: 0.5117 - lr: 9.0000e-05\n",
            "Epoch 17/50\n",
            "3606/3606 [==============================] - 13s 4ms/step - loss: 0.6929 - accuracy: 0.5111 - val_loss: 0.6929 - val_accuracy: 0.5117 - lr: 2.7000e-05\n",
            "Epoch 18/50\n",
            "3606/3606 [==============================] - 14s 4ms/step - loss: 0.6929 - accuracy: 0.5111 - val_loss: 0.6929 - val_accuracy: 0.5117 - lr: 2.7000e-05\n",
            "Epoch 19/50\n",
            "3606/3606 [==============================] - 15s 4ms/step - loss: 0.6929 - accuracy: 0.5111 - val_loss: 0.6929 - val_accuracy: 0.5117 - lr: 2.7000e-05\n",
            "Epoch 20/50\n",
            "3606/3606 [==============================] - 14s 4ms/step - loss: 0.6929 - accuracy: 0.5111 - val_loss: 0.6929 - val_accuracy: 0.5117 - lr: 2.7000e-05\n",
            "Epoch 21/50\n",
            "3606/3606 [==============================] - 14s 4ms/step - loss: 0.6929 - accuracy: 0.5111 - val_loss: 0.6929 - val_accuracy: 0.5117 - lr: 8.1000e-06\n",
            "Epoch 22/50\n",
            "3606/3606 [==============================] - 14s 4ms/step - loss: 0.6929 - accuracy: 0.5111 - val_loss: 0.6929 - val_accuracy: 0.5117 - lr: 8.1000e-06\n",
            "Epoch 1/50\n",
            "3606/3606 [==============================] - 13s 3ms/step - loss: 10689.3857 - accuracy: 0.5088 - val_loss: 259.4246 - val_accuracy: 0.5139 - lr: 0.0010\n",
            "Epoch 2/50\n",
            "3606/3606 [==============================] - 13s 4ms/step - loss: 86.4827 - accuracy: 0.5132 - val_loss: 63.5327 - val_accuracy: 0.5113 - lr: 0.0010\n",
            "Epoch 3/50\n",
            "3606/3606 [==============================] - 14s 4ms/step - loss: 8.8201 - accuracy: 0.5138 - val_loss: 0.6934 - val_accuracy: 0.5117 - lr: 0.0010\n",
            "Epoch 4/50\n",
            "3606/3606 [==============================] - 14s 4ms/step - loss: 0.6939 - accuracy: 0.5098 - val_loss: 0.6929 - val_accuracy: 0.5117 - lr: 0.0010\n",
            "Epoch 5/50\n",
            "3606/3606 [==============================] - 14s 4ms/step - loss: 0.6930 - accuracy: 0.5111 - val_loss: 0.6929 - val_accuracy: 0.5117 - lr: 0.0010\n",
            "Epoch 6/50\n",
            "3606/3606 [==============================] - 14s 4ms/step - loss: 0.6930 - accuracy: 0.5111 - val_loss: 0.6929 - val_accuracy: 0.5117 - lr: 0.0010\n",
            "Epoch 7/50\n",
            "3606/3606 [==============================] - 13s 4ms/step - loss: 0.6930 - accuracy: 0.5111 - val_loss: 0.6929 - val_accuracy: 0.5117 - lr: 0.0010\n",
            "Epoch 8/50\n",
            "3606/3606 [==============================] - 14s 4ms/step - loss: 0.6930 - accuracy: 0.5111 - val_loss: 0.6929 - val_accuracy: 0.5117 - lr: 0.0010\n",
            "Epoch 9/50\n",
            "3606/3606 [==============================] - 13s 3ms/step - loss: 0.6929 - accuracy: 0.5111 - val_loss: 0.6929 - val_accuracy: 0.5117 - lr: 3.0000e-04\n",
            "Epoch 10/50\n",
            "3606/3606 [==============================] - 13s 3ms/step - loss: 0.6929 - accuracy: 0.5111 - val_loss: 0.6929 - val_accuracy: 0.5117 - lr: 3.0000e-04\n",
            "Epoch 11/50\n",
            "3606/3606 [==============================] - 12s 3ms/step - loss: 0.6929 - accuracy: 0.5111 - val_loss: 0.6929 - val_accuracy: 0.5117 - lr: 3.0000e-04\n",
            "Epoch 12/50\n",
            "3606/3606 [==============================] - 13s 4ms/step - loss: 0.6929 - accuracy: 0.5111 - val_loss: 0.6929 - val_accuracy: 0.5117 - lr: 3.0000e-04\n",
            "Epoch 13/50\n",
            "3606/3606 [==============================] - 12s 3ms/step - loss: 0.6929 - accuracy: 0.5111 - val_loss: 0.6929 - val_accuracy: 0.5117 - lr: 9.0000e-05\n",
            "Epoch 14/50\n",
            "3606/3606 [==============================] - 14s 4ms/step - loss: 0.6929 - accuracy: 0.5111 - val_loss: 0.6929 - val_accuracy: 0.5117 - lr: 9.0000e-05\n",
            "Epoch 15/50\n",
            "3606/3606 [==============================] - 13s 4ms/step - loss: 0.6929 - accuracy: 0.5111 - val_loss: 0.6929 - val_accuracy: 0.5117 - lr: 9.0000e-05\n",
            "Epoch 16/50\n",
            "3606/3606 [==============================] - 14s 4ms/step - loss: 0.6929 - accuracy: 0.5111 - val_loss: 0.6929 - val_accuracy: 0.5117 - lr: 9.0000e-05\n",
            "Epoch 17/50\n",
            "3606/3606 [==============================] - 14s 4ms/step - loss: 0.6929 - accuracy: 0.5111 - val_loss: 0.6929 - val_accuracy: 0.5117 - lr: 2.7000e-05\n",
            "Epoch 18/50\n",
            "3606/3606 [==============================] - 14s 4ms/step - loss: 0.6929 - accuracy: 0.5111 - val_loss: 0.6929 - val_accuracy: 0.5117 - lr: 2.7000e-05\n",
            "Epoch 19/50\n",
            "3606/3606 [==============================] - 15s 4ms/step - loss: 0.6929 - accuracy: 0.5111 - val_loss: 0.6929 - val_accuracy: 0.5117 - lr: 2.7000e-05\n",
            "Epoch 20/50\n",
            "3606/3606 [==============================] - 14s 4ms/step - loss: 0.6929 - accuracy: 0.5111 - val_loss: 0.6929 - val_accuracy: 0.5117 - lr: 2.7000e-05\n",
            "Epoch 21/50\n",
            "3606/3606 [==============================] - 14s 4ms/step - loss: 0.6929 - accuracy: 0.5111 - val_loss: 0.6929 - val_accuracy: 0.5117 - lr: 8.1000e-06\n",
            "Epoch 22/50\n",
            "3606/3606 [==============================] - 13s 4ms/step - loss: 0.6929 - accuracy: 0.5111 - val_loss: 0.6929 - val_accuracy: 0.5117 - lr: 8.1000e-06\n",
            "Epoch 23/50\n",
            "3606/3606 [==============================] - 12s 3ms/step - loss: 0.6929 - accuracy: 0.5111 - val_loss: 0.6929 - val_accuracy: 0.5117 - lr: 8.1000e-06\n",
            "Epoch 24/50\n",
            "3606/3606 [==============================] - 13s 3ms/step - loss: 0.6929 - accuracy: 0.5111 - val_loss: 0.6929 - val_accuracy: 0.5117 - lr: 8.1000e-06\n",
            "Epoch 1/50\n",
            "3606/3606 [==============================] - 14s 4ms/step - loss: 0.0379 - accuracy: 0.9924 - val_loss: 0.0349 - val_accuracy: 0.9922 - lr: 0.0010\n",
            "Epoch 2/50\n",
            "3606/3606 [==============================] - 14s 4ms/step - loss: 0.0331 - accuracy: 0.9926 - val_loss: 0.0391 - val_accuracy: 0.9922 - lr: 0.0010\n",
            "Epoch 3/50\n",
            "3606/3606 [==============================] - 13s 4ms/step - loss: 0.0332 - accuracy: 0.9926 - val_loss: 0.0345 - val_accuracy: 0.9922 - lr: 0.0010\n",
            "Epoch 4/50\n",
            "3606/3606 [==============================] - 13s 4ms/step - loss: 0.0330 - accuracy: 0.9927 - val_loss: 0.0360 - val_accuracy: 0.9920 - lr: 0.0010\n",
            "Epoch 5/50\n",
            "3606/3606 [==============================] - 11s 3ms/step - loss: 0.0328 - accuracy: 0.9927 - val_loss: 0.0358 - val_accuracy: 0.9922 - lr: 0.0010\n",
            "Epoch 6/50\n",
            "3606/3606 [==============================] - 13s 4ms/step - loss: 0.0328 - accuracy: 0.9927 - val_loss: 0.0347 - val_accuracy: 0.9922 - lr: 0.0010\n",
            "Epoch 7/50\n",
            "3606/3606 [==============================] - 13s 3ms/step - loss: 0.0326 - accuracy: 0.9927 - val_loss: 0.0369 - val_accuracy: 0.9919 - lr: 0.0010\n",
            "Epoch 8/50\n",
            "3606/3606 [==============================] - 14s 4ms/step - loss: 0.0322 - accuracy: 0.9927 - val_loss: 0.0336 - val_accuracy: 0.9922 - lr: 3.0000e-04\n",
            "Epoch 9/50\n",
            "3606/3606 [==============================] - 13s 4ms/step - loss: 0.0319 - accuracy: 0.9927 - val_loss: 0.0340 - val_accuracy: 0.9921 - lr: 3.0000e-04\n",
            "Epoch 10/50\n",
            "3606/3606 [==============================] - 13s 4ms/step - loss: 0.0320 - accuracy: 0.9927 - val_loss: 0.0332 - val_accuracy: 0.9922 - lr: 3.0000e-04\n",
            "Epoch 11/50\n",
            "3606/3606 [==============================] - 13s 4ms/step - loss: 0.0319 - accuracy: 0.9927 - val_loss: 0.0333 - val_accuracy: 0.9922 - lr: 3.0000e-04\n",
            "Epoch 12/50\n",
            "3606/3606 [==============================] - 12s 3ms/step - loss: 0.0319 - accuracy: 0.9927 - val_loss: 0.0332 - val_accuracy: 0.9922 - lr: 3.0000e-04\n",
            "Epoch 13/50\n",
            "3606/3606 [==============================] - 12s 3ms/step - loss: 0.0319 - accuracy: 0.9927 - val_loss: 0.0338 - val_accuracy: 0.9922 - lr: 3.0000e-04\n",
            "Epoch 14/50\n",
            "3606/3606 [==============================] - 13s 4ms/step - loss: 0.0319 - accuracy: 0.9927 - val_loss: 0.0336 - val_accuracy: 0.9922 - lr: 3.0000e-04\n",
            "Epoch 15/50\n",
            "3606/3606 [==============================] - 12s 3ms/step - loss: 0.0317 - accuracy: 0.9927 - val_loss: 0.0333 - val_accuracy: 0.9922 - lr: 9.0000e-05\n",
            "Epoch 16/50\n",
            "3606/3606 [==============================] - 13s 4ms/step - loss: 0.0317 - accuracy: 0.9927 - val_loss: 0.0333 - val_accuracy: 0.9922 - lr: 9.0000e-05\n",
            "Epoch 17/50\n",
            "3606/3606 [==============================] - 13s 3ms/step - loss: 0.0317 - accuracy: 0.9927 - val_loss: 0.0332 - val_accuracy: 0.9922 - lr: 9.0000e-05\n",
            "Epoch 18/50\n",
            "3606/3606 [==============================] - 14s 4ms/step - loss: 0.0316 - accuracy: 0.9927 - val_loss: 0.0332 - val_accuracy: 0.9922 - lr: 9.0000e-05\n",
            "Epoch 19/50\n",
            "3606/3606 [==============================] - 13s 4ms/step - loss: 0.0315 - accuracy: 0.9927 - val_loss: 0.0331 - val_accuracy: 0.9922 - lr: 2.7000e-05\n",
            "Epoch 20/50\n",
            "3606/3606 [==============================] - 12s 3ms/step - loss: 0.0315 - accuracy: 0.9927 - val_loss: 0.0331 - val_accuracy: 0.9922 - lr: 2.7000e-05\n",
            "Epoch 21/50\n",
            "3606/3606 [==============================] - 12s 3ms/step - loss: 0.0315 - accuracy: 0.9927 - val_loss: 0.0331 - val_accuracy: 0.9922 - lr: 2.7000e-05\n",
            "Epoch 22/50\n",
            "3606/3606 [==============================] - 13s 4ms/step - loss: 0.0315 - accuracy: 0.9927 - val_loss: 0.0330 - val_accuracy: 0.9922 - lr: 2.7000e-05\n",
            "Epoch 23/50\n",
            "3606/3606 [==============================] - 12s 3ms/step - loss: 0.0315 - accuracy: 0.9927 - val_loss: 0.0330 - val_accuracy: 0.9922 - lr: 2.7000e-05\n",
            "Epoch 24/50\n",
            "3606/3606 [==============================] - 14s 4ms/step - loss: 0.0315 - accuracy: 0.9927 - val_loss: 0.0330 - val_accuracy: 0.9922 - lr: 8.1000e-06\n",
            "Epoch 25/50\n",
            "3606/3606 [==============================] - 14s 4ms/step - loss: 0.0315 - accuracy: 0.9927 - val_loss: 0.0330 - val_accuracy: 0.9922 - lr: 8.1000e-06\n",
            "Epoch 26/50\n",
            "3606/3606 [==============================] - 14s 4ms/step - loss: 0.0315 - accuracy: 0.9927 - val_loss: 0.0330 - val_accuracy: 0.9922 - lr: 8.1000e-06\n",
            "Epoch 27/50\n",
            "3606/3606 [==============================] - 14s 4ms/step - loss: 0.0314 - accuracy: 0.9927 - val_loss: 0.0330 - val_accuracy: 0.9922 - lr: 8.1000e-06\n",
            "Epoch 28/50\n",
            "3606/3606 [==============================] - 14s 4ms/step - loss: 0.0314 - accuracy: 0.9927 - val_loss: 0.0330 - val_accuracy: 0.9922 - lr: 2.4300e-06\n",
            "Epoch 29/50\n",
            "3606/3606 [==============================] - 14s 4ms/step - loss: 0.0314 - accuracy: 0.9927 - val_loss: 0.0330 - val_accuracy: 0.9922 - lr: 2.4300e-06\n",
            "Epoch 30/50\n",
            "3606/3606 [==============================] - 13s 4ms/step - loss: 0.0314 - accuracy: 0.9927 - val_loss: 0.0330 - val_accuracy: 0.9922 - lr: 2.4300e-06\n",
            "Epoch 31/50\n",
            "3606/3606 [==============================] - 12s 3ms/step - loss: 0.0314 - accuracy: 0.9927 - val_loss: 0.0330 - val_accuracy: 0.9922 - lr: 2.4300e-06\n",
            "Epoch 32/50\n",
            "3606/3606 [==============================] - 13s 4ms/step - loss: 0.0314 - accuracy: 0.9927 - val_loss: 0.0330 - val_accuracy: 0.9922 - lr: 1.0000e-06\n",
            "Epoch 33/50\n",
            "3606/3606 [==============================] - 12s 3ms/step - loss: 0.0314 - accuracy: 0.9927 - val_loss: 0.0330 - val_accuracy: 0.9922 - lr: 1.0000e-06\n",
            "Epoch 34/50\n",
            "3606/3606 [==============================] - 13s 4ms/step - loss: 0.0314 - accuracy: 0.9927 - val_loss: 0.0330 - val_accuracy: 0.9922 - lr: 1.0000e-06\n",
            "Epoch 35/50\n",
            "3606/3606 [==============================] - 14s 4ms/step - loss: 0.0314 - accuracy: 0.9927 - val_loss: 0.0330 - val_accuracy: 0.9922 - lr: 1.0000e-06\n",
            "Epoch 36/50\n",
            "3606/3606 [==============================] - 14s 4ms/step - loss: 0.0314 - accuracy: 0.9927 - val_loss: 0.0330 - val_accuracy: 0.9922 - lr: 1.0000e-06\n",
            "Epoch 37/50\n",
            "3606/3606 [==============================] - 14s 4ms/step - loss: 0.0314 - accuracy: 0.9927 - val_loss: 0.0330 - val_accuracy: 0.9922 - lr: 1.0000e-06\n",
            "Epoch 38/50\n",
            "3606/3606 [==============================] - 14s 4ms/step - loss: 0.0314 - accuracy: 0.9927 - val_loss: 0.0330 - val_accuracy: 0.9922 - lr: 1.0000e-06\n",
            "Epoch 39/50\n",
            "3606/3606 [==============================] - 13s 3ms/step - loss: 0.0314 - accuracy: 0.9927 - val_loss: 0.0330 - val_accuracy: 0.9922 - lr: 1.0000e-06\n",
            "Epoch 40/50\n",
            "3606/3606 [==============================] - 12s 3ms/step - loss: 0.0314 - accuracy: 0.9927 - val_loss: 0.0330 - val_accuracy: 0.9922 - lr: 1.0000e-06\n",
            "Epoch 41/50\n",
            "3606/3606 [==============================] - 12s 3ms/step - loss: 0.0314 - accuracy: 0.9927 - val_loss: 0.0330 - val_accuracy: 0.9922 - lr: 1.0000e-06\n",
            "Epoch 42/50\n",
            "3606/3606 [==============================] - 13s 4ms/step - loss: 0.0314 - accuracy: 0.9927 - val_loss: 0.0330 - val_accuracy: 0.9922 - lr: 1.0000e-06\n",
            "Epoch 43/50\n",
            "3606/3606 [==============================] - 13s 4ms/step - loss: 0.0314 - accuracy: 0.9927 - val_loss: 0.0330 - val_accuracy: 0.9922 - lr: 1.0000e-06\n",
            "Epoch 44/50\n",
            "3606/3606 [==============================] - 13s 3ms/step - loss: 0.0314 - accuracy: 0.9927 - val_loss: 0.0330 - val_accuracy: 0.9922 - lr: 1.0000e-06\n",
            "Epoch 45/50\n",
            "3606/3606 [==============================] - 14s 4ms/step - loss: 0.0314 - accuracy: 0.9927 - val_loss: 0.0330 - val_accuracy: 0.9922 - lr: 1.0000e-06\n",
            "Epoch 46/50\n",
            "3606/3606 [==============================] - 13s 4ms/step - loss: 0.0314 - accuracy: 0.9927 - val_loss: 0.0330 - val_accuracy: 0.9922 - lr: 1.0000e-06\n",
            "Epoch 47/50\n",
            "3606/3606 [==============================] - 13s 4ms/step - loss: 0.0314 - accuracy: 0.9927 - val_loss: 0.0330 - val_accuracy: 0.9922 - lr: 1.0000e-06\n",
            "Epoch 48/50\n",
            "3606/3606 [==============================] - 13s 4ms/step - loss: 0.0314 - accuracy: 0.9927 - val_loss: 0.0330 - val_accuracy: 0.9922 - lr: 1.0000e-06\n",
            "Epoch 49/50\n",
            "3606/3606 [==============================] - 12s 3ms/step - loss: 0.0314 - accuracy: 0.9927 - val_loss: 0.0330 - val_accuracy: 0.9922 - lr: 1.0000e-06\n",
            "Epoch 50/50\n",
            "3606/3606 [==============================] - 13s 4ms/step - loss: 0.0314 - accuracy: 0.9927 - val_loss: 0.0330 - val_accuracy: 0.9922 - lr: 1.0000e-06\n"
          ]
        }
      ],
      "source": [
        "# Configuração das callbacks\n",
        "early_stopping = EarlyStopping(monitor='val_loss', patience=15, restore_best_weights=True)\n",
        "reduce_lr = ReduceLROnPlateau(monitor='val_loss', patience=4, factor=0.3, min_lr=1e-6)\n",
        "\n",
        "# Treinamento dos modelos\n",
        "epochs = 50\n",
        "\n",
        "# Modelo Normal\n",
        "historico_normal = modelo_normal.fit(X_treino, y_treino, epochs=epochs, validation_data=(X_validacao, y_validacao),\n",
        "                                     callbacks=[early_stopping, reduce_lr])\n",
        "\n",
        "# Modelo PCA\n",
        "historico_pca = modelo_pca.fit(X_treino_pca, y_treino, epochs=epochs, validation_data=(X_validacao_pca, y_validacao),\n",
        "                               callbacks=[early_stopping, reduce_lr])\n",
        "\n",
        "# Modelo LDA\n",
        "historico_lda = modelo_lda.fit(X_treino_lda, y_treino, epochs=epochs, validation_data=(X_validacao_lda, y_validacao),\n",
        "                               callbacks=[early_stopping, reduce_lr])"
      ]
    },
    {
      "cell_type": "markdown",
      "metadata": {
        "id": "nT3CU8HF3N-c"
      },
      "source": [
        "### 10 - Resolva o enunciado 10 no(s) blocos de código abaixo (Pode criar mais blocos de código, mas me envie apenas com os necessários)"
      ]
    },
    {
      "cell_type": "code",
      "execution_count": null,
      "metadata": {
        "colab": {
          "base_uri": "https://localhost:8080/",
          "height": 1000
        },
        "id": "aF2JCwxs3N-c",
        "outputId": "c748cdc7-be5e-49ea-8c14-ee9bb5c418a0"
      },
      "outputs": [
        {
          "output_type": "stream",
          "name": "stdout",
          "text": [
            "Avaliação do Modelo Normal:\n",
            "835/835 [==============================] - 9s 10ms/step\n",
            "Acurácia: 0.5094339622641509\n",
            "Precisão: 0.5094339622641509\n",
            "Recall: 1.0\n",
            "F1: 0.6749999999999999\n"
          ]
        },
        {
          "output_type": "display_data",
          "data": {
            "text/plain": [
              "<Figure size 800x600 with 1 Axes>"
            ],
            "image/png": "[encoded data removed]"
          },
          "metadata": {}
        },
        {
          "output_type": "stream",
          "name": "stdout",
          "text": [
            "\n",
            "Avaliação do Modelo PCA:\n",
            "835/835 [==============================] - 3s 3ms/step\n",
            "Acurácia: 0.5094339622641509\n",
            "Precisão: 0.5094339622641509\n",
            "Recall: 1.0\n",
            "F1: 0.6749999999999999\n"
          ]
        },
        {
          "output_type": "display_data",
          "data": {
            "text/plain": [
              "<Figure size 800x600 with 1 Axes>"
            ],
            "image/png": "[encoded data removed]"
          },
          "metadata": {}
        },
        {
          "output_type": "stream",
          "name": "stdout",
          "text": [
            "\n",
            "Avaliação do Modelo LDA:\n",
            "835/835 [==============================] - 4s 4ms/step\n",
            "Acurácia: 0.9927373465109314\n",
            "Precisão: 0.9997764530551416\n",
            "Recall: 0.9859641387419166\n",
            "F1: 0.9928222583986976\n"
          ]
        },
        {
          "output_type": "display_data",
          "data": {
            "text/plain": [
              "<Figure size 800x600 with 1 Axes>"
            ],
            "image/png": "[encoded data removed]"
          },
          "metadata": {}
        }
      ],
      "source": [
        "# Função para calcular e exibir métricas\n",
        "def avaliar_modelo(modelo, X, y):\n",
        "    # Fazendo previsões\n",
        "    previsoes = modelo.predict(X)\n",
        "    previsoes_binarias = (previsoes > 0.5).astype(int)\n",
        "\n",
        "    # Calculando métricas\n",
        "    acuracia = accuracy_score(y, previsoes_binarias)\n",
        "    precisao = precision_score(y, previsoes_binarias)\n",
        "    recall = recall_score(y, previsoes_binarias)\n",
        "    f1 = f1_score(y, previsoes_binarias)\n",
        "\n",
        "    # Exibindo métricas\n",
        "    print(\"Acurácia:\", acuracia)\n",
        "    print(\"Precisão:\", precisao)\n",
        "    print(\"Recall:\", recall)\n",
        "    print(\"F1:\", f1)\n",
        "\n",
        "    # Exibindo matriz de confusão com gráfico de calor\n",
        "    matriz_confusao = confusion_matrix(y, previsoes_binarias)\n",
        "    plt.figure(figsize=(8, 6))\n",
        "    sns.heatmap(matriz_confusao, annot=True, fmt=\"d\", cmap=\"Blues\", cbar=False)\n",
        "    plt.title(\"Matriz de Confusão\")\n",
        "    plt.xlabel(\"Previsão\")\n",
        "    plt.ylabel(\"Real\")\n",
        "    plt.show()\n",
        "\n",
        "# Avaliando modelos\n",
        "print(\"Avaliação do Modelo Normal:\")\n",
        "avaliar_modelo(modelo_normal, X_teste, y_teste)\n",
        "\n",
        "print(\"\\nAvaliação do Modelo PCA:\")\n",
        "avaliar_modelo(modelo_pca, X_teste_pca, y_teste)\n",
        "\n",
        "print(\"\\nAvaliação do Modelo LDA:\")\n",
        "avaliar_modelo(modelo_lda, X_teste_lda, y_teste)"
      ]
    }
  ],
  "metadata": {
    "kernelspec": {
      "display_name": "tf",
      "language": "python",
      "name": "python3"
    },
    "language_info": {
      "codemirror_mode": {
        "name": "ipython",
        "version": 3
      },
      "file_extension": ".py",
      "mimetype": "text/x-python",
      "name": "python",
      "nbconvert_exporter": "python",
      "pygments_lexer": "ipython3",
      "version": "3.9.16"
    },
    "colab": {
      "provenance": []
    }
  },
  "nbformat": 4,
  "nbformat_minor": 0
}